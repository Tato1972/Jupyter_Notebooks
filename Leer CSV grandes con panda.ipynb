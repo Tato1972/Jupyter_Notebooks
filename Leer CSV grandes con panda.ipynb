{
 "cells": [
  {
   "cell_type": "code",
   "execution_count": 2,
   "id": "bcd2d6c5",
   "metadata": {},
   "outputs": [
    {
     "name": "stdout",
     "output_type": "stream",
     "text": [
      "Requirement already satisfied: polars in c:\\users\\lenovo\\anaconda3\\lib\\site-packages (0.19.3)\n",
      "Note: you may need to restart the kernel to use updated packages.\n"
     ]
    }
   ],
   "source": [
    "pip install polars\n"
   ]
  },
  {
   "cell_type": "code",
   "execution_count": 3,
   "id": "b280e2ef",
   "metadata": {},
   "outputs": [
    {
     "name": "stdout",
     "output_type": "stream",
     "text": [
      "Requirement already satisfied: pyarrow in c:\\users\\lenovo\\anaconda3\\lib\\site-packages (11.0.0)\n",
      "Requirement already satisfied: numpy>=1.16.6 in c:\\users\\lenovo\\anaconda3\\lib\\site-packages (from pyarrow) (1.24.3)\n",
      "Note: you may need to restart the kernel to use updated packages.\n"
     ]
    }
   ],
   "source": [
    "pip install pyarrow"
   ]
  },
  {
   "cell_type": "code",
   "execution_count": 1,
   "id": "f76e8316",
   "metadata": {},
   "outputs": [],
   "source": [
    "import pandas as pd\n",
    "from pathlib import Path\n",
    "import polars as pl\n",
    "import numpy as np\n",
    "import pyarrow\n",
    "\n",
    "import matplotlib.pyplot as plt\n",
    "import seaborn as sns"
   ]
  },
  {
   "cell_type": "markdown",
   "id": "e2e618aa",
   "metadata": {},
   "source": [
    "##Read 5GB csv file"
   ]
  },
  {
   "cell_type": "code",
   "execution_count": 3,
   "id": "fe83f8d4",
   "metadata": {
    "scrolled": true
   },
   "outputs": [
    {
     "data": {
      "text/html": [
       "<div>\n",
       "<style scoped>\n",
       "    .dataframe tbody tr th:only-of-type {\n",
       "        vertical-align: middle;\n",
       "    }\n",
       "\n",
       "    .dataframe tbody tr th {\n",
       "        vertical-align: top;\n",
       "    }\n",
       "\n",
       "    .dataframe thead th {\n",
       "        text-align: right;\n",
       "    }\n",
       "</style>\n",
       "<table border=\"1\" class=\"dataframe\">\n",
       "  <thead>\n",
       "    <tr style=\"text-align: right;\">\n",
       "      <th></th>\n",
       "      <th>event_time</th>\n",
       "      <th>event_type</th>\n",
       "      <th>product_id</th>\n",
       "      <th>category_id</th>\n",
       "      <th>category_code</th>\n",
       "      <th>brand</th>\n",
       "      <th>price</th>\n",
       "      <th>user_id</th>\n",
       "      <th>user_session</th>\n",
       "    </tr>\n",
       "  </thead>\n",
       "  <tbody>\n",
       "    <tr>\n",
       "      <th>0</th>\n",
       "      <td>2019-11-01 00:00:00 UTC</td>\n",
       "      <td>view</td>\n",
       "      <td>1003461</td>\n",
       "      <td>2053013555631882655</td>\n",
       "      <td>electronics.smartphone</td>\n",
       "      <td>xiaomi</td>\n",
       "      <td>489.07</td>\n",
       "      <td>520088904</td>\n",
       "      <td>4d3b30da-a5e4-49df-b1a8-ba5943f1dd33</td>\n",
       "    </tr>\n",
       "    <tr>\n",
       "      <th>1</th>\n",
       "      <td>2019-11-01 00:00:00 UTC</td>\n",
       "      <td>view</td>\n",
       "      <td>5000088</td>\n",
       "      <td>2053013566100866035</td>\n",
       "      <td>appliances.sewing_machine</td>\n",
       "      <td>janome</td>\n",
       "      <td>293.65</td>\n",
       "      <td>530496790</td>\n",
       "      <td>8e5f4f83-366c-4f70-860e-ca7417414283</td>\n",
       "    </tr>\n",
       "    <tr>\n",
       "      <th>2</th>\n",
       "      <td>2019-11-01 00:00:01 UTC</td>\n",
       "      <td>view</td>\n",
       "      <td>17302664</td>\n",
       "      <td>2053013553853497655</td>\n",
       "      <td>NaN</td>\n",
       "      <td>creed</td>\n",
       "      <td>28.31</td>\n",
       "      <td>561587266</td>\n",
       "      <td>755422e7-9040-477b-9bd2-6a6e8fd97387</td>\n",
       "    </tr>\n",
       "  </tbody>\n",
       "</table>\n",
       "</div>"
      ],
      "text/plain": [
       "                event_time event_type  product_id          category_id  \\\n",
       "0  2019-11-01 00:00:00 UTC       view     1003461  2053013555631882655   \n",
       "1  2019-11-01 00:00:00 UTC       view     5000088  2053013566100866035   \n",
       "2  2019-11-01 00:00:01 UTC       view    17302664  2053013553853497655   \n",
       "\n",
       "               category_code   brand   price    user_id  \\\n",
       "0     electronics.smartphone  xiaomi  489.07  520088904   \n",
       "1  appliances.sewing_machine  janome  293.65  530496790   \n",
       "2                        NaN   creed   28.31  561587266   \n",
       "\n",
       "                           user_session  \n",
       "0  4d3b30da-a5e4-49df-b1a8-ba5943f1dd33  \n",
       "1  8e5f4f83-366c-4f70-860e-ca7417414283  \n",
       "2  755422e7-9040-477b-9bd2-6a6e8fd97387  "
      ]
     },
     "execution_count": 3,
     "metadata": {},
     "output_type": "execute_result"
    }
   ],
   "source": [
    "#df = pl.read_csv('archivo.csv') No funciona en esta maq se muere el kernell\n",
    "df = pd.read_csv('C:/Users/LENOVO/Downloads/2019-Nov.csv')\n",
    "df.head(3)"
   ]
  },
  {
   "cell_type": "markdown",
   "id": "982712e6",
   "metadata": {},
   "source": [
    "##BASIC OPERATIONS"
   ]
  },
  {
   "cell_type": "code",
   "execution_count": 4,
   "id": "e283b7c8",
   "metadata": {},
   "outputs": [
    {
     "data": {
      "text/html": [
       "<div>\n",
       "<style scoped>\n",
       "    .dataframe tbody tr th:only-of-type {\n",
       "        vertical-align: middle;\n",
       "    }\n",
       "\n",
       "    .dataframe tbody tr th {\n",
       "        vertical-align: top;\n",
       "    }\n",
       "\n",
       "    .dataframe thead th {\n",
       "        text-align: right;\n",
       "    }\n",
       "</style>\n",
       "<table border=\"1\" class=\"dataframe\">\n",
       "  <thead>\n",
       "    <tr style=\"text-align: right;\">\n",
       "      <th></th>\n",
       "      <th>event_time</th>\n",
       "      <th>event_type</th>\n",
       "      <th>product_id</th>\n",
       "      <th>category_id</th>\n",
       "      <th>category_code</th>\n",
       "      <th>brand</th>\n",
       "      <th>price</th>\n",
       "      <th>user_id</th>\n",
       "      <th>user_session</th>\n",
       "    </tr>\n",
       "  </thead>\n",
       "  <tbody>\n",
       "    <tr>\n",
       "      <th>0</th>\n",
       "      <td>2019-11-01 00:00:00 UTC</td>\n",
       "      <td>view</td>\n",
       "      <td>1003461</td>\n",
       "      <td>2053013555631882655</td>\n",
       "      <td>electronics.smartphone</td>\n",
       "      <td>xiaomi</td>\n",
       "      <td>489.07</td>\n",
       "      <td>520088904</td>\n",
       "      <td>4d3b30da-a5e4-49df-b1a8-ba5943f1dd33</td>\n",
       "    </tr>\n",
       "    <tr>\n",
       "      <th>1</th>\n",
       "      <td>2019-11-01 00:00:00 UTC</td>\n",
       "      <td>view</td>\n",
       "      <td>5000088</td>\n",
       "      <td>2053013566100866035</td>\n",
       "      <td>appliances.sewing_machine</td>\n",
       "      <td>janome</td>\n",
       "      <td>293.65</td>\n",
       "      <td>530496790</td>\n",
       "      <td>8e5f4f83-366c-4f70-860e-ca7417414283</td>\n",
       "    </tr>\n",
       "    <tr>\n",
       "      <th>2</th>\n",
       "      <td>2019-11-01 00:00:01 UTC</td>\n",
       "      <td>view</td>\n",
       "      <td>17302664</td>\n",
       "      <td>2053013553853497655</td>\n",
       "      <td>NaN</td>\n",
       "      <td>creed</td>\n",
       "      <td>28.31</td>\n",
       "      <td>561587266</td>\n",
       "      <td>755422e7-9040-477b-9bd2-6a6e8fd97387</td>\n",
       "    </tr>\n",
       "    <tr>\n",
       "      <th>3</th>\n",
       "      <td>2019-11-01 00:00:01 UTC</td>\n",
       "      <td>view</td>\n",
       "      <td>3601530</td>\n",
       "      <td>2053013563810775923</td>\n",
       "      <td>appliances.kitchen.washer</td>\n",
       "      <td>lg</td>\n",
       "      <td>712.87</td>\n",
       "      <td>518085591</td>\n",
       "      <td>3bfb58cd-7892-48cc-8020-2f17e6de6e7f</td>\n",
       "    </tr>\n",
       "    <tr>\n",
       "      <th>4</th>\n",
       "      <td>2019-11-01 00:00:01 UTC</td>\n",
       "      <td>view</td>\n",
       "      <td>1004775</td>\n",
       "      <td>2053013555631882655</td>\n",
       "      <td>electronics.smartphone</td>\n",
       "      <td>xiaomi</td>\n",
       "      <td>183.27</td>\n",
       "      <td>558856683</td>\n",
       "      <td>313628f1-68b8-460d-84f6-cec7a8796ef2</td>\n",
       "    </tr>\n",
       "    <tr>\n",
       "      <th>...</th>\n",
       "      <td>...</td>\n",
       "      <td>...</td>\n",
       "      <td>...</td>\n",
       "      <td>...</td>\n",
       "      <td>...</td>\n",
       "      <td>...</td>\n",
       "      <td>...</td>\n",
       "      <td>...</td>\n",
       "      <td>...</td>\n",
       "    </tr>\n",
       "    <tr>\n",
       "      <th>67501974</th>\n",
       "      <td>2019-11-30 23:59:58 UTC</td>\n",
       "      <td>view</td>\n",
       "      <td>15700137</td>\n",
       "      <td>2053013559733912211</td>\n",
       "      <td>NaN</td>\n",
       "      <td>NaN</td>\n",
       "      <td>277.74</td>\n",
       "      <td>532714000</td>\n",
       "      <td>02b4131c-0112-4231-aafa-ceaa08e77c1b</td>\n",
       "    </tr>\n",
       "    <tr>\n",
       "      <th>67501975</th>\n",
       "      <td>2019-11-30 23:59:58 UTC</td>\n",
       "      <td>view</td>\n",
       "      <td>28719425</td>\n",
       "      <td>2053013565639492569</td>\n",
       "      <td>apparel.shoes</td>\n",
       "      <td>baden</td>\n",
       "      <td>62.81</td>\n",
       "      <td>545223467</td>\n",
       "      <td>734c5eef-0742-4f8b-9d22-48f75b0bc359</td>\n",
       "    </tr>\n",
       "    <tr>\n",
       "      <th>67501976</th>\n",
       "      <td>2019-11-30 23:59:59 UTC</td>\n",
       "      <td>view</td>\n",
       "      <td>1004833</td>\n",
       "      <td>2053013555631882655</td>\n",
       "      <td>electronics.smartphone</td>\n",
       "      <td>samsung</td>\n",
       "      <td>167.03</td>\n",
       "      <td>557794415</td>\n",
       "      <td>6fecf566-ebb0-4e70-a243-cdc13ce044cb</td>\n",
       "    </tr>\n",
       "    <tr>\n",
       "      <th>67501977</th>\n",
       "      <td>2019-11-30 23:59:59 UTC</td>\n",
       "      <td>view</td>\n",
       "      <td>2701706</td>\n",
       "      <td>2053013563911439225</td>\n",
       "      <td>appliances.kitchen.refrigerators</td>\n",
       "      <td>samsung</td>\n",
       "      <td>566.27</td>\n",
       "      <td>531607492</td>\n",
       "      <td>368ddc8b-5db9-40fb-b7ff-b6582a1192c0</td>\n",
       "    </tr>\n",
       "    <tr>\n",
       "      <th>67501978</th>\n",
       "      <td>2019-11-30 23:59:59 UTC</td>\n",
       "      <td>view</td>\n",
       "      <td>1004233</td>\n",
       "      <td>2053013555631882655</td>\n",
       "      <td>electronics.smartphone</td>\n",
       "      <td>apple</td>\n",
       "      <td>1312.52</td>\n",
       "      <td>579969851</td>\n",
       "      <td>90aca71c-ed8a-4670-866a-761ebacb732d</td>\n",
       "    </tr>\n",
       "  </tbody>\n",
       "</table>\n",
       "<p>67501979 rows × 9 columns</p>\n",
       "</div>"
      ],
      "text/plain": [
       "                       event_time event_type  product_id          category_id  \\\n",
       "0         2019-11-01 00:00:00 UTC       view     1003461  2053013555631882655   \n",
       "1         2019-11-01 00:00:00 UTC       view     5000088  2053013566100866035   \n",
       "2         2019-11-01 00:00:01 UTC       view    17302664  2053013553853497655   \n",
       "3         2019-11-01 00:00:01 UTC       view     3601530  2053013563810775923   \n",
       "4         2019-11-01 00:00:01 UTC       view     1004775  2053013555631882655   \n",
       "...                           ...        ...         ...                  ...   \n",
       "67501974  2019-11-30 23:59:58 UTC       view    15700137  2053013559733912211   \n",
       "67501975  2019-11-30 23:59:58 UTC       view    28719425  2053013565639492569   \n",
       "67501976  2019-11-30 23:59:59 UTC       view     1004833  2053013555631882655   \n",
       "67501977  2019-11-30 23:59:59 UTC       view     2701706  2053013563911439225   \n",
       "67501978  2019-11-30 23:59:59 UTC       view     1004233  2053013555631882655   \n",
       "\n",
       "                             category_code    brand    price    user_id  \\\n",
       "0                   electronics.smartphone   xiaomi   489.07  520088904   \n",
       "1                appliances.sewing_machine   janome   293.65  530496790   \n",
       "2                                      NaN    creed    28.31  561587266   \n",
       "3                appliances.kitchen.washer       lg   712.87  518085591   \n",
       "4                   electronics.smartphone   xiaomi   183.27  558856683   \n",
       "...                                    ...      ...      ...        ...   \n",
       "67501974                               NaN      NaN   277.74  532714000   \n",
       "67501975                     apparel.shoes    baden    62.81  545223467   \n",
       "67501976            electronics.smartphone  samsung   167.03  557794415   \n",
       "67501977  appliances.kitchen.refrigerators  samsung   566.27  531607492   \n",
       "67501978            electronics.smartphone    apple  1312.52  579969851   \n",
       "\n",
       "                                  user_session  \n",
       "0         4d3b30da-a5e4-49df-b1a8-ba5943f1dd33  \n",
       "1         8e5f4f83-366c-4f70-860e-ca7417414283  \n",
       "2         755422e7-9040-477b-9bd2-6a6e8fd97387  \n",
       "3         3bfb58cd-7892-48cc-8020-2f17e6de6e7f  \n",
       "4         313628f1-68b8-460d-84f6-cec7a8796ef2  \n",
       "...                                        ...  \n",
       "67501974  02b4131c-0112-4231-aafa-ceaa08e77c1b  \n",
       "67501975  734c5eef-0742-4f8b-9d22-48f75b0bc359  \n",
       "67501976  6fecf566-ebb0-4e70-a243-cdc13ce044cb  \n",
       "67501977  368ddc8b-5db9-40fb-b7ff-b6582a1192c0  \n",
       "67501978  90aca71c-ed8a-4670-866a-761ebacb732d  \n",
       "\n",
       "[67501979 rows x 9 columns]"
      ]
     },
     "execution_count": 4,
     "metadata": {},
     "output_type": "execute_result"
    }
   ],
   "source": [
    "df"
   ]
  },
  {
   "cell_type": "code",
   "execution_count": 5,
   "id": "f50032b1",
   "metadata": {},
   "outputs": [
    {
     "data": {
      "text/plain": [
       "(67501979, 9)"
      ]
     },
     "execution_count": 5,
     "metadata": {},
     "output_type": "execute_result"
    }
   ],
   "source": [
    "df.shape"
   ]
  },
  {
   "cell_type": "code",
   "execution_count": 6,
   "id": "92b156e0",
   "metadata": {},
   "outputs": [
    {
     "data": {
      "text/plain": [
       "event_time        object\n",
       "event_type        object\n",
       "product_id         int64\n",
       "category_id        int64\n",
       "category_code     object\n",
       "brand             object\n",
       "price            float64\n",
       "user_id            int64\n",
       "user_session      object\n",
       "dtype: object"
      ]
     },
     "execution_count": 6,
     "metadata": {},
     "output_type": "execute_result"
    }
   ],
   "source": [
    "#En polars UTF8 --> string  Int, Float as usual\n",
    "df.dtypes"
   ]
  },
  {
   "cell_type": "code",
   "execution_count": 7,
   "id": "89f0fb0f",
   "metadata": {},
   "outputs": [
    {
     "name": "stdout",
     "output_type": "stream",
     "text": [
      "                event_time event_type  product_id          category_id  \\\n",
      "0  2019-11-01 00:00:00 UTC       view     1003461  2053013555631882655   \n",
      "1  2019-11-01 00:00:00 UTC       view     5000088  2053013566100866035   \n",
      "2  2019-11-01 00:00:01 UTC       view    17302664  2053013553853497655   \n",
      "\n",
      "               category_code   brand   price    user_id  \\\n",
      "0     electronics.smartphone  xiaomi  489.07  520088904   \n",
      "1  appliances.sewing_machine  janome  293.65  530496790   \n",
      "2                        NaN   creed   28.31  561587266   \n",
      "\n",
      "                           user_session  \n",
      "0  4d3b30da-a5e4-49df-b1a8-ba5943f1dd33  \n",
      "1  8e5f4f83-366c-4f70-860e-ca7417414283  \n",
      "2  755422e7-9040-477b-9bd2-6a6e8fd97387  \n"
     ]
    }
   ],
   "source": [
    "print(df.head(3))"
   ]
  },
  {
   "cell_type": "markdown",
   "id": "5309b687",
   "metadata": {},
   "source": [
    "##Selecting and Filtering Data"
   ]
  },
  {
   "cell_type": "code",
   "execution_count": 15,
   "id": "fcf9797c",
   "metadata": {},
   "outputs": [
    {
     "data": {
      "text/html": [
       "<div>\n",
       "<style scoped>\n",
       "    .dataframe tbody tr th:only-of-type {\n",
       "        vertical-align: middle;\n",
       "    }\n",
       "\n",
       "    .dataframe tbody tr th {\n",
       "        vertical-align: top;\n",
       "    }\n",
       "\n",
       "    .dataframe thead th {\n",
       "        text-align: right;\n",
       "    }\n",
       "</style>\n",
       "<table border=\"1\" class=\"dataframe\">\n",
       "  <thead>\n",
       "    <tr style=\"text-align: right;\">\n",
       "      <th></th>\n",
       "    </tr>\n",
       "  </thead>\n",
       "  <tbody>\n",
       "    <tr>\n",
       "      <th>0</th>\n",
       "    </tr>\n",
       "    <tr>\n",
       "      <th>1</th>\n",
       "    </tr>\n",
       "    <tr>\n",
       "      <th>2</th>\n",
       "    </tr>\n",
       "    <tr>\n",
       "      <th>3</th>\n",
       "    </tr>\n",
       "    <tr>\n",
       "      <th>4</th>\n",
       "    </tr>\n",
       "  </tbody>\n",
       "</table>\n",
       "</div>"
      ],
      "text/plain": [
       "Empty DataFrame\n",
       "Columns: []\n",
       "Index: [0, 1, 2, 3, 4]"
      ]
     },
     "execution_count": 15,
     "metadata": {},
     "output_type": "execute_result"
    }
   ],
   "source": [
    "#df[0,:]  es para polars\n",
    "#df[:,['event_time','price']].head() es para polars\n",
    "df.filter(df['price'] > 400).head()"
   ]
  },
  {
   "cell_type": "code",
   "execution_count": 14,
   "id": "4b9de30d",
   "metadata": {},
   "outputs": [],
   "source": [
    "#df.filter(pl.col(\"price\") > 1000).head() para polars"
   ]
  },
  {
   "cell_type": "code",
   "execution_count": null,
   "id": "920eac2e",
   "metadata": {},
   "outputs": [],
   "source": []
  }
 ],
 "metadata": {
  "kernelspec": {
   "display_name": "Python 3 (ipykernel)",
   "language": "python",
   "name": "python3"
  },
  "language_info": {
   "codemirror_mode": {
    "name": "ipython",
    "version": 3
   },
   "file_extension": ".py",
   "mimetype": "text/x-python",
   "name": "python",
   "nbconvert_exporter": "python",
   "pygments_lexer": "ipython3",
   "version": "3.11.4"
  }
 },
 "nbformat": 4,
 "nbformat_minor": 5
}

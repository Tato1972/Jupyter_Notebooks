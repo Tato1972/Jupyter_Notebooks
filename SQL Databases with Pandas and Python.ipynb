{
 "cells": [
  {
   "cell_type": "code",
   "execution_count": 1,
   "id": "276a6bfc",
   "metadata": {},
   "outputs": [],
   "source": [
    "import pandas as pd"
   ]
  },
  {
   "cell_type": "code",
   "execution_count": 2,
   "id": "9c59c68c",
   "metadata": {},
   "outputs": [],
   "source": [
    "#Importando data de local\n",
    "df = pd.read_csv('C:/Users/LENOVO/Downloads/employees_202308011354.csv')"
   ]
  },
  {
   "cell_type": "code",
   "execution_count": 25,
   "id": "b8e58341",
   "metadata": {},
   "outputs": [
    {
     "data": {
      "text/plain": [
       "Index(['emp_no', 'birth_date', 'first_name', 'last_name', 'gender',\n",
       "       'hire_date'],\n",
       "      dtype='object')"
      ]
     },
     "execution_count": 25,
     "metadata": {},
     "output_type": "execute_result"
    }
   ],
   "source": [
    "df.columns"
   ]
  },
  {
   "cell_type": "code",
   "execution_count": 6,
   "id": "f412d741",
   "metadata": {},
   "outputs": [
    {
     "name": "stdout",
     "output_type": "stream",
     "text": [
      "Collecting mysql-connector\n",
      "  Downloading mysql-connector-2.2.9.tar.gz (11.9 MB)\n",
      "     --------------------------------------- 11.9/11.9 MB 13.9 MB/s eta 0:00:00\n",
      "  Preparing metadata (setup.py): started\n",
      "  Preparing metadata (setup.py): finished with status 'done'\n",
      "Building wheels for collected packages: mysql-connector\n",
      "  Building wheel for mysql-connector (setup.py): started\n",
      "  Building wheel for mysql-connector (setup.py): finished with status 'done'\n",
      "  Created wheel for mysql-connector: filename=mysql_connector-2.2.9-cp39-cp39-win_amd64.whl size=247961 sha256=b5ec42e200cb82aed39a550c8fb9c6ed1885cd223b3c6636e4e6a97073c83628\n",
      "  Stored in directory: c:\\users\\lenovo\\appdata\\local\\pip\\cache\\wheels\\7b\\14\\39\\5aad423666e827dfe9a1fbcd111ac17171e7c9865d570780ce\n",
      "Successfully built mysql-connector\n",
      "Installing collected packages: mysql-connector\n",
      "Successfully installed mysql-connector-2.2.9\n"
     ]
    }
   ],
   "source": [
    "#Importar datos generando una conexion con la base de datos\n",
    "!pip install mysql-connector\n"
   ]
  },
  {
   "cell_type": "code",
   "execution_count": 84,
   "id": "e0b1e903",
   "metadata": {},
   "outputs": [],
   "source": [
    "import mysql.connector\n",
    "\n",
    "connection = mysql.connector.connect(\n",
    " user= 'root',\n",
    " password = '',\n",
    " host= 'localhost',\n",
    " database= 'employees',\n",
    " #ssl_disabled=True\n",
    ")\n",
    "\n",
    "cursor = connection.cursor()"
   ]
  },
  {
   "cell_type": "code",
   "execution_count": 85,
   "id": "8a811311",
   "metadata": {},
   "outputs": [
    {
     "data": {
      "text/plain": [
       "True"
      ]
     },
     "execution_count": 85,
     "metadata": {},
     "output_type": "execute_result"
    }
   ],
   "source": [
    "#connection.close()\n",
    "#cursor.close()"
   ]
  },
  {
   "cell_type": "code",
   "execution_count": 14,
   "id": "6a4870be",
   "metadata": {},
   "outputs": [],
   "source": [
    "query = \"\"\"\n",
    "    select *\n",
    "    from employees e\n",
    "    join salaries s \n",
    "    on e.emp_no = s.emp_no \n",
    "    where e.hire_date > '1999-01-01;'\n",
    "\n",
    "\"\"\""
   ]
  },
  {
   "cell_type": "code",
   "execution_count": 17,
   "id": "6aefeedd",
   "metadata": {},
   "outputs": [],
   "source": [
    "cursor.execute(query)"
   ]
  },
  {
   "cell_type": "code",
   "execution_count": 20,
   "id": "34fb75e2",
   "metadata": {},
   "outputs": [],
   "source": [
    "results = []\n",
    "for i, data in enumerate(cursor):\n",
    "    results.append(data)\n",
    "    \n",
    "cursor.close()\n",
    "connection.close()  "
   ]
  },
  {
   "cell_type": "code",
   "execution_count": 22,
   "id": "ab25fb30",
   "metadata": {},
   "outputs": [
    {
     "data": {
      "text/plain": [
       "4852"
      ]
     },
     "execution_count": 22,
     "metadata": {},
     "output_type": "execute_result"
    }
   ],
   "source": [
    "len(results)"
   ]
  },
  {
   "cell_type": "code",
   "execution_count": 26,
   "id": "79c15f73",
   "metadata": {},
   "outputs": [
    {
     "data": {
      "text/html": [
       "<div>\n",
       "<style scoped>\n",
       "    .dataframe tbody tr th:only-of-type {\n",
       "        vertical-align: middle;\n",
       "    }\n",
       "\n",
       "    .dataframe tbody tr th {\n",
       "        vertical-align: top;\n",
       "    }\n",
       "\n",
       "    .dataframe thead th {\n",
       "        text-align: right;\n",
       "    }\n",
       "</style>\n",
       "<table border=\"1\" class=\"dataframe\">\n",
       "  <thead>\n",
       "    <tr style=\"text-align: right;\">\n",
       "      <th></th>\n",
       "      <th>emp_no</th>\n",
       "      <th>birth_date</th>\n",
       "      <th>first_name</th>\n",
       "      <th>last_name</th>\n",
       "      <th>gender</th>\n",
       "      <th>hire_date</th>\n",
       "      <th>emp_no.1</th>\n",
       "      <th>salary</th>\n",
       "      <th>from_date</th>\n",
       "      <th>to_date</th>\n",
       "    </tr>\n",
       "  </thead>\n",
       "  <tbody>\n",
       "    <tr>\n",
       "      <th>0</th>\n",
       "      <td>10019</td>\n",
       "      <td>1953-01-23</td>\n",
       "      <td>Lillian</td>\n",
       "      <td>Haddadi</td>\n",
       "      <td>M</td>\n",
       "      <td>1999-04-30</td>\n",
       "      <td>10019</td>\n",
       "      <td>46946</td>\n",
       "      <td>2000-04-29</td>\n",
       "      <td>2001-04-29</td>\n",
       "    </tr>\n",
       "    <tr>\n",
       "      <th>1</th>\n",
       "      <td>10019</td>\n",
       "      <td>1953-01-23</td>\n",
       "      <td>Lillian</td>\n",
       "      <td>Haddadi</td>\n",
       "      <td>M</td>\n",
       "      <td>1999-04-30</td>\n",
       "      <td>10019</td>\n",
       "      <td>46775</td>\n",
       "      <td>2001-04-29</td>\n",
       "      <td>2002-04-29</td>\n",
       "    </tr>\n",
       "    <tr>\n",
       "      <th>2</th>\n",
       "      <td>10019</td>\n",
       "      <td>1953-01-23</td>\n",
       "      <td>Lillian</td>\n",
       "      <td>Haddadi</td>\n",
       "      <td>M</td>\n",
       "      <td>1999-04-30</td>\n",
       "      <td>10019</td>\n",
       "      <td>50032</td>\n",
       "      <td>2002-04-29</td>\n",
       "      <td>9999-01-01</td>\n",
       "    </tr>\n",
       "    <tr>\n",
       "      <th>3</th>\n",
       "      <td>10105</td>\n",
       "      <td>1962-02-05</td>\n",
       "      <td>Hironoby</td>\n",
       "      <td>Piveteau</td>\n",
       "      <td>M</td>\n",
       "      <td>1999-03-23</td>\n",
       "      <td>10105</td>\n",
       "      <td>59258</td>\n",
       "      <td>1999-05-17</td>\n",
       "      <td>2000-05-16</td>\n",
       "    </tr>\n",
       "    <tr>\n",
       "      <th>4</th>\n",
       "      <td>10105</td>\n",
       "      <td>1962-02-05</td>\n",
       "      <td>Hironoby</td>\n",
       "      <td>Piveteau</td>\n",
       "      <td>M</td>\n",
       "      <td>1999-03-23</td>\n",
       "      <td>10105</td>\n",
       "      <td>61514</td>\n",
       "      <td>2000-05-16</td>\n",
       "      <td>2001-05-16</td>\n",
       "    </tr>\n",
       "  </tbody>\n",
       "</table>\n",
       "</div>"
      ],
      "text/plain": [
       "   emp_no  birth_date first_name last_name gender   hire_date  emp_no.1  \\\n",
       "0   10019  1953-01-23    Lillian   Haddadi      M  1999-04-30     10019   \n",
       "1   10019  1953-01-23    Lillian   Haddadi      M  1999-04-30     10019   \n",
       "2   10019  1953-01-23    Lillian   Haddadi      M  1999-04-30     10019   \n",
       "3   10105  1962-02-05   Hironoby  Piveteau      M  1999-03-23     10105   \n",
       "4   10105  1962-02-05   Hironoby  Piveteau      M  1999-03-23     10105   \n",
       "\n",
       "   salary   from_date     to_date  \n",
       "0   46946  2000-04-29  2001-04-29  \n",
       "1   46775  2001-04-29  2002-04-29  \n",
       "2   50032  2002-04-29  9999-01-01  \n",
       "3   59258  1999-05-17  2000-05-16  \n",
       "4   61514  2000-05-16  2001-05-16  "
      ]
     },
     "execution_count": 26,
     "metadata": {},
     "output_type": "execute_result"
    }
   ],
   "source": [
    "df_pulled = pd.DataFrame(results)\n",
    "df_pulled.columns = ['emp_no', 'birth_date', 'first_name', 'last_name', 'gender',\n",
    "                     'hire_date', 'emp_no.1', 'salary', 'from_date', 'to_date']\n",
    "\n",
    "df_pulled.head()"
   ]
  },
  {
   "cell_type": "code",
   "execution_count": 27,
   "id": "75975fb6",
   "metadata": {},
   "outputs": [
    {
     "name": "stdout",
     "output_type": "stream",
     "text": [
      "sqlalchemy version 1.4.32\n"
     ]
    }
   ],
   "source": [
    "#Pandas para leer sql\n",
    "#import pandas as pd\n",
    "import sqlalchemy\n",
    "from sqlalchemy import create_engine\n",
    "print('sqlalchemy version', sqlalchemy.__version__)"
   ]
  },
  {
   "cell_type": "code",
   "execution_count": 29,
   "id": "d7fdd0b0",
   "metadata": {},
   "outputs": [
    {
     "name": "stdout",
     "output_type": "stream",
     "text": [
      "Collecting pymysql\n",
      "  Downloading PyMySQL-1.1.0-py3-none-any.whl (44 kB)\n",
      "     ---------------------------------------- 44.8/44.8 kB 1.1 MB/s eta 0:00:00\n",
      "Installing collected packages: pymysql\n",
      "Successfully installed pymysql-1.1.0\n"
     ]
    }
   ],
   "source": [
    "!pip install pymysql"
   ]
  },
  {
   "cell_type": "code",
   "execution_count": 30,
   "id": "17cb652c",
   "metadata": {},
   "outputs": [],
   "source": [
    "import pymysql"
   ]
  },
  {
   "cell_type": "code",
   "execution_count": 32,
   "id": "c00b58cc",
   "metadata": {},
   "outputs": [],
   "source": [
    "con_string = 'mysql+pymysql://root:#0@localhost/employees'\n",
    "engine = create_engine(con_string)\n",
    "\n",
    "query = \"\"\"\n",
    "    select *\n",
    "    from employees e\n",
    "    join salaries s \n",
    "    on e.emp_no = s.emp_no \n",
    "    where e.hire_date > '1999-01-01;'\n",
    "\n",
    "\"\"\"\n",
    "df_read_sql = pd.read_sql(query, engine)"
   ]
  },
  {
   "cell_type": "code",
   "execution_count": 33,
   "id": "47f0330e",
   "metadata": {},
   "outputs": [
    {
     "data": {
      "text/html": [
       "<div>\n",
       "<style scoped>\n",
       "    .dataframe tbody tr th:only-of-type {\n",
       "        vertical-align: middle;\n",
       "    }\n",
       "\n",
       "    .dataframe tbody tr th {\n",
       "        vertical-align: top;\n",
       "    }\n",
       "\n",
       "    .dataframe thead th {\n",
       "        text-align: right;\n",
       "    }\n",
       "</style>\n",
       "<table border=\"1\" class=\"dataframe\">\n",
       "  <thead>\n",
       "    <tr style=\"text-align: right;\">\n",
       "      <th></th>\n",
       "      <th>emp_no</th>\n",
       "      <th>birth_date</th>\n",
       "      <th>first_name</th>\n",
       "      <th>last_name</th>\n",
       "      <th>gender</th>\n",
       "      <th>hire_date</th>\n",
       "      <th>emp_no</th>\n",
       "      <th>salary</th>\n",
       "      <th>from_date</th>\n",
       "      <th>to_date</th>\n",
       "    </tr>\n",
       "  </thead>\n",
       "  <tbody>\n",
       "    <tr>\n",
       "      <th>0</th>\n",
       "      <td>10019</td>\n",
       "      <td>1953-01-23</td>\n",
       "      <td>Lillian</td>\n",
       "      <td>Haddadi</td>\n",
       "      <td>M</td>\n",
       "      <td>1999-04-30</td>\n",
       "      <td>10019</td>\n",
       "      <td>44276</td>\n",
       "      <td>1999-04-30</td>\n",
       "      <td>2000-04-29</td>\n",
       "    </tr>\n",
       "    <tr>\n",
       "      <th>1</th>\n",
       "      <td>10019</td>\n",
       "      <td>1953-01-23</td>\n",
       "      <td>Lillian</td>\n",
       "      <td>Haddadi</td>\n",
       "      <td>M</td>\n",
       "      <td>1999-04-30</td>\n",
       "      <td>10019</td>\n",
       "      <td>46946</td>\n",
       "      <td>2000-04-29</td>\n",
       "      <td>2001-04-29</td>\n",
       "    </tr>\n",
       "    <tr>\n",
       "      <th>2</th>\n",
       "      <td>10019</td>\n",
       "      <td>1953-01-23</td>\n",
       "      <td>Lillian</td>\n",
       "      <td>Haddadi</td>\n",
       "      <td>M</td>\n",
       "      <td>1999-04-30</td>\n",
       "      <td>10019</td>\n",
       "      <td>46775</td>\n",
       "      <td>2001-04-29</td>\n",
       "      <td>2002-04-29</td>\n",
       "    </tr>\n",
       "    <tr>\n",
       "      <th>3</th>\n",
       "      <td>10019</td>\n",
       "      <td>1953-01-23</td>\n",
       "      <td>Lillian</td>\n",
       "      <td>Haddadi</td>\n",
       "      <td>M</td>\n",
       "      <td>1999-04-30</td>\n",
       "      <td>10019</td>\n",
       "      <td>50032</td>\n",
       "      <td>2002-04-29</td>\n",
       "      <td>9999-01-01</td>\n",
       "    </tr>\n",
       "    <tr>\n",
       "      <th>4</th>\n",
       "      <td>10105</td>\n",
       "      <td>1962-02-05</td>\n",
       "      <td>Hironoby</td>\n",
       "      <td>Piveteau</td>\n",
       "      <td>M</td>\n",
       "      <td>1999-03-23</td>\n",
       "      <td>10105</td>\n",
       "      <td>59258</td>\n",
       "      <td>1999-05-17</td>\n",
       "      <td>2000-05-16</td>\n",
       "    </tr>\n",
       "    <tr>\n",
       "      <th>...</th>\n",
       "      <td>...</td>\n",
       "      <td>...</td>\n",
       "      <td>...</td>\n",
       "      <td>...</td>\n",
       "      <td>...</td>\n",
       "      <td>...</td>\n",
       "      <td>...</td>\n",
       "      <td>...</td>\n",
       "      <td>...</td>\n",
       "      <td>...</td>\n",
       "    </tr>\n",
       "    <tr>\n",
       "      <th>4848</th>\n",
       "      <td>499610</td>\n",
       "      <td>1962-12-28</td>\n",
       "      <td>Kiyokazu</td>\n",
       "      <td>Vernadat</td>\n",
       "      <td>F</td>\n",
       "      <td>1999-08-29</td>\n",
       "      <td>499610</td>\n",
       "      <td>88013</td>\n",
       "      <td>2001-08-28</td>\n",
       "      <td>9999-01-01</td>\n",
       "    </tr>\n",
       "    <tr>\n",
       "      <th>4849</th>\n",
       "      <td>499888</td>\n",
       "      <td>1959-05-30</td>\n",
       "      <td>Hilari</td>\n",
       "      <td>Smeets</td>\n",
       "      <td>M</td>\n",
       "      <td>1999-06-27</td>\n",
       "      <td>499888</td>\n",
       "      <td>40000</td>\n",
       "      <td>1999-06-27</td>\n",
       "      <td>2000-06-26</td>\n",
       "    </tr>\n",
       "    <tr>\n",
       "      <th>4850</th>\n",
       "      <td>499888</td>\n",
       "      <td>1959-05-30</td>\n",
       "      <td>Hilari</td>\n",
       "      <td>Smeets</td>\n",
       "      <td>M</td>\n",
       "      <td>1999-06-27</td>\n",
       "      <td>499888</td>\n",
       "      <td>41159</td>\n",
       "      <td>2000-06-26</td>\n",
       "      <td>2001-06-26</td>\n",
       "    </tr>\n",
       "    <tr>\n",
       "      <th>4851</th>\n",
       "      <td>499888</td>\n",
       "      <td>1959-05-30</td>\n",
       "      <td>Hilari</td>\n",
       "      <td>Smeets</td>\n",
       "      <td>M</td>\n",
       "      <td>1999-06-27</td>\n",
       "      <td>499888</td>\n",
       "      <td>41709</td>\n",
       "      <td>2001-06-26</td>\n",
       "      <td>2002-06-26</td>\n",
       "    </tr>\n",
       "    <tr>\n",
       "      <th>4852</th>\n",
       "      <td>499888</td>\n",
       "      <td>1959-05-30</td>\n",
       "      <td>Hilari</td>\n",
       "      <td>Smeets</td>\n",
       "      <td>M</td>\n",
       "      <td>1999-06-27</td>\n",
       "      <td>499888</td>\n",
       "      <td>45235</td>\n",
       "      <td>2002-06-26</td>\n",
       "      <td>9999-01-01</td>\n",
       "    </tr>\n",
       "  </tbody>\n",
       "</table>\n",
       "<p>4853 rows × 10 columns</p>\n",
       "</div>"
      ],
      "text/plain": [
       "      emp_no  birth_date first_name last_name gender   hire_date  emp_no  \\\n",
       "0      10019  1953-01-23    Lillian   Haddadi      M  1999-04-30   10019   \n",
       "1      10019  1953-01-23    Lillian   Haddadi      M  1999-04-30   10019   \n",
       "2      10019  1953-01-23    Lillian   Haddadi      M  1999-04-30   10019   \n",
       "3      10019  1953-01-23    Lillian   Haddadi      M  1999-04-30   10019   \n",
       "4      10105  1962-02-05   Hironoby  Piveteau      M  1999-03-23   10105   \n",
       "...      ...         ...        ...       ...    ...         ...     ...   \n",
       "4848  499610  1962-12-28   Kiyokazu  Vernadat      F  1999-08-29  499610   \n",
       "4849  499888  1959-05-30     Hilari    Smeets      M  1999-06-27  499888   \n",
       "4850  499888  1959-05-30     Hilari    Smeets      M  1999-06-27  499888   \n",
       "4851  499888  1959-05-30     Hilari    Smeets      M  1999-06-27  499888   \n",
       "4852  499888  1959-05-30     Hilari    Smeets      M  1999-06-27  499888   \n",
       "\n",
       "      salary   from_date     to_date  \n",
       "0      44276  1999-04-30  2000-04-29  \n",
       "1      46946  2000-04-29  2001-04-29  \n",
       "2      46775  2001-04-29  2002-04-29  \n",
       "3      50032  2002-04-29  9999-01-01  \n",
       "4      59258  1999-05-17  2000-05-16  \n",
       "...      ...         ...         ...  \n",
       "4848   88013  2001-08-28  9999-01-01  \n",
       "4849   40000  1999-06-27  2000-06-26  \n",
       "4850   41159  2000-06-26  2001-06-26  \n",
       "4851   41709  2001-06-26  2002-06-26  \n",
       "4852   45235  2002-06-26  9999-01-01  \n",
       "\n",
       "[4853 rows x 10 columns]"
      ]
     },
     "execution_count": 33,
     "metadata": {},
     "output_type": "execute_result"
    }
   ],
   "source": [
    "df_read_sql"
   ]
  },
  {
   "cell_type": "code",
   "execution_count": 34,
   "id": "3bb8c152",
   "metadata": {},
   "outputs": [],
   "source": [
    "#Escribiendo en la Base de datos"
   ]
  },
  {
   "cell_type": "code",
   "execution_count": 37,
   "id": "f9ea8ab8",
   "metadata": {},
   "outputs": [],
   "source": [
    "max_salary = df_pulled.groupby(['emp_no', 'first_name', 'last_name'])['salary'] \\\n",
    "            .max().reset_index()"
   ]
  },
  {
   "cell_type": "code",
   "execution_count": 38,
   "id": "74e75229",
   "metadata": {},
   "outputs": [
    {
     "data": {
      "text/html": [
       "<div>\n",
       "<style scoped>\n",
       "    .dataframe tbody tr th:only-of-type {\n",
       "        vertical-align: middle;\n",
       "    }\n",
       "\n",
       "    .dataframe tbody tr th {\n",
       "        vertical-align: top;\n",
       "    }\n",
       "\n",
       "    .dataframe thead th {\n",
       "        text-align: right;\n",
       "    }\n",
       "</style>\n",
       "<table border=\"1\" class=\"dataframe\">\n",
       "  <thead>\n",
       "    <tr style=\"text-align: right;\">\n",
       "      <th></th>\n",
       "      <th>emp_no</th>\n",
       "      <th>first_name</th>\n",
       "      <th>last_name</th>\n",
       "      <th>salary</th>\n",
       "    </tr>\n",
       "  </thead>\n",
       "  <tbody>\n",
       "    <tr>\n",
       "      <th>0</th>\n",
       "      <td>10019</td>\n",
       "      <td>Lillian</td>\n",
       "      <td>Haddadi</td>\n",
       "      <td>50032</td>\n",
       "    </tr>\n",
       "    <tr>\n",
       "      <th>1</th>\n",
       "      <td>10105</td>\n",
       "      <td>Hironoby</td>\n",
       "      <td>Piveteau</td>\n",
       "      <td>61514</td>\n",
       "    </tr>\n",
       "    <tr>\n",
       "      <th>2</th>\n",
       "      <td>10298</td>\n",
       "      <td>Dietrich</td>\n",
       "      <td>DuCasse</td>\n",
       "      <td>43923</td>\n",
       "    </tr>\n",
       "    <tr>\n",
       "      <th>3</th>\n",
       "      <td>10684</td>\n",
       "      <td>Aimee</td>\n",
       "      <td>Tokunaga</td>\n",
       "      <td>47683</td>\n",
       "    </tr>\n",
       "    <tr>\n",
       "      <th>4</th>\n",
       "      <td>11315</td>\n",
       "      <td>Neven</td>\n",
       "      <td>Meriste</td>\n",
       "      <td>85452</td>\n",
       "    </tr>\n",
       "    <tr>\n",
       "      <th>...</th>\n",
       "      <td>...</td>\n",
       "      <td>...</td>\n",
       "      <td>...</td>\n",
       "      <td>...</td>\n",
       "    </tr>\n",
       "    <tr>\n",
       "      <th>1516</th>\n",
       "      <td>498990</td>\n",
       "      <td>Adil</td>\n",
       "      <td>Litecky</td>\n",
       "      <td>54960</td>\n",
       "    </tr>\n",
       "    <tr>\n",
       "      <th>1517</th>\n",
       "      <td>499361</td>\n",
       "      <td>Sandeepan</td>\n",
       "      <td>Solares</td>\n",
       "      <td>64196</td>\n",
       "    </tr>\n",
       "    <tr>\n",
       "      <th>1518</th>\n",
       "      <td>499553</td>\n",
       "      <td>Hideyuki</td>\n",
       "      <td>Delgrande</td>\n",
       "      <td>72320</td>\n",
       "    </tr>\n",
       "    <tr>\n",
       "      <th>1519</th>\n",
       "      <td>499610</td>\n",
       "      <td>Kiyokazu</td>\n",
       "      <td>Vernadat</td>\n",
       "      <td>88013</td>\n",
       "    </tr>\n",
       "    <tr>\n",
       "      <th>1520</th>\n",
       "      <td>499888</td>\n",
       "      <td>Hilari</td>\n",
       "      <td>Smeets</td>\n",
       "      <td>45235</td>\n",
       "    </tr>\n",
       "  </tbody>\n",
       "</table>\n",
       "<p>1521 rows × 4 columns</p>\n",
       "</div>"
      ],
      "text/plain": [
       "      emp_no first_name  last_name  salary\n",
       "0      10019    Lillian    Haddadi   50032\n",
       "1      10105   Hironoby   Piveteau   61514\n",
       "2      10298   Dietrich    DuCasse   43923\n",
       "3      10684      Aimee   Tokunaga   47683\n",
       "4      11315      Neven    Meriste   85452\n",
       "...      ...        ...        ...     ...\n",
       "1516  498990       Adil    Litecky   54960\n",
       "1517  499361  Sandeepan    Solares   64196\n",
       "1518  499553   Hideyuki  Delgrande   72320\n",
       "1519  499610   Kiyokazu   Vernadat   88013\n",
       "1520  499888     Hilari     Smeets   45235\n",
       "\n",
       "[1521 rows x 4 columns]"
      ]
     },
     "execution_count": 38,
     "metadata": {},
     "output_type": "execute_result"
    }
   ],
   "source": [
    "max_salary"
   ]
  },
  {
   "cell_type": "code",
   "execution_count": 54,
   "id": "c51b40fb",
   "metadata": {},
   "outputs": [
    {
     "data": {
      "text/plain": [
       "1521"
      ]
     },
     "execution_count": 54,
     "metadata": {},
     "output_type": "execute_result"
    }
   ],
   "source": [
    "#Para guardar en base de datos.Si lo corremos dos veces nos dara error. Esto se setea con if_exists\n",
    "max_salary.to_sql('max_salary', engine, if_exists='replace', index=False)"
   ]
  },
  {
   "cell_type": "code",
   "execution_count": 55,
   "id": "8b406a6d",
   "metadata": {},
   "outputs": [
    {
     "data": {
      "text/html": [
       "<div>\n",
       "<style scoped>\n",
       "    .dataframe tbody tr th:only-of-type {\n",
       "        vertical-align: middle;\n",
       "    }\n",
       "\n",
       "    .dataframe tbody tr th {\n",
       "        vertical-align: top;\n",
       "    }\n",
       "\n",
       "    .dataframe thead th {\n",
       "        text-align: right;\n",
       "    }\n",
       "</style>\n",
       "<table border=\"1\" class=\"dataframe\">\n",
       "  <thead>\n",
       "    <tr style=\"text-align: right;\">\n",
       "      <th></th>\n",
       "      <th>emp_no</th>\n",
       "      <th>first_name</th>\n",
       "      <th>last_name</th>\n",
       "      <th>salary</th>\n",
       "    </tr>\n",
       "  </thead>\n",
       "  <tbody>\n",
       "    <tr>\n",
       "      <th>0</th>\n",
       "      <td>10019</td>\n",
       "      <td>Lillian</td>\n",
       "      <td>Haddadi</td>\n",
       "      <td>50032</td>\n",
       "    </tr>\n",
       "    <tr>\n",
       "      <th>1</th>\n",
       "      <td>10105</td>\n",
       "      <td>Hironoby</td>\n",
       "      <td>Piveteau</td>\n",
       "      <td>61514</td>\n",
       "    </tr>\n",
       "    <tr>\n",
       "      <th>2</th>\n",
       "      <td>10298</td>\n",
       "      <td>Dietrich</td>\n",
       "      <td>DuCasse</td>\n",
       "      <td>43923</td>\n",
       "    </tr>\n",
       "    <tr>\n",
       "      <th>3</th>\n",
       "      <td>10684</td>\n",
       "      <td>Aimee</td>\n",
       "      <td>Tokunaga</td>\n",
       "      <td>47683</td>\n",
       "    </tr>\n",
       "    <tr>\n",
       "      <th>4</th>\n",
       "      <td>11315</td>\n",
       "      <td>Neven</td>\n",
       "      <td>Meriste</td>\n",
       "      <td>85452</td>\n",
       "    </tr>\n",
       "    <tr>\n",
       "      <th>...</th>\n",
       "      <td>...</td>\n",
       "      <td>...</td>\n",
       "      <td>...</td>\n",
       "      <td>...</td>\n",
       "    </tr>\n",
       "    <tr>\n",
       "      <th>1516</th>\n",
       "      <td>498990</td>\n",
       "      <td>Adil</td>\n",
       "      <td>Litecky</td>\n",
       "      <td>54960</td>\n",
       "    </tr>\n",
       "    <tr>\n",
       "      <th>1517</th>\n",
       "      <td>499361</td>\n",
       "      <td>Sandeepan</td>\n",
       "      <td>Solares</td>\n",
       "      <td>64196</td>\n",
       "    </tr>\n",
       "    <tr>\n",
       "      <th>1518</th>\n",
       "      <td>499553</td>\n",
       "      <td>Hideyuki</td>\n",
       "      <td>Delgrande</td>\n",
       "      <td>72320</td>\n",
       "    </tr>\n",
       "    <tr>\n",
       "      <th>1519</th>\n",
       "      <td>499610</td>\n",
       "      <td>Kiyokazu</td>\n",
       "      <td>Vernadat</td>\n",
       "      <td>88013</td>\n",
       "    </tr>\n",
       "    <tr>\n",
       "      <th>1520</th>\n",
       "      <td>499888</td>\n",
       "      <td>Hilari</td>\n",
       "      <td>Smeets</td>\n",
       "      <td>45235</td>\n",
       "    </tr>\n",
       "  </tbody>\n",
       "</table>\n",
       "<p>1521 rows × 4 columns</p>\n",
       "</div>"
      ],
      "text/plain": [
       "      emp_no first_name  last_name  salary\n",
       "0      10019    Lillian    Haddadi   50032\n",
       "1      10105   Hironoby   Piveteau   61514\n",
       "2      10298   Dietrich    DuCasse   43923\n",
       "3      10684      Aimee   Tokunaga   47683\n",
       "4      11315      Neven    Meriste   85452\n",
       "...      ...        ...        ...     ...\n",
       "1516  498990       Adil    Litecky   54960\n",
       "1517  499361  Sandeepan    Solares   64196\n",
       "1518  499553   Hideyuki  Delgrande   72320\n",
       "1519  499610   Kiyokazu   Vernadat   88013\n",
       "1520  499888     Hilari     Smeets   45235\n",
       "\n",
       "[1521 rows x 4 columns]"
      ]
     },
     "execution_count": 55,
     "metadata": {},
     "output_type": "execute_result"
    }
   ],
   "source": [
    "max_salary"
   ]
  },
  {
   "cell_type": "code",
   "execution_count": 56,
   "id": "f2a63b25",
   "metadata": {},
   "outputs": [],
   "source": [
    "max_salary2 = pd.read_sql('SELECT * from max_salary', engine)"
   ]
  },
  {
   "cell_type": "code",
   "execution_count": 57,
   "id": "d35df6db",
   "metadata": {},
   "outputs": [
    {
     "data": {
      "text/html": [
       "<div>\n",
       "<style scoped>\n",
       "    .dataframe tbody tr th:only-of-type {\n",
       "        vertical-align: middle;\n",
       "    }\n",
       "\n",
       "    .dataframe tbody tr th {\n",
       "        vertical-align: top;\n",
       "    }\n",
       "\n",
       "    .dataframe thead th {\n",
       "        text-align: right;\n",
       "    }\n",
       "</style>\n",
       "<table border=\"1\" class=\"dataframe\">\n",
       "  <thead>\n",
       "    <tr style=\"text-align: right;\">\n",
       "      <th></th>\n",
       "      <th>emp_no</th>\n",
       "      <th>first_name</th>\n",
       "      <th>last_name</th>\n",
       "      <th>salary</th>\n",
       "    </tr>\n",
       "  </thead>\n",
       "  <tbody>\n",
       "    <tr>\n",
       "      <th>0</th>\n",
       "      <td>10019</td>\n",
       "      <td>Lillian</td>\n",
       "      <td>Haddadi</td>\n",
       "      <td>50032</td>\n",
       "    </tr>\n",
       "    <tr>\n",
       "      <th>1</th>\n",
       "      <td>10105</td>\n",
       "      <td>Hironoby</td>\n",
       "      <td>Piveteau</td>\n",
       "      <td>61514</td>\n",
       "    </tr>\n",
       "    <tr>\n",
       "      <th>2</th>\n",
       "      <td>10298</td>\n",
       "      <td>Dietrich</td>\n",
       "      <td>DuCasse</td>\n",
       "      <td>43923</td>\n",
       "    </tr>\n",
       "    <tr>\n",
       "      <th>3</th>\n",
       "      <td>10684</td>\n",
       "      <td>Aimee</td>\n",
       "      <td>Tokunaga</td>\n",
       "      <td>47683</td>\n",
       "    </tr>\n",
       "    <tr>\n",
       "      <th>4</th>\n",
       "      <td>11315</td>\n",
       "      <td>Neven</td>\n",
       "      <td>Meriste</td>\n",
       "      <td>85452</td>\n",
       "    </tr>\n",
       "    <tr>\n",
       "      <th>...</th>\n",
       "      <td>...</td>\n",
       "      <td>...</td>\n",
       "      <td>...</td>\n",
       "      <td>...</td>\n",
       "    </tr>\n",
       "    <tr>\n",
       "      <th>1516</th>\n",
       "      <td>498990</td>\n",
       "      <td>Adil</td>\n",
       "      <td>Litecky</td>\n",
       "      <td>54960</td>\n",
       "    </tr>\n",
       "    <tr>\n",
       "      <th>1517</th>\n",
       "      <td>499361</td>\n",
       "      <td>Sandeepan</td>\n",
       "      <td>Solares</td>\n",
       "      <td>64196</td>\n",
       "    </tr>\n",
       "    <tr>\n",
       "      <th>1518</th>\n",
       "      <td>499553</td>\n",
       "      <td>Hideyuki</td>\n",
       "      <td>Delgrande</td>\n",
       "      <td>72320</td>\n",
       "    </tr>\n",
       "    <tr>\n",
       "      <th>1519</th>\n",
       "      <td>499610</td>\n",
       "      <td>Kiyokazu</td>\n",
       "      <td>Vernadat</td>\n",
       "      <td>88013</td>\n",
       "    </tr>\n",
       "    <tr>\n",
       "      <th>1520</th>\n",
       "      <td>499888</td>\n",
       "      <td>Hilari</td>\n",
       "      <td>Smeets</td>\n",
       "      <td>45235</td>\n",
       "    </tr>\n",
       "  </tbody>\n",
       "</table>\n",
       "<p>1521 rows × 4 columns</p>\n",
       "</div>"
      ],
      "text/plain": [
       "      emp_no first_name  last_name  salary\n",
       "0      10019    Lillian    Haddadi   50032\n",
       "1      10105   Hironoby   Piveteau   61514\n",
       "2      10298   Dietrich    DuCasse   43923\n",
       "3      10684      Aimee   Tokunaga   47683\n",
       "4      11315      Neven    Meriste   85452\n",
       "...      ...        ...        ...     ...\n",
       "1516  498990       Adil    Litecky   54960\n",
       "1517  499361  Sandeepan    Solares   64196\n",
       "1518  499553   Hideyuki  Delgrande   72320\n",
       "1519  499610   Kiyokazu   Vernadat   88013\n",
       "1520  499888     Hilari     Smeets   45235\n",
       "\n",
       "[1521 rows x 4 columns]"
      ]
     },
     "execution_count": 57,
     "metadata": {},
     "output_type": "execute_result"
    }
   ],
   "source": [
    "max_salary2"
   ]
  },
  {
   "cell_type": "code",
   "execution_count": 58,
   "id": "f5c61384",
   "metadata": {},
   "outputs": [
    {
     "data": {
      "text/plain": [
       "((1521, 4), (1521, 4))"
      ]
     },
     "execution_count": 58,
     "metadata": {},
     "output_type": "execute_result"
    }
   ],
   "source": [
    "max_salary2.shape, max_salary.shape"
   ]
  },
  {
   "cell_type": "code",
   "execution_count": 60,
   "id": "527f9e05",
   "metadata": {},
   "outputs": [],
   "source": [
    "#to_sql appending a table. Agregar datos a la tabla. Columna create_date"
   ]
  },
  {
   "cell_type": "code",
   "execution_count": 73,
   "id": "e10d76fd",
   "metadata": {},
   "outputs": [],
   "source": [
    "max_salary_plus = max_salary.copy()\n",
    "max_salary_plus['salary'] = max_salary_plus['salary'] + 1000000"
   ]
  },
  {
   "cell_type": "code",
   "execution_count": 74,
   "id": "6a16adb2",
   "metadata": {},
   "outputs": [],
   "source": [
    "import datetime as dt"
   ]
  },
  {
   "cell_type": "code",
   "execution_count": 75,
   "id": "10e51951",
   "metadata": {},
   "outputs": [
    {
     "data": {
      "text/plain": [
       "1521"
      ]
     },
     "execution_count": 75,
     "metadata": {},
     "output_type": "execute_result"
    }
   ],
   "source": [
    "max_salary_plus.to_sql('max_salary', engine, index=False, if_exists='replace')"
   ]
  },
  {
   "cell_type": "code",
   "execution_count": 80,
   "id": "4a397b17",
   "metadata": {},
   "outputs": [
    {
     "data": {
      "text/plain": [
       "1521"
      ]
     },
     "execution_count": 80,
     "metadata": {},
     "output_type": "execute_result"
    }
   ],
   "source": [
    "max_salary['create_date'] = dt.datetime.now()\n",
    "max_salary.to_sql('max_salary', engine, index=False, if_exists='append')"
   ]
  },
  {
   "cell_type": "code",
   "execution_count": 81,
   "id": "1a025042",
   "metadata": {},
   "outputs": [],
   "source": [
    "max_salary3 = pd.read_sql('SELECT * from max_salary', engine)"
   ]
  },
  {
   "cell_type": "code",
   "execution_count": 82,
   "id": "b829b444",
   "metadata": {},
   "outputs": [
    {
     "data": {
      "text/plain": [
       "2023-08-01 15:20:22    1521\n",
       "2023-08-01 15:21:21    1521\n",
       "2023-08-01 15:24:24    1521\n",
       "Name: create_date, dtype: int64"
      ]
     },
     "execution_count": 82,
     "metadata": {},
     "output_type": "execute_result"
    }
   ],
   "source": [
    "max_salary3['create_date'].value_counts()"
   ]
  }
 ],
 "metadata": {
  "kernelspec": {
   "display_name": "Python 3 (ipykernel)",
   "language": "python",
   "name": "python3"
  },
  "language_info": {
   "codemirror_mode": {
    "name": "ipython",
    "version": 3
   },
   "file_extension": ".py",
   "mimetype": "text/x-python",
   "name": "python",
   "nbconvert_exporter": "python",
   "pygments_lexer": "ipython3",
   "version": "3.9.12"
  }
 },
 "nbformat": 4,
 "nbformat_minor": 5
}

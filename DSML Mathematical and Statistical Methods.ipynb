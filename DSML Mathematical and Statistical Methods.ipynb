{
 "cells": [
  {
   "cell_type": "code",
   "execution_count": 27,
   "id": "abf2cd76",
   "metadata": {},
   "outputs": [],
   "source": [
    "import pandas as pd\n",
    "import numpy as np\n",
    "import matplotlib.pyplot as plt\n",
    "import seaborn as sns"
   ]
  },
  {
   "cell_type": "code",
   "execution_count": 2,
   "id": "509d86bb",
   "metadata": {},
   "outputs": [],
   "source": [
    "nutri = pd.read_csv('/Users/martinlopezscala/Downloads/nutri.csv')"
   ]
  },
  {
   "cell_type": "code",
   "execution_count": 3,
   "id": "f05a260d",
   "metadata": {},
   "outputs": [
    {
     "name": "stdout",
     "output_type": "stream",
     "text": [
      "<class 'pandas.core.frame.DataFrame'>\n",
      "RangeIndex: 226 entries, 0 to 225\n",
      "Data columns (total 13 columns):\n",
      " #   Column            Non-Null Count  Dtype  \n",
      "---  ------            --------------  -----  \n",
      " 0   gender            226 non-null    object \n",
      " 1   situation         226 non-null    object \n",
      " 2   tea               226 non-null    int64  \n",
      " 3   coffee            226 non-null    int64  \n",
      " 4   height            226 non-null    float64\n",
      " 5   weight            226 non-null    float64\n",
      " 6   age               226 non-null    float64\n",
      " 7   meat              226 non-null    object \n",
      " 8   fish              226 non-null    object \n",
      " 9   raw_fruit         226 non-null    object \n",
      " 10  cooked_fruit_veg  226 non-null    object \n",
      " 11  chocol            226 non-null    object \n",
      " 12  fat               226 non-null    object \n",
      "dtypes: float64(3), int64(2), object(8)\n",
      "memory usage: 23.1+ KB\n"
     ]
    }
   ],
   "source": [
    "nutri.info()"
   ]
  },
  {
   "cell_type": "code",
   "execution_count": 4,
   "id": "542fc8d6",
   "metadata": {},
   "outputs": [
    {
     "data": {
      "text/plain": [
       "0      Female\n",
       "1      Female\n",
       "2      Female\n",
       "3      Female\n",
       "4      Female\n",
       "        ...  \n",
       "221    Female\n",
       "222    Female\n",
       "223      Male\n",
       "224    Female\n",
       "225    Female\n",
       "Name: gender, Length: 226, dtype: category\n",
       "Categories (2, object): ['Female', 'Male']"
      ]
     },
     "execution_count": 4,
     "metadata": {},
     "output_type": "execute_result"
    }
   ],
   "source": [
    "DICT = {1:'Male' , 2:'Female'}\n",
    "nutri['gender'] = nutri['gender'] .replace(DICT).astype('category')\n",
    "nutri['gender']"
   ]
  },
  {
   "cell_type": "markdown",
   "id": "5895e3a4",
   "metadata": {},
   "source": [
    "#Summary Tables"
   ]
  },
  {
   "cell_type": "code",
   "execution_count": 5,
   "id": "66804060",
   "metadata": {},
   "outputs": [
    {
     "data": {
      "text/plain": [
       "count           226\n",
       "unique            8\n",
       "top       sunflower\n",
       "freq             68\n",
       "Name: fat, dtype: object"
      ]
     },
     "execution_count": 5,
     "metadata": {},
     "output_type": "execute_result"
    }
   ],
   "source": [
    "nutri['fat'].describe()"
   ]
  },
  {
   "cell_type": "code",
   "execution_count": 6,
   "id": "31260345",
   "metadata": {},
   "outputs": [
    {
     "data": {
      "text/plain": [
       "sunflower    68\n",
       "peanut       48\n",
       "olive        40\n",
       "margarine    27\n",
       "Isio4        23\n",
       "butter       15\n",
       "duck          4\n",
       "colza         1\n",
       "Name: fat, dtype: int64"
      ]
     },
     "execution_count": 6,
     "metadata": {},
     "output_type": "execute_result"
    }
   ],
   "source": [
    "nutri['fat'].value_counts()"
   ]
  },
  {
   "cell_type": "code",
   "execution_count": 7,
   "id": "74b7c156",
   "metadata": {},
   "outputs": [
    {
     "data": {
      "text/html": [
       "<div>\n",
       "<style scoped>\n",
       "    .dataframe tbody tr th:only-of-type {\n",
       "        vertical-align: middle;\n",
       "    }\n",
       "\n",
       "    .dataframe tbody tr th {\n",
       "        vertical-align: top;\n",
       "    }\n",
       "\n",
       "    .dataframe thead th {\n",
       "        text-align: right;\n",
       "    }\n",
       "</style>\n",
       "<table border=\"1\" class=\"dataframe\">\n",
       "  <thead>\n",
       "    <tr style=\"text-align: right;\">\n",
       "      <th>situation</th>\n",
       "      <th>Couple</th>\n",
       "      <th>Family</th>\n",
       "      <th>Single</th>\n",
       "    </tr>\n",
       "    <tr>\n",
       "      <th>gender</th>\n",
       "      <th></th>\n",
       "      <th></th>\n",
       "      <th></th>\n",
       "    </tr>\n",
       "  </thead>\n",
       "  <tbody>\n",
       "    <tr>\n",
       "      <th>Female</th>\n",
       "      <td>56</td>\n",
       "      <td>7</td>\n",
       "      <td>78</td>\n",
       "    </tr>\n",
       "    <tr>\n",
       "      <th>Male</th>\n",
       "      <td>63</td>\n",
       "      <td>2</td>\n",
       "      <td>20</td>\n",
       "    </tr>\n",
       "  </tbody>\n",
       "</table>\n",
       "</div>"
      ],
      "text/plain": [
       "situation  Couple  Family  Single\n",
       "gender                           \n",
       "Female         56       7      78\n",
       "Male           63       2      20"
      ]
     },
     "execution_count": 7,
     "metadata": {},
     "output_type": "execute_result"
    }
   ],
   "source": [
    "#Crosstable for two or more variables giving a contingency table\n",
    "pd.crosstab(nutri.gender, nutri.situation)"
   ]
  },
  {
   "cell_type": "code",
   "execution_count": 9,
   "id": "c01d9d9d",
   "metadata": {},
   "outputs": [
    {
     "data": {
      "text/html": [
       "<div>\n",
       "<style scoped>\n",
       "    .dataframe tbody tr th:only-of-type {\n",
       "        vertical-align: middle;\n",
       "    }\n",
       "\n",
       "    .dataframe tbody tr th {\n",
       "        vertical-align: top;\n",
       "    }\n",
       "\n",
       "    .dataframe thead th {\n",
       "        text-align: right;\n",
       "    }\n",
       "</style>\n",
       "<table border=\"1\" class=\"dataframe\">\n",
       "  <thead>\n",
       "    <tr style=\"text-align: right;\">\n",
       "      <th>situation</th>\n",
       "      <th>Couple</th>\n",
       "      <th>Family</th>\n",
       "      <th>Single</th>\n",
       "      <th>All</th>\n",
       "    </tr>\n",
       "    <tr>\n",
       "      <th>gender</th>\n",
       "      <th></th>\n",
       "      <th></th>\n",
       "      <th></th>\n",
       "      <th></th>\n",
       "    </tr>\n",
       "  </thead>\n",
       "  <tbody>\n",
       "    <tr>\n",
       "      <th>Female</th>\n",
       "      <td>56</td>\n",
       "      <td>7</td>\n",
       "      <td>78</td>\n",
       "      <td>141</td>\n",
       "    </tr>\n",
       "    <tr>\n",
       "      <th>Male</th>\n",
       "      <td>63</td>\n",
       "      <td>2</td>\n",
       "      <td>20</td>\n",
       "      <td>85</td>\n",
       "    </tr>\n",
       "    <tr>\n",
       "      <th>All</th>\n",
       "      <td>119</td>\n",
       "      <td>9</td>\n",
       "      <td>98</td>\n",
       "      <td>226</td>\n",
       "    </tr>\n",
       "  </tbody>\n",
       "</table>\n",
       "</div>"
      ],
      "text/plain": [
       "situation  Couple  Family  Single  All\n",
       "gender                                \n",
       "Female         56       7      78  141\n",
       "Male           63       2      20   85\n",
       "All           119       9      98  226"
      ]
     },
     "execution_count": 9,
     "metadata": {},
     "output_type": "execute_result"
    }
   ],
   "source": [
    "pd.crosstab(nutri.gender, nutri.situation, margins=True)"
   ]
  },
  {
   "cell_type": "markdown",
   "id": "2f2e776e",
   "metadata": {},
   "source": [
    "#Summary Statistics"
   ]
  },
  {
   "cell_type": "code",
   "execution_count": 10,
   "id": "c5a0f4e9",
   "metadata": {},
   "outputs": [
    {
     "data": {
      "text/plain": [
       "163.96017699115043"
      ]
     },
     "execution_count": 10,
     "metadata": {},
     "output_type": "execute_result"
    }
   ],
   "source": [
    "nutri['height'].mean()"
   ]
  },
  {
   "cell_type": "code",
   "execution_count": 11,
   "id": "a19a6d24",
   "metadata": {},
   "outputs": [
    {
     "data": {
      "text/plain": [
       "0.25    157.0\n",
       "0.50    163.0\n",
       "0.75    170.0\n",
       "Name: height, dtype: float64"
      ]
     },
     "execution_count": 11,
     "metadata": {},
     "output_type": "execute_result"
    }
   ],
   "source": [
    "nutri['height'].quantile(q=[0.25,0.5,0.75])"
   ]
  },
  {
   "cell_type": "code",
   "execution_count": 12,
   "id": "1042ec4c",
   "metadata": {},
   "outputs": [
    {
     "data": {
      "text/plain": [
       "48.0"
      ]
     },
     "execution_count": 12,
     "metadata": {},
     "output_type": "execute_result"
    }
   ],
   "source": [
    "#Standard desviation s- In cm\n",
    "nutri['height'].max() - nutri['height'].min()"
   ]
  },
  {
   "cell_type": "code",
   "execution_count": 13,
   "id": "75f0a1d8",
   "metadata": {},
   "outputs": [
    {
     "data": {
      "text/plain": [
       "81.06"
      ]
     },
     "execution_count": 13,
     "metadata": {},
     "output_type": "execute_result"
    }
   ],
   "source": [
    "#Variance in cm2\n",
    "round(nutri['height'].var(),2)  #round to two decimal places"
   ]
  },
  {
   "cell_type": "code",
   "execution_count": 14,
   "id": "9de512ae",
   "metadata": {},
   "outputs": [
    {
     "data": {
      "text/plain": [
       "9.0"
      ]
     },
     "execution_count": 14,
     "metadata": {},
     "output_type": "execute_result"
    }
   ],
   "source": [
    "#Standard deviation\n",
    "round(nutri['height'].std(),2) "
   ]
  },
  {
   "cell_type": "code",
   "execution_count": 16,
   "id": "0e26c44f",
   "metadata": {},
   "outputs": [
    {
     "data": {
      "text/plain": [
       "count    226.0\n",
       "mean     164.0\n",
       "std        9.0\n",
       "min      140.0\n",
       "25%      157.0\n",
       "50%      163.0\n",
       "75%      170.0\n",
       "max      188.0\n",
       "Name: height, dtype: float64"
      ]
     },
     "execution_count": 16,
     "metadata": {},
     "output_type": "execute_result"
    }
   ],
   "source": [
    "round(nutri['height'].describe()) "
   ]
  },
  {
   "cell_type": "markdown",
   "id": "272781f5",
   "metadata": {},
   "source": [
    "##Visualizing Data"
   ]
  },
  {
   "cell_type": "code",
   "execution_count": 19,
   "id": "9a62f47c",
   "metadata": {},
   "outputs": [
    {
     "data": {
      "image/png": "[encoded data removed]",
      "text/plain": [
       "<Figure size 640x480 with 1 Axes>"
      ]
     },
     "metadata": {},
     "output_type": "display_data"
    }
   ],
   "source": [
    "#Cuantas personas mayores viven solos, en pareja, con familiares u/o otro\n",
    "width = 0.35 #ancho de barra\n",
    "x = [0,0.8, 1.6] #posicion de las barras en eje x\n",
    "situation_counts = nutri['situation'].value_counts()\n",
    "plt.bar(x, situation_counts, width, edgecolor= 'black')\n",
    "plt.xticks(x, situation_counts.index)\n",
    "plt.title('Barplot qualitative variable \"situation\"')\n",
    "plt.show()"
   ]
  },
  {
   "cell_type": "markdown",
   "id": "b601f1cb",
   "metadata": {},
   "source": [
    "##Plotting quantitative variables"
   ]
  },
  {
   "cell_type": "code",
   "execution_count": 22,
   "id": "a6fa4cc2",
   "metadata": {},
   "outputs": [
    {
     "data": {
      "image/png": "[encoded data removed]",
      "text/plain": [
       "<Figure size 640x480 with 1 Axes>"
      ]
     },
     "metadata": {},
     "output_type": "display_data"
    }
   ],
   "source": [
    "#Boxplor. Age\n",
    "plt.boxplot(nutri['age'],widths=width, vert=False)\n",
    "plt.xlabel('age')\n",
    "plt.title('Baxplot quantitative variable \"age\"')\n",
    "plt.show()"
   ]
  },
  {
   "cell_type": "code",
   "execution_count": 24,
   "id": "d6ddb3e1",
   "metadata": {},
   "outputs": [
    {
     "data": {
      "image/png": "[encoded data removed]",
      "text/plain": [
       "<Figure size 640x480 with 1 Axes>"
      ]
     },
     "metadata": {},
     "output_type": "display_data"
    }
   ],
   "source": [
    "#Histogram. Ages\n",
    "weights= np.ones_like(nutri.age)/nutri.age.count()\n",
    "plt.hist(nutri.age, bins=9, weights=weights, facecolor='cyan', edgecolor='black', linewidth=1)\n",
    "plt.xlabel('age')\n",
    "plt.ylabel('Proportion of Total')\n",
    "plt.title('Histogram quantitative variable \"age\"')\n",
    "plt.show()"
   ]
  },
  {
   "cell_type": "code",
   "execution_count": 26,
   "id": "31182881",
   "metadata": {},
   "outputs": [
    {
     "data": {
      "image/png": "[encoded data removed]",
      "text/plain": [
       "<Figure size 640x480 with 1 Axes>"
      ]
     },
     "metadata": {},
     "output_type": "display_data"
    }
   ],
   "source": [
    "#Funcion distribucion acumulativa\n",
    "x= np.sort(nutri.age)\n",
    "y= np.linspace(0,1,len(nutri.age))\n",
    "plt.xlabel('age')\n",
    "plt.ylabel('Fn(x)')\n",
    "plt.step(x,y)\n",
    "plt.xlim(x.min(), x.max())\n",
    "plt.title('Empirical distribution quantitative variable \"age\"')\n",
    "plt.show()"
   ]
  },
  {
   "cell_type": "code",
   "execution_count": 29,
   "id": "8bd3f6e3",
   "metadata": {},
   "outputs": [
    {
     "data": {
      "image/png": "[encoded data removed]",
      "text/plain": [
       "<Figure size 640x480 with 1 Axes>"
      ]
     },
     "metadata": {},
     "output_type": "display_data"
    }
   ],
   "source": [
    "#Grafica de barras de dos variables\n",
    "sns.countplot(x='situation', hue ='gender', data=nutri, hue_order=['Male', 'Female'], palette=['Red', 'Blue'],\n",
    "             saturation = 1, edgecolor = 'black')\n",
    "plt.legend(loc='upper center')\n",
    "plt.xlabel('')\n",
    "plt.ylabel('Counts')\n",
    "plt.title('Barplot for two categorical variables')\n",
    "plt.show()"
   ]
  },
  {
   "cell_type": "code",
   "execution_count": 32,
   "id": "0b8e5e4d",
   "metadata": {},
   "outputs": [
    {
     "data": {
      "image/png": "[encoded data removed]",
      "text/plain": [
       "<Figure size 640x480 with 1 Axes>"
      ]
     },
     "metadata": {},
     "output_type": "display_data"
    }
   ],
   "source": [
    "#Plot for two quantitative variables\n",
    "plt.scatter(nutri.height, nutri.weight, s=12, marker='o')\n",
    "plt.xlabel('height')\n",
    "plt.ylabel('weight')\n",
    "plt.title('Scatterplot of weight against height')\n",
    "plt.show()"
   ]
  },
  {
   "cell_type": "code",
   "execution_count": 38,
   "id": "9dd6fa17",
   "metadata": {},
   "outputs": [
    {
     "name": "stderr",
     "output_type": "stream",
     "text": [
      "/var/folders/px/rv4mh3xn46z7059z336yx46r0000gn/T/ipykernel_899/1213774709.py:2: FutureWarning: In a future version of pandas all arguments of DataFrame.drop except for the argument 'labels' will be keyword-only.\n",
      "  bwt = bwt.drop('Unnamed: 0',1)\n"
     ]
    },
    {
     "data": {
      "image/png": "[encoded data removed]",
      "text/plain": [
       "<Figure size 640x480 with 1 Axes>"
      ]
     },
     "metadata": {},
     "output_type": "display_data"
    }
   ],
   "source": [
    "bwt = pd.read_csv('/Users/martinlopezscala/Downloads/birthwt.csv')\n",
    "bwt = bwt.drop('Unnamed: 0',1)\n",
    "styles = {0: ['o', 'red'], 1:['^', 'blue']}\n",
    "for k in styles:\n",
    "    grp = bwt[bwt.smoke==k]\n",
    "    m,b = np.polyfit(grp.age, grp.bwt, 1)\n",
    "    plt.scatter(grp.age, grp.bwt, c=styles[k][1], s=15, linewidth=0, marker=styles[k][0])\n",
    "    plt.plot(grp.age, m*grp.age+b, '-', color=styles[k][1])\n",
    "    \n",
    "plt.xlabel('age')\n",
    "plt.ylabel('birth weight (g)')\n",
    "plt.legend(['non-smokers', 'smokers'],prop={'size':8}, loc=(0.5, 0.8))\n",
    "plt.title('Birth weight against age for smoking and non-smoking mothers')\n",
    "plt.show()\n"
   ]
  },
  {
   "cell_type": "code",
   "execution_count": 40,
   "id": "4e6c21fa",
   "metadata": {},
   "outputs": [
    {
     "data": {
      "image/png": "[encoded data removed]",
      "text/plain": [
       "<Figure size 640x480 with 1 Axes>"
      ]
     },
     "metadata": {},
     "output_type": "display_data"
    }
   ],
   "source": [
    "#Grafico con una variable cualitativa y una cuantitativa\n",
    "males = nutri[nutri.gender == 'Male']\n",
    "females = nutri[nutri.gender == 'Female']\n",
    "plt.boxplot([males.coffee, females.coffee],notch=True, widths=(0.5, 0.5))\n",
    "plt.xlabel('gender')\n",
    "plt.ylabel('coffee')\n",
    "plt.xticks([1,2],['Male','Female'])\n",
    "plt.show()\n"
   ]
  },
  {
   "cell_type": "code",
   "execution_count": 53,
   "id": "4786ab3f",
   "metadata": {},
   "outputs": [],
   "source": [
    "mushroom = pd.read_csv('/Users/martinlopezscala/Downloads/mushrooms.csv')"
   ]
  },
  {
   "cell_type": "code",
   "execution_count": 54,
   "id": "d447793e",
   "metadata": {},
   "outputs": [
    {
     "data": {
      "text/html": [
       "<div>\n",
       "<style scoped>\n",
       "    .dataframe tbody tr th:only-of-type {\n",
       "        vertical-align: middle;\n",
       "    }\n",
       "\n",
       "    .dataframe tbody tr th {\n",
       "        vertical-align: top;\n",
       "    }\n",
       "\n",
       "    .dataframe thead th {\n",
       "        text-align: right;\n",
       "    }\n",
       "</style>\n",
       "<table border=\"1\" class=\"dataframe\">\n",
       "  <thead>\n",
       "    <tr style=\"text-align: right;\">\n",
       "      <th></th>\n",
       "      <th>class</th>\n",
       "      <th>cap-shape</th>\n",
       "      <th>cap-surface</th>\n",
       "      <th>cap-color</th>\n",
       "      <th>bruises</th>\n",
       "      <th>odor</th>\n",
       "      <th>gill-attachment</th>\n",
       "      <th>gill-spacing</th>\n",
       "      <th>gill-size</th>\n",
       "      <th>gill-color</th>\n",
       "      <th>...</th>\n",
       "      <th>stalk-surface-below-ring</th>\n",
       "      <th>stalk-color-above-ring</th>\n",
       "      <th>stalk-color-below-ring</th>\n",
       "      <th>veil-type</th>\n",
       "      <th>veil-color</th>\n",
       "      <th>ring-number</th>\n",
       "      <th>ring-type</th>\n",
       "      <th>spore-print-color</th>\n",
       "      <th>population</th>\n",
       "      <th>habitat</th>\n",
       "    </tr>\n",
       "  </thead>\n",
       "  <tbody>\n",
       "    <tr>\n",
       "      <th>0</th>\n",
       "      <td>p</td>\n",
       "      <td>x</td>\n",
       "      <td>s</td>\n",
       "      <td>n</td>\n",
       "      <td>t</td>\n",
       "      <td>p</td>\n",
       "      <td>f</td>\n",
       "      <td>c</td>\n",
       "      <td>n</td>\n",
       "      <td>k</td>\n",
       "      <td>...</td>\n",
       "      <td>s</td>\n",
       "      <td>w</td>\n",
       "      <td>w</td>\n",
       "      <td>p</td>\n",
       "      <td>w</td>\n",
       "      <td>o</td>\n",
       "      <td>p</td>\n",
       "      <td>k</td>\n",
       "      <td>s</td>\n",
       "      <td>u</td>\n",
       "    </tr>\n",
       "    <tr>\n",
       "      <th>1</th>\n",
       "      <td>e</td>\n",
       "      <td>x</td>\n",
       "      <td>s</td>\n",
       "      <td>y</td>\n",
       "      <td>t</td>\n",
       "      <td>a</td>\n",
       "      <td>f</td>\n",
       "      <td>c</td>\n",
       "      <td>b</td>\n",
       "      <td>k</td>\n",
       "      <td>...</td>\n",
       "      <td>s</td>\n",
       "      <td>w</td>\n",
       "      <td>w</td>\n",
       "      <td>p</td>\n",
       "      <td>w</td>\n",
       "      <td>o</td>\n",
       "      <td>p</td>\n",
       "      <td>n</td>\n",
       "      <td>n</td>\n",
       "      <td>g</td>\n",
       "    </tr>\n",
       "    <tr>\n",
       "      <th>2</th>\n",
       "      <td>e</td>\n",
       "      <td>b</td>\n",
       "      <td>s</td>\n",
       "      <td>w</td>\n",
       "      <td>t</td>\n",
       "      <td>l</td>\n",
       "      <td>f</td>\n",
       "      <td>c</td>\n",
       "      <td>b</td>\n",
       "      <td>n</td>\n",
       "      <td>...</td>\n",
       "      <td>s</td>\n",
       "      <td>w</td>\n",
       "      <td>w</td>\n",
       "      <td>p</td>\n",
       "      <td>w</td>\n",
       "      <td>o</td>\n",
       "      <td>p</td>\n",
       "      <td>n</td>\n",
       "      <td>n</td>\n",
       "      <td>m</td>\n",
       "    </tr>\n",
       "  </tbody>\n",
       "</table>\n",
       "<p>3 rows × 23 columns</p>\n",
       "</div>"
      ],
      "text/plain": [
       "  class cap-shape cap-surface cap-color bruises odor gill-attachment  \\\n",
       "0     p         x           s         n       t    p               f   \n",
       "1     e         x           s         y       t    a               f   \n",
       "2     e         b           s         w       t    l               f   \n",
       "\n",
       "  gill-spacing gill-size gill-color  ... stalk-surface-below-ring  \\\n",
       "0            c         n          k  ...                        s   \n",
       "1            c         b          k  ...                        s   \n",
       "2            c         b          n  ...                        s   \n",
       "\n",
       "  stalk-color-above-ring stalk-color-below-ring veil-type veil-color  \\\n",
       "0                      w                      w         p          w   \n",
       "1                      w                      w         p          w   \n",
       "2                      w                      w         p          w   \n",
       "\n",
       "  ring-number ring-type spore-print-color population habitat  \n",
       "0           o         p                 k          s       u  \n",
       "1           o         p                 n          n       g  \n",
       "2           o         p                 n          n       m  \n",
       "\n",
       "[3 rows x 23 columns]"
      ]
     },
     "execution_count": 54,
     "metadata": {},
     "output_type": "execute_result"
    }
   ],
   "source": [
    "mushroom.head(3)"
   ]
  },
  {
   "cell_type": "code",
   "execution_count": 55,
   "id": "5ce6feac",
   "metadata": {},
   "outputs": [
    {
     "name": "stdout",
     "output_type": "stream",
     "text": [
      "<class 'pandas.core.frame.DataFrame'>\n",
      "RangeIndex: 8124 entries, 0 to 8123\n",
      "Data columns (total 23 columns):\n",
      " #   Column                    Non-Null Count  Dtype \n",
      "---  ------                    --------------  ----- \n",
      " 0   class                     8124 non-null   object\n",
      " 1   cap-shape                 8124 non-null   object\n",
      " 2   cap-surface               8124 non-null   object\n",
      " 3   cap-color                 8124 non-null   object\n",
      " 4   bruises                   8124 non-null   object\n",
      " 5   odor                      8124 non-null   object\n",
      " 6   gill-attachment           8124 non-null   object\n",
      " 7   gill-spacing              8124 non-null   object\n",
      " 8   gill-size                 8124 non-null   object\n",
      " 9   gill-color                8124 non-null   object\n",
      " 10  stalk-shape               8124 non-null   object\n",
      " 11  stalk-root                8124 non-null   object\n",
      " 12  stalk-surface-above-ring  8124 non-null   object\n",
      " 13  stalk-surface-below-ring  8124 non-null   object\n",
      " 14  stalk-color-above-ring    8124 non-null   object\n",
      " 15  stalk-color-below-ring    8124 non-null   object\n",
      " 16  veil-type                 8124 non-null   object\n",
      " 17  veil-color                8124 non-null   object\n",
      " 18  ring-number               8124 non-null   object\n",
      " 19  ring-type                 8124 non-null   object\n",
      " 20  spore-print-color         8124 non-null   object\n",
      " 21  population                8124 non-null   object\n",
      " 22  habitat                   8124 non-null   object\n",
      "dtypes: object(23)\n",
      "memory usage: 1.4+ MB\n"
     ]
    }
   ],
   "source": [
    "#How many features are in this data set    23\n",
    "#What are the initial names and types of the features 22 \n",
    "mushroom.info()"
   ]
  },
  {
   "cell_type": "code",
   "execution_count": 56,
   "id": "7aa8e35d",
   "metadata": {},
   "outputs": [],
   "source": [
    "#Rename index[0] to edibility and index[5] to odor\n",
    "newcols = mushroom.columns.tolist()\n",
    "newcols[0] = 'edibility'\n",
    "newcols[5] = 'odor'\n",
    "mushroom.columns = newcols"
   ]
  },
  {
   "cell_type": "code",
   "execution_count": 57,
   "id": "78b27830",
   "metadata": {},
   "outputs": [
    {
     "name": "stdout",
     "output_type": "stream",
     "text": [
      "<class 'pandas.core.frame.DataFrame'>\n",
      "RangeIndex: 8124 entries, 0 to 8123\n",
      "Data columns (total 23 columns):\n",
      " #   Column                    Non-Null Count  Dtype \n",
      "---  ------                    --------------  ----- \n",
      " 0   edibility                 8124 non-null   object\n",
      " 1   cap-shape                 8124 non-null   object\n",
      " 2   cap-surface               8124 non-null   object\n",
      " 3   cap-color                 8124 non-null   object\n",
      " 4   bruises                   8124 non-null   object\n",
      " 5   odor                      8124 non-null   object\n",
      " 6   gill-attachment           8124 non-null   object\n",
      " 7   gill-spacing              8124 non-null   object\n",
      " 8   gill-size                 8124 non-null   object\n",
      " 9   gill-color                8124 non-null   object\n",
      " 10  stalk-shape               8124 non-null   object\n",
      " 11  stalk-root                8124 non-null   object\n",
      " 12  stalk-surface-above-ring  8124 non-null   object\n",
      " 13  stalk-surface-below-ring  8124 non-null   object\n",
      " 14  stalk-color-above-ring    8124 non-null   object\n",
      " 15  stalk-color-below-ring    8124 non-null   object\n",
      " 16  veil-type                 8124 non-null   object\n",
      " 17  veil-color                8124 non-null   object\n",
      " 18  ring-number               8124 non-null   object\n",
      " 19  ring-type                 8124 non-null   object\n",
      " 20  spore-print-color         8124 non-null   object\n",
      " 21  population                8124 non-null   object\n",
      " 22  habitat                   8124 non-null   object\n",
      "dtypes: object(23)\n",
      "memory usage: 1.4+ MB\n"
     ]
    }
   ],
   "source": [
    "mushroom.info()"
   ]
  },
  {
   "cell_type": "code",
   "execution_count": 60,
   "id": "83f262d5",
   "metadata": {},
   "outputs": [],
   "source": [
    "#Encoded columns odors and edibility with each letter\n",
    "DICT = {'a': \"almond\", 'c': \"creosote\", 'f': \"foul\", 'l': \"anise\", 'm': \"musty\", 'n': \"none\", 'p': \"pungent\",\n",
    "       's': \"spicy\", 'y': \"fishy\"}\n",
    "mushroom.odor = mushroom.odor.replace(DICT)\n",
    "\n",
    "DICT = {'e': \"edible\", 'p': \"poisonous\"}\n",
    "mushroom.edibility = mushroom.edibility.replace(DICT)"
   ]
  },
  {
   "cell_type": "code",
   "execution_count": 61,
   "id": "8466bfed",
   "metadata": {},
   "outputs": [
    {
     "data": {
      "text/html": [
       "<div>\n",
       "<style scoped>\n",
       "    .dataframe tbody tr th:only-of-type {\n",
       "        vertical-align: middle;\n",
       "    }\n",
       "\n",
       "    .dataframe tbody tr th {\n",
       "        vertical-align: top;\n",
       "    }\n",
       "\n",
       "    .dataframe thead th {\n",
       "        text-align: right;\n",
       "    }\n",
       "</style>\n",
       "<table border=\"1\" class=\"dataframe\">\n",
       "  <thead>\n",
       "    <tr style=\"text-align: right;\">\n",
       "      <th></th>\n",
       "      <th>edibility</th>\n",
       "      <th>cap-shape</th>\n",
       "      <th>cap-surface</th>\n",
       "      <th>cap-color</th>\n",
       "      <th>bruises</th>\n",
       "      <th>odor</th>\n",
       "      <th>gill-attachment</th>\n",
       "      <th>gill-spacing</th>\n",
       "      <th>gill-size</th>\n",
       "      <th>gill-color</th>\n",
       "      <th>...</th>\n",
       "      <th>stalk-surface-below-ring</th>\n",
       "      <th>stalk-color-above-ring</th>\n",
       "      <th>stalk-color-below-ring</th>\n",
       "      <th>veil-type</th>\n",
       "      <th>veil-color</th>\n",
       "      <th>ring-number</th>\n",
       "      <th>ring-type</th>\n",
       "      <th>spore-print-color</th>\n",
       "      <th>population</th>\n",
       "      <th>habitat</th>\n",
       "    </tr>\n",
       "  </thead>\n",
       "  <tbody>\n",
       "    <tr>\n",
       "      <th>0</th>\n",
       "      <td>poisonous</td>\n",
       "      <td>x</td>\n",
       "      <td>s</td>\n",
       "      <td>n</td>\n",
       "      <td>t</td>\n",
       "      <td>pungent</td>\n",
       "      <td>f</td>\n",
       "      <td>c</td>\n",
       "      <td>n</td>\n",
       "      <td>k</td>\n",
       "      <td>...</td>\n",
       "      <td>s</td>\n",
       "      <td>w</td>\n",
       "      <td>w</td>\n",
       "      <td>p</td>\n",
       "      <td>w</td>\n",
       "      <td>o</td>\n",
       "      <td>p</td>\n",
       "      <td>k</td>\n",
       "      <td>s</td>\n",
       "      <td>u</td>\n",
       "    </tr>\n",
       "    <tr>\n",
       "      <th>1</th>\n",
       "      <td>edible</td>\n",
       "      <td>x</td>\n",
       "      <td>s</td>\n",
       "      <td>y</td>\n",
       "      <td>t</td>\n",
       "      <td>almond</td>\n",
       "      <td>f</td>\n",
       "      <td>c</td>\n",
       "      <td>b</td>\n",
       "      <td>k</td>\n",
       "      <td>...</td>\n",
       "      <td>s</td>\n",
       "      <td>w</td>\n",
       "      <td>w</td>\n",
       "      <td>p</td>\n",
       "      <td>w</td>\n",
       "      <td>o</td>\n",
       "      <td>p</td>\n",
       "      <td>n</td>\n",
       "      <td>n</td>\n",
       "      <td>g</td>\n",
       "    </tr>\n",
       "    <tr>\n",
       "      <th>2</th>\n",
       "      <td>edible</td>\n",
       "      <td>b</td>\n",
       "      <td>s</td>\n",
       "      <td>w</td>\n",
       "      <td>t</td>\n",
       "      <td>anise</td>\n",
       "      <td>f</td>\n",
       "      <td>c</td>\n",
       "      <td>b</td>\n",
       "      <td>n</td>\n",
       "      <td>...</td>\n",
       "      <td>s</td>\n",
       "      <td>w</td>\n",
       "      <td>w</td>\n",
       "      <td>p</td>\n",
       "      <td>w</td>\n",
       "      <td>o</td>\n",
       "      <td>p</td>\n",
       "      <td>n</td>\n",
       "      <td>n</td>\n",
       "      <td>m</td>\n",
       "    </tr>\n",
       "  </tbody>\n",
       "</table>\n",
       "<p>3 rows × 23 columns</p>\n",
       "</div>"
      ],
      "text/plain": [
       "   edibility cap-shape cap-surface cap-color bruises     odor gill-attachment  \\\n",
       "0  poisonous         x           s         n       t  pungent               f   \n",
       "1     edible         x           s         y       t   almond               f   \n",
       "2     edible         b           s         w       t    anise               f   \n",
       "\n",
       "  gill-spacing gill-size gill-color  ... stalk-surface-below-ring  \\\n",
       "0            c         n          k  ...                        s   \n",
       "1            c         b          k  ...                        s   \n",
       "2            c         b          n  ...                        s   \n",
       "\n",
       "  stalk-color-above-ring stalk-color-below-ring veil-type veil-color  \\\n",
       "0                      w                      w         p          w   \n",
       "1                      w                      w         p          w   \n",
       "2                      w                      w         p          w   \n",
       "\n",
       "  ring-number ring-type spore-print-color population habitat  \n",
       "0           o         p                 k          s       u  \n",
       "1           o         p                 n          n       g  \n",
       "2           o         p                 n          n       m  \n",
       "\n",
       "[3 rows x 23 columns]"
      ]
     },
     "execution_count": 61,
     "metadata": {},
     "output_type": "execute_result"
    }
   ],
   "source": [
    "mushroom.head(3)"
   ]
  },
  {
   "cell_type": "code",
   "execution_count": 63,
   "id": "9fafd3c9",
   "metadata": {},
   "outputs": [
    {
     "data": {
      "text/html": [
       "<div>\n",
       "<style scoped>\n",
       "    .dataframe tbody tr th:only-of-type {\n",
       "        vertical-align: middle;\n",
       "    }\n",
       "\n",
       "    .dataframe tbody tr th {\n",
       "        vertical-align: top;\n",
       "    }\n",
       "\n",
       "    .dataframe thead th {\n",
       "        text-align: right;\n",
       "    }\n",
       "</style>\n",
       "<table border=\"1\" class=\"dataframe\">\n",
       "  <thead>\n",
       "    <tr style=\"text-align: right;\">\n",
       "      <th>edibility</th>\n",
       "      <th>edible</th>\n",
       "      <th>poisonous</th>\n",
       "      <th>All</th>\n",
       "    </tr>\n",
       "    <tr>\n",
       "      <th>odor</th>\n",
       "      <th></th>\n",
       "      <th></th>\n",
       "      <th></th>\n",
       "    </tr>\n",
       "  </thead>\n",
       "  <tbody>\n",
       "    <tr>\n",
       "      <th>almond</th>\n",
       "      <td>400</td>\n",
       "      <td>0</td>\n",
       "      <td>400</td>\n",
       "    </tr>\n",
       "    <tr>\n",
       "      <th>anise</th>\n",
       "      <td>400</td>\n",
       "      <td>0</td>\n",
       "      <td>400</td>\n",
       "    </tr>\n",
       "    <tr>\n",
       "      <th>creosote</th>\n",
       "      <td>0</td>\n",
       "      <td>192</td>\n",
       "      <td>192</td>\n",
       "    </tr>\n",
       "    <tr>\n",
       "      <th>fishy</th>\n",
       "      <td>0</td>\n",
       "      <td>576</td>\n",
       "      <td>576</td>\n",
       "    </tr>\n",
       "    <tr>\n",
       "      <th>foul</th>\n",
       "      <td>0</td>\n",
       "      <td>2160</td>\n",
       "      <td>2160</td>\n",
       "    </tr>\n",
       "    <tr>\n",
       "      <th>musty</th>\n",
       "      <td>0</td>\n",
       "      <td>36</td>\n",
       "      <td>36</td>\n",
       "    </tr>\n",
       "    <tr>\n",
       "      <th>none</th>\n",
       "      <td>3408</td>\n",
       "      <td>120</td>\n",
       "      <td>3528</td>\n",
       "    </tr>\n",
       "    <tr>\n",
       "      <th>pungent</th>\n",
       "      <td>0</td>\n",
       "      <td>256</td>\n",
       "      <td>256</td>\n",
       "    </tr>\n",
       "    <tr>\n",
       "      <th>spicy</th>\n",
       "      <td>0</td>\n",
       "      <td>576</td>\n",
       "      <td>576</td>\n",
       "    </tr>\n",
       "    <tr>\n",
       "      <th>All</th>\n",
       "      <td>4208</td>\n",
       "      <td>3916</td>\n",
       "      <td>8124</td>\n",
       "    </tr>\n",
       "  </tbody>\n",
       "</table>\n",
       "</div>"
      ],
      "text/plain": [
       "edibility  edible  poisonous   All\n",
       "odor                              \n",
       "almond        400          0   400\n",
       "anise         400          0   400\n",
       "creosote        0        192   192\n",
       "fishy           0        576   576\n",
       "foul            0       2160  2160\n",
       "musty           0         36    36\n",
       "none         3408        120  3528\n",
       "pungent         0        256   256\n",
       "spicy           0        576   576\n",
       "All          4208       3916  8124"
      ]
     },
     "execution_count": 63,
     "metadata": {},
     "output_type": "execute_result"
    }
   ],
   "source": [
    "#Contingency table cross-tabulating 'edibility' and 'odor'\n",
    "#Wich mushroom odors should be avoided. todos menos almond y anise\n",
    "pd.crosstab(mushroom.odor, mushroom.edibility, margins=True)"
   ]
  },
  {
   "cell_type": "code",
   "execution_count": 64,
   "id": "4a72af30",
   "metadata": {},
   "outputs": [
    {
     "data": {
      "text/plain": [
       "0.9659863945578231"
      ]
     },
     "execution_count": 64,
     "metadata": {},
     "output_type": "execute_result"
    }
   ],
   "source": [
    "#Proporcion de odorless mushroom seguros de comer\n",
    "3408/(3408+120)"
   ]
  },
  {
   "cell_type": "code",
   "execution_count": 65,
   "id": "62d8c946",
   "metadata": {},
   "outputs": [
    {
     "data": {
      "text/plain": [
       "0.9659863945578231"
      ]
     },
     "execution_count": 65,
     "metadata": {},
     "output_type": "execute_result"
    }
   ],
   "source": [
    "#Proporcion de odorless mushroom seguros de comer. Sin la tabla\n",
    "mushroom[(mushroom.edibility=='edible') & (mushroom.odor=='none')].shape[0]/mushroom[mushroom.odor=='none'].shape[0]"
   ]
  },
  {
   "cell_type": "code",
   "execution_count": 67,
   "id": "a301407e",
   "metadata": {},
   "outputs": [
    {
     "name": "stdout",
     "output_type": "stream",
     "text": [
      "   Student    Time  value\n",
      "0        1  Before     75\n",
      "1        2  Before     30\n",
      "2        3  Before    100\n",
      "3        4  Before     50\n",
      "4        5  Before     60\n",
      "5        1   After     85\n",
      "6        2   After     50\n",
      "7        3   After    100\n",
      "8        4   After     52\n",
      "9        5   After     65\n"
     ]
    }
   ],
   "source": [
    "#Crear un dataframe manual con datos de tabla\n",
    "values = [[1,75,85], [2,30,50], [3,100,100], [4,50,52], [5,60,65]]\n",
    "df = pd.DataFrame(values, columns=['Student', 'Before', 'After'])\n",
    "                                   \n",
    "#fromat dataframe as required\n",
    "df = pd.melt(df, id_vars=['Student'], var_name=\"Time\", value_vars=['Before', 'After'])\n",
    "print(df)"
   ]
  },
  {
   "cell_type": "code",
   "execution_count": null,
   "id": "35350f1f",
   "metadata": {},
   "outputs": [],
   "source": []
  }
 ],
 "metadata": {
  "kernelspec": {
   "display_name": "Python 3 (ipykernel)",
   "language": "python",
   "name": "python3"
  },
  "language_info": {
   "codemirror_mode": {
    "name": "ipython",
    "version": 3
   },
   "file_extension": ".py",
   "mimetype": "text/x-python",
   "name": "python",
   "nbconvert_exporter": "python",
   "pygments_lexer": "ipython3",
   "version": "3.10.9"
  }
 },
 "nbformat": 4,
 "nbformat_minor": 5
}

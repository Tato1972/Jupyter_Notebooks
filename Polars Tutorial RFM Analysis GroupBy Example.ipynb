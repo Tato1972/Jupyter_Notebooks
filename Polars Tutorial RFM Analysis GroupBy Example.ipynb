{
 "cells": [
  {
   "cell_type": "markdown",
   "id": "151fa3be",
   "metadata": {},
   "source": [
    "## Group By & RFM Analysis\n",
    "#Recently did they make a purchase recently?\n",
    "#Frequency How often do they make a purchase?\n",
    "#Monetary How much do they spend?"
   ]
  },
  {
   "cell_type": "code",
   "execution_count": 1,
   "id": "953860a5",
   "metadata": {},
   "outputs": [],
   "source": [
    "import pandas as pd\n",
    "import polars as pl\n",
    "import numpy as np\n",
    "import pyarrow\n",
    "\n",
    "import matplotlib.pyplot as plt\n",
    "import seaborn as sns\n",
    "\n",
    "df = pl.read_csv('C:/Users/LENOVO/Downloads/2019-Oct.csv')"
   ]
  },
  {
   "cell_type": "code",
   "execution_count": 2,
   "id": "bb313c32",
   "metadata": {},
   "outputs": [
    {
     "data": {
      "text/plain": [
       "(42448764, 9)"
      ]
     },
     "execution_count": 2,
     "metadata": {},
     "output_type": "execute_result"
    }
   ],
   "source": [
    "df.shape"
   ]
  },
  {
   "cell_type": "code",
   "execution_count": 3,
   "id": "8ca54ff2",
   "metadata": {},
   "outputs": [
    {
     "data": {
      "text/html": [
       "<div><style>\n",
       ".dataframe > thead > tr > th,\n",
       ".dataframe > tbody > tr > td {\n",
       "  text-align: right;\n",
       "  white-space: pre-wrap;\n",
       "}\n",
       "</style>\n",
       "<small>shape: (5, 9)</small><table border=\"1\" class=\"dataframe\"><thead><tr><th>event_time</th><th>event_type</th><th>product_id</th><th>category_id</th><th>category_code</th><th>brand</th><th>price</th><th>user_id</th><th>user_session</th></tr><tr><td>str</td><td>str</td><td>i64</td><td>i64</td><td>str</td><td>str</td><td>f64</td><td>i64</td><td>str</td></tr></thead><tbody><tr><td>&quot;2019-10-01 00:…</td><td>&quot;view&quot;</td><td>44600062</td><td>2103807459595387724</td><td>null</td><td>&quot;shiseido&quot;</td><td>35.79</td><td>541312140</td><td>&quot;72d76fde-8bb3-…</td></tr><tr><td>&quot;2019-10-01 00:…</td><td>&quot;view&quot;</td><td>3900821</td><td>2053013552326770905</td><td>&quot;appliances.env…</td><td>&quot;aqua&quot;</td><td>33.2</td><td>554748717</td><td>&quot;9333dfbd-b87a-…</td></tr><tr><td>&quot;2019-10-01 00:…</td><td>&quot;view&quot;</td><td>17200506</td><td>2053013559792632471</td><td>&quot;furniture.livi…</td><td>null</td><td>543.1</td><td>519107250</td><td>&quot;566511c2-e2e3-…</td></tr><tr><td>&quot;2019-10-01 00:…</td><td>&quot;view&quot;</td><td>1307067</td><td>2053013558920217191</td><td>&quot;computers.note…</td><td>&quot;lenovo&quot;</td><td>251.74</td><td>550050854</td><td>&quot;7c90fc70-0e80-…</td></tr><tr><td>&quot;2019-10-01 00:…</td><td>&quot;view&quot;</td><td>1004237</td><td>2053013555631882655</td><td>&quot;electronics.sm…</td><td>&quot;apple&quot;</td><td>1081.98</td><td>535871217</td><td>&quot;c6bd7419-2748-…</td></tr></tbody></table></div>"
      ],
      "text/plain": [
       "shape: (5, 9)\n",
       "┌────────────┬────────────┬───────────┬───────────┬───┬──────────┬─────────┬───────────┬───────────┐\n",
       "│ event_time ┆ event_type ┆ product_i ┆ category_ ┆ … ┆ brand    ┆ price   ┆ user_id   ┆ user_sess │\n",
       "│ ---        ┆ ---        ┆ d         ┆ id        ┆   ┆ ---      ┆ ---     ┆ ---       ┆ ion       │\n",
       "│ str        ┆ str        ┆ ---       ┆ ---       ┆   ┆ str      ┆ f64     ┆ i64       ┆ ---       │\n",
       "│            ┆            ┆ i64       ┆ i64       ┆   ┆          ┆         ┆           ┆ str       │\n",
       "╞════════════╪════════════╪═══════════╪═══════════╪═══╪══════════╪═════════╪═══════════╪═══════════╡\n",
       "│ 2019-10-01 ┆ view       ┆ 44600062  ┆ 210380745 ┆ … ┆ shiseido ┆ 35.79   ┆ 541312140 ┆ 72d76fde- │\n",
       "│ 00:00:00   ┆            ┆           ┆ 959538772 ┆   ┆          ┆         ┆           ┆ 8bb3-4e00 │\n",
       "│ UTC        ┆            ┆           ┆ 4         ┆   ┆          ┆         ┆           ┆ -8c23-a03 │\n",
       "│            ┆            ┆           ┆           ┆   ┆          ┆         ┆           ┆ 2dfed…    │\n",
       "│ 2019-10-01 ┆ view       ┆ 3900821   ┆ 205301355 ┆ … ┆ aqua     ┆ 33.2    ┆ 554748717 ┆ 9333dfbd- │\n",
       "│ 00:00:00   ┆            ┆           ┆ 232677090 ┆   ┆          ┆         ┆           ┆ b87a-4708 │\n",
       "│ UTC        ┆            ┆           ┆ 5         ┆   ┆          ┆         ┆           ┆ -9857-633 │\n",
       "│            ┆            ┆           ┆           ┆   ┆          ┆         ┆           ┆ 6556b…    │\n",
       "│ 2019-10-01 ┆ view       ┆ 17200506  ┆ 205301355 ┆ … ┆ null     ┆ 543.1   ┆ 519107250 ┆ 566511c2- │\n",
       "│ 00:00:01   ┆            ┆           ┆ 979263247 ┆   ┆          ┆         ┆           ┆ e2e3-422b │\n",
       "│ UTC        ┆            ┆           ┆ 1         ┆   ┆          ┆         ┆           ┆ -b695-cf8 │\n",
       "│            ┆            ┆           ┆           ┆   ┆          ┆         ┆           ┆ e6e79…    │\n",
       "│ 2019-10-01 ┆ view       ┆ 1307067   ┆ 205301355 ┆ … ┆ lenovo   ┆ 251.74  ┆ 550050854 ┆ 7c90fc70- │\n",
       "│ 00:00:01   ┆            ┆           ┆ 892021719 ┆   ┆          ┆         ┆           ┆ 0e80-4590 │\n",
       "│ UTC        ┆            ┆           ┆ 1         ┆   ┆          ┆         ┆           ┆ -96f3-13c │\n",
       "│            ┆            ┆           ┆           ┆   ┆          ┆         ┆           ┆ 02c18…    │\n",
       "│ 2019-10-01 ┆ view       ┆ 1004237   ┆ 205301355 ┆ … ┆ apple    ┆ 1081.98 ┆ 535871217 ┆ c6bd7419- │\n",
       "│ 00:00:04   ┆            ┆           ┆ 563188265 ┆   ┆          ┆         ┆           ┆ 2748-4c56 │\n",
       "│ UTC        ┆            ┆           ┆ 5         ┆   ┆          ┆         ┆           ┆ -95b4-8ce │\n",
       "│            ┆            ┆           ┆           ┆   ┆          ┆         ┆           ┆ c9ff8…    │\n",
       "└────────────┴────────────┴───────────┴───────────┴───┴──────────┴─────────┴───────────┴───────────┘"
      ]
     },
     "execution_count": 3,
     "metadata": {},
     "output_type": "execute_result"
    }
   ],
   "source": [
    "df.head()#.to_pandas()"
   ]
  },
  {
   "cell_type": "code",
   "execution_count": 4,
   "id": "dc1fdc86",
   "metadata": {},
   "outputs": [],
   "source": [
    "#Working with dates docs\n",
    "#https://pola-rs.github.io/polars-book/user-guide/howcani/timeseries/parsing_dates_times.html\n",
    "\n",
    "df = df.with_columns(\n",
    "      pl.col(\"event_time\").str.strptime(pl.Datetime, \"%Y-%m-%d %H:%M:%S %Z\")\n",
    ")"
   ]
  },
  {
   "cell_type": "code",
   "execution_count": 5,
   "id": "2a4aa1df",
   "metadata": {},
   "outputs": [
    {
     "data": {
      "text/html": [
       "<div><style>\n",
       ".dataframe > thead > tr > th,\n",
       ".dataframe > tbody > tr > td {\n",
       "  text-align: right;\n",
       "  white-space: pre-wrap;\n",
       "}\n",
       "</style>\n",
       "<small>shape: (3, 9)</small><table border=\"1\" class=\"dataframe\"><thead><tr><th>event_time</th><th>event_type</th><th>product_id</th><th>category_id</th><th>category_code</th><th>brand</th><th>price</th><th>user_id</th><th>user_session</th></tr><tr><td>datetime[μs]</td><td>str</td><td>i64</td><td>i64</td><td>str</td><td>str</td><td>f64</td><td>i64</td><td>str</td></tr></thead><tbody><tr><td>2019-10-01 00:00:00</td><td>&quot;view&quot;</td><td>44600062</td><td>2103807459595387724</td><td>null</td><td>&quot;shiseido&quot;</td><td>35.79</td><td>541312140</td><td>&quot;72d76fde-8bb3-…</td></tr><tr><td>2019-10-01 00:00:00</td><td>&quot;view&quot;</td><td>3900821</td><td>2053013552326770905</td><td>&quot;appliances.env…</td><td>&quot;aqua&quot;</td><td>33.2</td><td>554748717</td><td>&quot;9333dfbd-b87a-…</td></tr><tr><td>2019-10-01 00:00:01</td><td>&quot;view&quot;</td><td>17200506</td><td>2053013559792632471</td><td>&quot;furniture.livi…</td><td>null</td><td>543.1</td><td>519107250</td><td>&quot;566511c2-e2e3-…</td></tr></tbody></table></div>"
      ],
      "text/plain": [
       "shape: (3, 9)\n",
       "┌────────────┬────────────┬────────────┬────────────┬───┬──────────┬───────┬───────────┬───────────┐\n",
       "│ event_time ┆ event_type ┆ product_id ┆ category_i ┆ … ┆ brand    ┆ price ┆ user_id   ┆ user_sess │\n",
       "│ ---        ┆ ---        ┆ ---        ┆ d          ┆   ┆ ---      ┆ ---   ┆ ---       ┆ ion       │\n",
       "│ datetime[μ ┆ str        ┆ i64        ┆ ---        ┆   ┆ str      ┆ f64   ┆ i64       ┆ ---       │\n",
       "│ s]         ┆            ┆            ┆ i64        ┆   ┆          ┆       ┆           ┆ str       │\n",
       "╞════════════╪════════════╪════════════╪════════════╪═══╪══════════╪═══════╪═══════════╪═══════════╡\n",
       "│ 2019-10-01 ┆ view       ┆ 44600062   ┆ 2103807459 ┆ … ┆ shiseido ┆ 35.79 ┆ 541312140 ┆ 72d76fde- │\n",
       "│ 00:00:00   ┆            ┆            ┆ 595387724  ┆   ┆          ┆       ┆           ┆ 8bb3-4e00 │\n",
       "│            ┆            ┆            ┆            ┆   ┆          ┆       ┆           ┆ -8c23-a03 │\n",
       "│            ┆            ┆            ┆            ┆   ┆          ┆       ┆           ┆ 2dfed…    │\n",
       "│ 2019-10-01 ┆ view       ┆ 3900821    ┆ 2053013552 ┆ … ┆ aqua     ┆ 33.2  ┆ 554748717 ┆ 9333dfbd- │\n",
       "│ 00:00:00   ┆            ┆            ┆ 326770905  ┆   ┆          ┆       ┆           ┆ b87a-4708 │\n",
       "│            ┆            ┆            ┆            ┆   ┆          ┆       ┆           ┆ -9857-633 │\n",
       "│            ┆            ┆            ┆            ┆   ┆          ┆       ┆           ┆ 6556b…    │\n",
       "│ 2019-10-01 ┆ view       ┆ 17200506   ┆ 2053013559 ┆ … ┆ null     ┆ 543.1 ┆ 519107250 ┆ 566511c2- │\n",
       "│ 00:00:01   ┆            ┆            ┆ 792632471  ┆   ┆          ┆       ┆           ┆ e2e3-422b │\n",
       "│            ┆            ┆            ┆            ┆   ┆          ┆       ┆           ┆ -b695-cf8 │\n",
       "│            ┆            ┆            ┆            ┆   ┆          ┆       ┆           ┆ e6e79…    │\n",
       "└────────────┴────────────┴────────────┴────────────┴───┴──────────┴───────┴───────────┴───────────┘"
      ]
     },
     "execution_count": 5,
     "metadata": {},
     "output_type": "execute_result"
    }
   ],
   "source": [
    "df.head(3) "
   ]
  },
  {
   "cell_type": "code",
   "execution_count": 6,
   "id": "794c182a",
   "metadata": {},
   "outputs": [
    {
     "data": {
      "text/html": [
       "<div>\n",
       "<style scoped>\n",
       "    .dataframe tbody tr th:only-of-type {\n",
       "        vertical-align: middle;\n",
       "    }\n",
       "\n",
       "    .dataframe tbody tr th {\n",
       "        vertical-align: top;\n",
       "    }\n",
       "\n",
       "    .dataframe thead th {\n",
       "        text-align: right;\n",
       "    }\n",
       "</style>\n",
       "<table border=\"1\" class=\"dataframe\">\n",
       "  <thead>\n",
       "    <tr style=\"text-align: right;\">\n",
       "      <th></th>\n",
       "      <th>event_time</th>\n",
       "      <th>event_type</th>\n",
       "      <th>product_id</th>\n",
       "      <th>category_id</th>\n",
       "      <th>category_code</th>\n",
       "      <th>brand</th>\n",
       "      <th>price</th>\n",
       "      <th>user_id</th>\n",
       "      <th>user_session</th>\n",
       "    </tr>\n",
       "  </thead>\n",
       "  <tbody>\n",
       "    <tr>\n",
       "      <th>66</th>\n",
       "      <td>2019-10-05 15:09:27</td>\n",
       "      <td>view</td>\n",
       "      <td>17600057</td>\n",
       "      <td>2053013558895051365</td>\n",
       "      <td>None</td>\n",
       "      <td>payot</td>\n",
       "      <td>43.98</td>\n",
       "      <td>541312140</td>\n",
       "      <td>23fb14a1-9fd3-4e35-a729-bfaa64f4e875</td>\n",
       "    </tr>\n",
       "    <tr>\n",
       "      <th>105</th>\n",
       "      <td>2019-10-13 14:58:30</td>\n",
       "      <td>view</td>\n",
       "      <td>48200093</td>\n",
       "      <td>2146660887002349890</td>\n",
       "      <td>apparel.dress</td>\n",
       "      <td>mltl</td>\n",
       "      <td>38.35</td>\n",
       "      <td>541312140</td>\n",
       "      <td>e11fc6dc-1808-4f8e-8923-5b2ce3238b3c</td>\n",
       "    </tr>\n",
       "    <tr>\n",
       "      <th>62</th>\n",
       "      <td>2019-10-05 15:08:20</td>\n",
       "      <td>view</td>\n",
       "      <td>19600071</td>\n",
       "      <td>2053013558836331105</td>\n",
       "      <td>None</td>\n",
       "      <td>payot</td>\n",
       "      <td>29.76</td>\n",
       "      <td>541312140</td>\n",
       "      <td>23fb14a1-9fd3-4e35-a729-bfaa64f4e875</td>\n",
       "    </tr>\n",
       "    <tr>\n",
       "      <th>85</th>\n",
       "      <td>2019-10-06 02:34:33</td>\n",
       "      <td>view</td>\n",
       "      <td>5600342</td>\n",
       "      <td>2053013562913194819</td>\n",
       "      <td>None</td>\n",
       "      <td>braun</td>\n",
       "      <td>64.33</td>\n",
       "      <td>541312140</td>\n",
       "      <td>5bd3612b-3222-42d5-9dc8-ba54aeccbfaa</td>\n",
       "    </tr>\n",
       "    <tr>\n",
       "      <th>89</th>\n",
       "      <td>2019-10-06 02:39:12</td>\n",
       "      <td>view</td>\n",
       "      <td>5300032</td>\n",
       "      <td>2053013563173241677</td>\n",
       "      <td>None</td>\n",
       "      <td>rowenta</td>\n",
       "      <td>66.35</td>\n",
       "      <td>541312140</td>\n",
       "      <td>5bd3612b-3222-42d5-9dc8-ba54aeccbfaa</td>\n",
       "    </tr>\n",
       "  </tbody>\n",
       "</table>\n",
       "</div>"
      ],
      "text/plain": [
       "             event_time event_type  product_id          category_id  \\\n",
       "66  2019-10-05 15:09:27       view    17600057  2053013558895051365   \n",
       "105 2019-10-13 14:58:30       view    48200093  2146660887002349890   \n",
       "62  2019-10-05 15:08:20       view    19600071  2053013558836331105   \n",
       "85  2019-10-06 02:34:33       view     5600342  2053013562913194819   \n",
       "89  2019-10-06 02:39:12       view     5300032  2053013563173241677   \n",
       "\n",
       "     category_code    brand  price    user_id  \\\n",
       "66            None    payot  43.98  541312140   \n",
       "105  apparel.dress     mltl  38.35  541312140   \n",
       "62            None    payot  29.76  541312140   \n",
       "85            None    braun  64.33  541312140   \n",
       "89            None  rowenta  66.35  541312140   \n",
       "\n",
       "                             user_session  \n",
       "66   23fb14a1-9fd3-4e35-a729-bfaa64f4e875  \n",
       "105  e11fc6dc-1808-4f8e-8923-5b2ce3238b3c  \n",
       "62   23fb14a1-9fd3-4e35-a729-bfaa64f4e875  \n",
       "85   5bd3612b-3222-42d5-9dc8-ba54aeccbfaa  \n",
       "89   5bd3612b-3222-42d5-9dc8-ba54aeccbfaa  "
      ]
     },
     "execution_count": 6,
     "metadata": {},
     "output_type": "execute_result"
    }
   ],
   "source": [
    "#Useful step to understand the data. Look at one user-id\n",
    "df.filter(pl.col('user_id') == 541312140).to_pandas().sample(5)"
   ]
  },
  {
   "cell_type": "markdown",
   "id": "f10ee0c0",
   "metadata": {},
   "source": [
    "## 1.Keep rows with purchases only"
   ]
  },
  {
   "cell_type": "code",
   "execution_count": 7,
   "id": "01fccf1f",
   "metadata": {},
   "outputs": [],
   "source": [
    "df_purchases = df.filter(pl.col('event_type') == 'purchase')"
   ]
  },
  {
   "cell_type": "code",
   "execution_count": 8,
   "id": "cc0d5bee",
   "metadata": {},
   "outputs": [
    {
     "data": {
      "text/plain": [
       "(742849, 9)"
      ]
     },
     "execution_count": 8,
     "metadata": {},
     "output_type": "execute_result"
    }
   ],
   "source": [
    "df_purchases.shape"
   ]
  },
  {
   "cell_type": "markdown",
   "id": "7ff507e5",
   "metadata": {},
   "source": [
    "## 2.Let's compute RFM"
   ]
  },
  {
   "cell_type": "code",
   "execution_count": 9,
   "id": "b2ad7891",
   "metadata": {},
   "outputs": [],
   "source": [
    "#select unique values\n",
    "df_purchases = df_purchases.select(['event_time','user_id','price']).unique()"
   ]
  },
  {
   "cell_type": "code",
   "execution_count": 10,
   "id": "d61379f8",
   "metadata": {},
   "outputs": [
    {
     "data": {
      "text/plain": [
       "(742773, 3)"
      ]
     },
     "execution_count": 10,
     "metadata": {},
     "output_type": "execute_result"
    }
   ],
   "source": [
    "df_purchases.shape"
   ]
  },
  {
   "cell_type": "code",
   "execution_count": 11,
   "id": "b679a770",
   "metadata": {},
   "outputs": [
    {
     "data": {
      "text/html": [
       "<div><style>\n",
       ".dataframe > thead > tr > th,\n",
       ".dataframe > tbody > tr > td {\n",
       "  text-align: right;\n",
       "  white-space: pre-wrap;\n",
       "}\n",
       "</style>\n",
       "<small>shape: (5, 3)</small><table border=\"1\" class=\"dataframe\"><thead><tr><th>event_time</th><th>user_id</th><th>price</th></tr><tr><td>datetime[μs]</td><td>i64</td><td>f64</td></tr></thead><tbody><tr><td>2019-10-01 02:19:12</td><td>516178643</td><td>391.26</td></tr><tr><td>2019-10-01 02:20:11</td><td>517129864</td><td>189.91</td></tr><tr><td>2019-10-01 02:20:28</td><td>554101070</td><td>91.12</td></tr><tr><td>2019-10-01 02:21:07</td><td>516815266</td><td>62.52</td></tr><tr><td>2019-10-01 02:21:59</td><td>514127317</td><td>3.37</td></tr></tbody></table></div>"
      ],
      "text/plain": [
       "shape: (5, 3)\n",
       "┌─────────────────────┬───────────┬────────┐\n",
       "│ event_time          ┆ user_id   ┆ price  │\n",
       "│ ---                 ┆ ---       ┆ ---    │\n",
       "│ datetime[μs]        ┆ i64       ┆ f64    │\n",
       "╞═════════════════════╪═══════════╪════════╡\n",
       "│ 2019-10-01 02:19:12 ┆ 516178643 ┆ 391.26 │\n",
       "│ 2019-10-01 02:20:11 ┆ 517129864 ┆ 189.91 │\n",
       "│ 2019-10-01 02:20:28 ┆ 554101070 ┆ 91.12  │\n",
       "│ 2019-10-01 02:21:07 ┆ 516815266 ┆ 62.52  │\n",
       "│ 2019-10-01 02:21:59 ┆ 514127317 ┆ 3.37   │\n",
       "└─────────────────────┴───────────┴────────┘"
      ]
     },
     "execution_count": 11,
     "metadata": {},
     "output_type": "execute_result"
    }
   ],
   "source": [
    "df_purchases.head()"
   ]
  },
  {
   "cell_type": "markdown",
   "id": "57d7d261",
   "metadata": {},
   "source": [
    "#Compute time difference"
   ]
  },
  {
   "cell_type": "code",
   "execution_count": 12,
   "id": "05af47e3",
   "metadata": {},
   "outputs": [],
   "source": [
    "from datetime import datetime\n",
    "anchor_date = datetime(2019, 11, 30)"
   ]
  },
  {
   "cell_type": "code",
   "execution_count": 13,
   "id": "6d83a3ff",
   "metadata": {},
   "outputs": [],
   "source": [
    "df_purchases = df_purchases.with_columns(\n",
    "     (anchor_date - pl.col(\"event_time\")).alias(\"date_diff\") / (1e6 * 3600 *24)\n",
    ")"
   ]
  },
  {
   "cell_type": "code",
   "execution_count": 14,
   "id": "28d509ec",
   "metadata": {},
   "outputs": [
    {
     "data": {
      "text/html": [
       "<div><style>\n",
       ".dataframe > thead > tr > th,\n",
       ".dataframe > tbody > tr > td {\n",
       "  text-align: right;\n",
       "  white-space: pre-wrap;\n",
       "}\n",
       "</style>\n",
       "<small>shape: (5, 4)</small><table border=\"1\" class=\"dataframe\"><thead><tr><th>event_time</th><th>user_id</th><th>price</th><th>date_diff</th></tr><tr><td>datetime[μs]</td><td>i64</td><td>f64</td><td>f64</td></tr></thead><tbody><tr><td>2019-10-01 02:19:12</td><td>516178643</td><td>391.26</td><td>59.903333</td></tr><tr><td>2019-10-01 02:20:11</td><td>517129864</td><td>189.91</td><td>59.90265</td></tr><tr><td>2019-10-01 02:20:28</td><td>554101070</td><td>91.12</td><td>59.902454</td></tr><tr><td>2019-10-01 02:21:07</td><td>516815266</td><td>62.52</td><td>59.902002</td></tr><tr><td>2019-10-01 02:21:59</td><td>514127317</td><td>3.37</td><td>59.9014</td></tr></tbody></table></div>"
      ],
      "text/plain": [
       "shape: (5, 4)\n",
       "┌─────────────────────┬───────────┬────────┬───────────┐\n",
       "│ event_time          ┆ user_id   ┆ price  ┆ date_diff │\n",
       "│ ---                 ┆ ---       ┆ ---    ┆ ---       │\n",
       "│ datetime[μs]        ┆ i64       ┆ f64    ┆ f64       │\n",
       "╞═════════════════════╪═══════════╪════════╪═══════════╡\n",
       "│ 2019-10-01 02:19:12 ┆ 516178643 ┆ 391.26 ┆ 59.903333 │\n",
       "│ 2019-10-01 02:20:11 ┆ 517129864 ┆ 189.91 ┆ 59.90265  │\n",
       "│ 2019-10-01 02:20:28 ┆ 554101070 ┆ 91.12  ┆ 59.902454 │\n",
       "│ 2019-10-01 02:21:07 ┆ 516815266 ┆ 62.52  ┆ 59.902002 │\n",
       "│ 2019-10-01 02:21:59 ┆ 514127317 ┆ 3.37   ┆ 59.9014   │\n",
       "└─────────────────────┴───────────┴────────┴───────────┘"
      ]
     },
     "execution_count": 14,
     "metadata": {},
     "output_type": "execute_result"
    }
   ],
   "source": [
    "df_purchases.head()"
   ]
  },
  {
   "cell_type": "code",
   "execution_count": 18,
   "id": "66f33c85",
   "metadata": {},
   "outputs": [
    {
     "name": "stdout",
     "output_type": "stream",
     "text": [
      "60.3 ms ± 4.14 ms per loop (mean ± std. dev. of 7 runs, 10 loops each)\n"
     ]
    }
   ],
   "source": [
    "%%timeit\n",
    "df_agg = df_purchases.group_by('user_id').agg([\n",
    "    pl.col('date_diff').min().alias('recency'),\n",
    "    pl.count().alias(\"frequency\"),\n",
    "    pl.col('price').sum().alias('monetary')\n",
    "])"
   ]
  },
  {
   "cell_type": "code",
   "execution_count": 19,
   "id": "c510489a",
   "metadata": {},
   "outputs": [
    {
     "data": {
      "text/plain": [
       "(347118, 4)"
      ]
     },
     "execution_count": 19,
     "metadata": {},
     "output_type": "execute_result"
    }
   ],
   "source": [
    "df_agg.shape"
   ]
  },
  {
   "cell_type": "code",
   "execution_count": 20,
   "id": "c7ede917",
   "metadata": {},
   "outputs": [
    {
     "data": {
      "text/html": [
       "<div><style>\n",
       ".dataframe > thead > tr > th,\n",
       ".dataframe > tbody > tr > td {\n",
       "  text-align: right;\n",
       "  white-space: pre-wrap;\n",
       "}\n",
       "</style>\n",
       "<small>shape: (5, 4)</small><table border=\"1\" class=\"dataframe\"><thead><tr><th>user_id</th><th>recency</th><th>frequency</th><th>monetary</th></tr><tr><td>i64</td><td>f64</td><td>u32</td><td>f64</td></tr></thead><tbody><tr><td>516074584</td><td>39.437593</td><td>2</td><td>192.7</td></tr><tr><td>548225520</td><td>29.447303</td><td>5</td><td>1231.63</td></tr><tr><td>531781576</td><td>40.792917</td><td>1</td><td>154.18</td></tr><tr><td>559572080</td><td>30.564294</td><td>2</td><td>71.67</td></tr><tr><td>518537040</td><td>42.257546</td><td>2</td><td>499.72</td></tr></tbody></table></div>"
      ],
      "text/plain": [
       "shape: (5, 4)\n",
       "┌───────────┬───────────┬───────────┬──────────┐\n",
       "│ user_id   ┆ recency   ┆ frequency ┆ monetary │\n",
       "│ ---       ┆ ---       ┆ ---       ┆ ---      │\n",
       "│ i64       ┆ f64       ┆ u32       ┆ f64      │\n",
       "╞═══════════╪═══════════╪═══════════╪══════════╡\n",
       "│ 516074584 ┆ 39.437593 ┆ 2         ┆ 192.7    │\n",
       "│ 548225520 ┆ 29.447303 ┆ 5         ┆ 1231.63  │\n",
       "│ 531781576 ┆ 40.792917 ┆ 1         ┆ 154.18   │\n",
       "│ 559572080 ┆ 30.564294 ┆ 2         ┆ 71.67    │\n",
       "│ 518537040 ┆ 42.257546 ┆ 2         ┆ 499.72   │\n",
       "└───────────┴───────────┴───────────┴──────────┘"
      ]
     },
     "execution_count": 20,
     "metadata": {},
     "output_type": "execute_result"
    }
   ],
   "source": [
    "df_agg.head()"
   ]
  },
  {
   "cell_type": "markdown",
   "id": "95f0a8db",
   "metadata": {},
   "source": [
    "## 3.Convert to pandas for analysis and plotting"
   ]
  },
  {
   "cell_type": "code",
   "execution_count": 21,
   "id": "b231e9e9",
   "metadata": {},
   "outputs": [],
   "source": [
    "df_agg = df_agg.to_pandas()"
   ]
  },
  {
   "cell_type": "code",
   "execution_count": 23,
   "id": "dafa226e",
   "metadata": {},
   "outputs": [
    {
     "data": {
      "text/html": [
       "<div>\n",
       "<style scoped>\n",
       "    .dataframe tbody tr th:only-of-type {\n",
       "        vertical-align: middle;\n",
       "    }\n",
       "\n",
       "    .dataframe tbody tr th {\n",
       "        vertical-align: top;\n",
       "    }\n",
       "\n",
       "    .dataframe thead th {\n",
       "        text-align: right;\n",
       "    }\n",
       "</style>\n",
       "<table border=\"1\" class=\"dataframe\">\n",
       "  <thead>\n",
       "    <tr style=\"text-align: right;\">\n",
       "      <th></th>\n",
       "      <th>recency</th>\n",
       "      <th>frequency</th>\n",
       "      <th>monetary</th>\n",
       "    </tr>\n",
       "  </thead>\n",
       "  <tbody>\n",
       "    <tr>\n",
       "      <th>0.0</th>\n",
       "      <td>29.000509</td>\n",
       "      <td>1.0</td>\n",
       "      <td>0.880</td>\n",
       "    </tr>\n",
       "    <tr>\n",
       "      <th>0.1</th>\n",
       "      <td>31.583488</td>\n",
       "      <td>1.0</td>\n",
       "      <td>42.990</td>\n",
       "    </tr>\n",
       "    <tr>\n",
       "      <th>0.2</th>\n",
       "      <td>34.398789</td>\n",
       "      <td>1.0</td>\n",
       "      <td>82.574</td>\n",
       "    </tr>\n",
       "    <tr>\n",
       "      <th>0.3</th>\n",
       "      <td>37.014054</td>\n",
       "      <td>1.0</td>\n",
       "      <td>131.020</td>\n",
       "    </tr>\n",
       "    <tr>\n",
       "      <th>0.4</th>\n",
       "      <td>39.733875</td>\n",
       "      <td>1.0</td>\n",
       "      <td>174.310</td>\n",
       "    </tr>\n",
       "    <tr>\n",
       "      <th>0.5</th>\n",
       "      <td>42.679005</td>\n",
       "      <td>1.0</td>\n",
       "      <td>246.520</td>\n",
       "    </tr>\n",
       "    <tr>\n",
       "      <th>0.6</th>\n",
       "      <td>45.592382</td>\n",
       "      <td>1.0</td>\n",
       "      <td>331.972</td>\n",
       "    </tr>\n",
       "    <tr>\n",
       "      <th>0.7</th>\n",
       "      <td>48.523569</td>\n",
       "      <td>2.0</td>\n",
       "      <td>483.900</td>\n",
       "    </tr>\n",
       "    <tr>\n",
       "      <th>0.8</th>\n",
       "      <td>51.798266</td>\n",
       "      <td>2.0</td>\n",
       "      <td>766.760</td>\n",
       "    </tr>\n",
       "    <tr>\n",
       "      <th>0.9</th>\n",
       "      <td>55.703633</td>\n",
       "      <td>4.0</td>\n",
       "      <td>1418.050</td>\n",
       "    </tr>\n",
       "    <tr>\n",
       "      <th>1.0</th>\n",
       "      <td>59.995810</td>\n",
       "      <td>321.0</td>\n",
       "      <td>265569.520</td>\n",
       "    </tr>\n",
       "  </tbody>\n",
       "</table>\n",
       "</div>"
      ],
      "text/plain": [
       "       recency  frequency    monetary\n",
       "0.0  29.000509        1.0       0.880\n",
       "0.1  31.583488        1.0      42.990\n",
       "0.2  34.398789        1.0      82.574\n",
       "0.3  37.014054        1.0     131.020\n",
       "0.4  39.733875        1.0     174.310\n",
       "0.5  42.679005        1.0     246.520\n",
       "0.6  45.592382        1.0     331.972\n",
       "0.7  48.523569        2.0     483.900\n",
       "0.8  51.798266        2.0     766.760\n",
       "0.9  55.703633        4.0    1418.050\n",
       "1.0  59.995810      321.0  265569.520"
      ]
     },
     "execution_count": 23,
     "metadata": {},
     "output_type": "execute_result"
    }
   ],
   "source": [
    "breaks = np.arange(0, 1.1, 0.1)\n",
    "num_vars = ['recency','frequency','monetary']\n",
    "df_agg[num_vars].quantile(breaks)"
   ]
  },
  {
   "cell_type": "code",
   "execution_count": null,
   "id": "a1c02f5e",
   "metadata": {},
   "outputs": [],
   "source": []
  }
 ],
 "metadata": {
  "kernelspec": {
   "display_name": "Python 3 (ipykernel)",
   "language": "python",
   "name": "python3"
  },
  "language_info": {
   "codemirror_mode": {
    "name": "ipython",
    "version": 3
   },
   "file_extension": ".py",
   "mimetype": "text/x-python",
   "name": "python",
   "nbconvert_exporter": "python",
   "pygments_lexer": "ipython3",
   "version": "3.11.4"
  }
 },
 "nbformat": 4,
 "nbformat_minor": 5
}

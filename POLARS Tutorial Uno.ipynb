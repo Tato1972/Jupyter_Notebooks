{
 "cells": [
  {
   "cell_type": "code",
   "execution_count": 1,
   "id": "7d1ab5a4",
   "metadata": {},
   "outputs": [],
   "source": [
    "import polars as pl\n",
    "import pandas as pd\n",
    "import numpy as np\n",
    "import pyarrow\n",
    "\n",
    "import matplotlib.pyplot as plt\n",
    "import seaborn as sns"
   ]
  },
  {
   "cell_type": "code",
   "execution_count": 2,
   "id": "daf681d5",
   "metadata": {},
   "outputs": [],
   "source": [
    "# Download Dataset or run in a kaggle notebook\n",
    "# https://www.kaggle.com/datasets/mkechinov/ecommerce-behavior-data-from-multi-category-store"
   ]
  },
  {
   "cell_type": "markdown",
   "id": "e4ad8887",
   "metadata": {},
   "source": [
    "Read 5GB CSV file"
   ]
  },
  {
   "cell_type": "code",
   "execution_count": 3,
   "id": "65ffecbc",
   "metadata": {},
   "outputs": [],
   "source": [
    "df = pl.read_csv('C:/Users/LENOVO/Downloads/2019-Oct.csv')"
   ]
  },
  {
   "cell_type": "markdown",
   "id": "b6a13ef2",
   "metadata": {},
   "source": [
    "Basic operations"
   ]
  },
  {
   "cell_type": "code",
   "execution_count": 4,
   "id": "04466623",
   "metadata": {},
   "outputs": [
    {
     "data": {
      "text/plain": [
       "(42448764, 9)"
      ]
     },
     "execution_count": 4,
     "metadata": {},
     "output_type": "execute_result"
    }
   ],
   "source": [
    "df.shape"
   ]
  },
  {
   "cell_type": "markdown",
   "id": "832e4415",
   "metadata": {},
   "source": [
    "Print options"
   ]
  },
  {
   "cell_type": "code",
   "execution_count": 5,
   "id": "237f6348",
   "metadata": {},
   "outputs": [
    {
     "data": {
      "text/html": [
       "<div><style>\n",
       ".dataframe > thead > tr > th,\n",
       ".dataframe > tbody > tr > td {\n",
       "  text-align: right;\n",
       "  white-space: pre-wrap;\n",
       "}\n",
       "</style>\n",
       "<small>shape: (5, 9)</small><table border=\"1\" class=\"dataframe\"><thead><tr><th>event_time</th><th>event_type</th><th>product_id</th><th>category_id</th><th>category_code</th><th>brand</th><th>price</th><th>user_id</th><th>user_session</th></tr><tr><td>str</td><td>str</td><td>i64</td><td>i64</td><td>str</td><td>str</td><td>f64</td><td>i64</td><td>str</td></tr></thead><tbody><tr><td>&quot;2019-10-01 00:…</td><td>&quot;view&quot;</td><td>44600062</td><td>2103807459595387724</td><td>null</td><td>&quot;shiseido&quot;</td><td>35.79</td><td>541312140</td><td>&quot;72d76fde-8bb3-…</td></tr><tr><td>&quot;2019-10-01 00:…</td><td>&quot;view&quot;</td><td>3900821</td><td>2053013552326770905</td><td>&quot;appliances.env…</td><td>&quot;aqua&quot;</td><td>33.2</td><td>554748717</td><td>&quot;9333dfbd-b87a-…</td></tr><tr><td>&quot;2019-10-01 00:…</td><td>&quot;view&quot;</td><td>17200506</td><td>2053013559792632471</td><td>&quot;furniture.livi…</td><td>null</td><td>543.1</td><td>519107250</td><td>&quot;566511c2-e2e3-…</td></tr><tr><td>&quot;2019-10-01 00:…</td><td>&quot;view&quot;</td><td>1307067</td><td>2053013558920217191</td><td>&quot;computers.note…</td><td>&quot;lenovo&quot;</td><td>251.74</td><td>550050854</td><td>&quot;7c90fc70-0e80-…</td></tr><tr><td>&quot;2019-10-01 00:…</td><td>&quot;view&quot;</td><td>1004237</td><td>2053013555631882655</td><td>&quot;electronics.sm…</td><td>&quot;apple&quot;</td><td>1081.98</td><td>535871217</td><td>&quot;c6bd7419-2748-…</td></tr></tbody></table></div>"
      ],
      "text/plain": [
       "shape: (5, 9)\n",
       "┌────────────┬────────────┬───────────┬───────────┬───┬──────────┬─────────┬───────────┬───────────┐\n",
       "│ event_time ┆ event_type ┆ product_i ┆ category_ ┆ … ┆ brand    ┆ price   ┆ user_id   ┆ user_sess │\n",
       "│ ---        ┆ ---        ┆ d         ┆ id        ┆   ┆ ---      ┆ ---     ┆ ---       ┆ ion       │\n",
       "│ str        ┆ str        ┆ ---       ┆ ---       ┆   ┆ str      ┆ f64     ┆ i64       ┆ ---       │\n",
       "│            ┆            ┆ i64       ┆ i64       ┆   ┆          ┆         ┆           ┆ str       │\n",
       "╞════════════╪════════════╪═══════════╪═══════════╪═══╪══════════╪═════════╪═══════════╪═══════════╡\n",
       "│ 2019-10-01 ┆ view       ┆ 44600062  ┆ 210380745 ┆ … ┆ shiseido ┆ 35.79   ┆ 541312140 ┆ 72d76fde- │\n",
       "│ 00:00:00   ┆            ┆           ┆ 959538772 ┆   ┆          ┆         ┆           ┆ 8bb3-4e00 │\n",
       "│ UTC        ┆            ┆           ┆ 4         ┆   ┆          ┆         ┆           ┆ -8c23-a03 │\n",
       "│            ┆            ┆           ┆           ┆   ┆          ┆         ┆           ┆ 2dfed…    │\n",
       "│ 2019-10-01 ┆ view       ┆ 3900821   ┆ 205301355 ┆ … ┆ aqua     ┆ 33.2    ┆ 554748717 ┆ 9333dfbd- │\n",
       "│ 00:00:00   ┆            ┆           ┆ 232677090 ┆   ┆          ┆         ┆           ┆ b87a-4708 │\n",
       "│ UTC        ┆            ┆           ┆ 5         ┆   ┆          ┆         ┆           ┆ -9857-633 │\n",
       "│            ┆            ┆           ┆           ┆   ┆          ┆         ┆           ┆ 6556b…    │\n",
       "│ 2019-10-01 ┆ view       ┆ 17200506  ┆ 205301355 ┆ … ┆ null     ┆ 543.1   ┆ 519107250 ┆ 566511c2- │\n",
       "│ 00:00:01   ┆            ┆           ┆ 979263247 ┆   ┆          ┆         ┆           ┆ e2e3-422b │\n",
       "│ UTC        ┆            ┆           ┆ 1         ┆   ┆          ┆         ┆           ┆ -b695-cf8 │\n",
       "│            ┆            ┆           ┆           ┆   ┆          ┆         ┆           ┆ e6e79…    │\n",
       "│ 2019-10-01 ┆ view       ┆ 1307067   ┆ 205301355 ┆ … ┆ lenovo   ┆ 251.74  ┆ 550050854 ┆ 7c90fc70- │\n",
       "│ 00:00:01   ┆            ┆           ┆ 892021719 ┆   ┆          ┆         ┆           ┆ 0e80-4590 │\n",
       "│ UTC        ┆            ┆           ┆ 1         ┆   ┆          ┆         ┆           ┆ -96f3-13c │\n",
       "│            ┆            ┆           ┆           ┆   ┆          ┆         ┆           ┆ 02c18…    │\n",
       "│ 2019-10-01 ┆ view       ┆ 1004237   ┆ 205301355 ┆ … ┆ apple    ┆ 1081.98 ┆ 535871217 ┆ c6bd7419- │\n",
       "│ 00:00:04   ┆            ┆           ┆ 563188265 ┆   ┆          ┆         ┆           ┆ 2748-4c56 │\n",
       "│ UTC        ┆            ┆           ┆ 5         ┆   ┆          ┆         ┆           ┆ -95b4-8ce │\n",
       "│            ┆            ┆           ┆           ┆   ┆          ┆         ┆           ┆ c9ff8…    │\n",
       "└────────────┴────────────┴───────────┴───────────┴───┴──────────┴─────────┴───────────┴───────────┘"
      ]
     },
     "execution_count": 5,
     "metadata": {},
     "output_type": "execute_result"
    }
   ],
   "source": [
    "df.head()"
   ]
  },
  {
   "cell_type": "code",
   "execution_count": 6,
   "id": "df6f73c1",
   "metadata": {},
   "outputs": [
    {
     "name": "stdout",
     "output_type": "stream",
     "text": [
      "shape: (2, 9)\n",
      "┌────────────┬────────────┬────────────┬────────────┬───┬──────────┬───────┬───────────┬───────────┐\n",
      "│ event_time ┆ event_type ┆ product_id ┆ category_i ┆ … ┆ brand    ┆ price ┆ user_id   ┆ user_sess │\n",
      "│ ---        ┆ ---        ┆ ---        ┆ d          ┆   ┆ ---      ┆ ---   ┆ ---       ┆ ion       │\n",
      "│ str        ┆ str        ┆ i64        ┆ ---        ┆   ┆ str      ┆ f64   ┆ i64       ┆ ---       │\n",
      "│            ┆            ┆            ┆ i64        ┆   ┆          ┆       ┆           ┆ str       │\n",
      "╞════════════╪════════════╪════════════╪════════════╪═══╪══════════╪═══════╪═══════════╪═══════════╡\n",
      "│ 2019-10-01 ┆ view       ┆ 44600062   ┆ 2103807459 ┆ … ┆ shiseido ┆ 35.79 ┆ 541312140 ┆ 72d76fde- │\n",
      "│ 00:00:00   ┆            ┆            ┆ 595387724  ┆   ┆          ┆       ┆           ┆ 8bb3-4e00 │\n",
      "│ UTC        ┆            ┆            ┆            ┆   ┆          ┆       ┆           ┆ -8c23-a03 │\n",
      "│            ┆            ┆            ┆            ┆   ┆          ┆       ┆           ┆ 2dfed…    │\n",
      "│ 2019-10-01 ┆ view       ┆ 3900821    ┆ 2053013552 ┆ … ┆ aqua     ┆ 33.2  ┆ 554748717 ┆ 9333dfbd- │\n",
      "│ 00:00:00   ┆            ┆            ┆ 326770905  ┆   ┆          ┆       ┆           ┆ b87a-4708 │\n",
      "│ UTC        ┆            ┆            ┆            ┆   ┆          ┆       ┆           ┆ -9857-633 │\n",
      "│            ┆            ┆            ┆            ┆   ┆          ┆       ┆           ┆ 6556b…    │\n",
      "└────────────┴────────────┴────────────┴────────────┴───┴──────────┴───────┴───────────┴───────────┘\n"
     ]
    }
   ],
   "source": [
    "print(df.head(2))"
   ]
  },
  {
   "cell_type": "code",
   "execution_count": 7,
   "id": "d51e3995",
   "metadata": {},
   "outputs": [
    {
     "data": {
      "text/html": [
       "<div>\n",
       "<style scoped>\n",
       "    .dataframe tbody tr th:only-of-type {\n",
       "        vertical-align: middle;\n",
       "    }\n",
       "\n",
       "    .dataframe tbody tr th {\n",
       "        vertical-align: top;\n",
       "    }\n",
       "\n",
       "    .dataframe thead th {\n",
       "        text-align: right;\n",
       "    }\n",
       "</style>\n",
       "<table border=\"1\" class=\"dataframe\">\n",
       "  <thead>\n",
       "    <tr style=\"text-align: right;\">\n",
       "      <th></th>\n",
       "      <th>event_time</th>\n",
       "      <th>event_type</th>\n",
       "      <th>product_id</th>\n",
       "      <th>category_id</th>\n",
       "      <th>category_code</th>\n",
       "      <th>brand</th>\n",
       "      <th>price</th>\n",
       "      <th>user_id</th>\n",
       "      <th>user_session</th>\n",
       "    </tr>\n",
       "  </thead>\n",
       "  <tbody>\n",
       "    <tr>\n",
       "      <th>0</th>\n",
       "      <td>2019-10-01 00:00:00 UTC</td>\n",
       "      <td>view</td>\n",
       "      <td>44600062</td>\n",
       "      <td>2103807459595387724</td>\n",
       "      <td>None</td>\n",
       "      <td>shiseido</td>\n",
       "      <td>35.79</td>\n",
       "      <td>541312140</td>\n",
       "      <td>72d76fde-8bb3-4e00-8c23-a032dfed738c</td>\n",
       "    </tr>\n",
       "    <tr>\n",
       "      <th>1</th>\n",
       "      <td>2019-10-01 00:00:00 UTC</td>\n",
       "      <td>view</td>\n",
       "      <td>3900821</td>\n",
       "      <td>2053013552326770905</td>\n",
       "      <td>appliances.environment.water_heater</td>\n",
       "      <td>aqua</td>\n",
       "      <td>33.20</td>\n",
       "      <td>554748717</td>\n",
       "      <td>9333dfbd-b87a-4708-9857-6336556b0fcc</td>\n",
       "    </tr>\n",
       "    <tr>\n",
       "      <th>2</th>\n",
       "      <td>2019-10-01 00:00:01 UTC</td>\n",
       "      <td>view</td>\n",
       "      <td>17200506</td>\n",
       "      <td>2053013559792632471</td>\n",
       "      <td>furniture.living_room.sofa</td>\n",
       "      <td>None</td>\n",
       "      <td>543.10</td>\n",
       "      <td>519107250</td>\n",
       "      <td>566511c2-e2e3-422b-b695-cf8e6e792ca8</td>\n",
       "    </tr>\n",
       "    <tr>\n",
       "      <th>3</th>\n",
       "      <td>2019-10-01 00:00:01 UTC</td>\n",
       "      <td>view</td>\n",
       "      <td>1307067</td>\n",
       "      <td>2053013558920217191</td>\n",
       "      <td>computers.notebook</td>\n",
       "      <td>lenovo</td>\n",
       "      <td>251.74</td>\n",
       "      <td>550050854</td>\n",
       "      <td>7c90fc70-0e80-4590-96f3-13c02c18c713</td>\n",
       "    </tr>\n",
       "    <tr>\n",
       "      <th>4</th>\n",
       "      <td>2019-10-01 00:00:04 UTC</td>\n",
       "      <td>view</td>\n",
       "      <td>1004237</td>\n",
       "      <td>2053013555631882655</td>\n",
       "      <td>electronics.smartphone</td>\n",
       "      <td>apple</td>\n",
       "      <td>1081.98</td>\n",
       "      <td>535871217</td>\n",
       "      <td>c6bd7419-2748-4c56-95b4-8cec9ff8b80d</td>\n",
       "    </tr>\n",
       "  </tbody>\n",
       "</table>\n",
       "</div>"
      ],
      "text/plain": [
       "                event_time event_type  product_id          category_id  \\\n",
       "0  2019-10-01 00:00:00 UTC       view    44600062  2103807459595387724   \n",
       "1  2019-10-01 00:00:00 UTC       view     3900821  2053013552326770905   \n",
       "2  2019-10-01 00:00:01 UTC       view    17200506  2053013559792632471   \n",
       "3  2019-10-01 00:00:01 UTC       view     1307067  2053013558920217191   \n",
       "4  2019-10-01 00:00:04 UTC       view     1004237  2053013555631882655   \n",
       "\n",
       "                         category_code     brand    price    user_id  \\\n",
       "0                                 None  shiseido    35.79  541312140   \n",
       "1  appliances.environment.water_heater      aqua    33.20  554748717   \n",
       "2           furniture.living_room.sofa      None   543.10  519107250   \n",
       "3                   computers.notebook    lenovo   251.74  550050854   \n",
       "4               electronics.smartphone     apple  1081.98  535871217   \n",
       "\n",
       "                           user_session  \n",
       "0  72d76fde-8bb3-4e00-8c23-a032dfed738c  \n",
       "1  9333dfbd-b87a-4708-9857-6336556b0fcc  \n",
       "2  566511c2-e2e3-422b-b695-cf8e6e792ca8  \n",
       "3  7c90fc70-0e80-4590-96f3-13c02c18c713  \n",
       "4  c6bd7419-2748-4c56-95b4-8cec9ff8b80d  "
      ]
     },
     "execution_count": 7,
     "metadata": {},
     "output_type": "execute_result"
    }
   ],
   "source": [
    "df.head().to_pandas()"
   ]
  },
  {
   "cell_type": "code",
   "execution_count": 8,
   "id": "dc6c800a",
   "metadata": {},
   "outputs": [
    {
     "data": {
      "text/plain": [
       "[Utf8, Utf8, Int64, Int64, Utf8, Utf8, Float64, Int64, Utf8]"
      ]
     },
     "execution_count": 8,
     "metadata": {},
     "output_type": "execute_result"
    }
   ],
   "source": [
    "# UTF8 -> string\n",
    "# Int, Float as usual\n",
    "df.dtypes"
   ]
  },
  {
   "cell_type": "markdown",
   "id": "3b3e90c5",
   "metadata": {},
   "source": [
    "Selecting and Filtering Data. Here I'll do operations that are similar to the SELECT and WHERE commands in SQL."
   ]
  },
  {
   "cell_type": "markdown",
   "id": "19f051b2",
   "metadata": {},
   "source": [
    "1. Indexing with [ works but is an \"anti-pattern\" in polars\n",
    "There is no df.loc or df.iloc as polars doesn't have indexes"
   ]
  },
  {
   "cell_type": "code",
   "execution_count": 9,
   "id": "68fcd326",
   "metadata": {},
   "outputs": [
    {
     "data": {
      "text/html": [
       "<div><style>\n",
       ".dataframe > thead > tr > th,\n",
       ".dataframe > tbody > tr > td {\n",
       "  text-align: right;\n",
       "  white-space: pre-wrap;\n",
       "}\n",
       "</style>\n",
       "<small>shape: (1, 9)</small><table border=\"1\" class=\"dataframe\"><thead><tr><th>event_time</th><th>event_type</th><th>product_id</th><th>category_id</th><th>category_code</th><th>brand</th><th>price</th><th>user_id</th><th>user_session</th></tr><tr><td>str</td><td>str</td><td>i64</td><td>i64</td><td>str</td><td>str</td><td>f64</td><td>i64</td><td>str</td></tr></thead><tbody><tr><td>&quot;2019-10-01 00:…</td><td>&quot;view&quot;</td><td>44600062</td><td>2103807459595387724</td><td>null</td><td>&quot;shiseido&quot;</td><td>35.79</td><td>541312140</td><td>&quot;72d76fde-8bb3-…</td></tr></tbody></table></div>"
      ],
      "text/plain": [
       "shape: (1, 9)\n",
       "┌────────────┬────────────┬────────────┬────────────┬───┬──────────┬───────┬───────────┬───────────┐\n",
       "│ event_time ┆ event_type ┆ product_id ┆ category_i ┆ … ┆ brand    ┆ price ┆ user_id   ┆ user_sess │\n",
       "│ ---        ┆ ---        ┆ ---        ┆ d          ┆   ┆ ---      ┆ ---   ┆ ---       ┆ ion       │\n",
       "│ str        ┆ str        ┆ i64        ┆ ---        ┆   ┆ str      ┆ f64   ┆ i64       ┆ ---       │\n",
       "│            ┆            ┆            ┆ i64        ┆   ┆          ┆       ┆           ┆ str       │\n",
       "╞════════════╪════════════╪════════════╪════════════╪═══╪══════════╪═══════╪═══════════╪═══════════╡\n",
       "│ 2019-10-01 ┆ view       ┆ 44600062   ┆ 2103807459 ┆ … ┆ shiseido ┆ 35.79 ┆ 541312140 ┆ 72d76fde- │\n",
       "│ 00:00:00   ┆            ┆            ┆ 595387724  ┆   ┆          ┆       ┆           ┆ 8bb3-4e00 │\n",
       "│ UTC        ┆            ┆            ┆            ┆   ┆          ┆       ┆           ┆ -8c23-a03 │\n",
       "│            ┆            ┆            ┆            ┆   ┆          ┆       ┆           ┆ 2dfed…    │\n",
       "└────────────┴────────────┴────────────┴────────────┴───┴──────────┴───────┴───────────┴───────────┘"
      ]
     },
     "execution_count": 9,
     "metadata": {},
     "output_type": "execute_result"
    }
   ],
   "source": [
    "df[0,:]"
   ]
  },
  {
   "cell_type": "code",
   "execution_count": 10,
   "id": "24e89377",
   "metadata": {},
   "outputs": [
    {
     "data": {
      "text/html": [
       "<div><style>\n",
       ".dataframe > thead > tr > th,\n",
       ".dataframe > tbody > tr > td {\n",
       "  text-align: right;\n",
       "  white-space: pre-wrap;\n",
       "}\n",
       "</style>\n",
       "<small>shape: (5, 2)</small><table border=\"1\" class=\"dataframe\"><thead><tr><th>event_time</th><th>price</th></tr><tr><td>str</td><td>f64</td></tr></thead><tbody><tr><td>&quot;2019-10-01 00:…</td><td>35.79</td></tr><tr><td>&quot;2019-10-01 00:…</td><td>33.2</td></tr><tr><td>&quot;2019-10-01 00:…</td><td>543.1</td></tr><tr><td>&quot;2019-10-01 00:…</td><td>251.74</td></tr><tr><td>&quot;2019-10-01 00:…</td><td>1081.98</td></tr></tbody></table></div>"
      ],
      "text/plain": [
       "shape: (5, 2)\n",
       "┌─────────────────────────┬─────────┐\n",
       "│ event_time              ┆ price   │\n",
       "│ ---                     ┆ ---     │\n",
       "│ str                     ┆ f64     │\n",
       "╞═════════════════════════╪═════════╡\n",
       "│ 2019-10-01 00:00:00 UTC ┆ 35.79   │\n",
       "│ 2019-10-01 00:00:00 UTC ┆ 33.2    │\n",
       "│ 2019-10-01 00:00:01 UTC ┆ 543.1   │\n",
       "│ 2019-10-01 00:00:01 UTC ┆ 251.74  │\n",
       "│ 2019-10-01 00:00:04 UTC ┆ 1081.98 │\n",
       "└─────────────────────────┴─────────┘"
      ]
     },
     "execution_count": 10,
     "metadata": {},
     "output_type": "execute_result"
    }
   ],
   "source": [
    "df[:,['event_time', \"price\"]].head()"
   ]
  },
  {
   "cell_type": "code",
   "execution_count": 11,
   "id": "259f1d19",
   "metadata": {},
   "outputs": [
    {
     "data": {
      "text/html": [
       "<div><style>\n",
       ".dataframe > thead > tr > th,\n",
       ".dataframe > tbody > tr > td {\n",
       "  text-align: right;\n",
       "  white-space: pre-wrap;\n",
       "}\n",
       "</style>\n",
       "<small>shape: (5, 9)</small><table border=\"1\" class=\"dataframe\"><thead><tr><th>event_time</th><th>event_type</th><th>product_id</th><th>category_id</th><th>category_code</th><th>brand</th><th>price</th><th>user_id</th><th>user_session</th></tr><tr><td>str</td><td>str</td><td>i64</td><td>i64</td><td>str</td><td>str</td><td>f64</td><td>i64</td><td>str</td></tr></thead><tbody><tr><td>&quot;2019-10-01 00:…</td><td>&quot;view&quot;</td><td>1004237</td><td>2053013555631882655</td><td>&quot;electronics.sm…</td><td>&quot;apple&quot;</td><td>1081.98</td><td>535871217</td><td>&quot;c6bd7419-2748-…</td></tr><tr><td>&quot;2019-10-01 00:…</td><td>&quot;view&quot;</td><td>1005135</td><td>2053013555631882655</td><td>&quot;electronics.sm…</td><td>&quot;apple&quot;</td><td>1747.79</td><td>535871217</td><td>&quot;c6bd7419-2748-…</td></tr><tr><td>&quot;2019-10-01 00:…</td><td>&quot;view&quot;</td><td>1005135</td><td>2053013555631882655</td><td>&quot;electronics.sm…</td><td>&quot;apple&quot;</td><td>1747.79</td><td>535871217</td><td>&quot;c6bd7419-2748-…</td></tr><tr><td>&quot;2019-10-01 00:…</td><td>&quot;view&quot;</td><td>1005105</td><td>2053013555631882655</td><td>&quot;electronics.sm…</td><td>&quot;apple&quot;</td><td>1415.48</td><td>529755884</td><td>&quot;0b828fb6-99bd-…</td></tr><tr><td>&quot;2019-10-01 00:…</td><td>&quot;view&quot;</td><td>1005073</td><td>2053013555631882655</td><td>&quot;electronics.sm…</td><td>&quot;samsung&quot;</td><td>1207.71</td><td>543427258</td><td>&quot;4fc3e61d-5f94-…</td></tr></tbody></table></div>"
      ],
      "text/plain": [
       "shape: (5, 9)\n",
       "┌────────────┬────────────┬────────────┬───────────┬───┬─────────┬─────────┬───────────┬───────────┐\n",
       "│ event_time ┆ event_type ┆ product_id ┆ category_ ┆ … ┆ brand   ┆ price   ┆ user_id   ┆ user_sess │\n",
       "│ ---        ┆ ---        ┆ ---        ┆ id        ┆   ┆ ---     ┆ ---     ┆ ---       ┆ ion       │\n",
       "│ str        ┆ str        ┆ i64        ┆ ---       ┆   ┆ str     ┆ f64     ┆ i64       ┆ ---       │\n",
       "│            ┆            ┆            ┆ i64       ┆   ┆         ┆         ┆           ┆ str       │\n",
       "╞════════════╪════════════╪════════════╪═══════════╪═══╪═════════╪═════════╪═══════════╪═══════════╡\n",
       "│ 2019-10-01 ┆ view       ┆ 1004237    ┆ 205301355 ┆ … ┆ apple   ┆ 1081.98 ┆ 535871217 ┆ c6bd7419- │\n",
       "│ 00:00:04   ┆            ┆            ┆ 563188265 ┆   ┆         ┆         ┆           ┆ 2748-4c56 │\n",
       "│ UTC        ┆            ┆            ┆ 5         ┆   ┆         ┆         ┆           ┆ -95b4-8ce │\n",
       "│            ┆            ┆            ┆           ┆   ┆         ┆         ┆           ┆ c9ff8…    │\n",
       "│ 2019-10-01 ┆ view       ┆ 1005135    ┆ 205301355 ┆ … ┆ apple   ┆ 1747.79 ┆ 535871217 ┆ c6bd7419- │\n",
       "│ 00:00:19   ┆            ┆            ┆ 563188265 ┆   ┆         ┆         ┆           ┆ 2748-4c56 │\n",
       "│ UTC        ┆            ┆            ┆ 5         ┆   ┆         ┆         ┆           ┆ -95b4-8ce │\n",
       "│            ┆            ┆            ┆           ┆   ┆         ┆         ┆           ┆ c9ff8…    │\n",
       "│ 2019-10-01 ┆ view       ┆ 1005135    ┆ 205301355 ┆ … ┆ apple   ┆ 1747.79 ┆ 535871217 ┆ c6bd7419- │\n",
       "│ 00:00:43   ┆            ┆            ┆ 563188265 ┆   ┆         ┆         ┆           ┆ 2748-4c56 │\n",
       "│ UTC        ┆            ┆            ┆ 5         ┆   ┆         ┆         ┆           ┆ -95b4-8ce │\n",
       "│            ┆            ┆            ┆           ┆   ┆         ┆         ┆           ┆ c9ff8…    │\n",
       "│ 2019-10-01 ┆ view       ┆ 1005105    ┆ 205301355 ┆ … ┆ apple   ┆ 1415.48 ┆ 529755884 ┆ 0b828fb6- │\n",
       "│ 00:00:50   ┆            ┆            ┆ 563188265 ┆   ┆         ┆         ┆           ┆ 99bd-4d26 │\n",
       "│ UTC        ┆            ┆            ┆ 5         ┆   ┆         ┆         ┆           ┆ -beb3-302 │\n",
       "│            ┆            ┆            ┆           ┆   ┆         ┆         ┆           ┆ 1f5d6…    │\n",
       "│ 2019-10-01 ┆ view       ┆ 1005073    ┆ 205301355 ┆ … ┆ samsung ┆ 1207.71 ┆ 543427258 ┆ 4fc3e61d- │\n",
       "│ 00:00:57   ┆            ┆            ┆ 563188265 ┆   ┆         ┆         ┆           ┆ 5f94-45bb │\n",
       "│ UTC        ┆            ┆            ┆ 5         ┆   ┆         ┆         ┆           ┆ -82dc-ac7 │\n",
       "│            ┆            ┆            ┆           ┆   ┆         ┆         ┆           ┆ 7f59b…    │\n",
       "└────────────┴────────────┴────────────┴───────────┴───┴─────────┴─────────┴───────────┴───────────┘"
      ]
     },
     "execution_count": 11,
     "metadata": {},
     "output_type": "execute_result"
    }
   ],
   "source": [
    "# Works but looks awful\n",
    "# df.filter(df[\"price\"] > 100)\n",
    "\n",
    "# Better to use this\n",
    "df.filter(pl.col(\"price\") > 1000).head()"
   ]
  },
  {
   "cell_type": "markdown",
   "id": "3511ffea",
   "metadata": {},
   "source": [
    "2. Select data with idiomatic polars"
   ]
  },
  {
   "cell_type": "code",
   "execution_count": 12,
   "id": "7aa00deb",
   "metadata": {},
   "outputs": [
    {
     "data": {
      "text/html": [
       "<div>\n",
       "<style scoped>\n",
       "    .dataframe tbody tr th:only-of-type {\n",
       "        vertical-align: middle;\n",
       "    }\n",
       "\n",
       "    .dataframe tbody tr th {\n",
       "        vertical-align: top;\n",
       "    }\n",
       "\n",
       "    .dataframe thead th {\n",
       "        text-align: right;\n",
       "    }\n",
       "</style>\n",
       "<table border=\"1\" class=\"dataframe\">\n",
       "  <thead>\n",
       "    <tr style=\"text-align: right;\">\n",
       "      <th></th>\n",
       "      <th>event_time</th>\n",
       "      <th>event_type</th>\n",
       "      <th>product_id</th>\n",
       "      <th>category_id</th>\n",
       "      <th>category_code</th>\n",
       "      <th>brand</th>\n",
       "      <th>price</th>\n",
       "      <th>user_id</th>\n",
       "      <th>user_session</th>\n",
       "    </tr>\n",
       "  </thead>\n",
       "  <tbody>\n",
       "    <tr>\n",
       "      <th>0</th>\n",
       "      <td>2019-10-23 00:51:12 UTC</td>\n",
       "      <td>view</td>\n",
       "      <td>26300325</td>\n",
       "      <td>2053013563424899933</td>\n",
       "      <td>None</td>\n",
       "      <td>None</td>\n",
       "      <td>250.41</td>\n",
       "      <td>553956880</td>\n",
       "      <td>a23c03aa-ff63-4ef6-8d73-065826cd44c2</td>\n",
       "    </tr>\n",
       "    <tr>\n",
       "      <th>1</th>\n",
       "      <td>2019-10-11 16:42:49 UTC</td>\n",
       "      <td>view</td>\n",
       "      <td>35104542</td>\n",
       "      <td>2070005009382114061</td>\n",
       "      <td>apparel.underwear</td>\n",
       "      <td>milavitsa</td>\n",
       "      <td>31.51</td>\n",
       "      <td>546672303</td>\n",
       "      <td>74811c30-1af7-4f8b-b98a-6cd1eb099b70</td>\n",
       "    </tr>\n",
       "    <tr>\n",
       "      <th>2</th>\n",
       "      <td>2019-10-21 16:44:42 UTC</td>\n",
       "      <td>view</td>\n",
       "      <td>22700062</td>\n",
       "      <td>2053013556168753601</td>\n",
       "      <td>None</td>\n",
       "      <td>aeroforce</td>\n",
       "      <td>217.51</td>\n",
       "      <td>538231950</td>\n",
       "      <td>ac51d3c5-573d-4f5b-a394-83b1c5cbd417</td>\n",
       "    </tr>\n",
       "    <tr>\n",
       "      <th>3</th>\n",
       "      <td>2019-10-24 16:57:16 UTC</td>\n",
       "      <td>view</td>\n",
       "      <td>12716413</td>\n",
       "      <td>2053013553559896355</td>\n",
       "      <td>None</td>\n",
       "      <td>triangle</td>\n",
       "      <td>63.06</td>\n",
       "      <td>515066771</td>\n",
       "      <td>94d54c46-8258-4820-9c67-8fe2e5987be1</td>\n",
       "    </tr>\n",
       "    <tr>\n",
       "      <th>4</th>\n",
       "      <td>2019-10-01 14:06:25 UTC</td>\n",
       "      <td>view</td>\n",
       "      <td>1002544</td>\n",
       "      <td>2053013555631882655</td>\n",
       "      <td>electronics.smartphone</td>\n",
       "      <td>apple</td>\n",
       "      <td>464.05</td>\n",
       "      <td>555657428</td>\n",
       "      <td>45b5fe6e-5399-418d-8dbe-2ed5ff7ec4a9</td>\n",
       "    </tr>\n",
       "  </tbody>\n",
       "</table>\n",
       "</div>"
      ],
      "text/plain": [
       "                event_time event_type  product_id          category_id  \\\n",
       "0  2019-10-23 00:51:12 UTC       view    26300325  2053013563424899933   \n",
       "1  2019-10-11 16:42:49 UTC       view    35104542  2070005009382114061   \n",
       "2  2019-10-21 16:44:42 UTC       view    22700062  2053013556168753601   \n",
       "3  2019-10-24 16:57:16 UTC       view    12716413  2053013553559896355   \n",
       "4  2019-10-01 14:06:25 UTC       view     1002544  2053013555631882655   \n",
       "\n",
       "            category_code      brand   price    user_id  \\\n",
       "0                    None       None  250.41  553956880   \n",
       "1       apparel.underwear  milavitsa   31.51  546672303   \n",
       "2                    None  aeroforce  217.51  538231950   \n",
       "3                    None   triangle   63.06  515066771   \n",
       "4  electronics.smartphone      apple  464.05  555657428   \n",
       "\n",
       "                           user_session  \n",
       "0  a23c03aa-ff63-4ef6-8d73-065826cd44c2  \n",
       "1  74811c30-1af7-4f8b-b98a-6cd1eb099b70  \n",
       "2  ac51d3c5-573d-4f5b-a394-83b1c5cbd417  \n",
       "3  94d54c46-8258-4820-9c67-8fe2e5987be1  \n",
       "4  45b5fe6e-5399-418d-8dbe-2ed5ff7ec4a9  "
      ]
     },
     "execution_count": 12,
     "metadata": {},
     "output_type": "execute_result"
    }
   ],
   "source": [
    "df.sample(5).to_pandas()"
   ]
  },
  {
   "cell_type": "code",
   "execution_count": 13,
   "id": "60b1669c",
   "metadata": {},
   "outputs": [
    {
     "data": {
      "text/html": [
       "<div><style>\n",
       ".dataframe > thead > tr > th,\n",
       ".dataframe > tbody > tr > td {\n",
       "  text-align: right;\n",
       "  white-space: pre-wrap;\n",
       "}\n",
       "</style>\n",
       "<small>shape: (5, 2)</small><table border=\"1\" class=\"dataframe\"><thead><tr><th>brand</th><th>price</th></tr><tr><td>str</td><td>f64</td></tr></thead><tbody><tr><td>&quot;shiseido&quot;</td><td>35.79</td></tr><tr><td>&quot;aqua&quot;</td><td>33.2</td></tr><tr><td>null</td><td>543.1</td></tr><tr><td>&quot;lenovo&quot;</td><td>251.74</td></tr><tr><td>&quot;apple&quot;</td><td>1081.98</td></tr></tbody></table></div>"
      ],
      "text/plain": [
       "shape: (5, 2)\n",
       "┌──────────┬─────────┐\n",
       "│ brand    ┆ price   │\n",
       "│ ---      ┆ ---     │\n",
       "│ str      ┆ f64     │\n",
       "╞══════════╪═════════╡\n",
       "│ shiseido ┆ 35.79   │\n",
       "│ aqua     ┆ 33.2    │\n",
       "│ null     ┆ 543.1   │\n",
       "│ lenovo   ┆ 251.74  │\n",
       "│ apple    ┆ 1081.98 │\n",
       "└──────────┴─────────┘"
      ]
     },
     "execution_count": 13,
     "metadata": {},
     "output_type": "execute_result"
    }
   ],
   "source": [
    "# SQL SELECT type of operation. Just selecting columns\n",
    "df.select(['brand', 'price']).head()"
   ]
  },
  {
   "cell_type": "code",
   "execution_count": 14,
   "id": "c5f6e681",
   "metadata": {},
   "outputs": [
    {
     "data": {
      "text/html": [
       "<div><style>\n",
       ".dataframe > thead > tr > th,\n",
       ".dataframe > tbody > tr > td {\n",
       "  text-align: right;\n",
       "  white-space: pre-wrap;\n",
       "}\n",
       "</style>\n",
       "<small>shape: (5, 10)</small><table border=\"1\" class=\"dataframe\"><thead><tr><th>event_time</th><th>event_type</th><th>product_id</th><th>category_id</th><th>category_code</th><th>brand</th><th>price</th><th>user_id</th><th>user_session</th><th>price_x_100</th></tr><tr><td>str</td><td>str</td><td>i64</td><td>i64</td><td>str</td><td>str</td><td>f64</td><td>i64</td><td>str</td><td>f64</td></tr></thead><tbody><tr><td>&quot;2019-10-01 00:…</td><td>&quot;view&quot;</td><td>44600062</td><td>2103807459595387724</td><td>null</td><td>&quot;shiseido&quot;</td><td>35.79</td><td>541312140</td><td>&quot;72d76fde-8bb3-…</td><td>3579.0</td></tr><tr><td>&quot;2019-10-01 00:…</td><td>&quot;view&quot;</td><td>3900821</td><td>2053013552326770905</td><td>&quot;appliances.env…</td><td>&quot;aqua&quot;</td><td>33.2</td><td>554748717</td><td>&quot;9333dfbd-b87a-…</td><td>3320.0</td></tr><tr><td>&quot;2019-10-01 00:…</td><td>&quot;view&quot;</td><td>17200506</td><td>2053013559792632471</td><td>&quot;furniture.livi…</td><td>null</td><td>543.1</td><td>519107250</td><td>&quot;566511c2-e2e3-…</td><td>54310.0</td></tr><tr><td>&quot;2019-10-01 00:…</td><td>&quot;view&quot;</td><td>1307067</td><td>2053013558920217191</td><td>&quot;computers.note…</td><td>&quot;lenovo&quot;</td><td>251.74</td><td>550050854</td><td>&quot;7c90fc70-0e80-…</td><td>25174.0</td></tr><tr><td>&quot;2019-10-01 00:…</td><td>&quot;view&quot;</td><td>1004237</td><td>2053013555631882655</td><td>&quot;electronics.sm…</td><td>&quot;apple&quot;</td><td>1081.98</td><td>535871217</td><td>&quot;c6bd7419-2748-…</td><td>108198.0</td></tr></tbody></table></div>"
      ],
      "text/plain": [
       "shape: (5, 10)\n",
       "┌────────────┬───────────┬───────────┬───────────┬───┬─────────┬───────────┬───────────┬───────────┐\n",
       "│ event_time ┆ event_typ ┆ product_i ┆ category_ ┆ … ┆ price   ┆ user_id   ┆ user_sess ┆ price_x_1 │\n",
       "│ ---        ┆ e         ┆ d         ┆ id        ┆   ┆ ---     ┆ ---       ┆ ion       ┆ 00        │\n",
       "│ str        ┆ ---       ┆ ---       ┆ ---       ┆   ┆ f64     ┆ i64       ┆ ---       ┆ ---       │\n",
       "│            ┆ str       ┆ i64       ┆ i64       ┆   ┆         ┆           ┆ str       ┆ f64       │\n",
       "╞════════════╪═══════════╪═══════════╪═══════════╪═══╪═════════╪═══════════╪═══════════╪═══════════╡\n",
       "│ 2019-10-01 ┆ view      ┆ 44600062  ┆ 210380745 ┆ … ┆ 35.79   ┆ 541312140 ┆ 72d76fde- ┆ 3579.0    │\n",
       "│ 00:00:00   ┆           ┆           ┆ 959538772 ┆   ┆         ┆           ┆ 8bb3-4e00 ┆           │\n",
       "│ UTC        ┆           ┆           ┆ 4         ┆   ┆         ┆           ┆ -8c23-a03 ┆           │\n",
       "│            ┆           ┆           ┆           ┆   ┆         ┆           ┆ 2dfed…    ┆           │\n",
       "│ 2019-10-01 ┆ view      ┆ 3900821   ┆ 205301355 ┆ … ┆ 33.2    ┆ 554748717 ┆ 9333dfbd- ┆ 3320.0    │\n",
       "│ 00:00:00   ┆           ┆           ┆ 232677090 ┆   ┆         ┆           ┆ b87a-4708 ┆           │\n",
       "│ UTC        ┆           ┆           ┆ 5         ┆   ┆         ┆           ┆ -9857-633 ┆           │\n",
       "│            ┆           ┆           ┆           ┆   ┆         ┆           ┆ 6556b…    ┆           │\n",
       "│ 2019-10-01 ┆ view      ┆ 17200506  ┆ 205301355 ┆ … ┆ 543.1   ┆ 519107250 ┆ 566511c2- ┆ 54310.0   │\n",
       "│ 00:00:01   ┆           ┆           ┆ 979263247 ┆   ┆         ┆           ┆ e2e3-422b ┆           │\n",
       "│ UTC        ┆           ┆           ┆ 1         ┆   ┆         ┆           ┆ -b695-cf8 ┆           │\n",
       "│            ┆           ┆           ┆           ┆   ┆         ┆           ┆ e6e79…    ┆           │\n",
       "│ 2019-10-01 ┆ view      ┆ 1307067   ┆ 205301355 ┆ … ┆ 251.74  ┆ 550050854 ┆ 7c90fc70- ┆ 25174.0   │\n",
       "│ 00:00:01   ┆           ┆           ┆ 892021719 ┆   ┆         ┆           ┆ 0e80-4590 ┆           │\n",
       "│ UTC        ┆           ┆           ┆ 1         ┆   ┆         ┆           ┆ -96f3-13c ┆           │\n",
       "│            ┆           ┆           ┆           ┆   ┆         ┆           ┆ 02c18…    ┆           │\n",
       "│ 2019-10-01 ┆ view      ┆ 1004237   ┆ 205301355 ┆ … ┆ 1081.98 ┆ 535871217 ┆ c6bd7419- ┆ 108198.0  │\n",
       "│ 00:00:04   ┆           ┆           ┆ 563188265 ┆   ┆         ┆           ┆ 2748-4c56 ┆           │\n",
       "│ UTC        ┆           ┆           ┆ 5         ┆   ┆         ┆           ┆ -95b4-8ce ┆           │\n",
       "│            ┆           ┆           ┆           ┆   ┆         ┆           ┆ c9ff8…    ┆           │\n",
       "└────────────┴───────────┴───────────┴───────────┴───┴─────────┴───────────┴───────────┴───────────┘"
      ]
     },
     "execution_count": 14,
     "metadata": {},
     "output_type": "execute_result"
    }
   ],
   "source": [
    "# Keeps all the original columns and adds a new one\n",
    "# Similar to a SELECT * in SQL\n",
    "df.with_columns([\n",
    "    (pl.col(\"price\") * 100).alias(\"price_x_100\")\n",
    "]).head()"
   ]
  },
  {
   "cell_type": "code",
   "execution_count": 15,
   "id": "5b4feae6",
   "metadata": {},
   "outputs": [
    {
     "data": {
      "text/html": [
       "<div><style>\n",
       ".dataframe > thead > tr > th,\n",
       ".dataframe > tbody > tr > td {\n",
       "  text-align: right;\n",
       "  white-space: pre-wrap;\n",
       "}\n",
       "</style>\n",
       "<small>shape: (5, 9)</small><table border=\"1\" class=\"dataframe\"><thead><tr><th>event_time</th><th>event_type</th><th>product_id</th><th>category_id</th><th>category_code</th><th>brand</th><th>price</th><th>user_id</th><th>user_session</th></tr><tr><td>str</td><td>str</td><td>i64</td><td>i64</td><td>str</td><td>str</td><td>f64</td><td>i64</td><td>str</td></tr></thead><tbody><tr><td>&quot;2019-10-01 00:…</td><td>&quot;view&quot;</td><td>1004237</td><td>2053013555631882655</td><td>&quot;electronics.sm…</td><td>&quot;apple&quot;</td><td>1081.98</td><td>535871217</td><td>&quot;c6bd7419-2748-…</td></tr><tr><td>&quot;2019-10-01 00:…</td><td>&quot;view&quot;</td><td>1005135</td><td>2053013555631882655</td><td>&quot;electronics.sm…</td><td>&quot;apple&quot;</td><td>1747.79</td><td>535871217</td><td>&quot;c6bd7419-2748-…</td></tr><tr><td>&quot;2019-10-01 00:…</td><td>&quot;view&quot;</td><td>1005135</td><td>2053013555631882655</td><td>&quot;electronics.sm…</td><td>&quot;apple&quot;</td><td>1747.79</td><td>535871217</td><td>&quot;c6bd7419-2748-…</td></tr><tr><td>&quot;2019-10-01 00:…</td><td>&quot;view&quot;</td><td>1005105</td><td>2053013555631882655</td><td>&quot;electronics.sm…</td><td>&quot;apple&quot;</td><td>1415.48</td><td>529755884</td><td>&quot;0b828fb6-99bd-…</td></tr><tr><td>&quot;2019-10-01 00:…</td><td>&quot;view&quot;</td><td>1005073</td><td>2053013555631882655</td><td>&quot;electronics.sm…</td><td>&quot;samsung&quot;</td><td>1207.71</td><td>543427258</td><td>&quot;4fc3e61d-5f94-…</td></tr></tbody></table></div>"
      ],
      "text/plain": [
       "shape: (5, 9)\n",
       "┌────────────┬────────────┬────────────┬───────────┬───┬─────────┬─────────┬───────────┬───────────┐\n",
       "│ event_time ┆ event_type ┆ product_id ┆ category_ ┆ … ┆ brand   ┆ price   ┆ user_id   ┆ user_sess │\n",
       "│ ---        ┆ ---        ┆ ---        ┆ id        ┆   ┆ ---     ┆ ---     ┆ ---       ┆ ion       │\n",
       "│ str        ┆ str        ┆ i64        ┆ ---       ┆   ┆ str     ┆ f64     ┆ i64       ┆ ---       │\n",
       "│            ┆            ┆            ┆ i64       ┆   ┆         ┆         ┆           ┆ str       │\n",
       "╞════════════╪════════════╪════════════╪═══════════╪═══╪═════════╪═════════╪═══════════╪═══════════╡\n",
       "│ 2019-10-01 ┆ view       ┆ 1004237    ┆ 205301355 ┆ … ┆ apple   ┆ 1081.98 ┆ 535871217 ┆ c6bd7419- │\n",
       "│ 00:00:04   ┆            ┆            ┆ 563188265 ┆   ┆         ┆         ┆           ┆ 2748-4c56 │\n",
       "│ UTC        ┆            ┆            ┆ 5         ┆   ┆         ┆         ┆           ┆ -95b4-8ce │\n",
       "│            ┆            ┆            ┆           ┆   ┆         ┆         ┆           ┆ c9ff8…    │\n",
       "│ 2019-10-01 ┆ view       ┆ 1005135    ┆ 205301355 ┆ … ┆ apple   ┆ 1747.79 ┆ 535871217 ┆ c6bd7419- │\n",
       "│ 00:00:19   ┆            ┆            ┆ 563188265 ┆   ┆         ┆         ┆           ┆ 2748-4c56 │\n",
       "│ UTC        ┆            ┆            ┆ 5         ┆   ┆         ┆         ┆           ┆ -95b4-8ce │\n",
       "│            ┆            ┆            ┆           ┆   ┆         ┆         ┆           ┆ c9ff8…    │\n",
       "│ 2019-10-01 ┆ view       ┆ 1005135    ┆ 205301355 ┆ … ┆ apple   ┆ 1747.79 ┆ 535871217 ┆ c6bd7419- │\n",
       "│ 00:00:43   ┆            ┆            ┆ 563188265 ┆   ┆         ┆         ┆           ┆ 2748-4c56 │\n",
       "│ UTC        ┆            ┆            ┆ 5         ┆   ┆         ┆         ┆           ┆ -95b4-8ce │\n",
       "│            ┆            ┆            ┆           ┆   ┆         ┆         ┆           ┆ c9ff8…    │\n",
       "│ 2019-10-01 ┆ view       ┆ 1005105    ┆ 205301355 ┆ … ┆ apple   ┆ 1415.48 ┆ 529755884 ┆ 0b828fb6- │\n",
       "│ 00:00:50   ┆            ┆            ┆ 563188265 ┆   ┆         ┆         ┆           ┆ 99bd-4d26 │\n",
       "│ UTC        ┆            ┆            ┆ 5         ┆   ┆         ┆         ┆           ┆ -beb3-302 │\n",
       "│            ┆            ┆            ┆           ┆   ┆         ┆         ┆           ┆ 1f5d6…    │\n",
       "│ 2019-10-01 ┆ view       ┆ 1005073    ┆ 205301355 ┆ … ┆ samsung ┆ 1207.71 ┆ 543427258 ┆ 4fc3e61d- │\n",
       "│ 00:00:57   ┆            ┆            ┆ 563188265 ┆   ┆         ┆         ┆           ┆ 5f94-45bb │\n",
       "│ UTC        ┆            ┆            ┆ 5         ┆   ┆         ┆         ┆           ┆ -82dc-ac7 │\n",
       "│            ┆            ┆            ┆           ┆   ┆         ┆         ┆           ┆ 7f59b…    │\n",
       "└────────────┴────────────┴────────────┴───────────┴───┴─────────┴─────────┴───────────┴───────────┘"
      ]
     },
     "execution_count": 15,
     "metadata": {},
     "output_type": "execute_result"
    }
   ],
   "source": [
    "df.filter(pl.col(\"price\") > 1000).head()"
   ]
  },
  {
   "cell_type": "code",
   "execution_count": 16,
   "id": "0ffaed9f",
   "metadata": {},
   "outputs": [
    {
     "data": {
      "text/html": [
       "<div><style>\n",
       ".dataframe > thead > tr > th,\n",
       ".dataframe > tbody > tr > td {\n",
       "  text-align: right;\n",
       "  white-space: pre-wrap;\n",
       "}\n",
       "</style>\n",
       "<small>shape: (5, 9)</small><table border=\"1\" class=\"dataframe\"><thead><tr><th>event_time</th><th>event_type</th><th>product_id</th><th>category_id</th><th>category_code</th><th>brand</th><th>price</th><th>user_id</th><th>user_session</th></tr><tr><td>str</td><td>str</td><td>i64</td><td>i64</td><td>str</td><td>str</td><td>f64</td><td>i64</td><td>str</td></tr></thead><tbody><tr><td>&quot;2019-10-01 00:…</td><td>&quot;view&quot;</td><td>1004237</td><td>2053013555631882655</td><td>&quot;electronics.sm…</td><td>&quot;apple&quot;</td><td>1081.98</td><td>535871217</td><td>&quot;c6bd7419-2748-…</td></tr><tr><td>&quot;2019-10-01 00:…</td><td>&quot;view&quot;</td><td>1005011</td><td>2053013555631882655</td><td>&quot;electronics.sm…</td><td>&quot;samsung&quot;</td><td>900.64</td><td>530282093</td><td>&quot;50a293fb-5940-…</td></tr><tr><td>&quot;2019-10-01 00:…</td><td>&quot;view&quot;</td><td>1005135</td><td>2053013555631882655</td><td>&quot;electronics.sm…</td><td>&quot;apple&quot;</td><td>1747.79</td><td>535871217</td><td>&quot;c6bd7419-2748-…</td></tr><tr><td>&quot;2019-10-01 00:…</td><td>&quot;view&quot;</td><td>1003306</td><td>2053013555631882655</td><td>&quot;electronics.sm…</td><td>&quot;apple&quot;</td><td>588.77</td><td>555446831</td><td>&quot;6ec635da-ea15-…</td></tr><tr><td>&quot;2019-10-01 00:…</td><td>&quot;view&quot;</td><td>1003306</td><td>2053013555631882655</td><td>&quot;electronics.sm…</td><td>&quot;apple&quot;</td><td>588.77</td><td>555446831</td><td>&quot;6ec635da-ea15-…</td></tr></tbody></table></div>"
      ],
      "text/plain": [
       "shape: (5, 9)\n",
       "┌────────────┬────────────┬────────────┬───────────┬───┬─────────┬─────────┬───────────┬───────────┐\n",
       "│ event_time ┆ event_type ┆ product_id ┆ category_ ┆ … ┆ brand   ┆ price   ┆ user_id   ┆ user_sess │\n",
       "│ ---        ┆ ---        ┆ ---        ┆ id        ┆   ┆ ---     ┆ ---     ┆ ---       ┆ ion       │\n",
       "│ str        ┆ str        ┆ i64        ┆ ---       ┆   ┆ str     ┆ f64     ┆ i64       ┆ ---       │\n",
       "│            ┆            ┆            ┆ i64       ┆   ┆         ┆         ┆           ┆ str       │\n",
       "╞════════════╪════════════╪════════════╪═══════════╪═══╪═════════╪═════════╪═══════════╪═══════════╡\n",
       "│ 2019-10-01 ┆ view       ┆ 1004237    ┆ 205301355 ┆ … ┆ apple   ┆ 1081.98 ┆ 535871217 ┆ c6bd7419- │\n",
       "│ 00:00:04   ┆            ┆            ┆ 563188265 ┆   ┆         ┆         ┆           ┆ 2748-4c56 │\n",
       "│ UTC        ┆            ┆            ┆ 5         ┆   ┆         ┆         ┆           ┆ -95b4-8ce │\n",
       "│            ┆            ┆            ┆           ┆   ┆         ┆         ┆           ┆ c9ff8…    │\n",
       "│ 2019-10-01 ┆ view       ┆ 1005011    ┆ 205301355 ┆ … ┆ samsung ┆ 900.64  ┆ 530282093 ┆ 50a293fb- │\n",
       "│ 00:00:11   ┆            ┆            ┆ 563188265 ┆   ┆         ┆         ┆           ┆ 5940-41b2 │\n",
       "│ UTC        ┆            ┆            ┆ 5         ┆   ┆         ┆         ┆           ┆ -baf3-17a │\n",
       "│            ┆            ┆            ┆           ┆   ┆         ┆         ┆           ┆ f0e81…    │\n",
       "│ 2019-10-01 ┆ view       ┆ 1005135    ┆ 205301355 ┆ … ┆ apple   ┆ 1747.79 ┆ 535871217 ┆ c6bd7419- │\n",
       "│ 00:00:19   ┆            ┆            ┆ 563188265 ┆   ┆         ┆         ┆           ┆ 2748-4c56 │\n",
       "│ UTC        ┆            ┆            ┆ 5         ┆   ┆         ┆         ┆           ┆ -95b4-8ce │\n",
       "│            ┆            ┆            ┆           ┆   ┆         ┆         ┆           ┆ c9ff8…    │\n",
       "│ 2019-10-01 ┆ view       ┆ 1003306    ┆ 205301355 ┆ … ┆ apple   ┆ 588.77  ┆ 555446831 ┆ 6ec635da- │\n",
       "│ 00:00:20   ┆            ┆            ┆ 563188265 ┆   ┆         ┆         ┆           ┆ ea15-4a5d │\n",
       "│ UTC        ┆            ┆            ┆ 5         ┆   ┆         ┆         ┆           ┆ -96b4-c8c │\n",
       "│            ┆            ┆            ┆           ┆   ┆         ┆         ┆           ┆ a9d38…    │\n",
       "│ 2019-10-01 ┆ view       ┆ 1003306    ┆ 205301355 ┆ … ┆ apple   ┆ 588.77  ┆ 555446831 ┆ 6ec635da- │\n",
       "│ 00:00:24   ┆            ┆            ┆ 563188265 ┆   ┆         ┆         ┆           ┆ ea15-4a5d │\n",
       "│ UTC        ┆            ┆            ┆ 5         ┆   ┆         ┆         ┆           ┆ -96b4-c8c │\n",
       "│            ┆            ┆            ┆           ┆   ┆         ┆         ┆           ┆ a9d38…    │\n",
       "└────────────┴────────────┴────────────┴───────────┴───┴─────────┴─────────┴───────────┴───────────┘"
      ]
     },
     "execution_count": 16,
     "metadata": {},
     "output_type": "execute_result"
    }
   ],
   "source": [
    "df.filter(\n",
    "    pl.col('brand').is_in(['apple', 'samsung', 'motorola'])\n",
    ").head()"
   ]
  },
  {
   "cell_type": "markdown",
   "id": "0f9c3502",
   "metadata": {},
   "source": [
    "Computation on the select context"
   ]
  },
  {
   "cell_type": "code",
   "execution_count": 17,
   "id": "09f5778c",
   "metadata": {},
   "outputs": [
    {
     "data": {
      "text/html": [
       "<div><style>\n",
       ".dataframe > thead > tr > th,\n",
       ".dataframe > tbody > tr > td {\n",
       "  text-align: right;\n",
       "  white-space: pre-wrap;\n",
       "}\n",
       "</style>\n",
       "<small>shape: (1, 1)</small><table border=\"1\" class=\"dataframe\"><thead><tr><th>product_id</th></tr><tr><td>u32</td></tr></thead><tbody><tr><td>166794</td></tr></tbody></table></div>"
      ],
      "text/plain": [
       "shape: (1, 1)\n",
       "┌────────────┐\n",
       "│ product_id │\n",
       "│ ---        │\n",
       "│ u32        │\n",
       "╞════════════╡\n",
       "│ 166794     │\n",
       "└────────────┘"
      ]
     },
     "execution_count": 17,
     "metadata": {},
     "output_type": "execute_result"
    }
   ],
   "source": [
    "df.select([\n",
    "    pl.col(\"product_id\").n_unique()\n",
    "])"
   ]
  },
  {
   "cell_type": "code",
   "execution_count": 18,
   "id": "5c5cb113",
   "metadata": {},
   "outputs": [
    {
     "data": {
      "text/html": [
       "<div><style>\n",
       ".dataframe > thead > tr > th,\n",
       ".dataframe > tbody > tr > td {\n",
       "  text-align: right;\n",
       "  white-space: pre-wrap;\n",
       "}\n",
       "</style>\n",
       "<small>shape: (1, 5)</small><table border=\"1\" class=\"dataframe\"><thead><tr><th>min</th><th>mean</th><th>median</th><th>max</th><th>std_dev</th></tr><tr><td>f64</td><td>f64</td><td>f64</td><td>f64</td><td>f64</td></tr></thead><tbody><tr><td>0.0</td><td>290.323661</td><td>162.93</td><td>2574.07</td><td>358.269155</td></tr></tbody></table></div>"
      ],
      "text/plain": [
       "shape: (1, 5)\n",
       "┌─────┬────────────┬────────┬─────────┬────────────┐\n",
       "│ min ┆ mean       ┆ median ┆ max     ┆ std_dev    │\n",
       "│ --- ┆ ---        ┆ ---    ┆ ---     ┆ ---        │\n",
       "│ f64 ┆ f64        ┆ f64    ┆ f64     ┆ f64        │\n",
       "╞═════╪════════════╪════════╪═════════╪════════════╡\n",
       "│ 0.0 ┆ 290.323661 ┆ 162.93 ┆ 2574.07 ┆ 358.269155 │\n",
       "└─────┴────────────┴────────┴─────────┴────────────┘"
      ]
     },
     "execution_count": 18,
     "metadata": {},
     "output_type": "execute_result"
    }
   ],
   "source": [
    "df.select([\n",
    "    pl.col(\"price\").min().alias(\"min\"),\n",
    "    pl.col(\"price\").mean().alias(\"mean\"),\n",
    "    pl.col(\"price\").median().alias(\"median\"),\n",
    "    pl.col(\"price\").max().alias(\"max\"),\n",
    "    pl.col(\"price\").std().alias(\"std_dev\"),\n",
    "])"
   ]
  },
  {
   "cell_type": "code",
   "execution_count": 19,
   "id": "523a5e65",
   "metadata": {},
   "outputs": [
    {
     "data": {
      "text/html": [
       "<div><style>\n",
       ".dataframe > thead > tr > th,\n",
       ".dataframe > tbody > tr > td {\n",
       "  text-align: right;\n",
       "  white-space: pre-wrap;\n",
       "}\n",
       "</style>\n",
       "<small>shape: (9, 2)</small><table border=\"1\" class=\"dataframe\"><thead><tr><th>describe</th><th>price</th></tr><tr><td>str</td><td>f64</td></tr></thead><tbody><tr><td>&quot;count&quot;</td><td>4.2448764e7</td></tr><tr><td>&quot;null_count&quot;</td><td>0.0</td></tr><tr><td>&quot;mean&quot;</td><td>290.323661</td></tr><tr><td>&quot;std&quot;</td><td>358.269155</td></tr><tr><td>&quot;min&quot;</td><td>0.0</td></tr><tr><td>&quot;25%&quot;</td><td>65.98</td></tr><tr><td>&quot;50%&quot;</td><td>162.93</td></tr><tr><td>&quot;75%&quot;</td><td>358.57</td></tr><tr><td>&quot;max&quot;</td><td>2574.07</td></tr></tbody></table></div>"
      ],
      "text/plain": [
       "shape: (9, 2)\n",
       "┌────────────┬─────────────┐\n",
       "│ describe   ┆ price       │\n",
       "│ ---        ┆ ---         │\n",
       "│ str        ┆ f64         │\n",
       "╞════════════╪═════════════╡\n",
       "│ count      ┆ 4.2448764e7 │\n",
       "│ null_count ┆ 0.0         │\n",
       "│ mean       ┆ 290.323661  │\n",
       "│ std        ┆ 358.269155  │\n",
       "│ min        ┆ 0.0         │\n",
       "│ 25%        ┆ 65.98       │\n",
       "│ 50%        ┆ 162.93      │\n",
       "│ 75%        ┆ 358.57      │\n",
       "│ max        ┆ 2574.07     │\n",
       "└────────────┴─────────────┘"
      ]
     },
     "execution_count": 19,
     "metadata": {},
     "output_type": "execute_result"
    }
   ],
   "source": [
    "# compute describe at a series level\n",
    "df.select([\n",
    "    pl.col(\"price\")\n",
    "]).describe()"
   ]
  },
  {
   "cell_type": "code",
   "execution_count": 20,
   "id": "2ea3efd9",
   "metadata": {},
   "outputs": [],
   "source": [
    "price = df.select([\n",
    "    pl.col(\"price\")\n",
    "])"
   ]
  },
  {
   "cell_type": "code",
   "execution_count": 21,
   "id": "200213fc",
   "metadata": {},
   "outputs": [
    {
     "data": {
      "text/plain": [
       "array([[<Axes: title={'center': 'price'}>]], dtype=object)"
      ]
     },
     "execution_count": 21,
     "metadata": {},
     "output_type": "execute_result"
    },
    {
     "data": {
      "image/png": "[encoded data removed]",
      "text/plain": [
       "<Figure size 640x480 with 1 Axes>"
      ]
     },
     "metadata": {},
     "output_type": "display_data"
    }
   ],
   "source": [
    "price.sample(100000).to_pandas().hist(bins=30)"
   ]
  },
  {
   "cell_type": "code",
   "execution_count": 22,
   "id": "481ef669",
   "metadata": {},
   "outputs": [],
   "source": [
    "# price.sample(1000)"
   ]
  },
  {
   "cell_type": "code",
   "execution_count": 23,
   "id": "ed0ccbde",
   "metadata": {},
   "outputs": [
    {
     "data": {
      "text/html": [
       "<div>\n",
       "<style scoped>\n",
       "    .dataframe tbody tr th:only-of-type {\n",
       "        vertical-align: middle;\n",
       "    }\n",
       "\n",
       "    .dataframe tbody tr th {\n",
       "        vertical-align: top;\n",
       "    }\n",
       "\n",
       "    .dataframe thead th {\n",
       "        text-align: right;\n",
       "    }\n",
       "</style>\n",
       "<table border=\"1\" class=\"dataframe\">\n",
       "  <thead>\n",
       "    <tr style=\"text-align: right;\">\n",
       "      <th></th>\n",
       "      <th>probs</th>\n",
       "      <th>percentiles</th>\n",
       "    </tr>\n",
       "  </thead>\n",
       "  <tbody>\n",
       "    <tr>\n",
       "      <th>0</th>\n",
       "      <td>0.00</td>\n",
       "      <td>0.00</td>\n",
       "    </tr>\n",
       "    <tr>\n",
       "      <th>1</th>\n",
       "      <td>0.25</td>\n",
       "      <td>65.98</td>\n",
       "    </tr>\n",
       "    <tr>\n",
       "      <th>2</th>\n",
       "      <td>0.50</td>\n",
       "      <td>162.93</td>\n",
       "    </tr>\n",
       "    <tr>\n",
       "      <th>3</th>\n",
       "      <td>0.75</td>\n",
       "      <td>358.57</td>\n",
       "    </tr>\n",
       "    <tr>\n",
       "      <th>4</th>\n",
       "      <td>1.00</td>\n",
       "      <td>2574.07</td>\n",
       "    </tr>\n",
       "  </tbody>\n",
       "</table>\n",
       "</div>"
      ],
      "text/plain": [
       "   probs  percentiles\n",
       "0   0.00         0.00\n",
       "1   0.25        65.98\n",
       "2   0.50       162.93\n",
       "3   0.75       358.57\n",
       "4   1.00      2574.07"
      ]
     },
     "execution_count": 23,
     "metadata": {},
     "output_type": "execute_result"
    }
   ],
   "source": [
    "probs = [0, 0.25, 0.5, 0.75, 1]\n",
    "percentiles = [price.quantile(prob)[0,0] for prob in probs]\n",
    "pd.DataFrame(dict(probs=probs, percentiles=percentiles))"
   ]
  },
  {
   "cell_type": "code",
   "execution_count": null,
   "id": "fbe672ae",
   "metadata": {},
   "outputs": [],
   "source": []
  }
 ],
 "metadata": {
  "kernelspec": {
   "display_name": "Python 3 (ipykernel)",
   "language": "python",
   "name": "python3"
  },
  "language_info": {
   "codemirror_mode": {
    "name": "ipython",
    "version": 3
   },
   "file_extension": ".py",
   "mimetype": "text/x-python",
   "name": "python",
   "nbconvert_exporter": "python",
   "pygments_lexer": "ipython3",
   "version": "3.11.4"
  }
 },
 "nbformat": 4,
 "nbformat_minor": 5
}

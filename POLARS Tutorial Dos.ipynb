{
 "cells": [
  {
   "cell_type": "code",
   "execution_count": 1,
   "id": "81a8d19d",
   "metadata": {},
   "outputs": [],
   "source": [
    "import polars as pl\n",
    "import pandas as pd\n",
    "import numpy as np\n",
    "import pyarrow\n",
    "\n",
    "import matplotlib.pyplot as plt\n",
    "import seaborn as sns\n",
    "\n",
    "\n",
    "# Download Dataset or run in a kaggle notebook\n",
    "# https://www.kaggle.com/datasets/mkechinov/ecommerce-behavior-data-from-multi-category-store\n",
    "df = pl.read_csv(\"C:/Users/LENOVO/Downloads/2019-Oct.csv\")"
   ]
  },
  {
   "cell_type": "markdown",
   "id": "008a8c9e",
   "metadata": {},
   "source": [
    "How to update columns and intro to window functions"
   ]
  },
  {
   "cell_type": "code",
   "execution_count": 2,
   "id": "651cfe5b",
   "metadata": {},
   "outputs": [
    {
     "data": {
      "text/html": [
       "<div><style>\n",
       ".dataframe > thead > tr > th,\n",
       ".dataframe > tbody > tr > td {\n",
       "  text-align: right;\n",
       "  white-space: pre-wrap;\n",
       "}\n",
       "</style>\n",
       "<small>shape: (5, 9)</small><table border=\"1\" class=\"dataframe\"><thead><tr><th>event_time</th><th>event_type</th><th>product_id</th><th>category_id</th><th>category_code</th><th>brand</th><th>price</th><th>user_id</th><th>user_session</th></tr><tr><td>str</td><td>str</td><td>i64</td><td>i64</td><td>str</td><td>str</td><td>f64</td><td>i64</td><td>str</td></tr></thead><tbody><tr><td>&quot;2019-10-01 00:…</td><td>&quot;view&quot;</td><td>44600062</td><td>2103807459595387724</td><td>null</td><td>&quot;shiseido&quot;</td><td>35.79</td><td>541312140</td><td>&quot;72d76fde-8bb3-…</td></tr><tr><td>&quot;2019-10-01 00:…</td><td>&quot;view&quot;</td><td>3900821</td><td>2053013552326770905</td><td>&quot;appliances.env…</td><td>&quot;aqua&quot;</td><td>33.2</td><td>554748717</td><td>&quot;9333dfbd-b87a-…</td></tr><tr><td>&quot;2019-10-01 00:…</td><td>&quot;view&quot;</td><td>17200506</td><td>2053013559792632471</td><td>&quot;furniture.livi…</td><td>null</td><td>543.1</td><td>519107250</td><td>&quot;566511c2-e2e3-…</td></tr><tr><td>&quot;2019-10-01 00:…</td><td>&quot;view&quot;</td><td>1307067</td><td>2053013558920217191</td><td>&quot;computers.note…</td><td>&quot;lenovo&quot;</td><td>251.74</td><td>550050854</td><td>&quot;7c90fc70-0e80-…</td></tr><tr><td>&quot;2019-10-01 00:…</td><td>&quot;view&quot;</td><td>1004237</td><td>2053013555631882655</td><td>&quot;electronics.sm…</td><td>&quot;apple&quot;</td><td>1081.98</td><td>535871217</td><td>&quot;c6bd7419-2748-…</td></tr></tbody></table></div>"
      ],
      "text/plain": [
       "shape: (5, 9)\n",
       "┌────────────┬────────────┬───────────┬───────────┬───┬──────────┬─────────┬───────────┬───────────┐\n",
       "│ event_time ┆ event_type ┆ product_i ┆ category_ ┆ … ┆ brand    ┆ price   ┆ user_id   ┆ user_sess │\n",
       "│ ---        ┆ ---        ┆ d         ┆ id        ┆   ┆ ---      ┆ ---     ┆ ---       ┆ ion       │\n",
       "│ str        ┆ str        ┆ ---       ┆ ---       ┆   ┆ str      ┆ f64     ┆ i64       ┆ ---       │\n",
       "│            ┆            ┆ i64       ┆ i64       ┆   ┆          ┆         ┆           ┆ str       │\n",
       "╞════════════╪════════════╪═══════════╪═══════════╪═══╪══════════╪═════════╪═══════════╪═══════════╡\n",
       "│ 2019-10-01 ┆ view       ┆ 44600062  ┆ 210380745 ┆ … ┆ shiseido ┆ 35.79   ┆ 541312140 ┆ 72d76fde- │\n",
       "│ 00:00:00   ┆            ┆           ┆ 959538772 ┆   ┆          ┆         ┆           ┆ 8bb3-4e00 │\n",
       "│ UTC        ┆            ┆           ┆ 4         ┆   ┆          ┆         ┆           ┆ -8c23-a03 │\n",
       "│            ┆            ┆           ┆           ┆   ┆          ┆         ┆           ┆ 2dfed…    │\n",
       "│ 2019-10-01 ┆ view       ┆ 3900821   ┆ 205301355 ┆ … ┆ aqua     ┆ 33.2    ┆ 554748717 ┆ 9333dfbd- │\n",
       "│ 00:00:00   ┆            ┆           ┆ 232677090 ┆   ┆          ┆         ┆           ┆ b87a-4708 │\n",
       "│ UTC        ┆            ┆           ┆ 5         ┆   ┆          ┆         ┆           ┆ -9857-633 │\n",
       "│            ┆            ┆           ┆           ┆   ┆          ┆         ┆           ┆ 6556b…    │\n",
       "│ 2019-10-01 ┆ view       ┆ 17200506  ┆ 205301355 ┆ … ┆ null     ┆ 543.1   ┆ 519107250 ┆ 566511c2- │\n",
       "│ 00:00:01   ┆            ┆           ┆ 979263247 ┆   ┆          ┆         ┆           ┆ e2e3-422b │\n",
       "│ UTC        ┆            ┆           ┆ 1         ┆   ┆          ┆         ┆           ┆ -b695-cf8 │\n",
       "│            ┆            ┆           ┆           ┆   ┆          ┆         ┆           ┆ e6e79…    │\n",
       "│ 2019-10-01 ┆ view       ┆ 1307067   ┆ 205301355 ┆ … ┆ lenovo   ┆ 251.74  ┆ 550050854 ┆ 7c90fc70- │\n",
       "│ 00:00:01   ┆            ┆           ┆ 892021719 ┆   ┆          ┆         ┆           ┆ 0e80-4590 │\n",
       "│ UTC        ┆            ┆           ┆ 1         ┆   ┆          ┆         ┆           ┆ -96f3-13c │\n",
       "│            ┆            ┆           ┆           ┆   ┆          ┆         ┆           ┆ 02c18…    │\n",
       "│ 2019-10-01 ┆ view       ┆ 1004237   ┆ 205301355 ┆ … ┆ apple    ┆ 1081.98 ┆ 535871217 ┆ c6bd7419- │\n",
       "│ 00:00:04   ┆            ┆           ┆ 563188265 ┆   ┆          ┆         ┆           ┆ 2748-4c56 │\n",
       "│ UTC        ┆            ┆           ┆ 5         ┆   ┆          ┆         ┆           ┆ -95b4-8ce │\n",
       "│            ┆            ┆           ┆           ┆   ┆          ┆         ┆           ┆ c9ff8…    │\n",
       "└────────────┴────────────┴───────────┴───────────┴───┴──────────┴─────────┴───────────┴───────────┘"
      ]
     },
     "execution_count": 2,
     "metadata": {},
     "output_type": "execute_result"
    }
   ],
   "source": [
    "df.head()"
   ]
  },
  {
   "cell_type": "code",
   "execution_count": 3,
   "id": "88cebdfd",
   "metadata": {},
   "outputs": [
    {
     "data": {
      "text/plain": [
       "(42448764, 9)"
      ]
     },
     "execution_count": 3,
     "metadata": {},
     "output_type": "execute_result"
    }
   ],
   "source": [
    "df.shape"
   ]
  },
  {
   "cell_type": "markdown",
   "id": "55847fbd",
   "metadata": {},
   "source": [
    "1. Update values on one or multiple columns"
   ]
  },
  {
   "cell_type": "code",
   "execution_count": 4,
   "id": "249d6fa7",
   "metadata": {},
   "outputs": [
    {
     "data": {
      "text/html": [
       "<div><style>\n",
       ".dataframe > thead > tr > th,\n",
       ".dataframe > tbody > tr > td {\n",
       "  text-align: right;\n",
       "  white-space: pre-wrap;\n",
       "}\n",
       "</style>\n",
       "<small>shape: (5, 9)</small><table border=\"1\" class=\"dataframe\"><thead><tr><th>event_time</th><th>event_type</th><th>product_id</th><th>category_id</th><th>category_code</th><th>brand</th><th>price</th><th>user_id</th><th>user_session</th></tr><tr><td>str</td><td>str</td><td>i64</td><td>i64</td><td>str</td><td>str</td><td>f64</td><td>i64</td><td>str</td></tr></thead><tbody><tr><td>&quot;2019-10-01 00:…</td><td>&quot;view&quot;</td><td>44600062</td><td>2103807459595387724</td><td>null</td><td>&quot;shiseido&quot;</td><td>35.79</td><td>541312140</td><td>&quot;72d76fde-8bb3-…</td></tr><tr><td>&quot;2019-10-01 00:…</td><td>&quot;view&quot;</td><td>3900821</td><td>2053013552326770905</td><td>&quot;appliances.env…</td><td>&quot;aqua&quot;</td><td>33.2</td><td>554748717</td><td>&quot;9333dfbd-b87a-…</td></tr><tr><td>&quot;2019-10-01 00:…</td><td>&quot;view&quot;</td><td>17200506</td><td>2053013559792632471</td><td>&quot;furniture.livi…</td><td>null</td><td>543.1</td><td>519107250</td><td>&quot;566511c2-e2e3-…</td></tr><tr><td>&quot;2019-10-01 00:…</td><td>&quot;view&quot;</td><td>1307067</td><td>2053013558920217191</td><td>&quot;computers.note…</td><td>&quot;lenovo&quot;</td><td>251.74</td><td>550050854</td><td>&quot;7c90fc70-0e80-…</td></tr><tr><td>&quot;2019-10-01 00:…</td><td>&quot;view&quot;</td><td>1004237</td><td>2053013555631882655</td><td>&quot;electronics.sm…</td><td>&quot;apple&quot;</td><td>1081.98</td><td>535871217</td><td>&quot;c6bd7419-2748-…</td></tr></tbody></table></div>"
      ],
      "text/plain": [
       "shape: (5, 9)\n",
       "┌────────────┬────────────┬───────────┬───────────┬───┬──────────┬─────────┬───────────┬───────────┐\n",
       "│ event_time ┆ event_type ┆ product_i ┆ category_ ┆ … ┆ brand    ┆ price   ┆ user_id   ┆ user_sess │\n",
       "│ ---        ┆ ---        ┆ d         ┆ id        ┆   ┆ ---      ┆ ---     ┆ ---       ┆ ion       │\n",
       "│ str        ┆ str        ┆ ---       ┆ ---       ┆   ┆ str      ┆ f64     ┆ i64       ┆ ---       │\n",
       "│            ┆            ┆ i64       ┆ i64       ┆   ┆          ┆         ┆           ┆ str       │\n",
       "╞════════════╪════════════╪═══════════╪═══════════╪═══╪══════════╪═════════╪═══════════╪═══════════╡\n",
       "│ 2019-10-01 ┆ view       ┆ 44600062  ┆ 210380745 ┆ … ┆ shiseido ┆ 35.79   ┆ 541312140 ┆ 72d76fde- │\n",
       "│ 00:00:00   ┆            ┆           ┆ 959538772 ┆   ┆          ┆         ┆           ┆ 8bb3-4e00 │\n",
       "│ UTC        ┆            ┆           ┆ 4         ┆   ┆          ┆         ┆           ┆ -8c23-a03 │\n",
       "│            ┆            ┆           ┆           ┆   ┆          ┆         ┆           ┆ 2dfed…    │\n",
       "│ 2019-10-01 ┆ view       ┆ 3900821   ┆ 205301355 ┆ … ┆ aqua     ┆ 33.2    ┆ 554748717 ┆ 9333dfbd- │\n",
       "│ 00:00:00   ┆            ┆           ┆ 232677090 ┆   ┆          ┆         ┆           ┆ b87a-4708 │\n",
       "│ UTC        ┆            ┆           ┆ 5         ┆   ┆          ┆         ┆           ┆ -9857-633 │\n",
       "│            ┆            ┆           ┆           ┆   ┆          ┆         ┆           ┆ 6556b…    │\n",
       "│ 2019-10-01 ┆ view       ┆ 17200506  ┆ 205301355 ┆ … ┆ null     ┆ 543.1   ┆ 519107250 ┆ 566511c2- │\n",
       "│ 00:00:01   ┆            ┆           ┆ 979263247 ┆   ┆          ┆         ┆           ┆ e2e3-422b │\n",
       "│ UTC        ┆            ┆           ┆ 1         ┆   ┆          ┆         ┆           ┆ -b695-cf8 │\n",
       "│            ┆            ┆           ┆           ┆   ┆          ┆         ┆           ┆ e6e79…    │\n",
       "│ 2019-10-01 ┆ view       ┆ 1307067   ┆ 205301355 ┆ … ┆ lenovo   ┆ 251.74  ┆ 550050854 ┆ 7c90fc70- │\n",
       "│ 00:00:01   ┆            ┆           ┆ 892021719 ┆   ┆          ┆         ┆           ┆ 0e80-4590 │\n",
       "│ UTC        ┆            ┆           ┆ 1         ┆   ┆          ┆         ┆           ┆ -96f3-13c │\n",
       "│            ┆            ┆           ┆           ┆   ┆          ┆         ┆           ┆ 02c18…    │\n",
       "│ 2019-10-01 ┆ view       ┆ 1004237   ┆ 205301355 ┆ … ┆ apple    ┆ 1081.98 ┆ 535871217 ┆ c6bd7419- │\n",
       "│ 00:00:04   ┆            ┆           ┆ 563188265 ┆   ┆          ┆         ┆           ┆ 2748-4c56 │\n",
       "│ UTC        ┆            ┆           ┆ 5         ┆   ┆          ┆         ┆           ┆ -95b4-8ce │\n",
       "│            ┆            ┆           ┆           ┆   ┆          ┆         ┆           ┆ c9ff8…    │\n",
       "└────────────┴────────────┴───────────┴───────────┴───┴──────────┴─────────┴───────────┴───────────┘"
      ]
     },
     "execution_count": 4,
     "metadata": {},
     "output_type": "execute_result"
    }
   ],
   "source": [
    "df_top = df.head()\n",
    "df_top"
   ]
  },
  {
   "cell_type": "code",
   "execution_count": 5,
   "id": "937e6195",
   "metadata": {},
   "outputs": [
    {
     "data": {
      "text/html": [
       "<div><style>\n",
       ".dataframe > thead > tr > th,\n",
       ".dataframe > tbody > tr > td {\n",
       "  text-align: right;\n",
       "  white-space: pre-wrap;\n",
       "}\n",
       "</style>\n",
       "<small>shape: (5, 10)</small><table border=\"1\" class=\"dataframe\"><thead><tr><th>event_time</th><th>event_type</th><th>product_id</th><th>category_id</th><th>category_code</th><th>brand</th><th>price</th><th>user_id</th><th>user_session</th><th>brand2</th></tr><tr><td>str</td><td>str</td><td>i64</td><td>i64</td><td>str</td><td>str</td><td>f64</td><td>i64</td><td>str</td><td>str</td></tr></thead><tbody><tr><td>&quot;2019-10-01 00:…</td><td>&quot;view&quot;</td><td>44600062</td><td>2103807459595387724</td><td>null</td><td>&quot;shiseido&quot;</td><td>35.79</td><td>541312140</td><td>&quot;72d76fde-8bb3-…</td><td>&quot;brand-shiseido…</td></tr><tr><td>&quot;2019-10-01 00:…</td><td>&quot;view&quot;</td><td>3900821</td><td>2053013552326770905</td><td>&quot;appliances.env…</td><td>&quot;aqua&quot;</td><td>33.2</td><td>554748717</td><td>&quot;9333dfbd-b87a-…</td><td>&quot;brand-aqua&quot;</td></tr><tr><td>&quot;2019-10-01 00:…</td><td>&quot;view&quot;</td><td>17200506</td><td>2053013559792632471</td><td>&quot;furniture.livi…</td><td>null</td><td>543.1</td><td>519107250</td><td>&quot;566511c2-e2e3-…</td><td>null</td></tr><tr><td>&quot;2019-10-01 00:…</td><td>&quot;view&quot;</td><td>1307067</td><td>2053013558920217191</td><td>&quot;computers.note…</td><td>&quot;lenovo&quot;</td><td>251.74</td><td>550050854</td><td>&quot;7c90fc70-0e80-…</td><td>&quot;brand-lenovo&quot;</td></tr><tr><td>&quot;2019-10-01 00:…</td><td>&quot;view&quot;</td><td>1004237</td><td>2053013555631882655</td><td>&quot;electronics.sm…</td><td>&quot;apple&quot;</td><td>1081.98</td><td>535871217</td><td>&quot;c6bd7419-2748-…</td><td>&quot;brand-apple&quot;</td></tr></tbody></table></div>"
      ],
      "text/plain": [
       "shape: (5, 10)\n",
       "┌────────────┬───────────┬───────────┬───────────┬───┬─────────┬───────────┬───────────┬───────────┐\n",
       "│ event_time ┆ event_typ ┆ product_i ┆ category_ ┆ … ┆ price   ┆ user_id   ┆ user_sess ┆ brand2    │\n",
       "│ ---        ┆ e         ┆ d         ┆ id        ┆   ┆ ---     ┆ ---       ┆ ion       ┆ ---       │\n",
       "│ str        ┆ ---       ┆ ---       ┆ ---       ┆   ┆ f64     ┆ i64       ┆ ---       ┆ str       │\n",
       "│            ┆ str       ┆ i64       ┆ i64       ┆   ┆         ┆           ┆ str       ┆           │\n",
       "╞════════════╪═══════════╪═══════════╪═══════════╪═══╪═════════╪═══════════╪═══════════╪═══════════╡\n",
       "│ 2019-10-01 ┆ view      ┆ 44600062  ┆ 210380745 ┆ … ┆ 35.79   ┆ 541312140 ┆ 72d76fde- ┆ brand-shi │\n",
       "│ 00:00:00   ┆           ┆           ┆ 959538772 ┆   ┆         ┆           ┆ 8bb3-4e00 ┆ seido     │\n",
       "│ UTC        ┆           ┆           ┆ 4         ┆   ┆         ┆           ┆ -8c23-a03 ┆           │\n",
       "│            ┆           ┆           ┆           ┆   ┆         ┆           ┆ 2dfed…    ┆           │\n",
       "│ 2019-10-01 ┆ view      ┆ 3900821   ┆ 205301355 ┆ … ┆ 33.2    ┆ 554748717 ┆ 9333dfbd- ┆ brand-aqu │\n",
       "│ 00:00:00   ┆           ┆           ┆ 232677090 ┆   ┆         ┆           ┆ b87a-4708 ┆ a         │\n",
       "│ UTC        ┆           ┆           ┆ 5         ┆   ┆         ┆           ┆ -9857-633 ┆           │\n",
       "│            ┆           ┆           ┆           ┆   ┆         ┆           ┆ 6556b…    ┆           │\n",
       "│ 2019-10-01 ┆ view      ┆ 17200506  ┆ 205301355 ┆ … ┆ 543.1   ┆ 519107250 ┆ 566511c2- ┆ null      │\n",
       "│ 00:00:01   ┆           ┆           ┆ 979263247 ┆   ┆         ┆           ┆ e2e3-422b ┆           │\n",
       "│ UTC        ┆           ┆           ┆ 1         ┆   ┆         ┆           ┆ -b695-cf8 ┆           │\n",
       "│            ┆           ┆           ┆           ┆   ┆         ┆           ┆ e6e79…    ┆           │\n",
       "│ 2019-10-01 ┆ view      ┆ 1307067   ┆ 205301355 ┆ … ┆ 251.74  ┆ 550050854 ┆ 7c90fc70- ┆ brand-len │\n",
       "│ 00:00:01   ┆           ┆           ┆ 892021719 ┆   ┆         ┆           ┆ 0e80-4590 ┆ ovo       │\n",
       "│ UTC        ┆           ┆           ┆ 1         ┆   ┆         ┆           ┆ -96f3-13c ┆           │\n",
       "│            ┆           ┆           ┆           ┆   ┆         ┆           ┆ 02c18…    ┆           │\n",
       "│ 2019-10-01 ┆ view      ┆ 1004237   ┆ 205301355 ┆ … ┆ 1081.98 ┆ 535871217 ┆ c6bd7419- ┆ brand-app │\n",
       "│ 00:00:04   ┆           ┆           ┆ 563188265 ┆   ┆         ┆           ┆ 2748-4c56 ┆ le        │\n",
       "│ UTC        ┆           ┆           ┆ 5         ┆   ┆         ┆           ┆ -95b4-8ce ┆           │\n",
       "│            ┆           ┆           ┆           ┆   ┆         ┆           ┆ c9ff8…    ┆           │\n",
       "└────────────┴───────────┴───────────┴───────────┴───┴─────────┴───────────┴───────────┴───────────┘"
      ]
     },
     "execution_count": 5,
     "metadata": {},
     "output_type": "execute_result"
    }
   ],
   "source": [
    "# Update a string column\n",
    "df_top.with_columns(\n",
    "    (\"brand-\" + pl.col(\"brand\")).alias(\"brand2\")\n",
    ")"
   ]
  },
  {
   "cell_type": "code",
   "execution_count": 6,
   "id": "395ab132",
   "metadata": {},
   "outputs": [
    {
     "data": {
      "text/html": [
       "<div><style>\n",
       ".dataframe > thead > tr > th,\n",
       ".dataframe > tbody > tr > td {\n",
       "  text-align: right;\n",
       "  white-space: pre-wrap;\n",
       "}\n",
       "</style>\n",
       "<small>shape: (5, 11)</small><table border=\"1\" class=\"dataframe\"><thead><tr><th>event_time</th><th>event_type</th><th>product_id</th><th>category_id</th><th>category_code</th><th>brand</th><th>price</th><th>user_id</th><th>user_session</th><th>brand2</th><th>price2</th></tr><tr><td>str</td><td>str</td><td>i64</td><td>i64</td><td>str</td><td>str</td><td>f64</td><td>i64</td><td>str</td><td>str</td><td>f64</td></tr></thead><tbody><tr><td>&quot;2019-10-01 00:…</td><td>&quot;view&quot;</td><td>44600062</td><td>2103807459595387724</td><td>null</td><td>&quot;shiseido&quot;</td><td>35.79</td><td>541312140</td><td>&quot;72d76fde-8bb3-…</td><td>&quot;brand-shiseido…</td><td>3579.0</td></tr><tr><td>&quot;2019-10-01 00:…</td><td>&quot;view&quot;</td><td>3900821</td><td>2053013552326770905</td><td>&quot;appliances.env…</td><td>&quot;aqua&quot;</td><td>33.2</td><td>554748717</td><td>&quot;9333dfbd-b87a-…</td><td>&quot;brand-aqua&quot;</td><td>3320.0</td></tr><tr><td>&quot;2019-10-01 00:…</td><td>&quot;view&quot;</td><td>17200506</td><td>2053013559792632471</td><td>&quot;furniture.livi…</td><td>null</td><td>543.1</td><td>519107250</td><td>&quot;566511c2-e2e3-…</td><td>null</td><td>54310.0</td></tr><tr><td>&quot;2019-10-01 00:…</td><td>&quot;view&quot;</td><td>1307067</td><td>2053013558920217191</td><td>&quot;computers.note…</td><td>&quot;lenovo&quot;</td><td>251.74</td><td>550050854</td><td>&quot;7c90fc70-0e80-…</td><td>&quot;brand-lenovo&quot;</td><td>25174.0</td></tr><tr><td>&quot;2019-10-01 00:…</td><td>&quot;view&quot;</td><td>1004237</td><td>2053013555631882655</td><td>&quot;electronics.sm…</td><td>&quot;apple&quot;</td><td>1081.98</td><td>535871217</td><td>&quot;c6bd7419-2748-…</td><td>&quot;brand-apple&quot;</td><td>108198.0</td></tr></tbody></table></div>"
      ],
      "text/plain": [
       "shape: (5, 11)\n",
       "┌───────────┬───────────┬───────────┬───────────┬───┬───────────┬───────────┬───────────┬──────────┐\n",
       "│ event_tim ┆ event_typ ┆ product_i ┆ category_ ┆ … ┆ user_id   ┆ user_sess ┆ brand2    ┆ price2   │\n",
       "│ e         ┆ e         ┆ d         ┆ id        ┆   ┆ ---       ┆ ion       ┆ ---       ┆ ---      │\n",
       "│ ---       ┆ ---       ┆ ---       ┆ ---       ┆   ┆ i64       ┆ ---       ┆ str       ┆ f64      │\n",
       "│ str       ┆ str       ┆ i64       ┆ i64       ┆   ┆           ┆ str       ┆           ┆          │\n",
       "╞═══════════╪═══════════╪═══════════╪═══════════╪═══╪═══════════╪═══════════╪═══════════╪══════════╡\n",
       "│ 2019-10-0 ┆ view      ┆ 44600062  ┆ 210380745 ┆ … ┆ 541312140 ┆ 72d76fde- ┆ brand-shi ┆ 3579.0   │\n",
       "│ 1         ┆           ┆           ┆ 959538772 ┆   ┆           ┆ 8bb3-4e00 ┆ seido     ┆          │\n",
       "│ 00:00:00  ┆           ┆           ┆ 4         ┆   ┆           ┆ -8c23-a03 ┆           ┆          │\n",
       "│ UTC       ┆           ┆           ┆           ┆   ┆           ┆ 2dfed…    ┆           ┆          │\n",
       "│ 2019-10-0 ┆ view      ┆ 3900821   ┆ 205301355 ┆ … ┆ 554748717 ┆ 9333dfbd- ┆ brand-aqu ┆ 3320.0   │\n",
       "│ 1         ┆           ┆           ┆ 232677090 ┆   ┆           ┆ b87a-4708 ┆ a         ┆          │\n",
       "│ 00:00:00  ┆           ┆           ┆ 5         ┆   ┆           ┆ -9857-633 ┆           ┆          │\n",
       "│ UTC       ┆           ┆           ┆           ┆   ┆           ┆ 6556b…    ┆           ┆          │\n",
       "│ 2019-10-0 ┆ view      ┆ 17200506  ┆ 205301355 ┆ … ┆ 519107250 ┆ 566511c2- ┆ null      ┆ 54310.0  │\n",
       "│ 1         ┆           ┆           ┆ 979263247 ┆   ┆           ┆ e2e3-422b ┆           ┆          │\n",
       "│ 00:00:01  ┆           ┆           ┆ 1         ┆   ┆           ┆ -b695-cf8 ┆           ┆          │\n",
       "│ UTC       ┆           ┆           ┆           ┆   ┆           ┆ e6e79…    ┆           ┆          │\n",
       "│ 2019-10-0 ┆ view      ┆ 1307067   ┆ 205301355 ┆ … ┆ 550050854 ┆ 7c90fc70- ┆ brand-len ┆ 25174.0  │\n",
       "│ 1         ┆           ┆           ┆ 892021719 ┆   ┆           ┆ 0e80-4590 ┆ ovo       ┆          │\n",
       "│ 00:00:01  ┆           ┆           ┆ 1         ┆   ┆           ┆ -96f3-13c ┆           ┆          │\n",
       "│ UTC       ┆           ┆           ┆           ┆   ┆           ┆ 02c18…    ┆           ┆          │\n",
       "│ 2019-10-0 ┆ view      ┆ 1004237   ┆ 205301355 ┆ … ┆ 535871217 ┆ c6bd7419- ┆ brand-app ┆ 108198.0 │\n",
       "│ 1         ┆           ┆           ┆ 563188265 ┆   ┆           ┆ 2748-4c56 ┆ le        ┆          │\n",
       "│ 00:00:04  ┆           ┆           ┆ 5         ┆   ┆           ┆ -95b4-8ce ┆           ┆          │\n",
       "│ UTC       ┆           ┆           ┆           ┆   ┆           ┆ c9ff8…    ┆           ┆          │\n",
       "└───────────┴───────────┴───────────┴───────────┴───┴───────────┴───────────┴───────────┴──────────┘"
      ]
     },
     "execution_count": 6,
     "metadata": {},
     "output_type": "execute_result"
    }
   ],
   "source": [
    "# Update a numeric column\n",
    "df_top.with_columns([\n",
    "    (\"brand-\" + pl.col(\"brand\")).alias(\"brand2\"),\n",
    "    (pl.col(\"price\") * 100).alias(\"price2\")\n",
    "])"
   ]
  },
  {
   "cell_type": "code",
   "execution_count": 7,
   "id": "cebf919f",
   "metadata": {},
   "outputs": [
    {
     "data": {
      "text/html": [
       "<div><style>\n",
       ".dataframe > thead > tr > th,\n",
       ".dataframe > tbody > tr > td {\n",
       "  text-align: right;\n",
       "  white-space: pre-wrap;\n",
       "}\n",
       "</style>\n",
       "<small>shape: (5, 10)</small><table border=\"1\" class=\"dataframe\"><thead><tr><th>event_time</th><th>event_type</th><th>product_id</th><th>category_id</th><th>category_code</th><th>brand</th><th>price</th><th>user_id</th><th>user_session</th><th>price_avg</th></tr><tr><td>str</td><td>str</td><td>i64</td><td>i64</td><td>str</td><td>str</td><td>f64</td><td>i64</td><td>str</td><td>f64</td></tr></thead><tbody><tr><td>&quot;2019-10-01 00:…</td><td>&quot;view&quot;</td><td>44600062</td><td>2103807459595387724</td><td>null</td><td>&quot;shiseido&quot;</td><td>35.79</td><td>541312140</td><td>&quot;72d76fde-8bb3-…</td><td>389.162</td></tr><tr><td>&quot;2019-10-01 00:…</td><td>&quot;view&quot;</td><td>3900821</td><td>2053013552326770905</td><td>&quot;appliances.env…</td><td>&quot;aqua&quot;</td><td>33.2</td><td>554748717</td><td>&quot;9333dfbd-b87a-…</td><td>389.162</td></tr><tr><td>&quot;2019-10-01 00:…</td><td>&quot;view&quot;</td><td>17200506</td><td>2053013559792632471</td><td>&quot;furniture.livi…</td><td>null</td><td>543.1</td><td>519107250</td><td>&quot;566511c2-e2e3-…</td><td>389.162</td></tr><tr><td>&quot;2019-10-01 00:…</td><td>&quot;view&quot;</td><td>1307067</td><td>2053013558920217191</td><td>&quot;computers.note…</td><td>&quot;lenovo&quot;</td><td>251.74</td><td>550050854</td><td>&quot;7c90fc70-0e80-…</td><td>389.162</td></tr><tr><td>&quot;2019-10-01 00:…</td><td>&quot;view&quot;</td><td>1004237</td><td>2053013555631882655</td><td>&quot;electronics.sm…</td><td>&quot;apple&quot;</td><td>1081.98</td><td>535871217</td><td>&quot;c6bd7419-2748-…</td><td>389.162</td></tr></tbody></table></div>"
      ],
      "text/plain": [
       "shape: (5, 10)\n",
       "┌────────────┬───────────┬───────────┬───────────┬───┬─────────┬───────────┬───────────┬───────────┐\n",
       "│ event_time ┆ event_typ ┆ product_i ┆ category_ ┆ … ┆ price   ┆ user_id   ┆ user_sess ┆ price_avg │\n",
       "│ ---        ┆ e         ┆ d         ┆ id        ┆   ┆ ---     ┆ ---       ┆ ion       ┆ ---       │\n",
       "│ str        ┆ ---       ┆ ---       ┆ ---       ┆   ┆ f64     ┆ i64       ┆ ---       ┆ f64       │\n",
       "│            ┆ str       ┆ i64       ┆ i64       ┆   ┆         ┆           ┆ str       ┆           │\n",
       "╞════════════╪═══════════╪═══════════╪═══════════╪═══╪═════════╪═══════════╪═══════════╪═══════════╡\n",
       "│ 2019-10-01 ┆ view      ┆ 44600062  ┆ 210380745 ┆ … ┆ 35.79   ┆ 541312140 ┆ 72d76fde- ┆ 389.162   │\n",
       "│ 00:00:00   ┆           ┆           ┆ 959538772 ┆   ┆         ┆           ┆ 8bb3-4e00 ┆           │\n",
       "│ UTC        ┆           ┆           ┆ 4         ┆   ┆         ┆           ┆ -8c23-a03 ┆           │\n",
       "│            ┆           ┆           ┆           ┆   ┆         ┆           ┆ 2dfed…    ┆           │\n",
       "│ 2019-10-01 ┆ view      ┆ 3900821   ┆ 205301355 ┆ … ┆ 33.2    ┆ 554748717 ┆ 9333dfbd- ┆ 389.162   │\n",
       "│ 00:00:00   ┆           ┆           ┆ 232677090 ┆   ┆         ┆           ┆ b87a-4708 ┆           │\n",
       "│ UTC        ┆           ┆           ┆ 5         ┆   ┆         ┆           ┆ -9857-633 ┆           │\n",
       "│            ┆           ┆           ┆           ┆   ┆         ┆           ┆ 6556b…    ┆           │\n",
       "│ 2019-10-01 ┆ view      ┆ 17200506  ┆ 205301355 ┆ … ┆ 543.1   ┆ 519107250 ┆ 566511c2- ┆ 389.162   │\n",
       "│ 00:00:01   ┆           ┆           ┆ 979263247 ┆   ┆         ┆           ┆ e2e3-422b ┆           │\n",
       "│ UTC        ┆           ┆           ┆ 1         ┆   ┆         ┆           ┆ -b695-cf8 ┆           │\n",
       "│            ┆           ┆           ┆           ┆   ┆         ┆           ┆ e6e79…    ┆           │\n",
       "│ 2019-10-01 ┆ view      ┆ 1307067   ┆ 205301355 ┆ … ┆ 251.74  ┆ 550050854 ┆ 7c90fc70- ┆ 389.162   │\n",
       "│ 00:00:01   ┆           ┆           ┆ 892021719 ┆   ┆         ┆           ┆ 0e80-4590 ┆           │\n",
       "│ UTC        ┆           ┆           ┆ 1         ┆   ┆         ┆           ┆ -96f3-13c ┆           │\n",
       "│            ┆           ┆           ┆           ┆   ┆         ┆           ┆ 02c18…    ┆           │\n",
       "│ 2019-10-01 ┆ view      ┆ 1004237   ┆ 205301355 ┆ … ┆ 1081.98 ┆ 535871217 ┆ c6bd7419- ┆ 389.162   │\n",
       "│ 00:00:04   ┆           ┆           ┆ 563188265 ┆   ┆         ┆           ┆ 2748-4c56 ┆           │\n",
       "│ UTC        ┆           ┆           ┆ 5         ┆   ┆         ┆           ┆ -95b4-8ce ┆           │\n",
       "│            ┆           ┆           ┆           ┆   ┆         ┆           ┆ c9ff8…    ┆           │\n",
       "└────────────┴───────────┴───────────┴───────────┴───┴─────────┴───────────┴───────────┴───────────┘"
      ]
     },
     "execution_count": 7,
     "metadata": {},
     "output_type": "execute_result"
    }
   ],
   "source": [
    "# Create a column with a constant (based on the mean) \n",
    "df_top.select([\n",
    "    pl.all(),\n",
    "    pl.col(\"price\").mean().alias(\"price_avg\")    \n",
    "])"
   ]
  },
  {
   "cell_type": "markdown",
   "id": "7fb01842",
   "metadata": {},
   "source": [
    "2. Update values based on window function\n",
    "In pandas this is done with transform. In R's dplyr with mutate.\n",
    "The idea is we update values of a column BY a group and the new column has the same size of the original dataframe.\n",
    "The over() call defines the group we are interested in"
   ]
  },
  {
   "cell_type": "code",
   "execution_count": 8,
   "id": "7b08926f",
   "metadata": {},
   "outputs": [
    {
     "data": {
      "text/html": [
       "<div><style>\n",
       ".dataframe > thead > tr > th,\n",
       ".dataframe > tbody > tr > td {\n",
       "  text-align: right;\n",
       "  white-space: pre-wrap;\n",
       "}\n",
       "</style>\n",
       "<small>shape: (5, 9)</small><table border=\"1\" class=\"dataframe\"><thead><tr><th>event_time</th><th>event_type</th><th>product_id</th><th>category_id</th><th>category_code</th><th>brand</th><th>price</th><th>user_id</th><th>user_session</th></tr><tr><td>str</td><td>str</td><td>i64</td><td>i64</td><td>str</td><td>str</td><td>f64</td><td>i64</td><td>str</td></tr></thead><tbody><tr><td>&quot;2019-10-01 00:…</td><td>&quot;view&quot;</td><td>44600062</td><td>2103807459595387724</td><td>null</td><td>&quot;shiseido&quot;</td><td>35.79</td><td>541312140</td><td>&quot;72d76fde-8bb3-…</td></tr><tr><td>&quot;2019-10-01 00:…</td><td>&quot;view&quot;</td><td>3900821</td><td>2053013552326770905</td><td>&quot;appliances.env…</td><td>&quot;aqua&quot;</td><td>33.2</td><td>554748717</td><td>&quot;9333dfbd-b87a-…</td></tr><tr><td>&quot;2019-10-01 00:…</td><td>&quot;view&quot;</td><td>17200506</td><td>2053013559792632471</td><td>&quot;furniture.livi…</td><td>null</td><td>543.1</td><td>519107250</td><td>&quot;566511c2-e2e3-…</td></tr><tr><td>&quot;2019-10-01 00:…</td><td>&quot;view&quot;</td><td>1307067</td><td>2053013558920217191</td><td>&quot;computers.note…</td><td>&quot;lenovo&quot;</td><td>251.74</td><td>550050854</td><td>&quot;7c90fc70-0e80-…</td></tr><tr><td>&quot;2019-10-01 00:…</td><td>&quot;view&quot;</td><td>1004237</td><td>2053013555631882655</td><td>&quot;electronics.sm…</td><td>&quot;apple&quot;</td><td>1081.98</td><td>535871217</td><td>&quot;c6bd7419-2748-…</td></tr></tbody></table></div>"
      ],
      "text/plain": [
       "shape: (5, 9)\n",
       "┌────────────┬────────────┬───────────┬───────────┬───┬──────────┬─────────┬───────────┬───────────┐\n",
       "│ event_time ┆ event_type ┆ product_i ┆ category_ ┆ … ┆ brand    ┆ price   ┆ user_id   ┆ user_sess │\n",
       "│ ---        ┆ ---        ┆ d         ┆ id        ┆   ┆ ---      ┆ ---     ┆ ---       ┆ ion       │\n",
       "│ str        ┆ str        ┆ ---       ┆ ---       ┆   ┆ str      ┆ f64     ┆ i64       ┆ ---       │\n",
       "│            ┆            ┆ i64       ┆ i64       ┆   ┆          ┆         ┆           ┆ str       │\n",
       "╞════════════╪════════════╪═══════════╪═══════════╪═══╪══════════╪═════════╪═══════════╪═══════════╡\n",
       "│ 2019-10-01 ┆ view       ┆ 44600062  ┆ 210380745 ┆ … ┆ shiseido ┆ 35.79   ┆ 541312140 ┆ 72d76fde- │\n",
       "│ 00:00:00   ┆            ┆           ┆ 959538772 ┆   ┆          ┆         ┆           ┆ 8bb3-4e00 │\n",
       "│ UTC        ┆            ┆           ┆ 4         ┆   ┆          ┆         ┆           ┆ -8c23-a03 │\n",
       "│            ┆            ┆           ┆           ┆   ┆          ┆         ┆           ┆ 2dfed…    │\n",
       "│ 2019-10-01 ┆ view       ┆ 3900821   ┆ 205301355 ┆ … ┆ aqua     ┆ 33.2    ┆ 554748717 ┆ 9333dfbd- │\n",
       "│ 00:00:00   ┆            ┆           ┆ 232677090 ┆   ┆          ┆         ┆           ┆ b87a-4708 │\n",
       "│ UTC        ┆            ┆           ┆ 5         ┆   ┆          ┆         ┆           ┆ -9857-633 │\n",
       "│            ┆            ┆           ┆           ┆   ┆          ┆         ┆           ┆ 6556b…    │\n",
       "│ 2019-10-01 ┆ view       ┆ 17200506  ┆ 205301355 ┆ … ┆ null     ┆ 543.1   ┆ 519107250 ┆ 566511c2- │\n",
       "│ 00:00:01   ┆            ┆           ┆ 979263247 ┆   ┆          ┆         ┆           ┆ e2e3-422b │\n",
       "│ UTC        ┆            ┆           ┆ 1         ┆   ┆          ┆         ┆           ┆ -b695-cf8 │\n",
       "│            ┆            ┆           ┆           ┆   ┆          ┆         ┆           ┆ e6e79…    │\n",
       "│ 2019-10-01 ┆ view       ┆ 1307067   ┆ 205301355 ┆ … ┆ lenovo   ┆ 251.74  ┆ 550050854 ┆ 7c90fc70- │\n",
       "│ 00:00:01   ┆            ┆           ┆ 892021719 ┆   ┆          ┆         ┆           ┆ 0e80-4590 │\n",
       "│ UTC        ┆            ┆           ┆ 1         ┆   ┆          ┆         ┆           ┆ -96f3-13c │\n",
       "│            ┆            ┆           ┆           ┆   ┆          ┆         ┆           ┆ 02c18…    │\n",
       "│ 2019-10-01 ┆ view       ┆ 1004237   ┆ 205301355 ┆ … ┆ apple    ┆ 1081.98 ┆ 535871217 ┆ c6bd7419- │\n",
       "│ 00:00:04   ┆            ┆           ┆ 563188265 ┆   ┆          ┆         ┆           ┆ 2748-4c56 │\n",
       "│ UTC        ┆            ┆           ┆ 5         ┆   ┆          ┆         ┆           ┆ -95b4-8ce │\n",
       "│            ┆            ┆           ┆           ┆   ┆          ┆         ┆           ┆ c9ff8…    │\n",
       "└────────────┴────────────┴───────────┴───────────┴───┴──────────┴─────────┴───────────┴───────────┘"
      ]
     },
     "execution_count": 8,
     "metadata": {},
     "output_type": "execute_result"
    }
   ],
   "source": [
    "df.head()"
   ]
  },
  {
   "cell_type": "code",
   "execution_count": 9,
   "id": "0e98ba3b",
   "metadata": {},
   "outputs": [
    {
     "data": {
      "text/html": [
       "<div><style>\n",
       ".dataframe > thead > tr > th,\n",
       ".dataframe > tbody > tr > td {\n",
       "  text-align: right;\n",
       "  white-space: pre-wrap;\n",
       "}\n",
       "</style>\n",
       "<small>shape: (10, 10)</small><table border=\"1\" class=\"dataframe\"><thead><tr><th>event_time</th><th>event_type</th><th>product_id</th><th>category_id</th><th>category_code</th><th>brand</th><th>price</th><th>user_id</th><th>user_session</th><th>price_by_categorycode</th></tr><tr><td>str</td><td>str</td><td>i64</td><td>i64</td><td>str</td><td>str</td><td>f64</td><td>i64</td><td>str</td><td>f64</td></tr></thead><tbody><tr><td>&quot;2019-10-01 00:…</td><td>&quot;view&quot;</td><td>44600062</td><td>2103807459595387724</td><td>null</td><td>&quot;shiseido&quot;</td><td>35.79</td><td>541312140</td><td>&quot;72d76fde-8bb3-…</td><td>184.912453</td></tr><tr><td>&quot;2019-10-01 00:…</td><td>&quot;view&quot;</td><td>3900821</td><td>2053013552326770905</td><td>&quot;appliances.env…</td><td>&quot;aqua&quot;</td><td>33.2</td><td>554748717</td><td>&quot;9333dfbd-b87a-…</td><td>109.006036</td></tr><tr><td>&quot;2019-10-01 00:…</td><td>&quot;view&quot;</td><td>17200506</td><td>2053013559792632471</td><td>&quot;furniture.livi…</td><td>null</td><td>543.1</td><td>519107250</td><td>&quot;566511c2-e2e3-…</td><td>619.629202</td></tr><tr><td>&quot;2019-10-01 00:…</td><td>&quot;view&quot;</td><td>1307067</td><td>2053013558920217191</td><td>&quot;computers.note…</td><td>&quot;lenovo&quot;</td><td>251.74</td><td>550050854</td><td>&quot;7c90fc70-0e80-…</td><td>711.357948</td></tr><tr><td>&quot;2019-10-01 00:…</td><td>&quot;view&quot;</td><td>1004237</td><td>2053013555631882655</td><td>&quot;electronics.sm…</td><td>&quot;apple&quot;</td><td>1081.98</td><td>535871217</td><td>&quot;c6bd7419-2748-…</td><td>471.947082</td></tr><tr><td>&quot;2019-10-01 00:…</td><td>&quot;view&quot;</td><td>1480613</td><td>2053013561092866779</td><td>&quot;computers.desk…</td><td>&quot;pulser&quot;</td><td>908.62</td><td>512742880</td><td>&quot;0d0d91c2-c9c2-…</td><td>535.683844</td></tr><tr><td>&quot;2019-10-01 00:…</td><td>&quot;view&quot;</td><td>17300353</td><td>2053013553853497655</td><td>null</td><td>&quot;creed&quot;</td><td>380.96</td><td>555447699</td><td>&quot;4fe811e9-91de-…</td><td>184.912453</td></tr><tr><td>&quot;2019-10-01 00:…</td><td>&quot;view&quot;</td><td>31500053</td><td>2053013558031024687</td><td>null</td><td>&quot;luminarc&quot;</td><td>41.16</td><td>550978835</td><td>&quot;6280d577-25c8-…</td><td>184.912453</td></tr><tr><td>&quot;2019-10-01 00:…</td><td>&quot;view&quot;</td><td>28719074</td><td>2053013565480109009</td><td>&quot;apparel.shoes.…</td><td>&quot;baden&quot;</td><td>102.71</td><td>520571932</td><td>&quot;ac1cd4e5-a3ce-…</td><td>78.35775</td></tr><tr><td>&quot;2019-10-01 00:…</td><td>&quot;view&quot;</td><td>1004545</td><td>2053013555631882655</td><td>&quot;electronics.sm…</td><td>&quot;huawei&quot;</td><td>566.01</td><td>537918940</td><td>&quot;406c46ed-90a4-…</td><td>471.947082</td></tr></tbody></table></div>"
      ],
      "text/plain": [
       "shape: (10, 10)\n",
       "┌────────────┬────────────┬───────────┬───────────┬───┬────────┬───────────┬───────────┬───────────┐\n",
       "│ event_time ┆ event_type ┆ product_i ┆ category_ ┆ … ┆ price  ┆ user_id   ┆ user_sess ┆ price_by_ │\n",
       "│ ---        ┆ ---        ┆ d         ┆ id        ┆   ┆ ---    ┆ ---       ┆ ion       ┆ categoryc │\n",
       "│ str        ┆ str        ┆ ---       ┆ ---       ┆   ┆ f64    ┆ i64       ┆ ---       ┆ ode       │\n",
       "│            ┆            ┆ i64       ┆ i64       ┆   ┆        ┆           ┆ str       ┆ ---       │\n",
       "│            ┆            ┆           ┆           ┆   ┆        ┆           ┆           ┆ f64       │\n",
       "╞════════════╪════════════╪═══════════╪═══════════╪═══╪════════╪═══════════╪═══════════╪═══════════╡\n",
       "│ 2019-10-01 ┆ view       ┆ 44600062  ┆ 210380745 ┆ … ┆ 35.79  ┆ 541312140 ┆ 72d76fde- ┆ 184.91245 │\n",
       "│ 00:00:00   ┆            ┆           ┆ 959538772 ┆   ┆        ┆           ┆ 8bb3-4e00 ┆ 3         │\n",
       "│ UTC        ┆            ┆           ┆ 4         ┆   ┆        ┆           ┆ -8c23-a03 ┆           │\n",
       "│            ┆            ┆           ┆           ┆   ┆        ┆           ┆ 2dfed…    ┆           │\n",
       "│ 2019-10-01 ┆ view       ┆ 3900821   ┆ 205301355 ┆ … ┆ 33.2   ┆ 554748717 ┆ 9333dfbd- ┆ 109.00603 │\n",
       "│ 00:00:00   ┆            ┆           ┆ 232677090 ┆   ┆        ┆           ┆ b87a-4708 ┆ 6         │\n",
       "│ UTC        ┆            ┆           ┆ 5         ┆   ┆        ┆           ┆ -9857-633 ┆           │\n",
       "│            ┆            ┆           ┆           ┆   ┆        ┆           ┆ 6556b…    ┆           │\n",
       "│ 2019-10-01 ┆ view       ┆ 17200506  ┆ 205301355 ┆ … ┆ 543.1  ┆ 519107250 ┆ 566511c2- ┆ 619.62920 │\n",
       "│ 00:00:01   ┆            ┆           ┆ 979263247 ┆   ┆        ┆           ┆ e2e3-422b ┆ 2         │\n",
       "│ UTC        ┆            ┆           ┆ 1         ┆   ┆        ┆           ┆ -b695-cf8 ┆           │\n",
       "│            ┆            ┆           ┆           ┆   ┆        ┆           ┆ e6e79…    ┆           │\n",
       "│ 2019-10-01 ┆ view       ┆ 1307067   ┆ 205301355 ┆ … ┆ 251.74 ┆ 550050854 ┆ 7c90fc70- ┆ 711.35794 │\n",
       "│ 00:00:01   ┆            ┆           ┆ 892021719 ┆   ┆        ┆           ┆ 0e80-4590 ┆ 8         │\n",
       "│ UTC        ┆            ┆           ┆ 1         ┆   ┆        ┆           ┆ -96f3-13c ┆           │\n",
       "│            ┆            ┆           ┆           ┆   ┆        ┆           ┆ 02c18…    ┆           │\n",
       "│ …          ┆ …          ┆ …         ┆ …         ┆ … ┆ …      ┆ …         ┆ …         ┆ …         │\n",
       "│ 2019-10-01 ┆ view       ┆ 17300353  ┆ 205301355 ┆ … ┆ 380.96 ┆ 555447699 ┆ 4fe811e9- ┆ 184.91245 │\n",
       "│ 00:00:08   ┆            ┆           ┆ 385349765 ┆   ┆        ┆           ┆ 91de-46da ┆ 3         │\n",
       "│ UTC        ┆            ┆           ┆ 5         ┆   ┆        ┆           ┆ -90c3-bbd ┆           │\n",
       "│            ┆            ┆           ┆           ┆   ┆        ┆           ┆ 87ed3…    ┆           │\n",
       "│ 2019-10-01 ┆ view       ┆ 31500053  ┆ 205301355 ┆ … ┆ 41.16  ┆ 550978835 ┆ 6280d577- ┆ 184.91245 │\n",
       "│ 00:00:08   ┆            ┆           ┆ 803102468 ┆   ┆        ┆           ┆ 25c8-4147 ┆ 3         │\n",
       "│ UTC        ┆            ┆           ┆ 7         ┆   ┆        ┆           ┆ -99a7-abc ┆           │\n",
       "│            ┆            ┆           ┆           ┆   ┆        ┆           ┆ 60484…    ┆           │\n",
       "│ 2019-10-01 ┆ view       ┆ 28719074  ┆ 205301356 ┆ … ┆ 102.71 ┆ 520571932 ┆ ac1cd4e5- ┆ 78.35775  │\n",
       "│ 00:00:10   ┆            ┆           ┆ 548010900 ┆   ┆        ┆           ┆ a3ce-4224 ┆           │\n",
       "│ UTC        ┆            ┆           ┆ 9         ┆   ┆        ┆           ┆ -a2d7-ff6 ┆           │\n",
       "│            ┆            ┆           ┆           ┆   ┆        ┆           ┆ 60a10…    ┆           │\n",
       "│ 2019-10-01 ┆ view       ┆ 1004545   ┆ 205301355 ┆ … ┆ 566.01 ┆ 537918940 ┆ 406c46ed- ┆ 471.94708 │\n",
       "│ 00:00:11   ┆            ┆           ┆ 563188265 ┆   ┆        ┆           ┆ 90a4-4787 ┆ 2         │\n",
       "│ UTC        ┆            ┆           ┆ 5         ┆   ┆        ┆           ┆ -a43b-59a ┆           │\n",
       "│            ┆            ┆           ┆           ┆   ┆        ┆           ┆ 410c1…    ┆           │\n",
       "└────────────┴────────────┴───────────┴───────────┴───┴────────┴───────────┴───────────┴───────────┘"
      ]
     },
     "execution_count": 9,
     "metadata": {},
     "output_type": "execute_result"
    }
   ],
   "source": [
    "df.with_columns([\n",
    "    pl.col(\"price\").mean().over(\"category_code\").alias(\"price_by_categorycode\")\n",
    "]).head(10)"
   ]
  },
  {
   "cell_type": "code",
   "execution_count": 10,
   "id": "963d9b04",
   "metadata": {},
   "outputs": [
    {
     "data": {
      "text/html": [
       "<div><style>\n",
       ".dataframe > thead > tr > th,\n",
       ".dataframe > tbody > tr > td {\n",
       "  text-align: right;\n",
       "  white-space: pre-wrap;\n",
       "}\n",
       "</style>\n",
       "<small>shape: (5, 4)</small><table border=\"1\" class=\"dataframe\"><thead><tr><th>category_code</th><th>price</th><th>price_by_category</th><th>price_div_cat_average</th></tr><tr><td>str</td><td>f64</td><td>f64</td><td>f64</td></tr></thead><tbody><tr><td>null</td><td>35.79</td><td>184.912453</td><td>-0.806449</td></tr><tr><td>&quot;appliances.env…</td><td>33.2</td><td>109.006036</td><td>-0.69543</td></tr><tr><td>&quot;furniture.livi…</td><td>543.1</td><td>619.629202</td><td>-0.123508</td></tr><tr><td>&quot;computers.note…</td><td>251.74</td><td>711.357948</td><td>-0.646113</td></tr><tr><td>&quot;electronics.sm…</td><td>1081.98</td><td>471.947082</td><td>1.292588</td></tr></tbody></table></div>"
      ],
      "text/plain": [
       "shape: (5, 4)\n",
       "┌───────────────────────────────────┬─────────┬───────────────────┬───────────────────────┐\n",
       "│ category_code                     ┆ price   ┆ price_by_category ┆ price_div_cat_average │\n",
       "│ ---                               ┆ ---     ┆ ---               ┆ ---                   │\n",
       "│ str                               ┆ f64     ┆ f64               ┆ f64                   │\n",
       "╞═══════════════════════════════════╪═════════╪═══════════════════╪═══════════════════════╡\n",
       "│ null                              ┆ 35.79   ┆ 184.912453        ┆ -0.806449             │\n",
       "│ appliances.environment.water_hea… ┆ 33.2    ┆ 109.006036        ┆ -0.69543              │\n",
       "│ furniture.living_room.sofa        ┆ 543.1   ┆ 619.629202        ┆ -0.123508             │\n",
       "│ computers.notebook                ┆ 251.74  ┆ 711.357948        ┆ -0.646113             │\n",
       "│ electronics.smartphone            ┆ 1081.98 ┆ 471.947082        ┆ 1.292588              │\n",
       "└───────────────────────────────────┴─────────┴───────────────────┴───────────────────────┘"
      ]
     },
     "execution_count": 10,
     "metadata": {},
     "output_type": "execute_result"
    }
   ],
   "source": [
    "# now I can compute the difference between the price and the category average.\n",
    "df_cat_window = df.select([\n",
    "    pl.col(\"category_code\"),\n",
    "    pl.col(\"price\"),\n",
    "    pl.col(\"price\").mean().over(\"category_code\").alias(\"price_by_category\"),\n",
    "    (pl.col(\"price\") / pl.col(\"price\").mean().over(\"category_code\") - 1).alias(\"price_div_cat_average\")\n",
    "])\n",
    "df_cat_window.head()"
   ]
  },
  {
   "cell_type": "code",
   "execution_count": 11,
   "id": "48f9d9eb",
   "metadata": {},
   "outputs": [],
   "source": [
    "df_cat_window_sample = df_cat_window.sample(1000000).to_pandas()"
   ]
  },
  {
   "cell_type": "code",
   "execution_count": 12,
   "id": "1d39ee1e",
   "metadata": {},
   "outputs": [
    {
     "data": {
      "text/plain": [
       "<Axes: >"
      ]
     },
     "execution_count": 12,
     "metadata": {},
     "output_type": "execute_result"
    },
    {
     "data": {
      "image/png": "[encoded data removed]",
      "text/plain": [
       "<Figure size 640x480 with 1 Axes>"
      ]
     },
     "metadata": {},
     "output_type": "display_data"
    }
   ],
   "source": [
    "df_cat_window_sample.price_div_cat_average.hist(bins=30, range=[0, 5])"
   ]
  },
  {
   "cell_type": "code",
   "execution_count": 13,
   "id": "81000b80",
   "metadata": {},
   "outputs": [
    {
     "data": {
      "text/plain": [
       "category_code             object\n",
       "price                    float64\n",
       "price_by_category        float64\n",
       "price_div_cat_average    float64\n",
       "dtype: object"
      ]
     },
     "execution_count": 13,
     "metadata": {},
     "output_type": "execute_result"
    }
   ],
   "source": [
    "df_cat_window_sample.dtypes"
   ]
  },
  {
   "cell_type": "code",
   "execution_count": 14,
   "id": "7bc7ea69",
   "metadata": {},
   "outputs": [
    {
     "data": {
      "text/html": [
       "<div>\n",
       "<style scoped>\n",
       "    .dataframe tbody tr th:only-of-type {\n",
       "        vertical-align: middle;\n",
       "    }\n",
       "\n",
       "    .dataframe tbody tr th {\n",
       "        vertical-align: top;\n",
       "    }\n",
       "\n",
       "    .dataframe thead th {\n",
       "        text-align: right;\n",
       "    }\n",
       "</style>\n",
       "<table border=\"1\" class=\"dataframe\">\n",
       "  <thead>\n",
       "    <tr style=\"text-align: right;\">\n",
       "      <th></th>\n",
       "      <th>category_code</th>\n",
       "      <th>price</th>\n",
       "      <th>price_by_category</th>\n",
       "      <th>price_div_cat_average</th>\n",
       "    </tr>\n",
       "  </thead>\n",
       "  <tbody>\n",
       "    <tr>\n",
       "      <th>0</th>\n",
       "      <td>None</td>\n",
       "      <td>514.50</td>\n",
       "      <td>184.912453</td>\n",
       "      <td>1.782398</td>\n",
       "    </tr>\n",
       "    <tr>\n",
       "      <th>1</th>\n",
       "      <td>electronics.clocks</td>\n",
       "      <td>118.41</td>\n",
       "      <td>294.445909</td>\n",
       "      <td>-0.597855</td>\n",
       "    </tr>\n",
       "    <tr>\n",
       "      <th>2</th>\n",
       "      <td>furniture.living_room.sofa</td>\n",
       "      <td>543.10</td>\n",
       "      <td>619.629202</td>\n",
       "      <td>-0.123508</td>\n",
       "    </tr>\n",
       "    <tr>\n",
       "      <th>3</th>\n",
       "      <td>auto.accessories.videoregister</td>\n",
       "      <td>138.96</td>\n",
       "      <td>117.072094</td>\n",
       "      <td>0.186961</td>\n",
       "    </tr>\n",
       "    <tr>\n",
       "      <th>4</th>\n",
       "      <td>electronics.smartphone</td>\n",
       "      <td>243.25</td>\n",
       "      <td>471.947082</td>\n",
       "      <td>-0.484582</td>\n",
       "    </tr>\n",
       "  </tbody>\n",
       "</table>\n",
       "</div>"
      ],
      "text/plain": [
       "                    category_code   price  price_by_category  \\\n",
       "0                            None  514.50         184.912453   \n",
       "1              electronics.clocks  118.41         294.445909   \n",
       "2      furniture.living_room.sofa  543.10         619.629202   \n",
       "3  auto.accessories.videoregister  138.96         117.072094   \n",
       "4          electronics.smartphone  243.25         471.947082   \n",
       "\n",
       "   price_div_cat_average  \n",
       "0               1.782398  \n",
       "1              -0.597855  \n",
       "2              -0.123508  \n",
       "3               0.186961  \n",
       "4              -0.484582  "
      ]
     },
     "execution_count": 14,
     "metadata": {},
     "output_type": "execute_result"
    }
   ],
   "source": [
    "df_cat_window_sample.head()"
   ]
  },
  {
   "cell_type": "code",
   "execution_count": 15,
   "id": "a7f162fb",
   "metadata": {},
   "outputs": [
    {
     "data": {
      "text/plain": [
       "0.0    -1.000000\n",
       "0.1    -0.806480\n",
       "0.2    -0.712999\n",
       "0.3    -0.606733\n",
       "0.4    -0.485610\n",
       "0.5    -0.361700\n",
       "0.6    -0.166146\n",
       "0.7     0.090292\n",
       "0.8     0.485297\n",
       "0.9     1.120513\n",
       "1.0    32.857995\n",
       "Name: price_div_cat_average, dtype: float64"
      ]
     },
     "execution_count": 15,
     "metadata": {},
     "output_type": "execute_result"
    }
   ],
   "source": [
    "df_cat_window_sample.price_div_cat_average.quantile(np.arange(0, 1.1, 0.1))"
   ]
  },
  {
   "cell_type": "code",
   "execution_count": 16,
   "id": "a61f5093",
   "metadata": {},
   "outputs": [
    {
     "ename": "NameError",
     "evalue": "name 'ascending' is not defined",
     "output_type": "error",
     "traceback": [
      "\u001b[1;31m---------------------------------------------------------------------------\u001b[0m",
      "\u001b[1;31mNameError\u001b[0m                                 Traceback (most recent call last)",
      "Cell \u001b[1;32mIn[16], line 1\u001b[0m\n\u001b[1;32m----> 1\u001b[0m df_cat_window_sample[df_cat_window_sample\u001b[38;5;241m.\u001b[39mprice_div_cat_average \u001b[38;5;241m>\u001b[39m \u001b[38;5;241m10\u001b[39m]\u001b[38;5;241m.\u001b[39msort_values(\u001b[38;5;124m\"\u001b[39m\u001b[38;5;124mprice_div_cat_average\u001b[39m\u001b[38;5;124m\"\u001b[39m, ascending)\n",
      "\u001b[1;31mNameError\u001b[0m: name 'ascending' is not defined"
     ]
    }
   ],
   "source": [
    "df_cat_window_sample[df_cat_window_sample.price_div_cat_average > 10].sort_values(\"price_div_cat_average\", ascending)"
   ]
  },
  {
   "cell_type": "code",
   "execution_count": null,
   "id": "804c96ce",
   "metadata": {},
   "outputs": [],
   "source": []
  }
 ],
 "metadata": {
  "kernelspec": {
   "display_name": "Python 3 (ipykernel)",
   "language": "python",
   "name": "python3"
  },
  "language_info": {
   "codemirror_mode": {
    "name": "ipython",
    "version": 3
   },
   "file_extension": ".py",
   "mimetype": "text/x-python",
   "name": "python",
   "nbconvert_exporter": "python",
   "pygments_lexer": "ipython3",
   "version": "3.11.4"
  }
 },
 "nbformat": 4,
 "nbformat_minor": 5
}

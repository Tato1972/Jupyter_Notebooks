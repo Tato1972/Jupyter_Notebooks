{
 "cells": [
  {
   "cell_type": "markdown",
   "id": "12f03b6c",
   "metadata": {},
   "source": [
    "Group-By in Polars"
   ]
  },
  {
   "cell_type": "code",
   "execution_count": 1,
   "id": "967d8536",
   "metadata": {},
   "outputs": [],
   "source": [
    "import polars as pl\n",
    "import pandas as pd\n",
    "import numpy as np\n",
    "import pyarrow\n",
    "\n",
    "import matplotlib.pyplot as plt\n",
    "import seaborn as sns\n",
    "\n",
    "\n",
    "# Download Dataset or run in a kaggle notebook\n",
    "# https://www.kaggle.com/datasets/mkechinov/ecommerce-behavior-data-from-multi-category-store\n",
    "df = pl.read_csv(\"C:/Users/LENOVO/Downloads/2019-Oct.csv\")"
   ]
  },
  {
   "cell_type": "code",
   "execution_count": 2,
   "id": "f4a2145a",
   "metadata": {},
   "outputs": [
    {
     "data": {
      "text/html": [
       "<div><style>\n",
       ".dataframe > thead > tr > th,\n",
       ".dataframe > tbody > tr > td {\n",
       "  text-align: right;\n",
       "  white-space: pre-wrap;\n",
       "}\n",
       "</style>\n",
       "<small>shape: (5, 9)</small><table border=\"1\" class=\"dataframe\"><thead><tr><th>event_time</th><th>event_type</th><th>product_id</th><th>category_id</th><th>category_code</th><th>brand</th><th>price</th><th>user_id</th><th>user_session</th></tr><tr><td>str</td><td>str</td><td>i64</td><td>i64</td><td>str</td><td>str</td><td>f64</td><td>i64</td><td>str</td></tr></thead><tbody><tr><td>&quot;2019-10-01 00:…</td><td>&quot;view&quot;</td><td>44600062</td><td>2103807459595387724</td><td>null</td><td>&quot;shiseido&quot;</td><td>35.79</td><td>541312140</td><td>&quot;72d76fde-8bb3-…</td></tr><tr><td>&quot;2019-10-01 00:…</td><td>&quot;view&quot;</td><td>3900821</td><td>2053013552326770905</td><td>&quot;appliances.env…</td><td>&quot;aqua&quot;</td><td>33.2</td><td>554748717</td><td>&quot;9333dfbd-b87a-…</td></tr><tr><td>&quot;2019-10-01 00:…</td><td>&quot;view&quot;</td><td>17200506</td><td>2053013559792632471</td><td>&quot;furniture.livi…</td><td>null</td><td>543.1</td><td>519107250</td><td>&quot;566511c2-e2e3-…</td></tr><tr><td>&quot;2019-10-01 00:…</td><td>&quot;view&quot;</td><td>1307067</td><td>2053013558920217191</td><td>&quot;computers.note…</td><td>&quot;lenovo&quot;</td><td>251.74</td><td>550050854</td><td>&quot;7c90fc70-0e80-…</td></tr><tr><td>&quot;2019-10-01 00:…</td><td>&quot;view&quot;</td><td>1004237</td><td>2053013555631882655</td><td>&quot;electronics.sm…</td><td>&quot;apple&quot;</td><td>1081.98</td><td>535871217</td><td>&quot;c6bd7419-2748-…</td></tr></tbody></table></div>"
      ],
      "text/plain": [
       "shape: (5, 9)\n",
       "┌────────────┬────────────┬───────────┬───────────┬───┬──────────┬─────────┬───────────┬───────────┐\n",
       "│ event_time ┆ event_type ┆ product_i ┆ category_ ┆ … ┆ brand    ┆ price   ┆ user_id   ┆ user_sess │\n",
       "│ ---        ┆ ---        ┆ d         ┆ id        ┆   ┆ ---      ┆ ---     ┆ ---       ┆ ion       │\n",
       "│ str        ┆ str        ┆ ---       ┆ ---       ┆   ┆ str      ┆ f64     ┆ i64       ┆ ---       │\n",
       "│            ┆            ┆ i64       ┆ i64       ┆   ┆          ┆         ┆           ┆ str       │\n",
       "╞════════════╪════════════╪═══════════╪═══════════╪═══╪══════════╪═════════╪═══════════╪═══════════╡\n",
       "│ 2019-10-01 ┆ view       ┆ 44600062  ┆ 210380745 ┆ … ┆ shiseido ┆ 35.79   ┆ 541312140 ┆ 72d76fde- │\n",
       "│ 00:00:00   ┆            ┆           ┆ 959538772 ┆   ┆          ┆         ┆           ┆ 8bb3-4e00 │\n",
       "│ UTC        ┆            ┆           ┆ 4         ┆   ┆          ┆         ┆           ┆ -8c23-a03 │\n",
       "│            ┆            ┆           ┆           ┆   ┆          ┆         ┆           ┆ 2dfed…    │\n",
       "│ 2019-10-01 ┆ view       ┆ 3900821   ┆ 205301355 ┆ … ┆ aqua     ┆ 33.2    ┆ 554748717 ┆ 9333dfbd- │\n",
       "│ 00:00:00   ┆            ┆           ┆ 232677090 ┆   ┆          ┆         ┆           ┆ b87a-4708 │\n",
       "│ UTC        ┆            ┆           ┆ 5         ┆   ┆          ┆         ┆           ┆ -9857-633 │\n",
       "│            ┆            ┆           ┆           ┆   ┆          ┆         ┆           ┆ 6556b…    │\n",
       "│ 2019-10-01 ┆ view       ┆ 17200506  ┆ 205301355 ┆ … ┆ null     ┆ 543.1   ┆ 519107250 ┆ 566511c2- │\n",
       "│ 00:00:01   ┆            ┆           ┆ 979263247 ┆   ┆          ┆         ┆           ┆ e2e3-422b │\n",
       "│ UTC        ┆            ┆           ┆ 1         ┆   ┆          ┆         ┆           ┆ -b695-cf8 │\n",
       "│            ┆            ┆           ┆           ┆   ┆          ┆         ┆           ┆ e6e79…    │\n",
       "│ 2019-10-01 ┆ view       ┆ 1307067   ┆ 205301355 ┆ … ┆ lenovo   ┆ 251.74  ┆ 550050854 ┆ 7c90fc70- │\n",
       "│ 00:00:01   ┆            ┆           ┆ 892021719 ┆   ┆          ┆         ┆           ┆ 0e80-4590 │\n",
       "│ UTC        ┆            ┆           ┆ 1         ┆   ┆          ┆         ┆           ┆ -96f3-13c │\n",
       "│            ┆            ┆           ┆           ┆   ┆          ┆         ┆           ┆ 02c18…    │\n",
       "│ 2019-10-01 ┆ view       ┆ 1004237   ┆ 205301355 ┆ … ┆ apple    ┆ 1081.98 ┆ 535871217 ┆ c6bd7419- │\n",
       "│ 00:00:04   ┆            ┆           ┆ 563188265 ┆   ┆          ┆         ┆           ┆ 2748-4c56 │\n",
       "│ UTC        ┆            ┆           ┆ 5         ┆   ┆          ┆         ┆           ┆ -95b4-8ce │\n",
       "│            ┆            ┆           ┆           ┆   ┆          ┆         ┆           ┆ c9ff8…    │\n",
       "└────────────┴────────────┴───────────┴───────────┴───┴──────────┴─────────┴───────────┴───────────┘"
      ]
     },
     "execution_count": 2,
     "metadata": {},
     "output_type": "execute_result"
    }
   ],
   "source": [
    "df.head()"
   ]
  },
  {
   "cell_type": "markdown",
   "id": "ac2381d4",
   "metadata": {},
   "source": [
    "1. Groupby - pl.count (one group)"
   ]
  },
  {
   "cell_type": "code",
   "execution_count": 4,
   "id": "7339ca5e",
   "metadata": {},
   "outputs": [
    {
     "data": {
      "text/html": [
       "<div><style>\n",
       ".dataframe > thead > tr > th,\n",
       ".dataframe > tbody > tr > td {\n",
       "  text-align: right;\n",
       "  white-space: pre-wrap;\n",
       "}\n",
       "</style>\n",
       "<small>shape: (5, 2)</small><table border=\"1\" class=\"dataframe\"><thead><tr><th>brand</th><th>count</th></tr><tr><td>str</td><td>u32</td></tr></thead><tbody><tr><td>&quot;a-derma&quot;</td><td>298</td></tr><tr><td>&quot;sacvoyage&quot;</td><td>453</td></tr><tr><td>&quot;dobrusskijfarf…</td><td>770</td></tr><tr><td>&quot;danielklein&quot;</td><td>1186</td></tr><tr><td>&quot;banbao&quot;</td><td>185</td></tr></tbody></table></div>"
      ],
      "text/plain": [
       "shape: (5, 2)\n",
       "┌───────────────────────────┬───────┐\n",
       "│ brand                     ┆ count │\n",
       "│ ---                       ┆ ---   │\n",
       "│ str                       ┆ u32   │\n",
       "╞═══════════════════════════╪═══════╡\n",
       "│ a-derma                   ┆ 298   │\n",
       "│ sacvoyage                 ┆ 453   │\n",
       "│ dobrusskijfarforovyjzavod ┆ 770   │\n",
       "│ danielklein               ┆ 1186  │\n",
       "│ banbao                    ┆ 185   │\n",
       "└───────────────────────────┴───────┘"
      ]
     },
     "execution_count": 4,
     "metadata": {},
     "output_type": "execute_result"
    }
   ],
   "source": [
    "df.group_by(\"brand\").agg([\n",
    "    pl.count()\n",
    "]).head()"
   ]
  },
  {
   "cell_type": "code",
   "execution_count": 10,
   "id": "f04eeb63",
   "metadata": {},
   "outputs": [
    {
     "data": {
      "text/html": [
       "<div><style>\n",
       ".dataframe > thead > tr > th,\n",
       ".dataframe > tbody > tr > td {\n",
       "  text-align: right;\n",
       "  white-space: pre-wrap;\n",
       "}\n",
       "</style>\n",
       "<small>shape: (5, 2)</small><table border=\"1\" class=\"dataframe\"><thead><tr><th>brand</th><th>count</th></tr><tr><td>str</td><td>u32</td></tr></thead><tbody><tr><td>null</td><td>6113008</td></tr><tr><td>&quot;samsung&quot;</td><td>5282775</td></tr><tr><td>&quot;apple&quot;</td><td>4122554</td></tr><tr><td>&quot;xiaomi&quot;</td><td>3083763</td></tr><tr><td>&quot;huawei&quot;</td><td>1111205</td></tr></tbody></table></div>"
      ],
      "text/plain": [
       "shape: (5, 2)\n",
       "┌─────────┬─────────┐\n",
       "│ brand   ┆ count   │\n",
       "│ ---     ┆ ---     │\n",
       "│ str     ┆ u32     │\n",
       "╞═════════╪═════════╡\n",
       "│ null    ┆ 6113008 │\n",
       "│ samsung ┆ 5282775 │\n",
       "│ apple   ┆ 4122554 │\n",
       "│ xiaomi  ┆ 3083763 │\n",
       "│ huawei  ┆ 1111205 │\n",
       "└─────────┴─────────┘"
      ]
     },
     "execution_count": 10,
     "metadata": {},
     "output_type": "execute_result"
    }
   ],
   "source": [
    "# sorting in polars\n",
    "df.group_by(\"brand\").agg([\n",
    "    pl.count()\n",
    "]).sort(\"count\").reverse().head()"
   ]
  },
  {
   "cell_type": "code",
   "execution_count": 12,
   "id": "d4c3fad3",
   "metadata": {},
   "outputs": [
    {
     "name": "stdout",
     "output_type": "stream",
     "text": [
      "(3446, 2)\n"
     ]
    },
    {
     "data": {
      "text/html": [
       "<div>\n",
       "<style scoped>\n",
       "    .dataframe tbody tr th:only-of-type {\n",
       "        vertical-align: middle;\n",
       "    }\n",
       "\n",
       "    .dataframe tbody tr th {\n",
       "        vertical-align: top;\n",
       "    }\n",
       "\n",
       "    .dataframe thead th {\n",
       "        text-align: right;\n",
       "    }\n",
       "</style>\n",
       "<table border=\"1\" class=\"dataframe\">\n",
       "  <thead>\n",
       "    <tr style=\"text-align: right;\">\n",
       "      <th></th>\n",
       "      <th>brand</th>\n",
       "      <th>count</th>\n",
       "    </tr>\n",
       "  </thead>\n",
       "  <tbody>\n",
       "    <tr>\n",
       "      <th>1616</th>\n",
       "      <td>None</td>\n",
       "      <td>6113008</td>\n",
       "    </tr>\n",
       "    <tr>\n",
       "      <th>2210</th>\n",
       "      <td>samsung</td>\n",
       "      <td>5282775</td>\n",
       "    </tr>\n",
       "    <tr>\n",
       "      <th>2703</th>\n",
       "      <td>apple</td>\n",
       "      <td>4122554</td>\n",
       "    </tr>\n",
       "    <tr>\n",
       "      <th>127</th>\n",
       "      <td>xiaomi</td>\n",
       "      <td>3083763</td>\n",
       "    </tr>\n",
       "    <tr>\n",
       "      <th>2017</th>\n",
       "      <td>huawei</td>\n",
       "      <td>1111205</td>\n",
       "    </tr>\n",
       "  </tbody>\n",
       "</table>\n",
       "</div>"
      ],
      "text/plain": [
       "        brand    count\n",
       "1616     None  6113008\n",
       "2210  samsung  5282775\n",
       "2703    apple  4122554\n",
       "127    xiaomi  3083763\n",
       "2017   huawei  1111205"
      ]
     },
     "execution_count": 12,
     "metadata": {},
     "output_type": "execute_result"
    }
   ],
   "source": [
    "# aggregate in polars and convert to pandas for sorting the aggregation\n",
    "df_count = df.group_by(\"brand\").agg([\n",
    "    pl.count()\n",
    "]).to_pandas().sort_values(\"count\", ascending=False)\n",
    "\n",
    "print(df_count.shape)\n",
    "\n",
    "df_count.head()"
   ]
  },
  {
   "cell_type": "code",
   "execution_count": 14,
   "id": "204dd76f",
   "metadata": {},
   "outputs": [
    {
     "data": {
      "text/html": [
       "<div><style>\n",
       ".dataframe > thead > tr > th,\n",
       ".dataframe > tbody > tr > td {\n",
       "  text-align: right;\n",
       "  white-space: pre-wrap;\n",
       "}\n",
       "</style>\n",
       "<small>shape: (10, 3)</small><table border=\"1\" class=\"dataframe\"><thead><tr><th>brand</th><th>count</th><th>n_pct</th></tr><tr><td>str</td><td>u32</td><td>f64</td></tr></thead><tbody><tr><td>null</td><td>6113008</td><td>0.144009</td></tr><tr><td>&quot;samsung&quot;</td><td>5282775</td><td>0.124451</td></tr><tr><td>&quot;apple&quot;</td><td>4122554</td><td>0.097118</td></tr><tr><td>&quot;xiaomi&quot;</td><td>3083763</td><td>0.072647</td></tr><tr><td>&quot;huawei&quot;</td><td>1111205</td><td>0.026178</td></tr><tr><td>&quot;lucente&quot;</td><td>655861</td><td>0.015451</td></tr><tr><td>&quot;lg&quot;</td><td>562404</td><td>0.013249</td></tr><tr><td>&quot;bosch&quot;</td><td>557090</td><td>0.013124</td></tr><tr><td>&quot;oppo&quot;</td><td>482887</td><td>0.011376</td></tr><tr><td>&quot;sony&quot;</td><td>456644</td><td>0.010758</td></tr></tbody></table></div>"
      ],
      "text/plain": [
       "shape: (10, 3)\n",
       "┌─────────┬─────────┬──────────┐\n",
       "│ brand   ┆ count   ┆ n_pct    │\n",
       "│ ---     ┆ ---     ┆ ---      │\n",
       "│ str     ┆ u32     ┆ f64      │\n",
       "╞═════════╪═════════╪══════════╡\n",
       "│ null    ┆ 6113008 ┆ 0.144009 │\n",
       "│ samsung ┆ 5282775 ┆ 0.124451 │\n",
       "│ apple   ┆ 4122554 ┆ 0.097118 │\n",
       "│ xiaomi  ┆ 3083763 ┆ 0.072647 │\n",
       "│ …       ┆ …       ┆ …        │\n",
       "│ lg      ┆ 562404  ┆ 0.013249 │\n",
       "│ bosch   ┆ 557090  ┆ 0.013124 │\n",
       "│ oppo    ┆ 482887  ┆ 0.011376 │\n",
       "│ sony    ┆ 456644  ┆ 0.010758 │\n",
       "└─────────┴─────────┴──────────┘"
      ]
     },
     "execution_count": 14,
     "metadata": {},
     "output_type": "execute_result"
    }
   ],
   "source": [
    "# Compute count and percent of instances\n",
    "(\n",
    "    df.group_by(\"brand\").agg([\n",
    "        pl.count()\n",
    "    ])\n",
    "    .sort('count').reverse()\n",
    "    .with_columns([\n",
    "        (pl.col(\"count\") / pl.col(\"count\").sum()).alias(\"n_pct\")\n",
    "    ])\n",
    "    .head(10)\n",
    ")"
   ]
  },
  {
   "cell_type": "code",
   "execution_count": 15,
   "id": "697cc917",
   "metadata": {},
   "outputs": [
    {
     "data": {
      "text/html": [
       "<div><style>\n",
       ".dataframe > thead > tr > th,\n",
       ".dataframe > tbody > tr > td {\n",
       "  text-align: right;\n",
       "  white-space: pre-wrap;\n",
       "}\n",
       "</style>\n",
       "<small>shape: (5, 9)</small><table border=\"1\" class=\"dataframe\"><thead><tr><th>event_time</th><th>event_type</th><th>product_id</th><th>category_id</th><th>category_code</th><th>brand</th><th>price</th><th>user_id</th><th>user_session</th></tr><tr><td>str</td><td>str</td><td>i64</td><td>i64</td><td>str</td><td>str</td><td>f64</td><td>i64</td><td>str</td></tr></thead><tbody><tr><td>&quot;2019-10-31 17:…</td><td>&quot;view&quot;</td><td>14500002</td><td>2053013554725912943</td><td>&quot;appliances.kit…</td><td>&quot;bosch&quot;</td><td>41.74</td><td>523599631</td><td>&quot;0391c41c-72d3-…</td></tr><tr><td>&quot;2019-10-19 18:…</td><td>&quot;view&quot;</td><td>16400025</td><td>2053013558249128509</td><td>null</td><td>&quot;tefal&quot;</td><td>90.07</td><td>536204791</td><td>&quot;aafc138f-23c3-…</td></tr><tr><td>&quot;2019-10-28 17:…</td><td>&quot;view&quot;</td><td>2201036</td><td>2053013560555995845</td><td>null</td><td>&quot;canon&quot;</td><td>308.86</td><td>565142503</td><td>&quot;938b2523-1e38-…</td></tr><tr><td>&quot;2019-10-30 09:…</td><td>&quot;view&quot;</td><td>12718373</td><td>2053013553559896355</td><td>null</td><td>&quot;triangle&quot;</td><td>48.91</td><td>518060299</td><td>&quot;bc05feae-cd9a-…</td></tr><tr><td>&quot;2019-10-21 06:…</td><td>&quot;view&quot;</td><td>10900222</td><td>2053013555069845885</td><td>&quot;appliances.kit…</td><td>&quot;moulinex&quot;</td><td>42.78</td><td>554071220</td><td>&quot;846699fe-44ce-…</td></tr></tbody></table></div>"
      ],
      "text/plain": [
       "shape: (5, 9)\n",
       "┌────────────┬────────────┬────────────┬───────────┬───┬──────────┬────────┬───────────┬───────────┐\n",
       "│ event_time ┆ event_type ┆ product_id ┆ category_ ┆ … ┆ brand    ┆ price  ┆ user_id   ┆ user_sess │\n",
       "│ ---        ┆ ---        ┆ ---        ┆ id        ┆   ┆ ---      ┆ ---    ┆ ---       ┆ ion       │\n",
       "│ str        ┆ str        ┆ i64        ┆ ---       ┆   ┆ str      ┆ f64    ┆ i64       ┆ ---       │\n",
       "│            ┆            ┆            ┆ i64       ┆   ┆          ┆        ┆           ┆ str       │\n",
       "╞════════════╪════════════╪════════════╪═══════════╪═══╪══════════╪════════╪═══════════╪═══════════╡\n",
       "│ 2019-10-31 ┆ view       ┆ 14500002   ┆ 205301355 ┆ … ┆ bosch    ┆ 41.74  ┆ 523599631 ┆ 0391c41c- │\n",
       "│ 17:48:27   ┆            ┆            ┆ 472591294 ┆   ┆          ┆        ┆           ┆ 72d3-48c9 │\n",
       "│ UTC        ┆            ┆            ┆ 3         ┆   ┆          ┆        ┆           ┆ -89e1-9ab │\n",
       "│            ┆            ┆            ┆           ┆   ┆          ┆        ┆           ┆ 6e135…    │\n",
       "│ 2019-10-19 ┆ view       ┆ 16400025   ┆ 205301355 ┆ … ┆ tefal    ┆ 90.07  ┆ 536204791 ┆ aafc138f- │\n",
       "│ 18:35:14   ┆            ┆            ┆ 824912850 ┆   ┆          ┆        ┆           ┆ 23c3-404b │\n",
       "│ UTC        ┆            ┆            ┆ 9         ┆   ┆          ┆        ┆           ┆ -9eb4-8a8 │\n",
       "│            ┆            ┆            ┆           ┆   ┆          ┆        ┆           ┆ 5a2ef…    │\n",
       "│ 2019-10-28 ┆ view       ┆ 2201036    ┆ 205301356 ┆ … ┆ canon    ┆ 308.86 ┆ 565142503 ┆ 938b2523- │\n",
       "│ 17:40:19   ┆            ┆            ┆ 055599584 ┆   ┆          ┆        ┆           ┆ 1e38-4360 │\n",
       "│ UTC        ┆            ┆            ┆ 5         ┆   ┆          ┆        ┆           ┆ -b1c1-f8b │\n",
       "│            ┆            ┆            ┆           ┆   ┆          ┆        ┆           ┆ 34022…    │\n",
       "│ 2019-10-30 ┆ view       ┆ 12718373   ┆ 205301355 ┆ … ┆ triangle ┆ 48.91  ┆ 518060299 ┆ bc05feae- │\n",
       "│ 09:47:23   ┆            ┆            ┆ 355989635 ┆   ┆          ┆        ┆           ┆ cd9a-4108 │\n",
       "│ UTC        ┆            ┆            ┆ 5         ┆   ┆          ┆        ┆           ┆ -abb4-bd2 │\n",
       "│            ┆            ┆            ┆           ┆   ┆          ┆        ┆           ┆ e235b…    │\n",
       "│ 2019-10-21 ┆ view       ┆ 10900222   ┆ 205301355 ┆ … ┆ moulinex ┆ 42.78  ┆ 554071220 ┆ 846699fe- │\n",
       "│ 06:13:56   ┆            ┆            ┆ 506984588 ┆   ┆          ┆        ┆           ┆ 44ce-43a7 │\n",
       "│ UTC        ┆            ┆            ┆ 5         ┆   ┆          ┆        ┆           ┆ -8020-33d │\n",
       "│            ┆            ┆            ┆           ┆   ┆          ┆        ┆           ┆ eba7a…    │\n",
       "└────────────┴────────────┴────────────┴───────────┴───┴──────────┴────────┴───────────┴───────────┘"
      ]
     },
     "execution_count": 15,
     "metadata": {},
     "output_type": "execute_result"
    }
   ],
   "source": [
    "df.sample(5)"
   ]
  },
  {
   "cell_type": "markdown",
   "id": "fbd74a0c",
   "metadata": {},
   "source": [
    "Value Counts works as expected"
   ]
  },
  {
   "cell_type": "code",
   "execution_count": 17,
   "id": "2f89b480",
   "metadata": {},
   "outputs": [
    {
     "data": {
      "text/html": [
       "<div><style>\n",
       ".dataframe > thead > tr > th,\n",
       ".dataframe > tbody > tr > td {\n",
       "  text-align: right;\n",
       "  white-space: pre-wrap;\n",
       "}\n",
       "</style>\n",
       "<small>shape: (3, 2)</small><table border=\"1\" class=\"dataframe\"><thead><tr><th>event_type</th><th>count</th></tr><tr><td>str</td><td>u32</td></tr></thead><tbody><tr><td>&quot;purchase&quot;</td><td>742849</td></tr><tr><td>&quot;cart&quot;</td><td>926516</td></tr><tr><td>&quot;view&quot;</td><td>40779399</td></tr></tbody></table></div>"
      ],
      "text/plain": [
       "shape: (3, 2)\n",
       "┌────────────┬──────────┐\n",
       "│ event_type ┆ count    │\n",
       "│ ---        ┆ ---      │\n",
       "│ str        ┆ u32      │\n",
       "╞════════════╪══════════╡\n",
       "│ purchase   ┆ 742849   │\n",
       "│ cart       ┆ 926516   │\n",
       "│ view       ┆ 40779399 │\n",
       "└────────────┴──────────┘"
      ]
     },
     "execution_count": 17,
     "metadata": {},
     "output_type": "execute_result"
    }
   ],
   "source": [
    "# this works!\n",
    "df['event_type'].value_counts()\n",
    "\n",
    "# More verbose version with groupby\n",
    "df.group_by(\"event_type\").agg(pl.count())"
   ]
  },
  {
   "cell_type": "markdown",
   "id": "bf1f2690",
   "metadata": {},
   "source": [
    "2. Groupby - pl.count (two groups)"
   ]
  },
  {
   "cell_type": "code",
   "execution_count": 18,
   "id": "79bc7b23",
   "metadata": {},
   "outputs": [
    {
     "data": {
      "text/html": [
       "<div><style>\n",
       ".dataframe > thead > tr > th,\n",
       ".dataframe > tbody > tr > td {\n",
       "  text-align: right;\n",
       "  white-space: pre-wrap;\n",
       "}\n",
       "</style>\n",
       "<small>shape: (5, 3)</small><table border=\"1\" class=\"dataframe\"><thead><tr><th>brand</th><th>event_type</th><th>count</th></tr><tr><td>str</td><td>str</td><td>u32</td></tr></thead><tbody><tr><td>&quot;aqua&quot;</td><td>&quot;view&quot;</td><td>14155</td></tr><tr><td>&quot;brw&quot;</td><td>&quot;view&quot;</td><td>170638</td></tr><tr><td>&quot;gran-stone&quot;</td><td>&quot;view&quot;</td><td>3129</td></tr><tr><td>&quot;lg&quot;</td><td>&quot;view&quot;</td><td>540131</td></tr><tr><td>&quot;microsoft&quot;</td><td>&quot;view&quot;</td><td>21435</td></tr></tbody></table></div>"
      ],
      "text/plain": [
       "shape: (5, 3)\n",
       "┌────────────┬────────────┬────────┐\n",
       "│ brand      ┆ event_type ┆ count  │\n",
       "│ ---        ┆ ---        ┆ ---    │\n",
       "│ str        ┆ str        ┆ u32    │\n",
       "╞════════════╪════════════╪════════╡\n",
       "│ aqua       ┆ view       ┆ 14155  │\n",
       "│ brw        ┆ view       ┆ 170638 │\n",
       "│ gran-stone ┆ view       ┆ 3129   │\n",
       "│ lg         ┆ view       ┆ 540131 │\n",
       "│ microsoft  ┆ view       ┆ 21435  │\n",
       "└────────────┴────────────┴────────┘"
      ]
     },
     "execution_count": 18,
     "metadata": {},
     "output_type": "execute_result"
    }
   ],
   "source": [
    "df_brand_event = df.group_by([\"brand\", \"event_type\"]).agg([\n",
    "    pl.count()\n",
    "])\n",
    "\n",
    "df_brand_event.head()"
   ]
  },
  {
   "cell_type": "code",
   "execution_count": 19,
   "id": "976fd195",
   "metadata": {},
   "outputs": [
    {
     "data": {
      "text/html": [
       "<div><style>\n",
       ".dataframe > thead > tr > th,\n",
       ".dataframe > tbody > tr > td {\n",
       "  text-align: right;\n",
       "  white-space: pre-wrap;\n",
       "}\n",
       "</style>\n",
       "<small>shape: (5, 4)</small><table border=\"1\" class=\"dataframe\"><thead><tr><th>brand</th><th>view</th><th>cart</th><th>purchase</th></tr><tr><td>str</td><td>u32</td><td>u32</td><td>u32</td></tr></thead><tbody><tr><td>&quot;aqua&quot;</td><td>14155</td><td>391</td><td>187</td></tr><tr><td>&quot;brw&quot;</td><td>170638</td><td>null</td><td>808</td></tr><tr><td>&quot;gran-stone&quot;</td><td>3129</td><td>null</td><td>26</td></tr><tr><td>&quot;lg&quot;</td><td>540131</td><td>13546</td><td>8727</td></tr><tr><td>&quot;microsoft&quot;</td><td>21435</td><td>313</td><td>225</td></tr></tbody></table></div>"
      ],
      "text/plain": [
       "shape: (5, 4)\n",
       "┌────────────┬────────┬───────┬──────────┐\n",
       "│ brand      ┆ view   ┆ cart  ┆ purchase │\n",
       "│ ---        ┆ ---    ┆ ---   ┆ ---      │\n",
       "│ str        ┆ u32    ┆ u32   ┆ u32      │\n",
       "╞════════════╪════════╪═══════╪══════════╡\n",
       "│ aqua       ┆ 14155  ┆ 391   ┆ 187      │\n",
       "│ brw        ┆ 170638 ┆ null  ┆ 808      │\n",
       "│ gran-stone ┆ 3129   ┆ null  ┆ 26       │\n",
       "│ lg         ┆ 540131 ┆ 13546 ┆ 8727     │\n",
       "│ microsoft  ┆ 21435  ┆ 313   ┆ 225      │\n",
       "└────────────┴────────┴───────┴──────────┘"
      ]
     },
     "execution_count": 19,
     "metadata": {},
     "output_type": "execute_result"
    }
   ],
   "source": [
    "# Convert from long to wide format\n",
    "df_brand_event_wide = df_brand_event.pivot(values=\"count\", \n",
    "                                           index=[\"brand\"], \n",
    "                                           columns=['event_type'])\n",
    "df_brand_event_wide.head()"
   ]
  },
  {
   "cell_type": "code",
   "execution_count": 21,
   "id": "c36f2b89",
   "metadata": {},
   "outputs": [
    {
     "data": {
      "text/html": [
       "<div><style>\n",
       ".dataframe > thead > tr > th,\n",
       ".dataframe > tbody > tr > td {\n",
       "  text-align: right;\n",
       "  white-space: pre-wrap;\n",
       "}\n",
       "</style>\n",
       "<small>shape: (5, 4)</small><table border=\"1\" class=\"dataframe\"><thead><tr><th>brand</th><th>view</th><th>cart</th><th>purchase</th></tr><tr><td>str</td><td>u32</td><td>u32</td><td>u32</td></tr></thead><tbody><tr><td>&quot;samsung&quot;</td><td>4806630</td><td>303249</td><td>172896</td></tr><tr><td>&quot;apple&quot;</td><td>3770597</td><td>209084</td><td>142873</td></tr><tr><td>null</td><td>6035988</td><td>18806</td><td>58214</td></tr><tr><td>&quot;xiaomi&quot;</td><td>2922650</td><td>104497</td><td>56616</td></tr><tr><td>&quot;huawei&quot;</td><td>1045572</td><td>42132</td><td>23501</td></tr></tbody></table></div>"
      ],
      "text/plain": [
       "shape: (5, 4)\n",
       "┌─────────┬─────────┬────────┬──────────┐\n",
       "│ brand   ┆ view    ┆ cart   ┆ purchase │\n",
       "│ ---     ┆ ---     ┆ ---    ┆ ---      │\n",
       "│ str     ┆ u32     ┆ u32    ┆ u32      │\n",
       "╞═════════╪═════════╪════════╪══════════╡\n",
       "│ samsung ┆ 4806630 ┆ 303249 ┆ 172896   │\n",
       "│ apple   ┆ 3770597 ┆ 209084 ┆ 142873   │\n",
       "│ null    ┆ 6035988 ┆ 18806  ┆ 58214    │\n",
       "│ xiaomi  ┆ 2922650 ┆ 104497 ┆ 56616    │\n",
       "│ huawei  ┆ 1045572 ┆ 42132  ┆ 23501    │\n",
       "└─────────┴─────────┴────────┴──────────┘"
      ]
     },
     "execution_count": 21,
     "metadata": {},
     "output_type": "execute_result"
    }
   ],
   "source": [
    "# Pivot and sorting\n",
    "df_brand_event_wide = ( \n",
    "    df_brand_event\n",
    "    .pivot(values=\"count\", index=[\"brand\"], columns=['event_type'])\n",
    "    .sort(\"purchase\").reverse()\n",
    ")\n",
    "\n",
    "df_brand_event_wide.head()"
   ]
  },
  {
   "cell_type": "code",
   "execution_count": 22,
   "id": "7c9b46f7",
   "metadata": {},
   "outputs": [
    {
     "data": {
      "text/html": [
       "<div><style>\n",
       ".dataframe > thead > tr > th,\n",
       ".dataframe > tbody > tr > td {\n",
       "  text-align: right;\n",
       "  white-space: pre-wrap;\n",
       "}\n",
       "</style>\n",
       "<small>shape: (5, 7)</small><table border=\"1\" class=\"dataframe\"><thead><tr><th>brand</th><th>view</th><th>cart</th><th>purchase</th><th>cart_by_views</th><th>buy_by_cart</th><th>buy_by_views</th></tr><tr><td>str</td><td>u32</td><td>u32</td><td>u32</td><td>f64</td><td>f64</td><td>f64</td></tr></thead><tbody><tr><td>&quot;samsung&quot;</td><td>4806630</td><td>303249</td><td>172896</td><td>0.06309</td><td>0.570145</td><td>0.03597</td></tr><tr><td>&quot;apple&quot;</td><td>3770597</td><td>209084</td><td>142873</td><td>0.055451</td><td>0.683328</td><td>0.037891</td></tr><tr><td>null</td><td>6035988</td><td>18806</td><td>58214</td><td>0.003116</td><td>3.095501</td><td>0.009644</td></tr><tr><td>&quot;xiaomi&quot;</td><td>2922650</td><td>104497</td><td>56616</td><td>0.035754</td><td>0.541795</td><td>0.019371</td></tr><tr><td>&quot;huawei&quot;</td><td>1045572</td><td>42132</td><td>23501</td><td>0.040296</td><td>0.557795</td><td>0.022477</td></tr></tbody></table></div>"
      ],
      "text/plain": [
       "shape: (5, 7)\n",
       "┌─────────┬─────────┬────────┬──────────┬───────────────┬─────────────┬──────────────┐\n",
       "│ brand   ┆ view    ┆ cart   ┆ purchase ┆ cart_by_views ┆ buy_by_cart ┆ buy_by_views │\n",
       "│ ---     ┆ ---     ┆ ---    ┆ ---      ┆ ---           ┆ ---         ┆ ---          │\n",
       "│ str     ┆ u32     ┆ u32    ┆ u32      ┆ f64           ┆ f64         ┆ f64          │\n",
       "╞═════════╪═════════╪════════╪══════════╪═══════════════╪═════════════╪══════════════╡\n",
       "│ samsung ┆ 4806630 ┆ 303249 ┆ 172896   ┆ 0.06309       ┆ 0.570145    ┆ 0.03597      │\n",
       "│ apple   ┆ 3770597 ┆ 209084 ┆ 142873   ┆ 0.055451      ┆ 0.683328    ┆ 0.037891     │\n",
       "│ null    ┆ 6035988 ┆ 18806  ┆ 58214    ┆ 0.003116      ┆ 3.095501    ┆ 0.009644     │\n",
       "│ xiaomi  ┆ 2922650 ┆ 104497 ┆ 56616    ┆ 0.035754      ┆ 0.541795    ┆ 0.019371     │\n",
       "│ huawei  ┆ 1045572 ┆ 42132  ┆ 23501    ┆ 0.040296      ┆ 0.557795    ┆ 0.022477     │\n",
       "└─────────┴─────────┴────────┴──────────┴───────────────┴─────────────┴──────────────┘"
      ]
     },
     "execution_count": 22,
     "metadata": {},
     "output_type": "execute_result"
    }
   ],
   "source": [
    "# Keep original columns and compute % values\n",
    "agg_performance = df_brand_event_wide.with_columns([\n",
    "    (pl.col(\"cart\") / pl.col(\"view\")).alias(\"cart_by_views\"),\n",
    "    (pl.col(\"purchase\") / pl.col(\"cart\")).alias(\"buy_by_cart\"),\n",
    "    (pl.col(\"purchase\") / pl.col(\"view\")).alias(\"buy_by_views\"),\n",
    "])\n",
    "agg_performance.head()"
   ]
  },
  {
   "cell_type": "code",
   "execution_count": 27,
   "id": "2fb1b9e3",
   "metadata": {},
   "outputs": [
    {
     "data": {
      "text/html": [
       "<div>\n",
       "<style scoped>\n",
       "    .dataframe tbody tr th:only-of-type {\n",
       "        vertical-align: middle;\n",
       "    }\n",
       "\n",
       "    .dataframe tbody tr th {\n",
       "        vertical-align: top;\n",
       "    }\n",
       "\n",
       "    .dataframe thead th {\n",
       "        text-align: right;\n",
       "    }\n",
       "</style>\n",
       "<table border=\"1\" class=\"dataframe\">\n",
       "  <thead>\n",
       "    <tr style=\"text-align: right;\">\n",
       "      <th></th>\n",
       "      <th>cart_by_views</th>\n",
       "      <th>buy_by_cart</th>\n",
       "      <th>buy_by_views</th>\n",
       "    </tr>\n",
       "  </thead>\n",
       "  <tbody>\n",
       "    <tr>\n",
       "      <th>0.00</th>\n",
       "      <td>0.002124</td>\n",
       "      <td>0.090909</td>\n",
       "      <td>0.000826</td>\n",
       "    </tr>\n",
       "    <tr>\n",
       "      <th>0.25</th>\n",
       "      <td>0.012777</td>\n",
       "      <td>0.500000</td>\n",
       "      <td>0.006614</td>\n",
       "    </tr>\n",
       "    <tr>\n",
       "      <th>0.50</th>\n",
       "      <td>0.018381</td>\n",
       "      <td>0.612583</td>\n",
       "      <td>0.011384</td>\n",
       "    </tr>\n",
       "    <tr>\n",
       "      <th>0.75</th>\n",
       "      <td>0.025814</td>\n",
       "      <td>0.724490</td>\n",
       "      <td>0.015649</td>\n",
       "    </tr>\n",
       "    <tr>\n",
       "      <th>0.99</th>\n",
       "      <td>0.061554</td>\n",
       "      <td>0.955687</td>\n",
       "      <td>0.035142</td>\n",
       "    </tr>\n",
       "    <tr>\n",
       "      <th>1.00</th>\n",
       "      <td>0.142418</td>\n",
       "      <td>0.986928</td>\n",
       "      <td>0.052284</td>\n",
       "    </tr>\n",
       "  </tbody>\n",
       "</table>\n",
       "</div>"
      ],
      "text/plain": [
       "      cart_by_views  buy_by_cart  buy_by_views\n",
       "0.00       0.002124     0.090909      0.000826\n",
       "0.25       0.012777     0.500000      0.006614\n",
       "0.50       0.018381     0.612583      0.011384\n",
       "0.75       0.025814     0.724490      0.015649\n",
       "0.99       0.061554     0.955687      0.035142\n",
       "1.00       0.142418     0.986928      0.052284"
      ]
     },
     "execution_count": 27,
     "metadata": {},
     "output_type": "execute_result"
    }
   ],
   "source": [
    "agg_performance.filter(pl.col(\"buy_by_cart\") < 1)\\\n",
    ".select(['cart_by_views', 'buy_by_cart', 'buy_by_views'])\\\n",
    ".to_pandas().quantile([0, 0.25, 0.5, 0.75, 0.99, 1])\n",
    "\n",
    "#.boxplot()"
   ]
  },
  {
   "cell_type": "code",
   "execution_count": 28,
   "id": "de8834b4",
   "metadata": {},
   "outputs": [
    {
     "data": {
      "text/html": [
       "<div><style>\n",
       ".dataframe > thead > tr > th,\n",
       ".dataframe > tbody > tr > td {\n",
       "  text-align: right;\n",
       "  white-space: pre-wrap;\n",
       "}\n",
       "</style>\n",
       "<small>shape: (5, 9)</small><table border=\"1\" class=\"dataframe\"><thead><tr><th>event_time</th><th>event_type</th><th>product_id</th><th>category_id</th><th>category_code</th><th>brand</th><th>price</th><th>user_id</th><th>user_session</th></tr><tr><td>str</td><td>str</td><td>i64</td><td>i64</td><td>str</td><td>str</td><td>f64</td><td>i64</td><td>str</td></tr></thead><tbody><tr><td>&quot;2019-10-01 00:…</td><td>&quot;view&quot;</td><td>44600062</td><td>2103807459595387724</td><td>null</td><td>&quot;shiseido&quot;</td><td>35.79</td><td>541312140</td><td>&quot;72d76fde-8bb3-…</td></tr><tr><td>&quot;2019-10-01 00:…</td><td>&quot;view&quot;</td><td>3900821</td><td>2053013552326770905</td><td>&quot;appliances.env…</td><td>&quot;aqua&quot;</td><td>33.2</td><td>554748717</td><td>&quot;9333dfbd-b87a-…</td></tr><tr><td>&quot;2019-10-01 00:…</td><td>&quot;view&quot;</td><td>17200506</td><td>2053013559792632471</td><td>&quot;furniture.livi…</td><td>null</td><td>543.1</td><td>519107250</td><td>&quot;566511c2-e2e3-…</td></tr><tr><td>&quot;2019-10-01 00:…</td><td>&quot;view&quot;</td><td>1307067</td><td>2053013558920217191</td><td>&quot;computers.note…</td><td>&quot;lenovo&quot;</td><td>251.74</td><td>550050854</td><td>&quot;7c90fc70-0e80-…</td></tr><tr><td>&quot;2019-10-01 00:…</td><td>&quot;view&quot;</td><td>1004237</td><td>2053013555631882655</td><td>&quot;electronics.sm…</td><td>&quot;apple&quot;</td><td>1081.98</td><td>535871217</td><td>&quot;c6bd7419-2748-…</td></tr></tbody></table></div>"
      ],
      "text/plain": [
       "shape: (5, 9)\n",
       "┌────────────┬────────────┬───────────┬───────────┬───┬──────────┬─────────┬───────────┬───────────┐\n",
       "│ event_time ┆ event_type ┆ product_i ┆ category_ ┆ … ┆ brand    ┆ price   ┆ user_id   ┆ user_sess │\n",
       "│ ---        ┆ ---        ┆ d         ┆ id        ┆   ┆ ---      ┆ ---     ┆ ---       ┆ ion       │\n",
       "│ str        ┆ str        ┆ ---       ┆ ---       ┆   ┆ str      ┆ f64     ┆ i64       ┆ ---       │\n",
       "│            ┆            ┆ i64       ┆ i64       ┆   ┆          ┆         ┆           ┆ str       │\n",
       "╞════════════╪════════════╪═══════════╪═══════════╪═══╪══════════╪═════════╪═══════════╪═══════════╡\n",
       "│ 2019-10-01 ┆ view       ┆ 44600062  ┆ 210380745 ┆ … ┆ shiseido ┆ 35.79   ┆ 541312140 ┆ 72d76fde- │\n",
       "│ 00:00:00   ┆            ┆           ┆ 959538772 ┆   ┆          ┆         ┆           ┆ 8bb3-4e00 │\n",
       "│ UTC        ┆            ┆           ┆ 4         ┆   ┆          ┆         ┆           ┆ -8c23-a03 │\n",
       "│            ┆            ┆           ┆           ┆   ┆          ┆         ┆           ┆ 2dfed…    │\n",
       "│ 2019-10-01 ┆ view       ┆ 3900821   ┆ 205301355 ┆ … ┆ aqua     ┆ 33.2    ┆ 554748717 ┆ 9333dfbd- │\n",
       "│ 00:00:00   ┆            ┆           ┆ 232677090 ┆   ┆          ┆         ┆           ┆ b87a-4708 │\n",
       "│ UTC        ┆            ┆           ┆ 5         ┆   ┆          ┆         ┆           ┆ -9857-633 │\n",
       "│            ┆            ┆           ┆           ┆   ┆          ┆         ┆           ┆ 6556b…    │\n",
       "│ 2019-10-01 ┆ view       ┆ 17200506  ┆ 205301355 ┆ … ┆ null     ┆ 543.1   ┆ 519107250 ┆ 566511c2- │\n",
       "│ 00:00:01   ┆            ┆           ┆ 979263247 ┆   ┆          ┆         ┆           ┆ e2e3-422b │\n",
       "│ UTC        ┆            ┆           ┆ 1         ┆   ┆          ┆         ┆           ┆ -b695-cf8 │\n",
       "│            ┆            ┆           ┆           ┆   ┆          ┆         ┆           ┆ e6e79…    │\n",
       "│ 2019-10-01 ┆ view       ┆ 1307067   ┆ 205301355 ┆ … ┆ lenovo   ┆ 251.74  ┆ 550050854 ┆ 7c90fc70- │\n",
       "│ 00:00:01   ┆            ┆           ┆ 892021719 ┆   ┆          ┆         ┆           ┆ 0e80-4590 │\n",
       "│ UTC        ┆            ┆           ┆ 1         ┆   ┆          ┆         ┆           ┆ -96f3-13c │\n",
       "│            ┆            ┆           ┆           ┆   ┆          ┆         ┆           ┆ 02c18…    │\n",
       "│ 2019-10-01 ┆ view       ┆ 1004237   ┆ 205301355 ┆ … ┆ apple    ┆ 1081.98 ┆ 535871217 ┆ c6bd7419- │\n",
       "│ 00:00:04   ┆            ┆           ┆ 563188265 ┆   ┆          ┆         ┆           ┆ 2748-4c56 │\n",
       "│ UTC        ┆            ┆           ┆ 5         ┆   ┆          ┆         ┆           ┆ -95b4-8ce │\n",
       "│            ┆            ┆           ┆           ┆   ┆          ┆         ┆           ┆ c9ff8…    │\n",
       "└────────────┴────────────┴───────────┴───────────┴───┴──────────┴─────────┴───────────┴───────────┘"
      ]
     },
     "execution_count": 28,
     "metadata": {},
     "output_type": "execute_result"
    }
   ],
   "source": [
    "df.head()"
   ]
  },
  {
   "cell_type": "markdown",
   "id": "96c0ddb6",
   "metadata": {},
   "source": [
    "3. Group By - UserId + 2 Groups"
   ]
  },
  {
   "cell_type": "code",
   "execution_count": 29,
   "id": "995b5c64",
   "metadata": {},
   "outputs": [
    {
     "data": {
      "text/html": [
       "<div><style>\n",
       ".dataframe > thead > tr > th,\n",
       ".dataframe > tbody > tr > td {\n",
       "  text-align: right;\n",
       "  white-space: pre-wrap;\n",
       "}\n",
       "</style>\n",
       "<small>shape: (5, 4)</small><table border=\"1\" class=\"dataframe\"><thead><tr><th>user_id</th><th>brand</th><th>event_type</th><th>count</th></tr><tr><td>i64</td><td>str</td><td>str</td><td>u32</td></tr></thead><tbody><tr><td>541312140</td><td>&quot;shiseido&quot;</td><td>&quot;view&quot;</td><td>2</td></tr><tr><td>512742880</td><td>&quot;pulser&quot;</td><td>&quot;view&quot;</td><td>37</td></tr><tr><td>555444559</td><td>&quot;haier&quot;</td><td>&quot;view&quot;</td><td>13</td></tr><tr><td>555446831</td><td>&quot;apple&quot;</td><td>&quot;view&quot;</td><td>10</td></tr><tr><td>554754045</td><td>&quot;hotpoint-arist…</td><td>&quot;view&quot;</td><td>9</td></tr></tbody></table></div>"
      ],
      "text/plain": [
       "shape: (5, 4)\n",
       "┌───────────┬──────────────────┬────────────┬───────┐\n",
       "│ user_id   ┆ brand            ┆ event_type ┆ count │\n",
       "│ ---       ┆ ---              ┆ ---        ┆ ---   │\n",
       "│ i64       ┆ str              ┆ str        ┆ u32   │\n",
       "╞═══════════╪══════════════════╪════════════╪═══════╡\n",
       "│ 541312140 ┆ shiseido         ┆ view       ┆ 2     │\n",
       "│ 512742880 ┆ pulser           ┆ view       ┆ 37    │\n",
       "│ 555444559 ┆ haier            ┆ view       ┆ 13    │\n",
       "│ 555446831 ┆ apple            ┆ view       ┆ 10    │\n",
       "│ 554754045 ┆ hotpoint-ariston ┆ view       ┆ 9     │\n",
       "└───────────┴──────────────────┴────────────┴───────┘"
      ]
     },
     "execution_count": 29,
     "metadata": {},
     "output_type": "execute_result"
    }
   ],
   "source": [
    "# group_by \n",
    "# %%timeit\n",
    "# 8.72 s ± 246 ms per loop (mean ± std. dev. of 7 runs, 1 loop each)\n",
    "\n",
    "df_user_brand_event = df.group_by([\"user_id\", \"brand\", \"event_type\"]).agg([\n",
    "    pl.count()\n",
    "])\n",
    "\n",
    "df_user_brand_event.head()"
   ]
  },
  {
   "cell_type": "code",
   "execution_count": 30,
   "id": "16319624",
   "metadata": {},
   "outputs": [
    {
     "data": {
      "text/plain": [
       "(12028150, 4)"
      ]
     },
     "execution_count": 30,
     "metadata": {},
     "output_type": "execute_result"
    }
   ],
   "source": [
    "df_user_brand_event.shape"
   ]
  },
  {
   "cell_type": "code",
   "execution_count": 31,
   "id": "0784b32d",
   "metadata": {},
   "outputs": [
    {
     "data": {
      "text/plain": [
       "(11158112, 5)"
      ]
     },
     "execution_count": 31,
     "metadata": {},
     "output_type": "execute_result"
    }
   ],
   "source": [
    "# pivot and sort\n",
    "df_user_brand_event = (df_user_brand_event\n",
    "    .pivot(values=\"count\", index=[\"user_id\", \"brand\"], columns=['event_type'])\n",
    "    .sort(\"purchase\").reverse()\n",
    ")\n",
    "df_user_brand_event.shape"
   ]
  },
  {
   "cell_type": "code",
   "execution_count": 32,
   "id": "7d5b541f",
   "metadata": {},
   "outputs": [
    {
     "data": {
      "text/html": [
       "<div><style>\n",
       ".dataframe > thead > tr > th,\n",
       ".dataframe > tbody > tr > td {\n",
       "  text-align: right;\n",
       "  white-space: pre-wrap;\n",
       "}\n",
       "</style>\n",
       "<small>shape: (5, 5)</small><table border=\"1\" class=\"dataframe\"><thead><tr><th>user_id</th><th>brand</th><th>view</th><th>purchase</th><th>cart</th></tr><tr><td>i64</td><td>str</td><td>u32</td><td>u32</td><td>u32</td></tr></thead><tbody><tr><td>523974502</td><td>&quot;samsung&quot;</td><td>385</td><td>272</td><td>218</td></tr><tr><td>543312954</td><td>&quot;samsung&quot;</td><td>443</td><td>192</td><td>103</td></tr><tr><td>519267944</td><td>&quot;apple&quot;</td><td>314</td><td>183</td><td>184</td></tr><tr><td>513117637</td><td>&quot;apple&quot;</td><td>438</td><td>183</td><td>56</td></tr><tr><td>517728689</td><td>&quot;samsung&quot;</td><td>429</td><td>171</td><td>486</td></tr></tbody></table></div>"
      ],
      "text/plain": [
       "shape: (5, 5)\n",
       "┌───────────┬─────────┬──────┬──────────┬──────┐\n",
       "│ user_id   ┆ brand   ┆ view ┆ purchase ┆ cart │\n",
       "│ ---       ┆ ---     ┆ ---  ┆ ---      ┆ ---  │\n",
       "│ i64       ┆ str     ┆ u32  ┆ u32      ┆ u32  │\n",
       "╞═══════════╪═════════╪══════╪══════════╪══════╡\n",
       "│ 523974502 ┆ samsung ┆ 385  ┆ 272      ┆ 218  │\n",
       "│ 543312954 ┆ samsung ┆ 443  ┆ 192      ┆ 103  │\n",
       "│ 519267944 ┆ apple   ┆ 314  ┆ 183      ┆ 184  │\n",
       "│ 513117637 ┆ apple   ┆ 438  ┆ 183      ┆ 56   │\n",
       "│ 517728689 ┆ samsung ┆ 429  ┆ 171      ┆ 486  │\n",
       "└───────────┴─────────┴──────┴──────────┴──────┘"
      ]
     },
     "execution_count": 32,
     "metadata": {},
     "output_type": "execute_result"
    }
   ],
   "source": [
    "df_user_brand_event.head()"
   ]
  },
  {
   "cell_type": "code",
   "execution_count": 33,
   "id": "f7583a5c",
   "metadata": {},
   "outputs": [
    {
     "data": {
      "text/html": [
       "<div><style>\n",
       ".dataframe > thead > tr > th,\n",
       ".dataframe > tbody > tr > td {\n",
       "  text-align: right;\n",
       "  white-space: pre-wrap;\n",
       "}\n",
       "</style>\n",
       "<small>shape: (10, 5)</small><table border=\"1\" class=\"dataframe\"><thead><tr><th>user_id</th><th>brand</th><th>view</th><th>purchase</th><th>cart</th></tr><tr><td>i64</td><td>str</td><td>u32</td><td>u32</td><td>u32</td></tr></thead><tbody><tr><td>512399252</td><td>&quot;lemark&quot;</td><td>1</td><td>null</td><td>null</td></tr><tr><td>513282718</td><td>&quot;topface&quot;</td><td>2</td><td>null</td><td>null</td></tr><tr><td>518895681</td><td>&quot;stels&quot;</td><td>2</td><td>null</td><td>null</td></tr><tr><td>515888702</td><td>&quot;samsung&quot;</td><td>5</td><td>null</td><td>null</td></tr><tr><td>556333372</td><td>&quot;samsung&quot;</td><td>6</td><td>2</td><td>2</td></tr><tr><td>561939669</td><td>&quot;samsung&quot;</td><td>2</td><td>null</td><td>null</td></tr><tr><td>560376610</td><td>&quot;artel&quot;</td><td>1</td><td>null</td><td>null</td></tr><tr><td>550316295</td><td>&quot;apple&quot;</td><td>1</td><td>null</td><td>null</td></tr><tr><td>515009595</td><td>&quot;orient&quot;</td><td>1</td><td>null</td><td>null</td></tr><tr><td>546503214</td><td>&quot;xiaomi&quot;</td><td>6</td><td>1</td><td>2</td></tr></tbody></table></div>"
      ],
      "text/plain": [
       "shape: (10, 5)\n",
       "┌───────────┬─────────┬──────┬──────────┬──────┐\n",
       "│ user_id   ┆ brand   ┆ view ┆ purchase ┆ cart │\n",
       "│ ---       ┆ ---     ┆ ---  ┆ ---      ┆ ---  │\n",
       "│ i64       ┆ str     ┆ u32  ┆ u32      ┆ u32  │\n",
       "╞═══════════╪═════════╪══════╪══════════╪══════╡\n",
       "│ 512399252 ┆ lemark  ┆ 1    ┆ null     ┆ null │\n",
       "│ 513282718 ┆ topface ┆ 2    ┆ null     ┆ null │\n",
       "│ 518895681 ┆ stels   ┆ 2    ┆ null     ┆ null │\n",
       "│ 515888702 ┆ samsung ┆ 5    ┆ null     ┆ null │\n",
       "│ …         ┆ …       ┆ …    ┆ …        ┆ …    │\n",
       "│ 560376610 ┆ artel   ┆ 1    ┆ null     ┆ null │\n",
       "│ 550316295 ┆ apple   ┆ 1    ┆ null     ┆ null │\n",
       "│ 515009595 ┆ orient  ┆ 1    ┆ null     ┆ null │\n",
       "│ 546503214 ┆ xiaomi  ┆ 6    ┆ 1        ┆ 2    │\n",
       "└───────────┴─────────┴──────┴──────────┴──────┘"
      ]
     },
     "execution_count": 33,
     "metadata": {},
     "output_type": "execute_result"
    }
   ],
   "source": [
    "df_user_brand_event.sample(10)"
   ]
  },
  {
   "cell_type": "code",
   "execution_count": 34,
   "id": "7609d42c",
   "metadata": {},
   "outputs": [],
   "source": [
    "df_user_brand_event = df_user_brand_event.with_columns([\n",
    "    pl.col('purchase').fill_null(strategy=\"zero\"),\n",
    "    pl.col('view').fill_null(strategy=\"zero\"),\n",
    "    pl.col('cart').fill_null(strategy=\"zero\"),\n",
    "])"
   ]
  },
  {
   "cell_type": "code",
   "execution_count": 35,
   "id": "28c39ca4",
   "metadata": {},
   "outputs": [
    {
     "data": {
      "text/html": [
       "<div><style>\n",
       ".dataframe > thead > tr > th,\n",
       ".dataframe > tbody > tr > td {\n",
       "  text-align: right;\n",
       "  white-space: pre-wrap;\n",
       "}\n",
       "</style>\n",
       "<small>shape: (10, 5)</small><table border=\"1\" class=\"dataframe\"><thead><tr><th>user_id</th><th>brand</th><th>view</th><th>purchase</th><th>cart</th></tr><tr><td>i64</td><td>str</td><td>u32</td><td>u32</td><td>u32</td></tr></thead><tbody><tr><td>547307134</td><td>&quot;philips&quot;</td><td>4</td><td>0</td><td>0</td></tr><tr><td>514093605</td><td>&quot;rebus&quot;</td><td>3</td><td>0</td><td>0</td></tr><tr><td>560771867</td><td>&quot;delonghi&quot;</td><td>1</td><td>0</td><td>0</td></tr><tr><td>512615513</td><td>null</td><td>1</td><td>0</td><td>0</td></tr><tr><td>540303961</td><td>&quot;joie&quot;</td><td>1</td><td>0</td><td>0</td></tr><tr><td>540660337</td><td>&quot;hp&quot;</td><td>1</td><td>0</td><td>0</td></tr><tr><td>545806761</td><td>&quot;komfort-s&quot;</td><td>4</td><td>0</td><td>0</td></tr><tr><td>513503095</td><td>&quot;t-max&quot;</td><td>17</td><td>0</td><td>0</td></tr><tr><td>518865905</td><td>&quot;apple&quot;</td><td>3</td><td>0</td><td>0</td></tr><tr><td>515184056</td><td>&quot;acer&quot;</td><td>10</td><td>0</td><td>0</td></tr></tbody></table></div>"
      ],
      "text/plain": [
       "shape: (10, 5)\n",
       "┌───────────┬───────────┬──────┬──────────┬──────┐\n",
       "│ user_id   ┆ brand     ┆ view ┆ purchase ┆ cart │\n",
       "│ ---       ┆ ---       ┆ ---  ┆ ---      ┆ ---  │\n",
       "│ i64       ┆ str       ┆ u32  ┆ u32      ┆ u32  │\n",
       "╞═══════════╪═══════════╪══════╪══════════╪══════╡\n",
       "│ 547307134 ┆ philips   ┆ 4    ┆ 0        ┆ 0    │\n",
       "│ 514093605 ┆ rebus     ┆ 3    ┆ 0        ┆ 0    │\n",
       "│ 560771867 ┆ delonghi  ┆ 1    ┆ 0        ┆ 0    │\n",
       "│ 512615513 ┆ null      ┆ 1    ┆ 0        ┆ 0    │\n",
       "│ …         ┆ …         ┆ …    ┆ …        ┆ …    │\n",
       "│ 545806761 ┆ komfort-s ┆ 4    ┆ 0        ┆ 0    │\n",
       "│ 513503095 ┆ t-max     ┆ 17   ┆ 0        ┆ 0    │\n",
       "│ 518865905 ┆ apple     ┆ 3    ┆ 0        ┆ 0    │\n",
       "│ 515184056 ┆ acer      ┆ 10   ┆ 0        ┆ 0    │\n",
       "└───────────┴───────────┴──────┴──────────┴──────┘"
      ]
     },
     "execution_count": 35,
     "metadata": {},
     "output_type": "execute_result"
    }
   ],
   "source": [
    "df_user_brand_event.sample(10)"
   ]
  },
  {
   "cell_type": "code",
   "execution_count": 36,
   "id": "53ab3ec6",
   "metadata": {},
   "outputs": [
    {
     "data": {
      "text/html": [
       "<div><style>\n",
       ".dataframe > thead > tr > th,\n",
       ".dataframe > tbody > tr > td {\n",
       "  text-align: right;\n",
       "  white-space: pre-wrap;\n",
       "}\n",
       "</style>\n",
       "<small>shape: (10, 5)</small><table border=\"1\" class=\"dataframe\"><thead><tr><th>user_id</th><th>brand</th><th>view</th><th>purchase</th><th>cart</th></tr><tr><td>i64</td><td>str</td><td>u32</td><td>u32</td><td>u32</td></tr></thead><tbody><tr><td>523974502</td><td>&quot;samsung&quot;</td><td>385</td><td>272</td><td>218</td></tr><tr><td>543312954</td><td>&quot;samsung&quot;</td><td>443</td><td>192</td><td>103</td></tr><tr><td>519267944</td><td>&quot;apple&quot;</td><td>314</td><td>183</td><td>184</td></tr><tr><td>513117637</td><td>&quot;apple&quot;</td><td>438</td><td>183</td><td>56</td></tr><tr><td>517728689</td><td>&quot;samsung&quot;</td><td>429</td><td>171</td><td>486</td></tr><tr><td>541510103</td><td>&quot;samsung&quot;</td><td>333</td><td>165</td><td>207</td></tr><tr><td>513320236</td><td>&quot;samsung&quot;</td><td>305</td><td>135</td><td>85</td></tr><tr><td>530834332</td><td>&quot;samsung&quot;</td><td>270</td><td>129</td><td>33</td></tr><tr><td>547330965</td><td>&quot;apple&quot;</td><td>491</td><td>125</td><td>31</td></tr><tr><td>553431815</td><td>&quot;apple&quot;</td><td>174</td><td>124</td><td>10</td></tr></tbody></table></div>"
      ],
      "text/plain": [
       "shape: (10, 5)\n",
       "┌───────────┬─────────┬──────┬──────────┬──────┐\n",
       "│ user_id   ┆ brand   ┆ view ┆ purchase ┆ cart │\n",
       "│ ---       ┆ ---     ┆ ---  ┆ ---      ┆ ---  │\n",
       "│ i64       ┆ str     ┆ u32  ┆ u32      ┆ u32  │\n",
       "╞═══════════╪═════════╪══════╪══════════╪══════╡\n",
       "│ 523974502 ┆ samsung ┆ 385  ┆ 272      ┆ 218  │\n",
       "│ 543312954 ┆ samsung ┆ 443  ┆ 192      ┆ 103  │\n",
       "│ 519267944 ┆ apple   ┆ 314  ┆ 183      ┆ 184  │\n",
       "│ 513117637 ┆ apple   ┆ 438  ┆ 183      ┆ 56   │\n",
       "│ …         ┆ …       ┆ …    ┆ …        ┆ …    │\n",
       "│ 513320236 ┆ samsung ┆ 305  ┆ 135      ┆ 85   │\n",
       "│ 530834332 ┆ samsung ┆ 270  ┆ 129      ┆ 33   │\n",
       "│ 547330965 ┆ apple   ┆ 491  ┆ 125      ┆ 31   │\n",
       "│ 553431815 ┆ apple   ┆ 174  ┆ 124      ┆ 10   │\n",
       "└───────────┴─────────┴──────┴──────────┴──────┘"
      ]
     },
     "execution_count": 36,
     "metadata": {},
     "output_type": "execute_result"
    }
   ],
   "source": [
    "# Looks like these user-ids are distributors (nobody need 400 samsung devices)\n",
    "df_user_brand_event.head(10)"
   ]
  },
  {
   "cell_type": "code",
   "execution_count": 37,
   "id": "e56cdd9d",
   "metadata": {},
   "outputs": [],
   "source": [
    "df_user_brand_event = df_user_brand_event.with_columns(\n",
    "    (pl.col(\"purchase\") / pl.col(\"view\")).alias(\"pct_buy_views\")\n",
    ")"
   ]
  },
  {
   "cell_type": "code",
   "execution_count": null,
   "id": "04d3a68d",
   "metadata": {},
   "outputs": [],
   "source": []
  }
 ],
 "metadata": {
  "kernelspec": {
   "display_name": "Python 3 (ipykernel)",
   "language": "python",
   "name": "python3"
  },
  "language_info": {
   "codemirror_mode": {
    "name": "ipython",
    "version": 3
   },
   "file_extension": ".py",
   "mimetype": "text/x-python",
   "name": "python",
   "nbconvert_exporter": "python",
   "pygments_lexer": "ipython3",
   "version": "3.11.4"
  }
 },
 "nbformat": 4,
 "nbformat_minor": 5
}

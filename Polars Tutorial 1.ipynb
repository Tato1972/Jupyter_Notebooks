{
 "cells": [
  {
   "cell_type": "code",
   "execution_count": 2,
   "id": "d4857955",
   "metadata": {},
   "outputs": [
    {
     "name": "stdout",
     "output_type": "stream",
     "text": [
      "Requirement already satisfied: polars in c:\\users\\lenovo\\anaconda3\\lib\\site-packages (0.19.3)\n",
      "Note: you may need to restart the kernel to use updated packages.\n"
     ]
    }
   ],
   "source": [
    "pip install polars"
   ]
  },
  {
   "cell_type": "code",
   "execution_count": 3,
   "id": "5f4c8c40",
   "metadata": {},
   "outputs": [
    {
     "name": "stdout",
     "output_type": "stream",
     "text": [
      "Requirement already satisfied: pyarrow in c:\\users\\lenovo\\anaconda3\\lib\\site-packages (11.0.0)\n",
      "Requirement already satisfied: numpy>=1.16.6 in c:\\users\\lenovo\\anaconda3\\lib\\site-packages (from pyarrow) (1.24.3)\n",
      "Note: you may need to restart the kernel to use updated packages.\n"
     ]
    }
   ],
   "source": [
    "pip install pyarrow"
   ]
  },
  {
   "cell_type": "code",
   "execution_count": 4,
   "id": "7da3da2b",
   "metadata": {},
   "outputs": [],
   "source": [
    "import pandas as pd\n",
    "from pathlib import Path\n",
    "import polars as pl\n",
    "import numpy as np\n",
    "import pyarrow\n",
    "\n",
    "import matplotlib.pyplot as plt\n",
    "import seaborn as sns"
   ]
  },
  {
   "cell_type": "markdown",
   "id": "4f48af43",
   "metadata": {},
   "source": [
    "##Read csv file"
   ]
  },
  {
   "cell_type": "code",
   "execution_count": 5,
   "id": "b6957632",
   "metadata": {},
   "outputs": [],
   "source": [
    "df = pl.read_csv('C:/Users/LENOVO/Downloads/2019-Oct.csv', null_values=['NA'])"
   ]
  },
  {
   "cell_type": "code",
   "execution_count": 6,
   "id": "adf2543a",
   "metadata": {},
   "outputs": [
    {
     "data": {
      "text/html": [
       "<div><style>\n",
       ".dataframe > thead > tr > th,\n",
       ".dataframe > tbody > tr > td {\n",
       "  text-align: right;\n",
       "  white-space: pre-wrap;\n",
       "}\n",
       "</style>\n",
       "<small>shape: (3, 9)</small><table border=\"1\" class=\"dataframe\"><thead><tr><th>event_time</th><th>event_type</th><th>product_id</th><th>category_id</th><th>category_code</th><th>brand</th><th>price</th><th>user_id</th><th>user_session</th></tr><tr><td>str</td><td>str</td><td>i64</td><td>i64</td><td>str</td><td>str</td><td>f64</td><td>i64</td><td>str</td></tr></thead><tbody><tr><td>&quot;2019-10-01 00:…</td><td>&quot;view&quot;</td><td>44600062</td><td>2103807459595387724</td><td>null</td><td>&quot;shiseido&quot;</td><td>35.79</td><td>541312140</td><td>&quot;72d76fde-8bb3-…</td></tr><tr><td>&quot;2019-10-01 00:…</td><td>&quot;view&quot;</td><td>3900821</td><td>2053013552326770905</td><td>&quot;appliances.env…</td><td>&quot;aqua&quot;</td><td>33.2</td><td>554748717</td><td>&quot;9333dfbd-b87a-…</td></tr><tr><td>&quot;2019-10-01 00:…</td><td>&quot;view&quot;</td><td>17200506</td><td>2053013559792632471</td><td>&quot;furniture.livi…</td><td>null</td><td>543.1</td><td>519107250</td><td>&quot;566511c2-e2e3-…</td></tr></tbody></table></div>"
      ],
      "text/plain": [
       "shape: (3, 9)\n",
       "┌────────────┬────────────┬────────────┬────────────┬───┬──────────┬───────┬───────────┬───────────┐\n",
       "│ event_time ┆ event_type ┆ product_id ┆ category_i ┆ … ┆ brand    ┆ price ┆ user_id   ┆ user_sess │\n",
       "│ ---        ┆ ---        ┆ ---        ┆ d          ┆   ┆ ---      ┆ ---   ┆ ---       ┆ ion       │\n",
       "│ str        ┆ str        ┆ i64        ┆ ---        ┆   ┆ str      ┆ f64   ┆ i64       ┆ ---       │\n",
       "│            ┆            ┆            ┆ i64        ┆   ┆          ┆       ┆           ┆ str       │\n",
       "╞════════════╪════════════╪════════════╪════════════╪═══╪══════════╪═══════╪═══════════╪═══════════╡\n",
       "│ 2019-10-01 ┆ view       ┆ 44600062   ┆ 2103807459 ┆ … ┆ shiseido ┆ 35.79 ┆ 541312140 ┆ 72d76fde- │\n",
       "│ 00:00:00   ┆            ┆            ┆ 595387724  ┆   ┆          ┆       ┆           ┆ 8bb3-4e00 │\n",
       "│ UTC        ┆            ┆            ┆            ┆   ┆          ┆       ┆           ┆ -8c23-a03 │\n",
       "│            ┆            ┆            ┆            ┆   ┆          ┆       ┆           ┆ 2dfed…    │\n",
       "│ 2019-10-01 ┆ view       ┆ 3900821    ┆ 2053013552 ┆ … ┆ aqua     ┆ 33.2  ┆ 554748717 ┆ 9333dfbd- │\n",
       "│ 00:00:00   ┆            ┆            ┆ 326770905  ┆   ┆          ┆       ┆           ┆ b87a-4708 │\n",
       "│ UTC        ┆            ┆            ┆            ┆   ┆          ┆       ┆           ┆ -9857-633 │\n",
       "│            ┆            ┆            ┆            ┆   ┆          ┆       ┆           ┆ 6556b…    │\n",
       "│ 2019-10-01 ┆ view       ┆ 17200506   ┆ 2053013559 ┆ … ┆ null     ┆ 543.1 ┆ 519107250 ┆ 566511c2- │\n",
       "│ 00:00:01   ┆            ┆            ┆ 792632471  ┆   ┆          ┆       ┆           ┆ e2e3-422b │\n",
       "│ UTC        ┆            ┆            ┆            ┆   ┆          ┆       ┆           ┆ -b695-cf8 │\n",
       "│            ┆            ┆            ┆            ┆   ┆          ┆       ┆           ┆ e6e79…    │\n",
       "└────────────┴────────────┴────────────┴────────────┴───┴──────────┴───────┴───────────┴───────────┘"
      ]
     },
     "execution_count": 6,
     "metadata": {},
     "output_type": "execute_result"
    }
   ],
   "source": [
    "df.head(3)"
   ]
  },
  {
   "cell_type": "markdown",
   "id": "0002594d",
   "metadata": {},
   "source": [
    "##Basic Operations"
   ]
  },
  {
   "cell_type": "code",
   "execution_count": 7,
   "id": "b43dcd5b",
   "metadata": {},
   "outputs": [
    {
     "data": {
      "text/plain": [
       "(42448764, 9)"
      ]
     },
     "execution_count": 7,
     "metadata": {},
     "output_type": "execute_result"
    }
   ],
   "source": [
    "df.shape"
   ]
  },
  {
   "cell_type": "markdown",
   "id": "8971d25b",
   "metadata": {},
   "source": [
    "##Print options"
   ]
  },
  {
   "cell_type": "code",
   "execution_count": 8,
   "id": "5711b683",
   "metadata": {},
   "outputs": [
    {
     "data": {
      "text/html": [
       "<div><style>\n",
       ".dataframe > thead > tr > th,\n",
       ".dataframe > tbody > tr > td {\n",
       "  text-align: right;\n",
       "  white-space: pre-wrap;\n",
       "}\n",
       "</style>\n",
       "<small>shape: (5, 9)</small><table border=\"1\" class=\"dataframe\"><thead><tr><th>event_time</th><th>event_type</th><th>product_id</th><th>category_id</th><th>category_code</th><th>brand</th><th>price</th><th>user_id</th><th>user_session</th></tr><tr><td>str</td><td>str</td><td>i64</td><td>i64</td><td>str</td><td>str</td><td>f64</td><td>i64</td><td>str</td></tr></thead><tbody><tr><td>&quot;2019-10-01 00:…</td><td>&quot;view&quot;</td><td>44600062</td><td>2103807459595387724</td><td>null</td><td>&quot;shiseido&quot;</td><td>35.79</td><td>541312140</td><td>&quot;72d76fde-8bb3-…</td></tr><tr><td>&quot;2019-10-01 00:…</td><td>&quot;view&quot;</td><td>3900821</td><td>2053013552326770905</td><td>&quot;appliances.env…</td><td>&quot;aqua&quot;</td><td>33.2</td><td>554748717</td><td>&quot;9333dfbd-b87a-…</td></tr><tr><td>&quot;2019-10-01 00:…</td><td>&quot;view&quot;</td><td>17200506</td><td>2053013559792632471</td><td>&quot;furniture.livi…</td><td>null</td><td>543.1</td><td>519107250</td><td>&quot;566511c2-e2e3-…</td></tr><tr><td>&quot;2019-10-01 00:…</td><td>&quot;view&quot;</td><td>1307067</td><td>2053013558920217191</td><td>&quot;computers.note…</td><td>&quot;lenovo&quot;</td><td>251.74</td><td>550050854</td><td>&quot;7c90fc70-0e80-…</td></tr><tr><td>&quot;2019-10-01 00:…</td><td>&quot;view&quot;</td><td>1004237</td><td>2053013555631882655</td><td>&quot;electronics.sm…</td><td>&quot;apple&quot;</td><td>1081.98</td><td>535871217</td><td>&quot;c6bd7419-2748-…</td></tr></tbody></table></div>"
      ],
      "text/plain": [
       "shape: (5, 9)\n",
       "┌────────────┬────────────┬───────────┬───────────┬───┬──────────┬─────────┬───────────┬───────────┐\n",
       "│ event_time ┆ event_type ┆ product_i ┆ category_ ┆ … ┆ brand    ┆ price   ┆ user_id   ┆ user_sess │\n",
       "│ ---        ┆ ---        ┆ d         ┆ id        ┆   ┆ ---      ┆ ---     ┆ ---       ┆ ion       │\n",
       "│ str        ┆ str        ┆ ---       ┆ ---       ┆   ┆ str      ┆ f64     ┆ i64       ┆ ---       │\n",
       "│            ┆            ┆ i64       ┆ i64       ┆   ┆          ┆         ┆           ┆ str       │\n",
       "╞════════════╪════════════╪═══════════╪═══════════╪═══╪══════════╪═════════╪═══════════╪═══════════╡\n",
       "│ 2019-10-01 ┆ view       ┆ 44600062  ┆ 210380745 ┆ … ┆ shiseido ┆ 35.79   ┆ 541312140 ┆ 72d76fde- │\n",
       "│ 00:00:00   ┆            ┆           ┆ 959538772 ┆   ┆          ┆         ┆           ┆ 8bb3-4e00 │\n",
       "│ UTC        ┆            ┆           ┆ 4         ┆   ┆          ┆         ┆           ┆ -8c23-a03 │\n",
       "│            ┆            ┆           ┆           ┆   ┆          ┆         ┆           ┆ 2dfed…    │\n",
       "│ 2019-10-01 ┆ view       ┆ 3900821   ┆ 205301355 ┆ … ┆ aqua     ┆ 33.2    ┆ 554748717 ┆ 9333dfbd- │\n",
       "│ 00:00:00   ┆            ┆           ┆ 232677090 ┆   ┆          ┆         ┆           ┆ b87a-4708 │\n",
       "│ UTC        ┆            ┆           ┆ 5         ┆   ┆          ┆         ┆           ┆ -9857-633 │\n",
       "│            ┆            ┆           ┆           ┆   ┆          ┆         ┆           ┆ 6556b…    │\n",
       "│ 2019-10-01 ┆ view       ┆ 17200506  ┆ 205301355 ┆ … ┆ null     ┆ 543.1   ┆ 519107250 ┆ 566511c2- │\n",
       "│ 00:00:01   ┆            ┆           ┆ 979263247 ┆   ┆          ┆         ┆           ┆ e2e3-422b │\n",
       "│ UTC        ┆            ┆           ┆ 1         ┆   ┆          ┆         ┆           ┆ -b695-cf8 │\n",
       "│            ┆            ┆           ┆           ┆   ┆          ┆         ┆           ┆ e6e79…    │\n",
       "│ 2019-10-01 ┆ view       ┆ 1307067   ┆ 205301355 ┆ … ┆ lenovo   ┆ 251.74  ┆ 550050854 ┆ 7c90fc70- │\n",
       "│ 00:00:01   ┆            ┆           ┆ 892021719 ┆   ┆          ┆         ┆           ┆ 0e80-4590 │\n",
       "│ UTC        ┆            ┆           ┆ 1         ┆   ┆          ┆         ┆           ┆ -96f3-13c │\n",
       "│            ┆            ┆           ┆           ┆   ┆          ┆         ┆           ┆ 02c18…    │\n",
       "│ 2019-10-01 ┆ view       ┆ 1004237   ┆ 205301355 ┆ … ┆ apple    ┆ 1081.98 ┆ 535871217 ┆ c6bd7419- │\n",
       "│ 00:00:04   ┆            ┆           ┆ 563188265 ┆   ┆          ┆         ┆           ┆ 2748-4c56 │\n",
       "│ UTC        ┆            ┆           ┆ 5         ┆   ┆          ┆         ┆           ┆ -95b4-8ce │\n",
       "│            ┆            ┆           ┆           ┆   ┆          ┆         ┆           ┆ c9ff8…    │\n",
       "└────────────┴────────────┴───────────┴───────────┴───┴──────────┴─────────┴───────────┴───────────┘"
      ]
     },
     "execution_count": 8,
     "metadata": {},
     "output_type": "execute_result"
    }
   ],
   "source": [
    "df.head()"
   ]
  },
  {
   "cell_type": "code",
   "execution_count": 9,
   "id": "2c8da397",
   "metadata": {},
   "outputs": [
    {
     "name": "stdout",
     "output_type": "stream",
     "text": [
      "shape: (2, 9)\n",
      "┌────────────┬────────────┬────────────┬────────────┬───┬──────────┬───────┬───────────┬───────────┐\n",
      "│ event_time ┆ event_type ┆ product_id ┆ category_i ┆ … ┆ brand    ┆ price ┆ user_id   ┆ user_sess │\n",
      "│ ---        ┆ ---        ┆ ---        ┆ d          ┆   ┆ ---      ┆ ---   ┆ ---       ┆ ion       │\n",
      "│ str        ┆ str        ┆ i64        ┆ ---        ┆   ┆ str      ┆ f64   ┆ i64       ┆ ---       │\n",
      "│            ┆            ┆            ┆ i64        ┆   ┆          ┆       ┆           ┆ str       │\n",
      "╞════════════╪════════════╪════════════╪════════════╪═══╪══════════╪═══════╪═══════════╪═══════════╡\n",
      "│ 2019-10-01 ┆ view       ┆ 44600062   ┆ 2103807459 ┆ … ┆ shiseido ┆ 35.79 ┆ 541312140 ┆ 72d76fde- │\n",
      "│ 00:00:00   ┆            ┆            ┆ 595387724  ┆   ┆          ┆       ┆           ┆ 8bb3-4e00 │\n",
      "│ UTC        ┆            ┆            ┆            ┆   ┆          ┆       ┆           ┆ -8c23-a03 │\n",
      "│            ┆            ┆            ┆            ┆   ┆          ┆       ┆           ┆ 2dfed…    │\n",
      "│ 2019-10-01 ┆ view       ┆ 3900821    ┆ 2053013552 ┆ … ┆ aqua     ┆ 33.2  ┆ 554748717 ┆ 9333dfbd- │\n",
      "│ 00:00:00   ┆            ┆            ┆ 326770905  ┆   ┆          ┆       ┆           ┆ b87a-4708 │\n",
      "│ UTC        ┆            ┆            ┆            ┆   ┆          ┆       ┆           ┆ -9857-633 │\n",
      "│            ┆            ┆            ┆            ┆   ┆          ┆       ┆           ┆ 6556b…    │\n",
      "└────────────┴────────────┴────────────┴────────────┴───┴──────────┴───────┴───────────┴───────────┘\n"
     ]
    }
   ],
   "source": [
    "print(df.head(2))"
   ]
  },
  {
   "cell_type": "code",
   "execution_count": 10,
   "id": "f0ddd643",
   "metadata": {},
   "outputs": [
    {
     "data": {
      "text/html": [
       "<div>\n",
       "<style scoped>\n",
       "    .dataframe tbody tr th:only-of-type {\n",
       "        vertical-align: middle;\n",
       "    }\n",
       "\n",
       "    .dataframe tbody tr th {\n",
       "        vertical-align: top;\n",
       "    }\n",
       "\n",
       "    .dataframe thead th {\n",
       "        text-align: right;\n",
       "    }\n",
       "</style>\n",
       "<table border=\"1\" class=\"dataframe\">\n",
       "  <thead>\n",
       "    <tr style=\"text-align: right;\">\n",
       "      <th></th>\n",
       "      <th>event_time</th>\n",
       "      <th>event_type</th>\n",
       "      <th>product_id</th>\n",
       "      <th>category_id</th>\n",
       "      <th>category_code</th>\n",
       "      <th>brand</th>\n",
       "      <th>price</th>\n",
       "      <th>user_id</th>\n",
       "      <th>user_session</th>\n",
       "    </tr>\n",
       "  </thead>\n",
       "  <tbody>\n",
       "    <tr>\n",
       "      <th>0</th>\n",
       "      <td>2019-10-01 00:00:00 UTC</td>\n",
       "      <td>view</td>\n",
       "      <td>44600062</td>\n",
       "      <td>2103807459595387724</td>\n",
       "      <td>None</td>\n",
       "      <td>shiseido</td>\n",
       "      <td>35.79</td>\n",
       "      <td>541312140</td>\n",
       "      <td>72d76fde-8bb3-4e00-8c23-a032dfed738c</td>\n",
       "    </tr>\n",
       "    <tr>\n",
       "      <th>1</th>\n",
       "      <td>2019-10-01 00:00:00 UTC</td>\n",
       "      <td>view</td>\n",
       "      <td>3900821</td>\n",
       "      <td>2053013552326770905</td>\n",
       "      <td>appliances.environment.water_heater</td>\n",
       "      <td>aqua</td>\n",
       "      <td>33.20</td>\n",
       "      <td>554748717</td>\n",
       "      <td>9333dfbd-b87a-4708-9857-6336556b0fcc</td>\n",
       "    </tr>\n",
       "    <tr>\n",
       "      <th>2</th>\n",
       "      <td>2019-10-01 00:00:01 UTC</td>\n",
       "      <td>view</td>\n",
       "      <td>17200506</td>\n",
       "      <td>2053013559792632471</td>\n",
       "      <td>furniture.living_room.sofa</td>\n",
       "      <td>None</td>\n",
       "      <td>543.10</td>\n",
       "      <td>519107250</td>\n",
       "      <td>566511c2-e2e3-422b-b695-cf8e6e792ca8</td>\n",
       "    </tr>\n",
       "    <tr>\n",
       "      <th>3</th>\n",
       "      <td>2019-10-01 00:00:01 UTC</td>\n",
       "      <td>view</td>\n",
       "      <td>1307067</td>\n",
       "      <td>2053013558920217191</td>\n",
       "      <td>computers.notebook</td>\n",
       "      <td>lenovo</td>\n",
       "      <td>251.74</td>\n",
       "      <td>550050854</td>\n",
       "      <td>7c90fc70-0e80-4590-96f3-13c02c18c713</td>\n",
       "    </tr>\n",
       "    <tr>\n",
       "      <th>4</th>\n",
       "      <td>2019-10-01 00:00:04 UTC</td>\n",
       "      <td>view</td>\n",
       "      <td>1004237</td>\n",
       "      <td>2053013555631882655</td>\n",
       "      <td>electronics.smartphone</td>\n",
       "      <td>apple</td>\n",
       "      <td>1081.98</td>\n",
       "      <td>535871217</td>\n",
       "      <td>c6bd7419-2748-4c56-95b4-8cec9ff8b80d</td>\n",
       "    </tr>\n",
       "  </tbody>\n",
       "</table>\n",
       "</div>"
      ],
      "text/plain": [
       "                event_time event_type  product_id          category_id  \\\n",
       "0  2019-10-01 00:00:00 UTC       view    44600062  2103807459595387724   \n",
       "1  2019-10-01 00:00:00 UTC       view     3900821  2053013552326770905   \n",
       "2  2019-10-01 00:00:01 UTC       view    17200506  2053013559792632471   \n",
       "3  2019-10-01 00:00:01 UTC       view     1307067  2053013558920217191   \n",
       "4  2019-10-01 00:00:04 UTC       view     1004237  2053013555631882655   \n",
       "\n",
       "                         category_code     brand    price    user_id  \\\n",
       "0                                 None  shiseido    35.79  541312140   \n",
       "1  appliances.environment.water_heater      aqua    33.20  554748717   \n",
       "2           furniture.living_room.sofa      None   543.10  519107250   \n",
       "3                   computers.notebook    lenovo   251.74  550050854   \n",
       "4               electronics.smartphone     apple  1081.98  535871217   \n",
       "\n",
       "                           user_session  \n",
       "0  72d76fde-8bb3-4e00-8c23-a032dfed738c  \n",
       "1  9333dfbd-b87a-4708-9857-6336556b0fcc  \n",
       "2  566511c2-e2e3-422b-b695-cf8e6e792ca8  \n",
       "3  7c90fc70-0e80-4590-96f3-13c02c18c713  \n",
       "4  c6bd7419-2748-4c56-95b4-8cec9ff8b80d  "
      ]
     },
     "execution_count": 10,
     "metadata": {},
     "output_type": "execute_result"
    }
   ],
   "source": [
    "df.head().to_pandas()"
   ]
  },
  {
   "cell_type": "code",
   "execution_count": 11,
   "id": "55ed8cc0",
   "metadata": {},
   "outputs": [
    {
     "data": {
      "text/plain": [
       "[Utf8, Utf8, Int64, Int64, Utf8, Utf8, Float64, Int64, Utf8]"
      ]
     },
     "execution_count": 11,
     "metadata": {},
     "output_type": "execute_result"
    }
   ],
   "source": [
    "#UTF8 --> String\n",
    "#Int, Float as usual in panda\n",
    "df.dtypes"
   ]
  },
  {
   "cell_type": "markdown",
   "id": "817cfd12",
   "metadata": {},
   "source": [
    "##Selecting and filtering Data. Operaciones similares a SELECT and WHERE en SQL"
   ]
  },
  {
   "cell_type": "markdown",
   "id": "e2a081d7",
   "metadata": {},
   "source": [
    "## 1. Indexing with [works but is an anti pattern in polars]. No hay df.loc o df.iloc porque en polars no hay indices "
   ]
  },
  {
   "cell_type": "code",
   "execution_count": 12,
   "id": "25067d35",
   "metadata": {},
   "outputs": [
    {
     "data": {
      "text/html": [
       "<div><style>\n",
       ".dataframe > thead > tr > th,\n",
       ".dataframe > tbody > tr > td {\n",
       "  text-align: right;\n",
       "  white-space: pre-wrap;\n",
       "}\n",
       "</style>\n",
       "<small>shape: (1, 9)</small><table border=\"1\" class=\"dataframe\"><thead><tr><th>event_time</th><th>event_type</th><th>product_id</th><th>category_id</th><th>category_code</th><th>brand</th><th>price</th><th>user_id</th><th>user_session</th></tr><tr><td>str</td><td>str</td><td>i64</td><td>i64</td><td>str</td><td>str</td><td>f64</td><td>i64</td><td>str</td></tr></thead><tbody><tr><td>&quot;2019-10-01 00:…</td><td>&quot;view&quot;</td><td>44600062</td><td>2103807459595387724</td><td>null</td><td>&quot;shiseido&quot;</td><td>35.79</td><td>541312140</td><td>&quot;72d76fde-8bb3-…</td></tr></tbody></table></div>"
      ],
      "text/plain": [
       "shape: (1, 9)\n",
       "┌────────────┬────────────┬────────────┬────────────┬───┬──────────┬───────┬───────────┬───────────┐\n",
       "│ event_time ┆ event_type ┆ product_id ┆ category_i ┆ … ┆ brand    ┆ price ┆ user_id   ┆ user_sess │\n",
       "│ ---        ┆ ---        ┆ ---        ┆ d          ┆   ┆ ---      ┆ ---   ┆ ---       ┆ ion       │\n",
       "│ str        ┆ str        ┆ i64        ┆ ---        ┆   ┆ str      ┆ f64   ┆ i64       ┆ ---       │\n",
       "│            ┆            ┆            ┆ i64        ┆   ┆          ┆       ┆           ┆ str       │\n",
       "╞════════════╪════════════╪════════════╪════════════╪═══╪══════════╪═══════╪═══════════╪═══════════╡\n",
       "│ 2019-10-01 ┆ view       ┆ 44600062   ┆ 2103807459 ┆ … ┆ shiseido ┆ 35.79 ┆ 541312140 ┆ 72d76fde- │\n",
       "│ 00:00:00   ┆            ┆            ┆ 595387724  ┆   ┆          ┆       ┆           ┆ 8bb3-4e00 │\n",
       "│ UTC        ┆            ┆            ┆            ┆   ┆          ┆       ┆           ┆ -8c23-a03 │\n",
       "│            ┆            ┆            ┆            ┆   ┆          ┆       ┆           ┆ 2dfed…    │\n",
       "└────────────┴────────────┴────────────┴────────────┴───┴──────────┴───────┴───────────┴───────────┘"
      ]
     },
     "execution_count": 12,
     "metadata": {},
     "output_type": "execute_result"
    }
   ],
   "source": [
    "df[0,:]"
   ]
  },
  {
   "cell_type": "code",
   "execution_count": 13,
   "id": "cf3b934a",
   "metadata": {},
   "outputs": [
    {
     "data": {
      "text/html": [
       "<div><style>\n",
       ".dataframe > thead > tr > th,\n",
       ".dataframe > tbody > tr > td {\n",
       "  text-align: right;\n",
       "  white-space: pre-wrap;\n",
       "}\n",
       "</style>\n",
       "<small>shape: (5, 2)</small><table border=\"1\" class=\"dataframe\"><thead><tr><th>event_time</th><th>price</th></tr><tr><td>str</td><td>f64</td></tr></thead><tbody><tr><td>&quot;2019-10-01 00:…</td><td>35.79</td></tr><tr><td>&quot;2019-10-01 00:…</td><td>33.2</td></tr><tr><td>&quot;2019-10-01 00:…</td><td>543.1</td></tr><tr><td>&quot;2019-10-01 00:…</td><td>251.74</td></tr><tr><td>&quot;2019-10-01 00:…</td><td>1081.98</td></tr></tbody></table></div>"
      ],
      "text/plain": [
       "shape: (5, 2)\n",
       "┌─────────────────────────┬─────────┐\n",
       "│ event_time              ┆ price   │\n",
       "│ ---                     ┆ ---     │\n",
       "│ str                     ┆ f64     │\n",
       "╞═════════════════════════╪═════════╡\n",
       "│ 2019-10-01 00:00:00 UTC ┆ 35.79   │\n",
       "│ 2019-10-01 00:00:00 UTC ┆ 33.2    │\n",
       "│ 2019-10-01 00:00:01 UTC ┆ 543.1   │\n",
       "│ 2019-10-01 00:00:01 UTC ┆ 251.74  │\n",
       "│ 2019-10-01 00:00:04 UTC ┆ 1081.98 │\n",
       "└─────────────────────────┴─────────┘"
      ]
     },
     "execution_count": 13,
     "metadata": {},
     "output_type": "execute_result"
    }
   ],
   "source": [
    "df[:,['event_time','price']].head()"
   ]
  },
  {
   "cell_type": "code",
   "execution_count": 14,
   "id": "af11520c",
   "metadata": {},
   "outputs": [
    {
     "data": {
      "text/html": [
       "<div><style>\n",
       ".dataframe > thead > tr > th,\n",
       ".dataframe > tbody > tr > td {\n",
       "  text-align: right;\n",
       "  white-space: pre-wrap;\n",
       "}\n",
       "</style>\n",
       "<small>shape: (5, 9)</small><table border=\"1\" class=\"dataframe\"><thead><tr><th>event_time</th><th>event_type</th><th>product_id</th><th>category_id</th><th>category_code</th><th>brand</th><th>price</th><th>user_id</th><th>user_session</th></tr><tr><td>str</td><td>str</td><td>i64</td><td>i64</td><td>str</td><td>str</td><td>f64</td><td>i64</td><td>str</td></tr></thead><tbody><tr><td>&quot;2019-10-01 00:…</td><td>&quot;view&quot;</td><td>1004237</td><td>2053013555631882655</td><td>&quot;electronics.sm…</td><td>&quot;apple&quot;</td><td>1081.98</td><td>535871217</td><td>&quot;c6bd7419-2748-…</td></tr><tr><td>&quot;2019-10-01 00:…</td><td>&quot;view&quot;</td><td>1005135</td><td>2053013555631882655</td><td>&quot;electronics.sm…</td><td>&quot;apple&quot;</td><td>1747.79</td><td>535871217</td><td>&quot;c6bd7419-2748-…</td></tr><tr><td>&quot;2019-10-01 00:…</td><td>&quot;view&quot;</td><td>1005135</td><td>2053013555631882655</td><td>&quot;electronics.sm…</td><td>&quot;apple&quot;</td><td>1747.79</td><td>535871217</td><td>&quot;c6bd7419-2748-…</td></tr><tr><td>&quot;2019-10-01 00:…</td><td>&quot;view&quot;</td><td>1005105</td><td>2053013555631882655</td><td>&quot;electronics.sm…</td><td>&quot;apple&quot;</td><td>1415.48</td><td>529755884</td><td>&quot;0b828fb6-99bd-…</td></tr><tr><td>&quot;2019-10-01 00:…</td><td>&quot;view&quot;</td><td>1005073</td><td>2053013555631882655</td><td>&quot;electronics.sm…</td><td>&quot;samsung&quot;</td><td>1207.71</td><td>543427258</td><td>&quot;4fc3e61d-5f94-…</td></tr></tbody></table></div>"
      ],
      "text/plain": [
       "shape: (5, 9)\n",
       "┌────────────┬────────────┬────────────┬───────────┬───┬─────────┬─────────┬───────────┬───────────┐\n",
       "│ event_time ┆ event_type ┆ product_id ┆ category_ ┆ … ┆ brand   ┆ price   ┆ user_id   ┆ user_sess │\n",
       "│ ---        ┆ ---        ┆ ---        ┆ id        ┆   ┆ ---     ┆ ---     ┆ ---       ┆ ion       │\n",
       "│ str        ┆ str        ┆ i64        ┆ ---       ┆   ┆ str     ┆ f64     ┆ i64       ┆ ---       │\n",
       "│            ┆            ┆            ┆ i64       ┆   ┆         ┆         ┆           ┆ str       │\n",
       "╞════════════╪════════════╪════════════╪═══════════╪═══╪═════════╪═════════╪═══════════╪═══════════╡\n",
       "│ 2019-10-01 ┆ view       ┆ 1004237    ┆ 205301355 ┆ … ┆ apple   ┆ 1081.98 ┆ 535871217 ┆ c6bd7419- │\n",
       "│ 00:00:04   ┆            ┆            ┆ 563188265 ┆   ┆         ┆         ┆           ┆ 2748-4c56 │\n",
       "│ UTC        ┆            ┆            ┆ 5         ┆   ┆         ┆         ┆           ┆ -95b4-8ce │\n",
       "│            ┆            ┆            ┆           ┆   ┆         ┆         ┆           ┆ c9ff8…    │\n",
       "│ 2019-10-01 ┆ view       ┆ 1005135    ┆ 205301355 ┆ … ┆ apple   ┆ 1747.79 ┆ 535871217 ┆ c6bd7419- │\n",
       "│ 00:00:19   ┆            ┆            ┆ 563188265 ┆   ┆         ┆         ┆           ┆ 2748-4c56 │\n",
       "│ UTC        ┆            ┆            ┆ 5         ┆   ┆         ┆         ┆           ┆ -95b4-8ce │\n",
       "│            ┆            ┆            ┆           ┆   ┆         ┆         ┆           ┆ c9ff8…    │\n",
       "│ 2019-10-01 ┆ view       ┆ 1005135    ┆ 205301355 ┆ … ┆ apple   ┆ 1747.79 ┆ 535871217 ┆ c6bd7419- │\n",
       "│ 00:00:43   ┆            ┆            ┆ 563188265 ┆   ┆         ┆         ┆           ┆ 2748-4c56 │\n",
       "│ UTC        ┆            ┆            ┆ 5         ┆   ┆         ┆         ┆           ┆ -95b4-8ce │\n",
       "│            ┆            ┆            ┆           ┆   ┆         ┆         ┆           ┆ c9ff8…    │\n",
       "│ 2019-10-01 ┆ view       ┆ 1005105    ┆ 205301355 ┆ … ┆ apple   ┆ 1415.48 ┆ 529755884 ┆ 0b828fb6- │\n",
       "│ 00:00:50   ┆            ┆            ┆ 563188265 ┆   ┆         ┆         ┆           ┆ 99bd-4d26 │\n",
       "│ UTC        ┆            ┆            ┆ 5         ┆   ┆         ┆         ┆           ┆ -beb3-302 │\n",
       "│            ┆            ┆            ┆           ┆   ┆         ┆         ┆           ┆ 1f5d6…    │\n",
       "│ 2019-10-01 ┆ view       ┆ 1005073    ┆ 205301355 ┆ … ┆ samsung ┆ 1207.71 ┆ 543427258 ┆ 4fc3e61d- │\n",
       "│ 00:00:57   ┆            ┆            ┆ 563188265 ┆   ┆         ┆         ┆           ┆ 5f94-45bb │\n",
       "│ UTC        ┆            ┆            ┆ 5         ┆   ┆         ┆         ┆           ┆ -82dc-ac7 │\n",
       "│            ┆            ┆            ┆           ┆   ┆         ┆         ┆           ┆ 7f59b…    │\n",
       "└────────────┴────────────┴────────────┴───────────┴───┴─────────┴─────────┴───────────┴───────────┘"
      ]
     },
     "execution_count": 14,
     "metadata": {},
     "output_type": "execute_result"
    }
   ],
   "source": [
    "#Funciona pero no se ve bien\n",
    "#df.filter(df['price'] > 100)\n",
    "\n",
    "#Mejor\n",
    "df.filter(pl.col('price') > 1000).head()"
   ]
  },
  {
   "cell_type": "markdown",
   "id": "655aebbc",
   "metadata": {},
   "source": [
    "## 2. Select data with idiomatic polars"
   ]
  },
  {
   "cell_type": "code",
   "execution_count": 15,
   "id": "eeb19c37",
   "metadata": {},
   "outputs": [
    {
     "data": {
      "text/html": [
       "<div>\n",
       "<style scoped>\n",
       "    .dataframe tbody tr th:only-of-type {\n",
       "        vertical-align: middle;\n",
       "    }\n",
       "\n",
       "    .dataframe tbody tr th {\n",
       "        vertical-align: top;\n",
       "    }\n",
       "\n",
       "    .dataframe thead th {\n",
       "        text-align: right;\n",
       "    }\n",
       "</style>\n",
       "<table border=\"1\" class=\"dataframe\">\n",
       "  <thead>\n",
       "    <tr style=\"text-align: right;\">\n",
       "      <th></th>\n",
       "      <th>event_time</th>\n",
       "      <th>event_type</th>\n",
       "      <th>product_id</th>\n",
       "      <th>category_id</th>\n",
       "      <th>category_code</th>\n",
       "      <th>brand</th>\n",
       "      <th>price</th>\n",
       "      <th>user_id</th>\n",
       "      <th>user_session</th>\n",
       "    </tr>\n",
       "  </thead>\n",
       "  <tbody>\n",
       "    <tr>\n",
       "      <th>0</th>\n",
       "      <td>2019-10-12 13:43:25 UTC</td>\n",
       "      <td>view</td>\n",
       "      <td>4900419</td>\n",
       "      <td>2053013555220840837</td>\n",
       "      <td>appliances.kitchen.juicer</td>\n",
       "      <td>polaris</td>\n",
       "      <td>59.18</td>\n",
       "      <td>514434179</td>\n",
       "      <td>ad396532-0079-4d13-bc76-24b204507e50</td>\n",
       "    </tr>\n",
       "    <tr>\n",
       "      <th>1</th>\n",
       "      <td>2019-10-24 08:39:47 UTC</td>\n",
       "      <td>view</td>\n",
       "      <td>1004863</td>\n",
       "      <td>2053013555631882655</td>\n",
       "      <td>electronics.smartphone</td>\n",
       "      <td>samsung</td>\n",
       "      <td>170.60</td>\n",
       "      <td>561493725</td>\n",
       "      <td>733df52b-b63e-43b8-a4f9-5c14ed992672</td>\n",
       "    </tr>\n",
       "    <tr>\n",
       "      <th>2</th>\n",
       "      <td>2019-10-11 12:26:56 UTC</td>\n",
       "      <td>view</td>\n",
       "      <td>12718062</td>\n",
       "      <td>2053013553559896355</td>\n",
       "      <td>None</td>\n",
       "      <td>None</td>\n",
       "      <td>32.43</td>\n",
       "      <td>548913065</td>\n",
       "      <td>805061c6-7997-4c25-842d-da162a95acd9</td>\n",
       "    </tr>\n",
       "    <tr>\n",
       "      <th>3</th>\n",
       "      <td>2019-10-01 08:36:48 UTC</td>\n",
       "      <td>view</td>\n",
       "      <td>28719085</td>\n",
       "      <td>2053013565639492569</td>\n",
       "      <td>apparel.shoes</td>\n",
       "      <td>baden</td>\n",
       "      <td>123.30</td>\n",
       "      <td>514051855</td>\n",
       "      <td>ef888e75-ad50-4b79-8247-fc5f0c2c2250</td>\n",
       "    </tr>\n",
       "    <tr>\n",
       "      <th>4</th>\n",
       "      <td>2019-10-28 17:52:46 UTC</td>\n",
       "      <td>view</td>\n",
       "      <td>5000691</td>\n",
       "      <td>2053013566100866035</td>\n",
       "      <td>appliances.sewing_machine</td>\n",
       "      <td>chayka</td>\n",
       "      <td>92.31</td>\n",
       "      <td>530959155</td>\n",
       "      <td>50a62cc0-7a2b-4b2e-8fe0-03fbe4040dcf</td>\n",
       "    </tr>\n",
       "  </tbody>\n",
       "</table>\n",
       "</div>"
      ],
      "text/plain": [
       "                event_time event_type  product_id          category_id  \\\n",
       "0  2019-10-12 13:43:25 UTC       view     4900419  2053013555220840837   \n",
       "1  2019-10-24 08:39:47 UTC       view     1004863  2053013555631882655   \n",
       "2  2019-10-11 12:26:56 UTC       view    12718062  2053013553559896355   \n",
       "3  2019-10-01 08:36:48 UTC       view    28719085  2053013565639492569   \n",
       "4  2019-10-28 17:52:46 UTC       view     5000691  2053013566100866035   \n",
       "\n",
       "               category_code    brand   price    user_id  \\\n",
       "0  appliances.kitchen.juicer  polaris   59.18  514434179   \n",
       "1     electronics.smartphone  samsung  170.60  561493725   \n",
       "2                       None     None   32.43  548913065   \n",
       "3              apparel.shoes    baden  123.30  514051855   \n",
       "4  appliances.sewing_machine   chayka   92.31  530959155   \n",
       "\n",
       "                           user_session  \n",
       "0  ad396532-0079-4d13-bc76-24b204507e50  \n",
       "1  733df52b-b63e-43b8-a4f9-5c14ed992672  \n",
       "2  805061c6-7997-4c25-842d-da162a95acd9  \n",
       "3  ef888e75-ad50-4b79-8247-fc5f0c2c2250  \n",
       "4  50a62cc0-7a2b-4b2e-8fe0-03fbe4040dcf  "
      ]
     },
     "execution_count": 15,
     "metadata": {},
     "output_type": "execute_result"
    }
   ],
   "source": [
    "df.sample(5).to_pandas()"
   ]
  },
  {
   "cell_type": "code",
   "execution_count": 16,
   "id": "94cea242",
   "metadata": {},
   "outputs": [
    {
     "data": {
      "text/html": [
       "<div><style>\n",
       ".dataframe > thead > tr > th,\n",
       ".dataframe > tbody > tr > td {\n",
       "  text-align: right;\n",
       "  white-space: pre-wrap;\n",
       "}\n",
       "</style>\n",
       "<small>shape: (5, 2)</small><table border=\"1\" class=\"dataframe\"><thead><tr><th>brand</th><th>price</th></tr><tr><td>str</td><td>f64</td></tr></thead><tbody><tr><td>&quot;shiseido&quot;</td><td>35.79</td></tr><tr><td>&quot;aqua&quot;</td><td>33.2</td></tr><tr><td>null</td><td>543.1</td></tr><tr><td>&quot;lenovo&quot;</td><td>251.74</td></tr><tr><td>&quot;apple&quot;</td><td>1081.98</td></tr></tbody></table></div>"
      ],
      "text/plain": [
       "shape: (5, 2)\n",
       "┌──────────┬─────────┐\n",
       "│ brand    ┆ price   │\n",
       "│ ---      ┆ ---     │\n",
       "│ str      ┆ f64     │\n",
       "╞══════════╪═════════╡\n",
       "│ shiseido ┆ 35.79   │\n",
       "│ aqua     ┆ 33.2    │\n",
       "│ null     ┆ 543.1   │\n",
       "│ lenovo   ┆ 251.74  │\n",
       "│ apple    ┆ 1081.98 │\n",
       "└──────────┴─────────┘"
      ]
     },
     "execution_count": 16,
     "metadata": {},
     "output_type": "execute_result"
    }
   ],
   "source": [
    "#SQL SELECT type of operation. Just selecting columns\n",
    "df.select(['brand','price']).head()"
   ]
  },
  {
   "cell_type": "code",
   "execution_count": 17,
   "id": "6f56e2c5",
   "metadata": {},
   "outputs": [
    {
     "data": {
      "text/html": [
       "<div><style>\n",
       ".dataframe > thead > tr > th,\n",
       ".dataframe > tbody > tr > td {\n",
       "  text-align: right;\n",
       "  white-space: pre-wrap;\n",
       "}\n",
       "</style>\n",
       "<small>shape: (5, 10)</small><table border=\"1\" class=\"dataframe\"><thead><tr><th>event_time</th><th>event_type</th><th>product_id</th><th>category_id</th><th>category_code</th><th>brand</th><th>price</th><th>user_id</th><th>user_session</th><th>price_x_100</th></tr><tr><td>str</td><td>str</td><td>i64</td><td>i64</td><td>str</td><td>str</td><td>f64</td><td>i64</td><td>str</td><td>f64</td></tr></thead><tbody><tr><td>&quot;2019-10-01 00:…</td><td>&quot;view&quot;</td><td>44600062</td><td>2103807459595387724</td><td>null</td><td>&quot;shiseido&quot;</td><td>35.79</td><td>541312140</td><td>&quot;72d76fde-8bb3-…</td><td>3579.0</td></tr><tr><td>&quot;2019-10-01 00:…</td><td>&quot;view&quot;</td><td>3900821</td><td>2053013552326770905</td><td>&quot;appliances.env…</td><td>&quot;aqua&quot;</td><td>33.2</td><td>554748717</td><td>&quot;9333dfbd-b87a-…</td><td>3320.0</td></tr><tr><td>&quot;2019-10-01 00:…</td><td>&quot;view&quot;</td><td>17200506</td><td>2053013559792632471</td><td>&quot;furniture.livi…</td><td>null</td><td>543.1</td><td>519107250</td><td>&quot;566511c2-e2e3-…</td><td>54310.0</td></tr><tr><td>&quot;2019-10-01 00:…</td><td>&quot;view&quot;</td><td>1307067</td><td>2053013558920217191</td><td>&quot;computers.note…</td><td>&quot;lenovo&quot;</td><td>251.74</td><td>550050854</td><td>&quot;7c90fc70-0e80-…</td><td>25174.0</td></tr><tr><td>&quot;2019-10-01 00:…</td><td>&quot;view&quot;</td><td>1004237</td><td>2053013555631882655</td><td>&quot;electronics.sm…</td><td>&quot;apple&quot;</td><td>1081.98</td><td>535871217</td><td>&quot;c6bd7419-2748-…</td><td>108198.0</td></tr></tbody></table></div>"
      ],
      "text/plain": [
       "shape: (5, 10)\n",
       "┌────────────┬───────────┬───────────┬───────────┬───┬─────────┬───────────┬───────────┬───────────┐\n",
       "│ event_time ┆ event_typ ┆ product_i ┆ category_ ┆ … ┆ price   ┆ user_id   ┆ user_sess ┆ price_x_1 │\n",
       "│ ---        ┆ e         ┆ d         ┆ id        ┆   ┆ ---     ┆ ---       ┆ ion       ┆ 00        │\n",
       "│ str        ┆ ---       ┆ ---       ┆ ---       ┆   ┆ f64     ┆ i64       ┆ ---       ┆ ---       │\n",
       "│            ┆ str       ┆ i64       ┆ i64       ┆   ┆         ┆           ┆ str       ┆ f64       │\n",
       "╞════════════╪═══════════╪═══════════╪═══════════╪═══╪═════════╪═══════════╪═══════════╪═══════════╡\n",
       "│ 2019-10-01 ┆ view      ┆ 44600062  ┆ 210380745 ┆ … ┆ 35.79   ┆ 541312140 ┆ 72d76fde- ┆ 3579.0    │\n",
       "│ 00:00:00   ┆           ┆           ┆ 959538772 ┆   ┆         ┆           ┆ 8bb3-4e00 ┆           │\n",
       "│ UTC        ┆           ┆           ┆ 4         ┆   ┆         ┆           ┆ -8c23-a03 ┆           │\n",
       "│            ┆           ┆           ┆           ┆   ┆         ┆           ┆ 2dfed…    ┆           │\n",
       "│ 2019-10-01 ┆ view      ┆ 3900821   ┆ 205301355 ┆ … ┆ 33.2    ┆ 554748717 ┆ 9333dfbd- ┆ 3320.0    │\n",
       "│ 00:00:00   ┆           ┆           ┆ 232677090 ┆   ┆         ┆           ┆ b87a-4708 ┆           │\n",
       "│ UTC        ┆           ┆           ┆ 5         ┆   ┆         ┆           ┆ -9857-633 ┆           │\n",
       "│            ┆           ┆           ┆           ┆   ┆         ┆           ┆ 6556b…    ┆           │\n",
       "│ 2019-10-01 ┆ view      ┆ 17200506  ┆ 205301355 ┆ … ┆ 543.1   ┆ 519107250 ┆ 566511c2- ┆ 54310.0   │\n",
       "│ 00:00:01   ┆           ┆           ┆ 979263247 ┆   ┆         ┆           ┆ e2e3-422b ┆           │\n",
       "│ UTC        ┆           ┆           ┆ 1         ┆   ┆         ┆           ┆ -b695-cf8 ┆           │\n",
       "│            ┆           ┆           ┆           ┆   ┆         ┆           ┆ e6e79…    ┆           │\n",
       "│ 2019-10-01 ┆ view      ┆ 1307067   ┆ 205301355 ┆ … ┆ 251.74  ┆ 550050854 ┆ 7c90fc70- ┆ 25174.0   │\n",
       "│ 00:00:01   ┆           ┆           ┆ 892021719 ┆   ┆         ┆           ┆ 0e80-4590 ┆           │\n",
       "│ UTC        ┆           ┆           ┆ 1         ┆   ┆         ┆           ┆ -96f3-13c ┆           │\n",
       "│            ┆           ┆           ┆           ┆   ┆         ┆           ┆ 02c18…    ┆           │\n",
       "│ 2019-10-01 ┆ view      ┆ 1004237   ┆ 205301355 ┆ … ┆ 1081.98 ┆ 535871217 ┆ c6bd7419- ┆ 108198.0  │\n",
       "│ 00:00:04   ┆           ┆           ┆ 563188265 ┆   ┆         ┆           ┆ 2748-4c56 ┆           │\n",
       "│ UTC        ┆           ┆           ┆ 5         ┆   ┆         ┆           ┆ -95b4-8ce ┆           │\n",
       "│            ┆           ┆           ┆           ┆   ┆         ┆           ┆ c9ff8…    ┆           │\n",
       "└────────────┴───────────┴───────────┴───────────┴───┴─────────┴───────────┴───────────┴───────────┘"
      ]
     },
     "execution_count": 17,
     "metadata": {},
     "output_type": "execute_result"
    }
   ],
   "source": [
    "#Keeps all the original columns and adds a new one\n",
    "#Similar to a SELECT * in SQL\n",
    "df.with_columns([\n",
    "    (pl.col('price') * 100).alias('price_x_100')\n",
    "]).head()"
   ]
  },
  {
   "cell_type": "code",
   "execution_count": 18,
   "id": "9fced11b",
   "metadata": {},
   "outputs": [
    {
     "data": {
      "text/html": [
       "<div><style>\n",
       ".dataframe > thead > tr > th,\n",
       ".dataframe > tbody > tr > td {\n",
       "  text-align: right;\n",
       "  white-space: pre-wrap;\n",
       "}\n",
       "</style>\n",
       "<small>shape: (5, 9)</small><table border=\"1\" class=\"dataframe\"><thead><tr><th>event_time</th><th>event_type</th><th>product_id</th><th>category_id</th><th>category_code</th><th>brand</th><th>price</th><th>user_id</th><th>user_session</th></tr><tr><td>str</td><td>str</td><td>i64</td><td>i64</td><td>str</td><td>str</td><td>f64</td><td>i64</td><td>str</td></tr></thead><tbody><tr><td>&quot;2019-10-01 00:…</td><td>&quot;view&quot;</td><td>1004237</td><td>2053013555631882655</td><td>&quot;electronics.sm…</td><td>&quot;apple&quot;</td><td>1081.98</td><td>535871217</td><td>&quot;c6bd7419-2748-…</td></tr><tr><td>&quot;2019-10-01 00:…</td><td>&quot;view&quot;</td><td>1005135</td><td>2053013555631882655</td><td>&quot;electronics.sm…</td><td>&quot;apple&quot;</td><td>1747.79</td><td>535871217</td><td>&quot;c6bd7419-2748-…</td></tr><tr><td>&quot;2019-10-01 00:…</td><td>&quot;view&quot;</td><td>1005135</td><td>2053013555631882655</td><td>&quot;electronics.sm…</td><td>&quot;apple&quot;</td><td>1747.79</td><td>535871217</td><td>&quot;c6bd7419-2748-…</td></tr><tr><td>&quot;2019-10-01 00:…</td><td>&quot;view&quot;</td><td>1005105</td><td>2053013555631882655</td><td>&quot;electronics.sm…</td><td>&quot;apple&quot;</td><td>1415.48</td><td>529755884</td><td>&quot;0b828fb6-99bd-…</td></tr><tr><td>&quot;2019-10-01 00:…</td><td>&quot;view&quot;</td><td>1005073</td><td>2053013555631882655</td><td>&quot;electronics.sm…</td><td>&quot;samsung&quot;</td><td>1207.71</td><td>543427258</td><td>&quot;4fc3e61d-5f94-…</td></tr></tbody></table></div>"
      ],
      "text/plain": [
       "shape: (5, 9)\n",
       "┌────────────┬────────────┬────────────┬───────────┬───┬─────────┬─────────┬───────────┬───────────┐\n",
       "│ event_time ┆ event_type ┆ product_id ┆ category_ ┆ … ┆ brand   ┆ price   ┆ user_id   ┆ user_sess │\n",
       "│ ---        ┆ ---        ┆ ---        ┆ id        ┆   ┆ ---     ┆ ---     ┆ ---       ┆ ion       │\n",
       "│ str        ┆ str        ┆ i64        ┆ ---       ┆   ┆ str     ┆ f64     ┆ i64       ┆ ---       │\n",
       "│            ┆            ┆            ┆ i64       ┆   ┆         ┆         ┆           ┆ str       │\n",
       "╞════════════╪════════════╪════════════╪═══════════╪═══╪═════════╪═════════╪═══════════╪═══════════╡\n",
       "│ 2019-10-01 ┆ view       ┆ 1004237    ┆ 205301355 ┆ … ┆ apple   ┆ 1081.98 ┆ 535871217 ┆ c6bd7419- │\n",
       "│ 00:00:04   ┆            ┆            ┆ 563188265 ┆   ┆         ┆         ┆           ┆ 2748-4c56 │\n",
       "│ UTC        ┆            ┆            ┆ 5         ┆   ┆         ┆         ┆           ┆ -95b4-8ce │\n",
       "│            ┆            ┆            ┆           ┆   ┆         ┆         ┆           ┆ c9ff8…    │\n",
       "│ 2019-10-01 ┆ view       ┆ 1005135    ┆ 205301355 ┆ … ┆ apple   ┆ 1747.79 ┆ 535871217 ┆ c6bd7419- │\n",
       "│ 00:00:19   ┆            ┆            ┆ 563188265 ┆   ┆         ┆         ┆           ┆ 2748-4c56 │\n",
       "│ UTC        ┆            ┆            ┆ 5         ┆   ┆         ┆         ┆           ┆ -95b4-8ce │\n",
       "│            ┆            ┆            ┆           ┆   ┆         ┆         ┆           ┆ c9ff8…    │\n",
       "│ 2019-10-01 ┆ view       ┆ 1005135    ┆ 205301355 ┆ … ┆ apple   ┆ 1747.79 ┆ 535871217 ┆ c6bd7419- │\n",
       "│ 00:00:43   ┆            ┆            ┆ 563188265 ┆   ┆         ┆         ┆           ┆ 2748-4c56 │\n",
       "│ UTC        ┆            ┆            ┆ 5         ┆   ┆         ┆         ┆           ┆ -95b4-8ce │\n",
       "│            ┆            ┆            ┆           ┆   ┆         ┆         ┆           ┆ c9ff8…    │\n",
       "│ 2019-10-01 ┆ view       ┆ 1005105    ┆ 205301355 ┆ … ┆ apple   ┆ 1415.48 ┆ 529755884 ┆ 0b828fb6- │\n",
       "│ 00:00:50   ┆            ┆            ┆ 563188265 ┆   ┆         ┆         ┆           ┆ 99bd-4d26 │\n",
       "│ UTC        ┆            ┆            ┆ 5         ┆   ┆         ┆         ┆           ┆ -beb3-302 │\n",
       "│            ┆            ┆            ┆           ┆   ┆         ┆         ┆           ┆ 1f5d6…    │\n",
       "│ 2019-10-01 ┆ view       ┆ 1005073    ┆ 205301355 ┆ … ┆ samsung ┆ 1207.71 ┆ 543427258 ┆ 4fc3e61d- │\n",
       "│ 00:00:57   ┆            ┆            ┆ 563188265 ┆   ┆         ┆         ┆           ┆ 5f94-45bb │\n",
       "│ UTC        ┆            ┆            ┆ 5         ┆   ┆         ┆         ┆           ┆ -82dc-ac7 │\n",
       "│            ┆            ┆            ┆           ┆   ┆         ┆         ┆           ┆ 7f59b…    │\n",
       "└────────────┴────────────┴────────────┴───────────┴───┴─────────┴─────────┴───────────┴───────────┘"
      ]
     },
     "execution_count": 18,
     "metadata": {},
     "output_type": "execute_result"
    }
   ],
   "source": [
    "df.filter(pl.col('price') > 1000).head()"
   ]
  },
  {
   "cell_type": "code",
   "execution_count": 19,
   "id": "c49b13d1",
   "metadata": {},
   "outputs": [
    {
     "data": {
      "text/html": [
       "<div><style>\n",
       ".dataframe > thead > tr > th,\n",
       ".dataframe > tbody > tr > td {\n",
       "  text-align: right;\n",
       "  white-space: pre-wrap;\n",
       "}\n",
       "</style>\n",
       "<small>shape: (5, 9)</small><table border=\"1\" class=\"dataframe\"><thead><tr><th>event_time</th><th>event_type</th><th>product_id</th><th>category_id</th><th>category_code</th><th>brand</th><th>price</th><th>user_id</th><th>user_session</th></tr><tr><td>str</td><td>str</td><td>i64</td><td>i64</td><td>str</td><td>str</td><td>f64</td><td>i64</td><td>str</td></tr></thead><tbody><tr><td>&quot;2019-10-01 00:…</td><td>&quot;view&quot;</td><td>1004237</td><td>2053013555631882655</td><td>&quot;electronics.sm…</td><td>&quot;apple&quot;</td><td>1081.98</td><td>535871217</td><td>&quot;c6bd7419-2748-…</td></tr><tr><td>&quot;2019-10-01 00:…</td><td>&quot;view&quot;</td><td>1005011</td><td>2053013555631882655</td><td>&quot;electronics.sm…</td><td>&quot;samsung&quot;</td><td>900.64</td><td>530282093</td><td>&quot;50a293fb-5940-…</td></tr><tr><td>&quot;2019-10-01 00:…</td><td>&quot;view&quot;</td><td>1005135</td><td>2053013555631882655</td><td>&quot;electronics.sm…</td><td>&quot;apple&quot;</td><td>1747.79</td><td>535871217</td><td>&quot;c6bd7419-2748-…</td></tr><tr><td>&quot;2019-10-01 00:…</td><td>&quot;view&quot;</td><td>1003306</td><td>2053013555631882655</td><td>&quot;electronics.sm…</td><td>&quot;apple&quot;</td><td>588.77</td><td>555446831</td><td>&quot;6ec635da-ea15-…</td></tr><tr><td>&quot;2019-10-01 00:…</td><td>&quot;view&quot;</td><td>1003306</td><td>2053013555631882655</td><td>&quot;electronics.sm…</td><td>&quot;apple&quot;</td><td>588.77</td><td>555446831</td><td>&quot;6ec635da-ea15-…</td></tr></tbody></table></div>"
      ],
      "text/plain": [
       "shape: (5, 9)\n",
       "┌────────────┬────────────┬────────────┬───────────┬───┬─────────┬─────────┬───────────┬───────────┐\n",
       "│ event_time ┆ event_type ┆ product_id ┆ category_ ┆ … ┆ brand   ┆ price   ┆ user_id   ┆ user_sess │\n",
       "│ ---        ┆ ---        ┆ ---        ┆ id        ┆   ┆ ---     ┆ ---     ┆ ---       ┆ ion       │\n",
       "│ str        ┆ str        ┆ i64        ┆ ---       ┆   ┆ str     ┆ f64     ┆ i64       ┆ ---       │\n",
       "│            ┆            ┆            ┆ i64       ┆   ┆         ┆         ┆           ┆ str       │\n",
       "╞════════════╪════════════╪════════════╪═══════════╪═══╪═════════╪═════════╪═══════════╪═══════════╡\n",
       "│ 2019-10-01 ┆ view       ┆ 1004237    ┆ 205301355 ┆ … ┆ apple   ┆ 1081.98 ┆ 535871217 ┆ c6bd7419- │\n",
       "│ 00:00:04   ┆            ┆            ┆ 563188265 ┆   ┆         ┆         ┆           ┆ 2748-4c56 │\n",
       "│ UTC        ┆            ┆            ┆ 5         ┆   ┆         ┆         ┆           ┆ -95b4-8ce │\n",
       "│            ┆            ┆            ┆           ┆   ┆         ┆         ┆           ┆ c9ff8…    │\n",
       "│ 2019-10-01 ┆ view       ┆ 1005011    ┆ 205301355 ┆ … ┆ samsung ┆ 900.64  ┆ 530282093 ┆ 50a293fb- │\n",
       "│ 00:00:11   ┆            ┆            ┆ 563188265 ┆   ┆         ┆         ┆           ┆ 5940-41b2 │\n",
       "│ UTC        ┆            ┆            ┆ 5         ┆   ┆         ┆         ┆           ┆ -baf3-17a │\n",
       "│            ┆            ┆            ┆           ┆   ┆         ┆         ┆           ┆ f0e81…    │\n",
       "│ 2019-10-01 ┆ view       ┆ 1005135    ┆ 205301355 ┆ … ┆ apple   ┆ 1747.79 ┆ 535871217 ┆ c6bd7419- │\n",
       "│ 00:00:19   ┆            ┆            ┆ 563188265 ┆   ┆         ┆         ┆           ┆ 2748-4c56 │\n",
       "│ UTC        ┆            ┆            ┆ 5         ┆   ┆         ┆         ┆           ┆ -95b4-8ce │\n",
       "│            ┆            ┆            ┆           ┆   ┆         ┆         ┆           ┆ c9ff8…    │\n",
       "│ 2019-10-01 ┆ view       ┆ 1003306    ┆ 205301355 ┆ … ┆ apple   ┆ 588.77  ┆ 555446831 ┆ 6ec635da- │\n",
       "│ 00:00:20   ┆            ┆            ┆ 563188265 ┆   ┆         ┆         ┆           ┆ ea15-4a5d │\n",
       "│ UTC        ┆            ┆            ┆ 5         ┆   ┆         ┆         ┆           ┆ -96b4-c8c │\n",
       "│            ┆            ┆            ┆           ┆   ┆         ┆         ┆           ┆ a9d38…    │\n",
       "│ 2019-10-01 ┆ view       ┆ 1003306    ┆ 205301355 ┆ … ┆ apple   ┆ 588.77  ┆ 555446831 ┆ 6ec635da- │\n",
       "│ 00:00:24   ┆            ┆            ┆ 563188265 ┆   ┆         ┆         ┆           ┆ ea15-4a5d │\n",
       "│ UTC        ┆            ┆            ┆ 5         ┆   ┆         ┆         ┆           ┆ -96b4-c8c │\n",
       "│            ┆            ┆            ┆           ┆   ┆         ┆         ┆           ┆ a9d38…    │\n",
       "└────────────┴────────────┴────────────┴───────────┴───┴─────────┴─────────┴───────────┴───────────┘"
      ]
     },
     "execution_count": 19,
     "metadata": {},
     "output_type": "execute_result"
    }
   ],
   "source": [
    "df.filter(\n",
    "    pl.col('brand').is_in(['apple','samsung','motorola'])\n",
    ").head()"
   ]
  },
  {
   "cell_type": "markdown",
   "id": "2afa4fdc",
   "metadata": {},
   "source": [
    "## Computation on the select context"
   ]
  },
  {
   "cell_type": "code",
   "execution_count": 20,
   "id": "2d457b2c",
   "metadata": {},
   "outputs": [
    {
     "data": {
      "text/html": [
       "<div><style>\n",
       ".dataframe > thead > tr > th,\n",
       ".dataframe > tbody > tr > td {\n",
       "  text-align: right;\n",
       "  white-space: pre-wrap;\n",
       "}\n",
       "</style>\n",
       "<small>shape: (1, 1)</small><table border=\"1\" class=\"dataframe\"><thead><tr><th>product_id</th></tr><tr><td>u32</td></tr></thead><tbody><tr><td>166794</td></tr></tbody></table></div>"
      ],
      "text/plain": [
       "shape: (1, 1)\n",
       "┌────────────┐\n",
       "│ product_id │\n",
       "│ ---        │\n",
       "│ u32        │\n",
       "╞════════════╡\n",
       "│ 166794     │\n",
       "└────────────┘"
      ]
     },
     "execution_count": 20,
     "metadata": {},
     "output_type": "execute_result"
    }
   ],
   "source": [
    "df.select([\n",
    "    pl.col('product_id').n_unique()\n",
    "])"
   ]
  },
  {
   "cell_type": "code",
   "execution_count": 21,
   "id": "acdc7de2",
   "metadata": {},
   "outputs": [
    {
     "data": {
      "text/html": [
       "<div><style>\n",
       ".dataframe > thead > tr > th,\n",
       ".dataframe > tbody > tr > td {\n",
       "  text-align: right;\n",
       "  white-space: pre-wrap;\n",
       "}\n",
       "</style>\n",
       "<small>shape: (1, 5)</small><table border=\"1\" class=\"dataframe\"><thead><tr><th>min</th><th>mean</th><th>median</th><th>max</th><th>std_dev</th></tr><tr><td>f64</td><td>f64</td><td>f64</td><td>f64</td><td>f64</td></tr></thead><tbody><tr><td>0.0</td><td>290.323661</td><td>162.93</td><td>2574.07</td><td>358.269155</td></tr></tbody></table></div>"
      ],
      "text/plain": [
       "shape: (1, 5)\n",
       "┌─────┬────────────┬────────┬─────────┬────────────┐\n",
       "│ min ┆ mean       ┆ median ┆ max     ┆ std_dev    │\n",
       "│ --- ┆ ---        ┆ ---    ┆ ---     ┆ ---        │\n",
       "│ f64 ┆ f64        ┆ f64    ┆ f64     ┆ f64        │\n",
       "╞═════╪════════════╪════════╪═════════╪════════════╡\n",
       "│ 0.0 ┆ 290.323661 ┆ 162.93 ┆ 2574.07 ┆ 358.269155 │\n",
       "└─────┴────────────┴────────┴─────────┴────────────┘"
      ]
     },
     "execution_count": 21,
     "metadata": {},
     "output_type": "execute_result"
    }
   ],
   "source": [
    "#Hay que poner el alias porque si no da error\n",
    "df.select([\n",
    "    pl.col('price').min().alias('min'),\n",
    "    pl.col('price').mean().alias('mean'),\n",
    "    pl.col('price').median().alias('median'),\n",
    "    pl.col('price').max().alias('max'),\n",
    "    pl.col('price').std().alias('std_dev'),\n",
    "])"
   ]
  },
  {
   "cell_type": "code",
   "execution_count": 22,
   "id": "b6a8138e",
   "metadata": {},
   "outputs": [
    {
     "data": {
      "text/html": [
       "<div><style>\n",
       ".dataframe > thead > tr > th,\n",
       ".dataframe > tbody > tr > td {\n",
       "  text-align: right;\n",
       "  white-space: pre-wrap;\n",
       "}\n",
       "</style>\n",
       "<small>shape: (9, 2)</small><table border=\"1\" class=\"dataframe\"><thead><tr><th>describe</th><th>price</th></tr><tr><td>str</td><td>f64</td></tr></thead><tbody><tr><td>&quot;count&quot;</td><td>4.2448764e7</td></tr><tr><td>&quot;null_count&quot;</td><td>0.0</td></tr><tr><td>&quot;mean&quot;</td><td>290.323661</td></tr><tr><td>&quot;std&quot;</td><td>358.269155</td></tr><tr><td>&quot;min&quot;</td><td>0.0</td></tr><tr><td>&quot;25%&quot;</td><td>65.98</td></tr><tr><td>&quot;50%&quot;</td><td>162.93</td></tr><tr><td>&quot;75%&quot;</td><td>358.57</td></tr><tr><td>&quot;max&quot;</td><td>2574.07</td></tr></tbody></table></div>"
      ],
      "text/plain": [
       "shape: (9, 2)\n",
       "┌────────────┬─────────────┐\n",
       "│ describe   ┆ price       │\n",
       "│ ---        ┆ ---         │\n",
       "│ str        ┆ f64         │\n",
       "╞════════════╪═════════════╡\n",
       "│ count      ┆ 4.2448764e7 │\n",
       "│ null_count ┆ 0.0         │\n",
       "│ mean       ┆ 290.323661  │\n",
       "│ std        ┆ 358.269155  │\n",
       "│ min        ┆ 0.0         │\n",
       "│ 25%        ┆ 65.98       │\n",
       "│ 50%        ┆ 162.93      │\n",
       "│ 75%        ┆ 358.57      │\n",
       "│ max        ┆ 2574.07     │\n",
       "└────────────┴─────────────┘"
      ]
     },
     "execution_count": 22,
     "metadata": {},
     "output_type": "execute_result"
    }
   ],
   "source": [
    "#Describe a nivel series\n",
    "df.select([\n",
    "    pl.col('price')\n",
    "]).describe()"
   ]
  },
  {
   "cell_type": "code",
   "execution_count": 23,
   "id": "117a43d3",
   "metadata": {},
   "outputs": [],
   "source": [
    "price = df.select([\n",
    "    pl.col('price')\n",
    "])"
   ]
  },
  {
   "cell_type": "code",
   "execution_count": 24,
   "id": "dd57f3b7",
   "metadata": {},
   "outputs": [
    {
     "data": {
      "text/plain": [
       "array([[<Axes: title={'center': 'price'}>]], dtype=object)"
      ]
     },
     "execution_count": 24,
     "metadata": {},
     "output_type": "execute_result"
    },
    {
     "data": {
      "image/png": "[encoded data removed]",
      "text/plain": [
       "<Figure size 640x480 with 1 Axes>"
      ]
     },
     "metadata": {},
     "output_type": "display_data"
    }
   ],
   "source": [
    "price.sample(100000).to_pandas().hist(bins=30)"
   ]
  },
  {
   "cell_type": "code",
   "execution_count": 25,
   "id": "0654c470",
   "metadata": {},
   "outputs": [
    {
     "data": {
      "text/html": [
       "<div>\n",
       "<style scoped>\n",
       "    .dataframe tbody tr th:only-of-type {\n",
       "        vertical-align: middle;\n",
       "    }\n",
       "\n",
       "    .dataframe tbody tr th {\n",
       "        vertical-align: top;\n",
       "    }\n",
       "\n",
       "    .dataframe thead th {\n",
       "        text-align: right;\n",
       "    }\n",
       "</style>\n",
       "<table border=\"1\" class=\"dataframe\">\n",
       "  <thead>\n",
       "    <tr style=\"text-align: right;\">\n",
       "      <th></th>\n",
       "      <th>probs</th>\n",
       "      <th>percentiles</th>\n",
       "    </tr>\n",
       "  </thead>\n",
       "  <tbody>\n",
       "    <tr>\n",
       "      <th>0</th>\n",
       "      <td>0.00</td>\n",
       "      <td>0.00</td>\n",
       "    </tr>\n",
       "    <tr>\n",
       "      <th>1</th>\n",
       "      <td>0.25</td>\n",
       "      <td>65.98</td>\n",
       "    </tr>\n",
       "    <tr>\n",
       "      <th>2</th>\n",
       "      <td>0.50</td>\n",
       "      <td>162.93</td>\n",
       "    </tr>\n",
       "    <tr>\n",
       "      <th>3</th>\n",
       "      <td>0.75</td>\n",
       "      <td>358.57</td>\n",
       "    </tr>\n",
       "    <tr>\n",
       "      <th>4</th>\n",
       "      <td>1.00</td>\n",
       "      <td>2574.07</td>\n",
       "    </tr>\n",
       "  </tbody>\n",
       "</table>\n",
       "</div>"
      ],
      "text/plain": [
       "   probs  percentiles\n",
       "0   0.00         0.00\n",
       "1   0.25        65.98\n",
       "2   0.50       162.93\n",
       "3   0.75       358.57\n",
       "4   1.00      2574.07"
      ]
     },
     "execution_count": 25,
     "metadata": {},
     "output_type": "execute_result"
    }
   ],
   "source": [
    "probs = [0, 0.25, 0.5, 0.75, 1]\n",
    "percentiles = [price.quantile(prob)[0,0] for prob in probs]\n",
    "pd.DataFrame(dict(probs=probs, percentiles=percentiles))\n",
    "#df = pd.DataFrame({'probs': probs, 'percentiles': percentiles})"
   ]
  },
  {
   "cell_type": "markdown",
   "id": "562dd132",
   "metadata": {},
   "source": [
    "## How to update columns and intro to windows functions"
   ]
  },
  {
   "cell_type": "code",
   "execution_count": 30,
   "id": "eecba095",
   "metadata": {},
   "outputs": [
    {
     "data": {
      "text/html": [
       "<div><style>\n",
       ".dataframe > thead > tr > th,\n",
       ".dataframe > tbody > tr > td {\n",
       "  text-align: right;\n",
       "  white-space: pre-wrap;\n",
       "}\n",
       "</style>\n",
       "<small>shape: (5, 9)</small><table border=\"1\" class=\"dataframe\"><thead><tr><th>event_time</th><th>event_type</th><th>product_id</th><th>category_id</th><th>category_code</th><th>brand</th><th>price</th><th>user_id</th><th>user_session</th></tr><tr><td>str</td><td>str</td><td>i64</td><td>i64</td><td>str</td><td>str</td><td>f64</td><td>i64</td><td>str</td></tr></thead><tbody><tr><td>&quot;2019-10-01 00:…</td><td>&quot;view&quot;</td><td>44600062</td><td>2103807459595387724</td><td>null</td><td>&quot;shiseido&quot;</td><td>35.79</td><td>541312140</td><td>&quot;72d76fde-8bb3-…</td></tr><tr><td>&quot;2019-10-01 00:…</td><td>&quot;view&quot;</td><td>3900821</td><td>2053013552326770905</td><td>&quot;appliances.env…</td><td>&quot;aqua&quot;</td><td>33.2</td><td>554748717</td><td>&quot;9333dfbd-b87a-…</td></tr><tr><td>&quot;2019-10-01 00:…</td><td>&quot;view&quot;</td><td>17200506</td><td>2053013559792632471</td><td>&quot;furniture.livi…</td><td>null</td><td>543.1</td><td>519107250</td><td>&quot;566511c2-e2e3-…</td></tr><tr><td>&quot;2019-10-01 00:…</td><td>&quot;view&quot;</td><td>1307067</td><td>2053013558920217191</td><td>&quot;computers.note…</td><td>&quot;lenovo&quot;</td><td>251.74</td><td>550050854</td><td>&quot;7c90fc70-0e80-…</td></tr><tr><td>&quot;2019-10-01 00:…</td><td>&quot;view&quot;</td><td>1004237</td><td>2053013555631882655</td><td>&quot;electronics.sm…</td><td>&quot;apple&quot;</td><td>1081.98</td><td>535871217</td><td>&quot;c6bd7419-2748-…</td></tr></tbody></table></div>"
      ],
      "text/plain": [
       "shape: (5, 9)\n",
       "┌────────────┬────────────┬───────────┬───────────┬───┬──────────┬─────────┬───────────┬───────────┐\n",
       "│ event_time ┆ event_type ┆ product_i ┆ category_ ┆ … ┆ brand    ┆ price   ┆ user_id   ┆ user_sess │\n",
       "│ ---        ┆ ---        ┆ d         ┆ id        ┆   ┆ ---      ┆ ---     ┆ ---       ┆ ion       │\n",
       "│ str        ┆ str        ┆ ---       ┆ ---       ┆   ┆ str      ┆ f64     ┆ i64       ┆ ---       │\n",
       "│            ┆            ┆ i64       ┆ i64       ┆   ┆          ┆         ┆           ┆ str       │\n",
       "╞════════════╪════════════╪═══════════╪═══════════╪═══╪══════════╪═════════╪═══════════╪═══════════╡\n",
       "│ 2019-10-01 ┆ view       ┆ 44600062  ┆ 210380745 ┆ … ┆ shiseido ┆ 35.79   ┆ 541312140 ┆ 72d76fde- │\n",
       "│ 00:00:00   ┆            ┆           ┆ 959538772 ┆   ┆          ┆         ┆           ┆ 8bb3-4e00 │\n",
       "│ UTC        ┆            ┆           ┆ 4         ┆   ┆          ┆         ┆           ┆ -8c23-a03 │\n",
       "│            ┆            ┆           ┆           ┆   ┆          ┆         ┆           ┆ 2dfed…    │\n",
       "│ 2019-10-01 ┆ view       ┆ 3900821   ┆ 205301355 ┆ … ┆ aqua     ┆ 33.2    ┆ 554748717 ┆ 9333dfbd- │\n",
       "│ 00:00:00   ┆            ┆           ┆ 232677090 ┆   ┆          ┆         ┆           ┆ b87a-4708 │\n",
       "│ UTC        ┆            ┆           ┆ 5         ┆   ┆          ┆         ┆           ┆ -9857-633 │\n",
       "│            ┆            ┆           ┆           ┆   ┆          ┆         ┆           ┆ 6556b…    │\n",
       "│ 2019-10-01 ┆ view       ┆ 17200506  ┆ 205301355 ┆ … ┆ null     ┆ 543.1   ┆ 519107250 ┆ 566511c2- │\n",
       "│ 00:00:01   ┆            ┆           ┆ 979263247 ┆   ┆          ┆         ┆           ┆ e2e3-422b │\n",
       "│ UTC        ┆            ┆           ┆ 1         ┆   ┆          ┆         ┆           ┆ -b695-cf8 │\n",
       "│            ┆            ┆           ┆           ┆   ┆          ┆         ┆           ┆ e6e79…    │\n",
       "│ 2019-10-01 ┆ view       ┆ 1307067   ┆ 205301355 ┆ … ┆ lenovo   ┆ 251.74  ┆ 550050854 ┆ 7c90fc70- │\n",
       "│ 00:00:01   ┆            ┆           ┆ 892021719 ┆   ┆          ┆         ┆           ┆ 0e80-4590 │\n",
       "│ UTC        ┆            ┆           ┆ 1         ┆   ┆          ┆         ┆           ┆ -96f3-13c │\n",
       "│            ┆            ┆           ┆           ┆   ┆          ┆         ┆           ┆ 02c18…    │\n",
       "│ 2019-10-01 ┆ view       ┆ 1004237   ┆ 205301355 ┆ … ┆ apple    ┆ 1081.98 ┆ 535871217 ┆ c6bd7419- │\n",
       "│ 00:00:04   ┆            ┆           ┆ 563188265 ┆   ┆          ┆         ┆           ┆ 2748-4c56 │\n",
       "│ UTC        ┆            ┆           ┆ 5         ┆   ┆          ┆         ┆           ┆ -95b4-8ce │\n",
       "│            ┆            ┆           ┆           ┆   ┆          ┆         ┆           ┆ c9ff8…    │\n",
       "└────────────┴────────────┴───────────┴───────────┴───┴──────────┴─────────┴───────────┴───────────┘"
      ]
     },
     "execution_count": 30,
     "metadata": {},
     "output_type": "execute_result"
    }
   ],
   "source": [
    "df.head()"
   ]
  },
  {
   "cell_type": "markdown",
   "id": "52dab2b8",
   "metadata": {},
   "source": [
    "## 1.Update values on one or multiple columns"
   ]
  },
  {
   "cell_type": "code",
   "execution_count": 26,
   "id": "f65cbc3b",
   "metadata": {},
   "outputs": [],
   "source": [
    "df_top = df.head()"
   ]
  },
  {
   "cell_type": "code",
   "execution_count": 28,
   "id": "2554eb68",
   "metadata": {},
   "outputs": [
    {
     "data": {
      "text/html": [
       "<div><style>\n",
       ".dataframe > thead > tr > th,\n",
       ".dataframe > tbody > tr > td {\n",
       "  text-align: right;\n",
       "  white-space: pre-wrap;\n",
       "}\n",
       "</style>\n",
       "<small>shape: (5, 10)</small><table border=\"1\" class=\"dataframe\"><thead><tr><th>event_time</th><th>event_type</th><th>product_id</th><th>category_id</th><th>category_code</th><th>brand</th><th>price</th><th>user_id</th><th>user_session</th><th>brand2</th></tr><tr><td>str</td><td>str</td><td>i64</td><td>i64</td><td>str</td><td>str</td><td>f64</td><td>i64</td><td>str</td><td>str</td></tr></thead><tbody><tr><td>&quot;2019-10-01 00:…</td><td>&quot;view&quot;</td><td>44600062</td><td>2103807459595387724</td><td>null</td><td>&quot;shiseido&quot;</td><td>35.79</td><td>541312140</td><td>&quot;72d76fde-8bb3-…</td><td>&quot;brand.shiseido…</td></tr><tr><td>&quot;2019-10-01 00:…</td><td>&quot;view&quot;</td><td>3900821</td><td>2053013552326770905</td><td>&quot;appliances.env…</td><td>&quot;aqua&quot;</td><td>33.2</td><td>554748717</td><td>&quot;9333dfbd-b87a-…</td><td>&quot;brand.aqua&quot;</td></tr><tr><td>&quot;2019-10-01 00:…</td><td>&quot;view&quot;</td><td>17200506</td><td>2053013559792632471</td><td>&quot;furniture.livi…</td><td>null</td><td>543.1</td><td>519107250</td><td>&quot;566511c2-e2e3-…</td><td>null</td></tr><tr><td>&quot;2019-10-01 00:…</td><td>&quot;view&quot;</td><td>1307067</td><td>2053013558920217191</td><td>&quot;computers.note…</td><td>&quot;lenovo&quot;</td><td>251.74</td><td>550050854</td><td>&quot;7c90fc70-0e80-…</td><td>&quot;brand.lenovo&quot;</td></tr><tr><td>&quot;2019-10-01 00:…</td><td>&quot;view&quot;</td><td>1004237</td><td>2053013555631882655</td><td>&quot;electronics.sm…</td><td>&quot;apple&quot;</td><td>1081.98</td><td>535871217</td><td>&quot;c6bd7419-2748-…</td><td>&quot;brand.apple&quot;</td></tr></tbody></table></div>"
      ],
      "text/plain": [
       "shape: (5, 10)\n",
       "┌────────────┬───────────┬───────────┬───────────┬───┬─────────┬───────────┬───────────┬───────────┐\n",
       "│ event_time ┆ event_typ ┆ product_i ┆ category_ ┆ … ┆ price   ┆ user_id   ┆ user_sess ┆ brand2    │\n",
       "│ ---        ┆ e         ┆ d         ┆ id        ┆   ┆ ---     ┆ ---       ┆ ion       ┆ ---       │\n",
       "│ str        ┆ ---       ┆ ---       ┆ ---       ┆   ┆ f64     ┆ i64       ┆ ---       ┆ str       │\n",
       "│            ┆ str       ┆ i64       ┆ i64       ┆   ┆         ┆           ┆ str       ┆           │\n",
       "╞════════════╪═══════════╪═══════════╪═══════════╪═══╪═════════╪═══════════╪═══════════╪═══════════╡\n",
       "│ 2019-10-01 ┆ view      ┆ 44600062  ┆ 210380745 ┆ … ┆ 35.79   ┆ 541312140 ┆ 72d76fde- ┆ brand.shi │\n",
       "│ 00:00:00   ┆           ┆           ┆ 959538772 ┆   ┆         ┆           ┆ 8bb3-4e00 ┆ seido     │\n",
       "│ UTC        ┆           ┆           ┆ 4         ┆   ┆         ┆           ┆ -8c23-a03 ┆           │\n",
       "│            ┆           ┆           ┆           ┆   ┆         ┆           ┆ 2dfed…    ┆           │\n",
       "│ 2019-10-01 ┆ view      ┆ 3900821   ┆ 205301355 ┆ … ┆ 33.2    ┆ 554748717 ┆ 9333dfbd- ┆ brand.aqu │\n",
       "│ 00:00:00   ┆           ┆           ┆ 232677090 ┆   ┆         ┆           ┆ b87a-4708 ┆ a         │\n",
       "│ UTC        ┆           ┆           ┆ 5         ┆   ┆         ┆           ┆ -9857-633 ┆           │\n",
       "│            ┆           ┆           ┆           ┆   ┆         ┆           ┆ 6556b…    ┆           │\n",
       "│ 2019-10-01 ┆ view      ┆ 17200506  ┆ 205301355 ┆ … ┆ 543.1   ┆ 519107250 ┆ 566511c2- ┆ null      │\n",
       "│ 00:00:01   ┆           ┆           ┆ 979263247 ┆   ┆         ┆           ┆ e2e3-422b ┆           │\n",
       "│ UTC        ┆           ┆           ┆ 1         ┆   ┆         ┆           ┆ -b695-cf8 ┆           │\n",
       "│            ┆           ┆           ┆           ┆   ┆         ┆           ┆ e6e79…    ┆           │\n",
       "│ 2019-10-01 ┆ view      ┆ 1307067   ┆ 205301355 ┆ … ┆ 251.74  ┆ 550050854 ┆ 7c90fc70- ┆ brand.len │\n",
       "│ 00:00:01   ┆           ┆           ┆ 892021719 ┆   ┆         ┆           ┆ 0e80-4590 ┆ ovo       │\n",
       "│ UTC        ┆           ┆           ┆ 1         ┆   ┆         ┆           ┆ -96f3-13c ┆           │\n",
       "│            ┆           ┆           ┆           ┆   ┆         ┆           ┆ 02c18…    ┆           │\n",
       "│ 2019-10-01 ┆ view      ┆ 1004237   ┆ 205301355 ┆ … ┆ 1081.98 ┆ 535871217 ┆ c6bd7419- ┆ brand.app │\n",
       "│ 00:00:04   ┆           ┆           ┆ 563188265 ┆   ┆         ┆           ┆ 2748-4c56 ┆ le        │\n",
       "│ UTC        ┆           ┆           ┆ 5         ┆   ┆         ┆           ┆ -95b4-8ce ┆           │\n",
       "│            ┆           ┆           ┆           ┆   ┆         ┆           ┆ c9ff8…    ┆           │\n",
       "└────────────┴───────────┴───────────┴───────────┴───┴─────────┴───────────┴───────────┴───────────┘"
      ]
     },
     "execution_count": 28,
     "metadata": {},
     "output_type": "execute_result"
    }
   ],
   "source": [
    "#Update a string column\n",
    "df_top.with_columns(\n",
    "    (\"brand.\" + pl.col(\"brand\")).alias(\"brand2\")\n",
    ")"
   ]
  },
  {
   "cell_type": "code",
   "execution_count": 29,
   "id": "d4851484",
   "metadata": {},
   "outputs": [
    {
     "data": {
      "text/html": [
       "<div><style>\n",
       ".dataframe > thead > tr > th,\n",
       ".dataframe > tbody > tr > td {\n",
       "  text-align: right;\n",
       "  white-space: pre-wrap;\n",
       "}\n",
       "</style>\n",
       "<small>shape: (5, 11)</small><table border=\"1\" class=\"dataframe\"><thead><tr><th>event_time</th><th>event_type</th><th>product_id</th><th>category_id</th><th>category_code</th><th>brand</th><th>price</th><th>user_id</th><th>user_session</th><th>brand2</th><th>price2</th></tr><tr><td>str</td><td>str</td><td>i64</td><td>i64</td><td>str</td><td>str</td><td>f64</td><td>i64</td><td>str</td><td>str</td><td>f64</td></tr></thead><tbody><tr><td>&quot;2019-10-01 00:…</td><td>&quot;view&quot;</td><td>44600062</td><td>2103807459595387724</td><td>null</td><td>&quot;shiseido&quot;</td><td>35.79</td><td>541312140</td><td>&quot;72d76fde-8bb3-…</td><td>&quot;brand.shiseido…</td><td>3579.0</td></tr><tr><td>&quot;2019-10-01 00:…</td><td>&quot;view&quot;</td><td>3900821</td><td>2053013552326770905</td><td>&quot;appliances.env…</td><td>&quot;aqua&quot;</td><td>33.2</td><td>554748717</td><td>&quot;9333dfbd-b87a-…</td><td>&quot;brand.aqua&quot;</td><td>3320.0</td></tr><tr><td>&quot;2019-10-01 00:…</td><td>&quot;view&quot;</td><td>17200506</td><td>2053013559792632471</td><td>&quot;furniture.livi…</td><td>null</td><td>543.1</td><td>519107250</td><td>&quot;566511c2-e2e3-…</td><td>null</td><td>54310.0</td></tr><tr><td>&quot;2019-10-01 00:…</td><td>&quot;view&quot;</td><td>1307067</td><td>2053013558920217191</td><td>&quot;computers.note…</td><td>&quot;lenovo&quot;</td><td>251.74</td><td>550050854</td><td>&quot;7c90fc70-0e80-…</td><td>&quot;brand.lenovo&quot;</td><td>25174.0</td></tr><tr><td>&quot;2019-10-01 00:…</td><td>&quot;view&quot;</td><td>1004237</td><td>2053013555631882655</td><td>&quot;electronics.sm…</td><td>&quot;apple&quot;</td><td>1081.98</td><td>535871217</td><td>&quot;c6bd7419-2748-…</td><td>&quot;brand.apple&quot;</td><td>108198.0</td></tr></tbody></table></div>"
      ],
      "text/plain": [
       "shape: (5, 11)\n",
       "┌───────────┬───────────┬───────────┬───────────┬───┬───────────┬───────────┬───────────┬──────────┐\n",
       "│ event_tim ┆ event_typ ┆ product_i ┆ category_ ┆ … ┆ user_id   ┆ user_sess ┆ brand2    ┆ price2   │\n",
       "│ e         ┆ e         ┆ d         ┆ id        ┆   ┆ ---       ┆ ion       ┆ ---       ┆ ---      │\n",
       "│ ---       ┆ ---       ┆ ---       ┆ ---       ┆   ┆ i64       ┆ ---       ┆ str       ┆ f64      │\n",
       "│ str       ┆ str       ┆ i64       ┆ i64       ┆   ┆           ┆ str       ┆           ┆          │\n",
       "╞═══════════╪═══════════╪═══════════╪═══════════╪═══╪═══════════╪═══════════╪═══════════╪══════════╡\n",
       "│ 2019-10-0 ┆ view      ┆ 44600062  ┆ 210380745 ┆ … ┆ 541312140 ┆ 72d76fde- ┆ brand.shi ┆ 3579.0   │\n",
       "│ 1         ┆           ┆           ┆ 959538772 ┆   ┆           ┆ 8bb3-4e00 ┆ seido     ┆          │\n",
       "│ 00:00:00  ┆           ┆           ┆ 4         ┆   ┆           ┆ -8c23-a03 ┆           ┆          │\n",
       "│ UTC       ┆           ┆           ┆           ┆   ┆           ┆ 2dfed…    ┆           ┆          │\n",
       "│ 2019-10-0 ┆ view      ┆ 3900821   ┆ 205301355 ┆ … ┆ 554748717 ┆ 9333dfbd- ┆ brand.aqu ┆ 3320.0   │\n",
       "│ 1         ┆           ┆           ┆ 232677090 ┆   ┆           ┆ b87a-4708 ┆ a         ┆          │\n",
       "│ 00:00:00  ┆           ┆           ┆ 5         ┆   ┆           ┆ -9857-633 ┆           ┆          │\n",
       "│ UTC       ┆           ┆           ┆           ┆   ┆           ┆ 6556b…    ┆           ┆          │\n",
       "│ 2019-10-0 ┆ view      ┆ 17200506  ┆ 205301355 ┆ … ┆ 519107250 ┆ 566511c2- ┆ null      ┆ 54310.0  │\n",
       "│ 1         ┆           ┆           ┆ 979263247 ┆   ┆           ┆ e2e3-422b ┆           ┆          │\n",
       "│ 00:00:01  ┆           ┆           ┆ 1         ┆   ┆           ┆ -b695-cf8 ┆           ┆          │\n",
       "│ UTC       ┆           ┆           ┆           ┆   ┆           ┆ e6e79…    ┆           ┆          │\n",
       "│ 2019-10-0 ┆ view      ┆ 1307067   ┆ 205301355 ┆ … ┆ 550050854 ┆ 7c90fc70- ┆ brand.len ┆ 25174.0  │\n",
       "│ 1         ┆           ┆           ┆ 892021719 ┆   ┆           ┆ 0e80-4590 ┆ ovo       ┆          │\n",
       "│ 00:00:01  ┆           ┆           ┆ 1         ┆   ┆           ┆ -96f3-13c ┆           ┆          │\n",
       "│ UTC       ┆           ┆           ┆           ┆   ┆           ┆ 02c18…    ┆           ┆          │\n",
       "│ 2019-10-0 ┆ view      ┆ 1004237   ┆ 205301355 ┆ … ┆ 535871217 ┆ c6bd7419- ┆ brand.app ┆ 108198.0 │\n",
       "│ 1         ┆           ┆           ┆ 563188265 ┆   ┆           ┆ 2748-4c56 ┆ le        ┆          │\n",
       "│ 00:00:04  ┆           ┆           ┆ 5         ┆   ┆           ┆ -95b4-8ce ┆           ┆          │\n",
       "│ UTC       ┆           ┆           ┆           ┆   ┆           ┆ c9ff8…    ┆           ┆          │\n",
       "└───────────┴───────────┴───────────┴───────────┴───┴───────────┴───────────┴───────────┴──────────┘"
      ]
     },
     "execution_count": 29,
     "metadata": {},
     "output_type": "execute_result"
    }
   ],
   "source": [
    "#Update a numeric column\n",
    "df_top.with_columns([\n",
    "    (\"brand.\" + pl.col(\"brand\")).alias(\"brand2\"),\n",
    "    (pl.col('price') * 100).alias('price2')\n",
    "    \n",
    "])"
   ]
  },
  {
   "cell_type": "code",
   "execution_count": 32,
   "id": "cb1b14f5",
   "metadata": {},
   "outputs": [
    {
     "data": {
      "text/html": [
       "<div><style>\n",
       ".dataframe > thead > tr > th,\n",
       ".dataframe > tbody > tr > td {\n",
       "  text-align: right;\n",
       "  white-space: pre-wrap;\n",
       "}\n",
       "</style>\n",
       "<small>shape: (5, 2)</small><table border=\"1\" class=\"dataframe\"><thead><tr><th>brand2</th><th>price2</th></tr><tr><td>str</td><td>f64</td></tr></thead><tbody><tr><td>&quot;brand.shiseido…</td><td>3579.0</td></tr><tr><td>&quot;brand.aqua&quot;</td><td>3320.0</td></tr><tr><td>null</td><td>54310.0</td></tr><tr><td>&quot;brand.lenovo&quot;</td><td>25174.0</td></tr><tr><td>&quot;brand.apple&quot;</td><td>108198.0</td></tr></tbody></table></div>"
      ],
      "text/plain": [
       "shape: (5, 2)\n",
       "┌────────────────┬──────────┐\n",
       "│ brand2         ┆ price2   │\n",
       "│ ---            ┆ ---      │\n",
       "│ str            ┆ f64      │\n",
       "╞════════════════╪══════════╡\n",
       "│ brand.shiseido ┆ 3579.0   │\n",
       "│ brand.aqua     ┆ 3320.0   │\n",
       "│ null           ┆ 54310.0  │\n",
       "│ brand.lenovo   ┆ 25174.0  │\n",
       "│ brand.apple    ┆ 108198.0 │\n",
       "└────────────────┴──────────┘"
      ]
     },
     "execution_count": 32,
     "metadata": {},
     "output_type": "execute_result"
    }
   ],
   "source": [
    "#Update a numeric column\n",
    "df_top.select([\n",
    "    (\"brand.\" + pl.col(\"brand\")).alias(\"brand2\"),\n",
    "    (pl.col('price') * 100).alias('price2')\n",
    "    \n",
    "])"
   ]
  },
  {
   "cell_type": "code",
   "execution_count": 33,
   "id": "0f289383",
   "metadata": {},
   "outputs": [
    {
     "data": {
      "text/html": [
       "<div><style>\n",
       ".dataframe > thead > tr > th,\n",
       ".dataframe > tbody > tr > td {\n",
       "  text-align: right;\n",
       "  white-space: pre-wrap;\n",
       "}\n",
       "</style>\n",
       "<small>shape: (5, 10)</small><table border=\"1\" class=\"dataframe\"><thead><tr><th>event_time</th><th>event_type</th><th>product_id</th><th>category_id</th><th>category_code</th><th>brand</th><th>price</th><th>user_id</th><th>user_session</th><th>price_avg</th></tr><tr><td>str</td><td>str</td><td>i64</td><td>i64</td><td>str</td><td>str</td><td>f64</td><td>i64</td><td>str</td><td>f64</td></tr></thead><tbody><tr><td>&quot;2019-10-01 00:…</td><td>&quot;view&quot;</td><td>44600062</td><td>2103807459595387724</td><td>null</td><td>&quot;shiseido&quot;</td><td>35.79</td><td>541312140</td><td>&quot;72d76fde-8bb3-…</td><td>389.162</td></tr><tr><td>&quot;2019-10-01 00:…</td><td>&quot;view&quot;</td><td>3900821</td><td>2053013552326770905</td><td>&quot;appliances.env…</td><td>&quot;aqua&quot;</td><td>33.2</td><td>554748717</td><td>&quot;9333dfbd-b87a-…</td><td>389.162</td></tr><tr><td>&quot;2019-10-01 00:…</td><td>&quot;view&quot;</td><td>17200506</td><td>2053013559792632471</td><td>&quot;furniture.livi…</td><td>null</td><td>543.1</td><td>519107250</td><td>&quot;566511c2-e2e3-…</td><td>389.162</td></tr><tr><td>&quot;2019-10-01 00:…</td><td>&quot;view&quot;</td><td>1307067</td><td>2053013558920217191</td><td>&quot;computers.note…</td><td>&quot;lenovo&quot;</td><td>251.74</td><td>550050854</td><td>&quot;7c90fc70-0e80-…</td><td>389.162</td></tr><tr><td>&quot;2019-10-01 00:…</td><td>&quot;view&quot;</td><td>1004237</td><td>2053013555631882655</td><td>&quot;electronics.sm…</td><td>&quot;apple&quot;</td><td>1081.98</td><td>535871217</td><td>&quot;c6bd7419-2748-…</td><td>389.162</td></tr></tbody></table></div>"
      ],
      "text/plain": [
       "shape: (5, 10)\n",
       "┌────────────┬───────────┬───────────┬───────────┬───┬─────────┬───────────┬───────────┬───────────┐\n",
       "│ event_time ┆ event_typ ┆ product_i ┆ category_ ┆ … ┆ price   ┆ user_id   ┆ user_sess ┆ price_avg │\n",
       "│ ---        ┆ e         ┆ d         ┆ id        ┆   ┆ ---     ┆ ---       ┆ ion       ┆ ---       │\n",
       "│ str        ┆ ---       ┆ ---       ┆ ---       ┆   ┆ f64     ┆ i64       ┆ ---       ┆ f64       │\n",
       "│            ┆ str       ┆ i64       ┆ i64       ┆   ┆         ┆           ┆ str       ┆           │\n",
       "╞════════════╪═══════════╪═══════════╪═══════════╪═══╪═════════╪═══════════╪═══════════╪═══════════╡\n",
       "│ 2019-10-01 ┆ view      ┆ 44600062  ┆ 210380745 ┆ … ┆ 35.79   ┆ 541312140 ┆ 72d76fde- ┆ 389.162   │\n",
       "│ 00:00:00   ┆           ┆           ┆ 959538772 ┆   ┆         ┆           ┆ 8bb3-4e00 ┆           │\n",
       "│ UTC        ┆           ┆           ┆ 4         ┆   ┆         ┆           ┆ -8c23-a03 ┆           │\n",
       "│            ┆           ┆           ┆           ┆   ┆         ┆           ┆ 2dfed…    ┆           │\n",
       "│ 2019-10-01 ┆ view      ┆ 3900821   ┆ 205301355 ┆ … ┆ 33.2    ┆ 554748717 ┆ 9333dfbd- ┆ 389.162   │\n",
       "│ 00:00:00   ┆           ┆           ┆ 232677090 ┆   ┆         ┆           ┆ b87a-4708 ┆           │\n",
       "│ UTC        ┆           ┆           ┆ 5         ┆   ┆         ┆           ┆ -9857-633 ┆           │\n",
       "│            ┆           ┆           ┆           ┆   ┆         ┆           ┆ 6556b…    ┆           │\n",
       "│ 2019-10-01 ┆ view      ┆ 17200506  ┆ 205301355 ┆ … ┆ 543.1   ┆ 519107250 ┆ 566511c2- ┆ 389.162   │\n",
       "│ 00:00:01   ┆           ┆           ┆ 979263247 ┆   ┆         ┆           ┆ e2e3-422b ┆           │\n",
       "│ UTC        ┆           ┆           ┆ 1         ┆   ┆         ┆           ┆ -b695-cf8 ┆           │\n",
       "│            ┆           ┆           ┆           ┆   ┆         ┆           ┆ e6e79…    ┆           │\n",
       "│ 2019-10-01 ┆ view      ┆ 1307067   ┆ 205301355 ┆ … ┆ 251.74  ┆ 550050854 ┆ 7c90fc70- ┆ 389.162   │\n",
       "│ 00:00:01   ┆           ┆           ┆ 892021719 ┆   ┆         ┆           ┆ 0e80-4590 ┆           │\n",
       "│ UTC        ┆           ┆           ┆ 1         ┆   ┆         ┆           ┆ -96f3-13c ┆           │\n",
       "│            ┆           ┆           ┆           ┆   ┆         ┆           ┆ 02c18…    ┆           │\n",
       "│ 2019-10-01 ┆ view      ┆ 1004237   ┆ 205301355 ┆ … ┆ 1081.98 ┆ 535871217 ┆ c6bd7419- ┆ 389.162   │\n",
       "│ 00:00:04   ┆           ┆           ┆ 563188265 ┆   ┆         ┆           ┆ 2748-4c56 ┆           │\n",
       "│ UTC        ┆           ┆           ┆ 5         ┆   ┆         ┆           ┆ -95b4-8ce ┆           │\n",
       "│            ┆           ┆           ┆           ┆   ┆         ┆           ┆ c9ff8…    ┆           │\n",
       "└────────────┴───────────┴───────────┴───────────┴───┴─────────┴───────────┴───────────┴───────────┘"
      ]
     },
     "execution_count": 33,
     "metadata": {},
     "output_type": "execute_result"
    }
   ],
   "source": [
    "#Create a column with a content (based on the mean)\n",
    "df_top.select([\n",
    "    pl.all(), # Comentar si no quiero ver todos los atributos \n",
    "    pl.col('price').mean().alias('price_avg')\n",
    "    \n",
    "])"
   ]
  },
  {
   "cell_type": "markdown",
   "id": "b9f1048e",
   "metadata": {},
   "source": [
    "## 2.Update values based on window function\n",
    ". In pandas this is done with transfor. In R dplyr with mutate\n",
    ". The idea is we update values of a column By a group and the new column has the same size of the original DF\n",
    ". The over() call defines the group we are interested in"
   ]
  },
  {
   "cell_type": "code",
   "execution_count": 35,
   "id": "efef9dcd",
   "metadata": {},
   "outputs": [
    {
     "data": {
      "text/html": [
       "<div><style>\n",
       ".dataframe > thead > tr > th,\n",
       ".dataframe > tbody > tr > td {\n",
       "  text-align: right;\n",
       "  white-space: pre-wrap;\n",
       "}\n",
       "</style>\n",
       "<small>shape: (10, 10)</small><table border=\"1\" class=\"dataframe\"><thead><tr><th>event_time</th><th>event_type</th><th>product_id</th><th>category_id</th><th>category_code</th><th>brand</th><th>price</th><th>user_id</th><th>user_session</th><th>price_by_categorycode</th></tr><tr><td>str</td><td>str</td><td>i64</td><td>i64</td><td>str</td><td>str</td><td>f64</td><td>i64</td><td>str</td><td>f64</td></tr></thead><tbody><tr><td>&quot;2019-10-01 00:…</td><td>&quot;view&quot;</td><td>44600062</td><td>2103807459595387724</td><td>null</td><td>&quot;shiseido&quot;</td><td>35.79</td><td>541312140</td><td>&quot;72d76fde-8bb3-…</td><td>184.912453</td></tr><tr><td>&quot;2019-10-01 00:…</td><td>&quot;view&quot;</td><td>3900821</td><td>2053013552326770905</td><td>&quot;appliances.env…</td><td>&quot;aqua&quot;</td><td>33.2</td><td>554748717</td><td>&quot;9333dfbd-b87a-…</td><td>109.006036</td></tr><tr><td>&quot;2019-10-01 00:…</td><td>&quot;view&quot;</td><td>17200506</td><td>2053013559792632471</td><td>&quot;furniture.livi…</td><td>null</td><td>543.1</td><td>519107250</td><td>&quot;566511c2-e2e3-…</td><td>619.629202</td></tr><tr><td>&quot;2019-10-01 00:…</td><td>&quot;view&quot;</td><td>1307067</td><td>2053013558920217191</td><td>&quot;computers.note…</td><td>&quot;lenovo&quot;</td><td>251.74</td><td>550050854</td><td>&quot;7c90fc70-0e80-…</td><td>711.357948</td></tr><tr><td>&quot;2019-10-01 00:…</td><td>&quot;view&quot;</td><td>1004237</td><td>2053013555631882655</td><td>&quot;electronics.sm…</td><td>&quot;apple&quot;</td><td>1081.98</td><td>535871217</td><td>&quot;c6bd7419-2748-…</td><td>471.947082</td></tr><tr><td>&quot;2019-10-01 00:…</td><td>&quot;view&quot;</td><td>1480613</td><td>2053013561092866779</td><td>&quot;computers.desk…</td><td>&quot;pulser&quot;</td><td>908.62</td><td>512742880</td><td>&quot;0d0d91c2-c9c2-…</td><td>535.683844</td></tr><tr><td>&quot;2019-10-01 00:…</td><td>&quot;view&quot;</td><td>17300353</td><td>2053013553853497655</td><td>null</td><td>&quot;creed&quot;</td><td>380.96</td><td>555447699</td><td>&quot;4fe811e9-91de-…</td><td>184.912453</td></tr><tr><td>&quot;2019-10-01 00:…</td><td>&quot;view&quot;</td><td>31500053</td><td>2053013558031024687</td><td>null</td><td>&quot;luminarc&quot;</td><td>41.16</td><td>550978835</td><td>&quot;6280d577-25c8-…</td><td>184.912453</td></tr><tr><td>&quot;2019-10-01 00:…</td><td>&quot;view&quot;</td><td>28719074</td><td>2053013565480109009</td><td>&quot;apparel.shoes.…</td><td>&quot;baden&quot;</td><td>102.71</td><td>520571932</td><td>&quot;ac1cd4e5-a3ce-…</td><td>78.35775</td></tr><tr><td>&quot;2019-10-01 00:…</td><td>&quot;view&quot;</td><td>1004545</td><td>2053013555631882655</td><td>&quot;electronics.sm…</td><td>&quot;huawei&quot;</td><td>566.01</td><td>537918940</td><td>&quot;406c46ed-90a4-…</td><td>471.947082</td></tr></tbody></table></div>"
      ],
      "text/plain": [
       "shape: (10, 10)\n",
       "┌────────────┬────────────┬───────────┬───────────┬───┬────────┬───────────┬───────────┬───────────┐\n",
       "│ event_time ┆ event_type ┆ product_i ┆ category_ ┆ … ┆ price  ┆ user_id   ┆ user_sess ┆ price_by_ │\n",
       "│ ---        ┆ ---        ┆ d         ┆ id        ┆   ┆ ---    ┆ ---       ┆ ion       ┆ categoryc │\n",
       "│ str        ┆ str        ┆ ---       ┆ ---       ┆   ┆ f64    ┆ i64       ┆ ---       ┆ ode       │\n",
       "│            ┆            ┆ i64       ┆ i64       ┆   ┆        ┆           ┆ str       ┆ ---       │\n",
       "│            ┆            ┆           ┆           ┆   ┆        ┆           ┆           ┆ f64       │\n",
       "╞════════════╪════════════╪═══════════╪═══════════╪═══╪════════╪═══════════╪═══════════╪═══════════╡\n",
       "│ 2019-10-01 ┆ view       ┆ 44600062  ┆ 210380745 ┆ … ┆ 35.79  ┆ 541312140 ┆ 72d76fde- ┆ 184.91245 │\n",
       "│ 00:00:00   ┆            ┆           ┆ 959538772 ┆   ┆        ┆           ┆ 8bb3-4e00 ┆ 3         │\n",
       "│ UTC        ┆            ┆           ┆ 4         ┆   ┆        ┆           ┆ -8c23-a03 ┆           │\n",
       "│            ┆            ┆           ┆           ┆   ┆        ┆           ┆ 2dfed…    ┆           │\n",
       "│ 2019-10-01 ┆ view       ┆ 3900821   ┆ 205301355 ┆ … ┆ 33.2   ┆ 554748717 ┆ 9333dfbd- ┆ 109.00603 │\n",
       "│ 00:00:00   ┆            ┆           ┆ 232677090 ┆   ┆        ┆           ┆ b87a-4708 ┆ 6         │\n",
       "│ UTC        ┆            ┆           ┆ 5         ┆   ┆        ┆           ┆ -9857-633 ┆           │\n",
       "│            ┆            ┆           ┆           ┆   ┆        ┆           ┆ 6556b…    ┆           │\n",
       "│ 2019-10-01 ┆ view       ┆ 17200506  ┆ 205301355 ┆ … ┆ 543.1  ┆ 519107250 ┆ 566511c2- ┆ 619.62920 │\n",
       "│ 00:00:01   ┆            ┆           ┆ 979263247 ┆   ┆        ┆           ┆ e2e3-422b ┆ 2         │\n",
       "│ UTC        ┆            ┆           ┆ 1         ┆   ┆        ┆           ┆ -b695-cf8 ┆           │\n",
       "│            ┆            ┆           ┆           ┆   ┆        ┆           ┆ e6e79…    ┆           │\n",
       "│ 2019-10-01 ┆ view       ┆ 1307067   ┆ 205301355 ┆ … ┆ 251.74 ┆ 550050854 ┆ 7c90fc70- ┆ 711.35794 │\n",
       "│ 00:00:01   ┆            ┆           ┆ 892021719 ┆   ┆        ┆           ┆ 0e80-4590 ┆ 8         │\n",
       "│ UTC        ┆            ┆           ┆ 1         ┆   ┆        ┆           ┆ -96f3-13c ┆           │\n",
       "│            ┆            ┆           ┆           ┆   ┆        ┆           ┆ 02c18…    ┆           │\n",
       "│ …          ┆ …          ┆ …         ┆ …         ┆ … ┆ …      ┆ …         ┆ …         ┆ …         │\n",
       "│ 2019-10-01 ┆ view       ┆ 17300353  ┆ 205301355 ┆ … ┆ 380.96 ┆ 555447699 ┆ 4fe811e9- ┆ 184.91245 │\n",
       "│ 00:00:08   ┆            ┆           ┆ 385349765 ┆   ┆        ┆           ┆ 91de-46da ┆ 3         │\n",
       "│ UTC        ┆            ┆           ┆ 5         ┆   ┆        ┆           ┆ -90c3-bbd ┆           │\n",
       "│            ┆            ┆           ┆           ┆   ┆        ┆           ┆ 87ed3…    ┆           │\n",
       "│ 2019-10-01 ┆ view       ┆ 31500053  ┆ 205301355 ┆ … ┆ 41.16  ┆ 550978835 ┆ 6280d577- ┆ 184.91245 │\n",
       "│ 00:00:08   ┆            ┆           ┆ 803102468 ┆   ┆        ┆           ┆ 25c8-4147 ┆ 3         │\n",
       "│ UTC        ┆            ┆           ┆ 7         ┆   ┆        ┆           ┆ -99a7-abc ┆           │\n",
       "│            ┆            ┆           ┆           ┆   ┆        ┆           ┆ 60484…    ┆           │\n",
       "│ 2019-10-01 ┆ view       ┆ 28719074  ┆ 205301356 ┆ … ┆ 102.71 ┆ 520571932 ┆ ac1cd4e5- ┆ 78.35775  │\n",
       "│ 00:00:10   ┆            ┆           ┆ 548010900 ┆   ┆        ┆           ┆ a3ce-4224 ┆           │\n",
       "│ UTC        ┆            ┆           ┆ 9         ┆   ┆        ┆           ┆ -a2d7-ff6 ┆           │\n",
       "│            ┆            ┆           ┆           ┆   ┆        ┆           ┆ 60a10…    ┆           │\n",
       "│ 2019-10-01 ┆ view       ┆ 1004545   ┆ 205301355 ┆ … ┆ 566.01 ┆ 537918940 ┆ 406c46ed- ┆ 471.94708 │\n",
       "│ 00:00:11   ┆            ┆           ┆ 563188265 ┆   ┆        ┆           ┆ 90a4-4787 ┆ 2         │\n",
       "│ UTC        ┆            ┆           ┆ 5         ┆   ┆        ┆           ┆ -a43b-59a ┆           │\n",
       "│            ┆            ┆           ┆           ┆   ┆        ┆           ┆ 410c1…    ┆           │\n",
       "└────────────┴────────────┴───────────┴───────────┴───┴────────┴───────────┴───────────┴───────────┘"
      ]
     },
     "execution_count": 35,
     "metadata": {},
     "output_type": "execute_result"
    }
   ],
   "source": [
    "#Media por category_code. Esto hace function window\n",
    "df.with_columns([\n",
    "    pl.col('price').mean().over('category_code').alias('price_by_categorycode')\n",
    "]).head(10)"
   ]
  },
  {
   "cell_type": "code",
   "execution_count": 40,
   "id": "4c3953b1",
   "metadata": {},
   "outputs": [
    {
     "data": {
      "text/html": [
       "<div><style>\n",
       ".dataframe > thead > tr > th,\n",
       ".dataframe > tbody > tr > td {\n",
       "  text-align: right;\n",
       "  white-space: pre-wrap;\n",
       "}\n",
       "</style>\n",
       "<small>shape: (5, 4)</small><table border=\"1\" class=\"dataframe\"><thead><tr><th>category_code</th><th>price</th><th>price_by_category</th><th>price_div_cat_average</th></tr><tr><td>str</td><td>f64</td><td>f64</td><td>f64</td></tr></thead><tbody><tr><td>null</td><td>35.79</td><td>184.912453</td><td>-0.806449</td></tr><tr><td>&quot;appliances.env…</td><td>33.2</td><td>109.006036</td><td>-0.69543</td></tr><tr><td>&quot;furniture.livi…</td><td>543.1</td><td>619.629202</td><td>-0.123508</td></tr><tr><td>&quot;computers.note…</td><td>251.74</td><td>711.357948</td><td>-0.646113</td></tr><tr><td>&quot;electronics.sm…</td><td>1081.98</td><td>471.947082</td><td>1.292588</td></tr></tbody></table></div>"
      ],
      "text/plain": [
       "shape: (5, 4)\n",
       "┌───────────────────────────────────┬─────────┬───────────────────┬───────────────────────┐\n",
       "│ category_code                     ┆ price   ┆ price_by_category ┆ price_div_cat_average │\n",
       "│ ---                               ┆ ---     ┆ ---               ┆ ---                   │\n",
       "│ str                               ┆ f64     ┆ f64               ┆ f64                   │\n",
       "╞═══════════════════════════════════╪═════════╪═══════════════════╪═══════════════════════╡\n",
       "│ null                              ┆ 35.79   ┆ 184.912453        ┆ -0.806449             │\n",
       "│ appliances.environment.water_hea… ┆ 33.2    ┆ 109.006036        ┆ -0.69543              │\n",
       "│ furniture.living_room.sofa        ┆ 543.1   ┆ 619.629202        ┆ -0.123508             │\n",
       "│ computers.notebook                ┆ 251.74  ┆ 711.357948        ┆ -0.646113             │\n",
       "│ electronics.smartphone            ┆ 1081.98 ┆ 471.947082        ┆ 1.292588              │\n",
       "└───────────────────────────────────┴─────────┴───────────────────┴───────────────────────┘"
      ]
     },
     "execution_count": 40,
     "metadata": {},
     "output_type": "execute_result"
    }
   ],
   "source": [
    "#now i can compute the difference between the price and the category average. Van () y no []\n",
    "df_cat_window = df.select([\n",
    "    pl.col('category_code'),\n",
    "    pl.col('price'),\n",
    "    pl.col('price').mean().over('category_code').alias('price_by_category'),\n",
    "    (pl.col('price') / pl.col('price').mean().over('category_code') - 1).alias('price_div_cat_average') ,\n",
    "])\n",
    "df_cat_window.head()"
   ]
  },
  {
   "cell_type": "code",
   "execution_count": 49,
   "id": "5f56e68c",
   "metadata": {},
   "outputs": [],
   "source": [
    "df_cat_window_sample = df_cat_window.sample(1000000).to_pandas()"
   ]
  },
  {
   "cell_type": "code",
   "execution_count": 50,
   "id": "5295c0c0",
   "metadata": {},
   "outputs": [
    {
     "data": {
      "text/plain": [
       "<Axes: >"
      ]
     },
     "execution_count": 50,
     "metadata": {},
     "output_type": "execute_result"
    },
    {
     "data": {
      "image/png": "[encoded data removed]",
      "text/plain": [
       "<Figure size 640x480 with 1 Axes>"
      ]
     },
     "metadata": {},
     "output_type": "display_data"
    }
   ],
   "source": [
    "df_cat_window_sample.price_div_cat_average.hist(bins=30, range=[0,5])"
   ]
  },
  {
   "cell_type": "code",
   "execution_count": 52,
   "id": "53de8769",
   "metadata": {},
   "outputs": [
    {
     "data": {
      "text/plain": [
       "category_code             object\n",
       "price                    float64\n",
       "price_by_category        float64\n",
       "price_div_cat_average    float64\n",
       "dtype: object"
      ]
     },
     "execution_count": 52,
     "metadata": {},
     "output_type": "execute_result"
    }
   ],
   "source": [
    "df_cat_window_sample.dtypes"
   ]
  },
  {
   "cell_type": "code",
   "execution_count": 53,
   "id": "ab56d081",
   "metadata": {},
   "outputs": [
    {
     "data": {
      "text/html": [
       "<div>\n",
       "<style scoped>\n",
       "    .dataframe tbody tr th:only-of-type {\n",
       "        vertical-align: middle;\n",
       "    }\n",
       "\n",
       "    .dataframe tbody tr th {\n",
       "        vertical-align: top;\n",
       "    }\n",
       "\n",
       "    .dataframe thead th {\n",
       "        text-align: right;\n",
       "    }\n",
       "</style>\n",
       "<table border=\"1\" class=\"dataframe\">\n",
       "  <thead>\n",
       "    <tr style=\"text-align: right;\">\n",
       "      <th></th>\n",
       "      <th>category_code</th>\n",
       "      <th>price</th>\n",
       "      <th>price_by_category</th>\n",
       "      <th>price_div_cat_average</th>\n",
       "    </tr>\n",
       "  </thead>\n",
       "  <tbody>\n",
       "    <tr>\n",
       "      <th>0</th>\n",
       "      <td>electronics.smartphone</td>\n",
       "      <td>463.31</td>\n",
       "      <td>471.947082</td>\n",
       "      <td>-0.018301</td>\n",
       "    </tr>\n",
       "    <tr>\n",
       "      <th>1</th>\n",
       "      <td>None</td>\n",
       "      <td>44.70</td>\n",
       "      <td>184.912453</td>\n",
       "      <td>-0.758264</td>\n",
       "    </tr>\n",
       "    <tr>\n",
       "      <th>2</th>\n",
       "      <td>furniture.bedroom.bed</td>\n",
       "      <td>334.63</td>\n",
       "      <td>206.163335</td>\n",
       "      <td>0.623131</td>\n",
       "    </tr>\n",
       "    <tr>\n",
       "      <th>3</th>\n",
       "      <td>appliances.kitchen.oven</td>\n",
       "      <td>43.73</td>\n",
       "      <td>198.807174</td>\n",
       "      <td>-0.780038</td>\n",
       "    </tr>\n",
       "    <tr>\n",
       "      <th>4</th>\n",
       "      <td>None</td>\n",
       "      <td>98.59</td>\n",
       "      <td>184.912453</td>\n",
       "      <td>-0.466829</td>\n",
       "    </tr>\n",
       "  </tbody>\n",
       "</table>\n",
       "</div>"
      ],
      "text/plain": [
       "             category_code   price  price_by_category  price_div_cat_average\n",
       "0   electronics.smartphone  463.31         471.947082              -0.018301\n",
       "1                     None   44.70         184.912453              -0.758264\n",
       "2    furniture.bedroom.bed  334.63         206.163335               0.623131\n",
       "3  appliances.kitchen.oven   43.73         198.807174              -0.780038\n",
       "4                     None   98.59         184.912453              -0.466829"
      ]
     },
     "execution_count": 53,
     "metadata": {},
     "output_type": "execute_result"
    }
   ],
   "source": [
    "df_cat_window_sample.head()"
   ]
  },
  {
   "cell_type": "code",
   "execution_count": 55,
   "id": "04365595",
   "metadata": {},
   "outputs": [
    {
     "data": {
      "text/plain": [
       "0.0    -1.000000\n",
       "0.1    -0.806503\n",
       "0.2    -0.713780\n",
       "0.3    -0.609166\n",
       "0.4    -0.486143\n",
       "0.5    -0.361390\n",
       "0.6    -0.166308\n",
       "0.7     0.090262\n",
       "0.8     0.485297\n",
       "0.9     1.120619\n",
       "1.0    32.857995\n",
       "Name: price_div_cat_average, dtype: float64"
      ]
     },
     "execution_count": 55,
     "metadata": {},
     "output_type": "execute_result"
    }
   ],
   "source": [
    "df_cat_window_sample.price_div_cat_average.quantile(np.arange(0, 1.1, 0.1))"
   ]
  },
  {
   "cell_type": "code",
   "execution_count": 58,
   "id": "42f7828e",
   "metadata": {},
   "outputs": [
    {
     "data": {
      "text/html": [
       "<div>\n",
       "<style scoped>\n",
       "    .dataframe tbody tr th:only-of-type {\n",
       "        vertical-align: middle;\n",
       "    }\n",
       "\n",
       "    .dataframe tbody tr th {\n",
       "        vertical-align: top;\n",
       "    }\n",
       "\n",
       "    .dataframe thead th {\n",
       "        text-align: right;\n",
       "    }\n",
       "</style>\n",
       "<table border=\"1\" class=\"dataframe\">\n",
       "  <thead>\n",
       "    <tr style=\"text-align: right;\">\n",
       "      <th></th>\n",
       "      <th>category_code</th>\n",
       "      <th>price</th>\n",
       "      <th>price_by_category</th>\n",
       "      <th>price_div_cat_average</th>\n",
       "    </tr>\n",
       "  </thead>\n",
       "  <tbody>\n",
       "    <tr>\n",
       "      <th>427300</th>\n",
       "      <td>appliances.environment.air_heater</td>\n",
       "      <td>1740.91</td>\n",
       "      <td>51.417989</td>\n",
       "      <td>32.857995</td>\n",
       "    </tr>\n",
       "    <tr>\n",
       "      <th>672271</th>\n",
       "      <td>appliances.iron</td>\n",
       "      <td>2445.34</td>\n",
       "      <td>87.056208</td>\n",
       "      <td>27.089209</td>\n",
       "    </tr>\n",
       "    <tr>\n",
       "      <th>420585</th>\n",
       "      <td>appliances.iron</td>\n",
       "      <td>2445.34</td>\n",
       "      <td>87.056208</td>\n",
       "      <td>27.089209</td>\n",
       "    </tr>\n",
       "    <tr>\n",
       "      <th>895123</th>\n",
       "      <td>appliances.iron</td>\n",
       "      <td>2445.34</td>\n",
       "      <td>87.056208</td>\n",
       "      <td>27.089209</td>\n",
       "    </tr>\n",
       "    <tr>\n",
       "      <th>328421</th>\n",
       "      <td>appliances.iron</td>\n",
       "      <td>2445.34</td>\n",
       "      <td>87.056208</td>\n",
       "      <td>27.089209</td>\n",
       "    </tr>\n",
       "    <tr>\n",
       "      <th>...</th>\n",
       "      <td>...</td>\n",
       "      <td>...</td>\n",
       "      <td>...</td>\n",
       "      <td>...</td>\n",
       "    </tr>\n",
       "    <tr>\n",
       "      <th>467244</th>\n",
       "      <td>None</td>\n",
       "      <td>2046.38</td>\n",
       "      <td>184.912453</td>\n",
       "      <td>10.066751</td>\n",
       "    </tr>\n",
       "    <tr>\n",
       "      <th>821973</th>\n",
       "      <td>None</td>\n",
       "      <td>2046.38</td>\n",
       "      <td>184.912453</td>\n",
       "      <td>10.066751</td>\n",
       "    </tr>\n",
       "    <tr>\n",
       "      <th>863405</th>\n",
       "      <td>None</td>\n",
       "      <td>2046.38</td>\n",
       "      <td>184.912453</td>\n",
       "      <td>10.066751</td>\n",
       "    </tr>\n",
       "    <tr>\n",
       "      <th>345098</th>\n",
       "      <td>computers.components.memory</td>\n",
       "      <td>847.17</td>\n",
       "      <td>76.898965</td>\n",
       "      <td>10.016663</td>\n",
       "    </tr>\n",
       "    <tr>\n",
       "      <th>499596</th>\n",
       "      <td>computers.components.memory</td>\n",
       "      <td>847.17</td>\n",
       "      <td>76.898965</td>\n",
       "      <td>10.016663</td>\n",
       "    </tr>\n",
       "  </tbody>\n",
       "</table>\n",
       "<p>1497 rows × 4 columns</p>\n",
       "</div>"
      ],
      "text/plain": [
       "                            category_code    price  price_by_category  \\\n",
       "427300  appliances.environment.air_heater  1740.91          51.417989   \n",
       "672271                    appliances.iron  2445.34          87.056208   \n",
       "420585                    appliances.iron  2445.34          87.056208   \n",
       "895123                    appliances.iron  2445.34          87.056208   \n",
       "328421                    appliances.iron  2445.34          87.056208   \n",
       "...                                   ...      ...                ...   \n",
       "467244                               None  2046.38         184.912453   \n",
       "821973                               None  2046.38         184.912453   \n",
       "863405                               None  2046.38         184.912453   \n",
       "345098        computers.components.memory   847.17          76.898965   \n",
       "499596        computers.components.memory   847.17          76.898965   \n",
       "\n",
       "        price_div_cat_average  \n",
       "427300              32.857995  \n",
       "672271              27.089209  \n",
       "420585              27.089209  \n",
       "895123              27.089209  \n",
       "328421              27.089209  \n",
       "...                       ...  \n",
       "467244              10.066751  \n",
       "821973              10.066751  \n",
       "863405              10.066751  \n",
       "345098              10.016663  \n",
       "499596              10.016663  \n",
       "\n",
       "[1497 rows x 4 columns]"
      ]
     },
     "execution_count": 58,
     "metadata": {},
     "output_type": "execute_result"
    }
   ],
   "source": [
    "df_cat_window_sample[df_cat_window_sample.price_div_cat_average > 10].sort_values('price_div_cat_average', ascending=False)"
   ]
  },
  {
   "cell_type": "code",
   "execution_count": null,
   "id": "837b519e",
   "metadata": {},
   "outputs": [],
   "source": []
  }
 ],
 "metadata": {
  "kernelspec": {
   "display_name": "Python 3 (ipykernel)",
   "language": "python",
   "name": "python3"
  },
  "language_info": {
   "codemirror_mode": {
    "name": "ipython",
    "version": 3
   },
   "file_extension": ".py",
   "mimetype": "text/x-python",
   "name": "python",
   "nbconvert_exporter": "python",
   "pygments_lexer": "ipython3",
   "version": "3.11.4"
  }
 },
 "nbformat": 4,
 "nbformat_minor": 5
}

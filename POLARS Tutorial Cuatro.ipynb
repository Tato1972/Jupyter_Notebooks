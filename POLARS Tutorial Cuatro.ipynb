{
 "cells": [
  {
   "cell_type": "markdown",
   "id": "d9f2e81a",
   "metadata": {},
   "source": [
    "Group-By & RFM Analysis\n",
    "Recency: Did they make a purchase recently?\n",
    "Frequency: How often do they make a purchase?\n",
    "Monetary: How much do they spend?"
   ]
  },
  {
   "cell_type": "code",
   "execution_count": 1,
   "id": "483ef893",
   "metadata": {},
   "outputs": [],
   "source": [
    "import polars as pl\n",
    "import pandas as pd\n",
    "import numpy as np\n",
    "import pyarrow\n",
    "\n",
    "import matplotlib.pyplot as plt\n",
    "import seaborn as sns\n",
    "\n",
    "\n",
    "# Download Dataset or run in a kaggle notebook\n",
    "# https://www.kaggle.com/datasets/mkechinov/ecommerce-behavior-data-from-multi-category-store\n",
    "df = pl.read_csv(\"C:/Users/LENOVO/Downloads/2019-Oct.csv\")"
   ]
  },
  {
   "cell_type": "code",
   "execution_count": 2,
   "id": "786a6bf9",
   "metadata": {},
   "outputs": [
    {
     "data": {
      "text/plain": [
       "(42448764, 9)"
      ]
     },
     "execution_count": 2,
     "metadata": {},
     "output_type": "execute_result"
    }
   ],
   "source": [
    "df.shape"
   ]
  },
  {
   "cell_type": "code",
   "execution_count": 3,
   "id": "3e814e59",
   "metadata": {},
   "outputs": [
    {
     "data": {
      "text/html": [
       "<div>\n",
       "<style scoped>\n",
       "    .dataframe tbody tr th:only-of-type {\n",
       "        vertical-align: middle;\n",
       "    }\n",
       "\n",
       "    .dataframe tbody tr th {\n",
       "        vertical-align: top;\n",
       "    }\n",
       "\n",
       "    .dataframe thead th {\n",
       "        text-align: right;\n",
       "    }\n",
       "</style>\n",
       "<table border=\"1\" class=\"dataframe\">\n",
       "  <thead>\n",
       "    <tr style=\"text-align: right;\">\n",
       "      <th></th>\n",
       "      <th>event_time</th>\n",
       "      <th>event_type</th>\n",
       "      <th>product_id</th>\n",
       "      <th>category_id</th>\n",
       "      <th>category_code</th>\n",
       "      <th>brand</th>\n",
       "      <th>price</th>\n",
       "      <th>user_id</th>\n",
       "      <th>user_session</th>\n",
       "    </tr>\n",
       "  </thead>\n",
       "  <tbody>\n",
       "    <tr>\n",
       "      <th>0</th>\n",
       "      <td>2019-10-01 00:00:00 UTC</td>\n",
       "      <td>view</td>\n",
       "      <td>44600062</td>\n",
       "      <td>2103807459595387724</td>\n",
       "      <td>None</td>\n",
       "      <td>shiseido</td>\n",
       "      <td>35.79</td>\n",
       "      <td>541312140</td>\n",
       "      <td>72d76fde-8bb3-4e00-8c23-a032dfed738c</td>\n",
       "    </tr>\n",
       "    <tr>\n",
       "      <th>1</th>\n",
       "      <td>2019-10-01 00:00:00 UTC</td>\n",
       "      <td>view</td>\n",
       "      <td>3900821</td>\n",
       "      <td>2053013552326770905</td>\n",
       "      <td>appliances.environment.water_heater</td>\n",
       "      <td>aqua</td>\n",
       "      <td>33.20</td>\n",
       "      <td>554748717</td>\n",
       "      <td>9333dfbd-b87a-4708-9857-6336556b0fcc</td>\n",
       "    </tr>\n",
       "    <tr>\n",
       "      <th>2</th>\n",
       "      <td>2019-10-01 00:00:01 UTC</td>\n",
       "      <td>view</td>\n",
       "      <td>17200506</td>\n",
       "      <td>2053013559792632471</td>\n",
       "      <td>furniture.living_room.sofa</td>\n",
       "      <td>None</td>\n",
       "      <td>543.10</td>\n",
       "      <td>519107250</td>\n",
       "      <td>566511c2-e2e3-422b-b695-cf8e6e792ca8</td>\n",
       "    </tr>\n",
       "    <tr>\n",
       "      <th>3</th>\n",
       "      <td>2019-10-01 00:00:01 UTC</td>\n",
       "      <td>view</td>\n",
       "      <td>1307067</td>\n",
       "      <td>2053013558920217191</td>\n",
       "      <td>computers.notebook</td>\n",
       "      <td>lenovo</td>\n",
       "      <td>251.74</td>\n",
       "      <td>550050854</td>\n",
       "      <td>7c90fc70-0e80-4590-96f3-13c02c18c713</td>\n",
       "    </tr>\n",
       "    <tr>\n",
       "      <th>4</th>\n",
       "      <td>2019-10-01 00:00:04 UTC</td>\n",
       "      <td>view</td>\n",
       "      <td>1004237</td>\n",
       "      <td>2053013555631882655</td>\n",
       "      <td>electronics.smartphone</td>\n",
       "      <td>apple</td>\n",
       "      <td>1081.98</td>\n",
       "      <td>535871217</td>\n",
       "      <td>c6bd7419-2748-4c56-95b4-8cec9ff8b80d</td>\n",
       "    </tr>\n",
       "  </tbody>\n",
       "</table>\n",
       "</div>"
      ],
      "text/plain": [
       "                event_time event_type  product_id          category_id  \\\n",
       "0  2019-10-01 00:00:00 UTC       view    44600062  2103807459595387724   \n",
       "1  2019-10-01 00:00:00 UTC       view     3900821  2053013552326770905   \n",
       "2  2019-10-01 00:00:01 UTC       view    17200506  2053013559792632471   \n",
       "3  2019-10-01 00:00:01 UTC       view     1307067  2053013558920217191   \n",
       "4  2019-10-01 00:00:04 UTC       view     1004237  2053013555631882655   \n",
       "\n",
       "                         category_code     brand    price    user_id  \\\n",
       "0                                 None  shiseido    35.79  541312140   \n",
       "1  appliances.environment.water_heater      aqua    33.20  554748717   \n",
       "2           furniture.living_room.sofa      None   543.10  519107250   \n",
       "3                   computers.notebook    lenovo   251.74  550050854   \n",
       "4               electronics.smartphone     apple  1081.98  535871217   \n",
       "\n",
       "                           user_session  \n",
       "0  72d76fde-8bb3-4e00-8c23-a032dfed738c  \n",
       "1  9333dfbd-b87a-4708-9857-6336556b0fcc  \n",
       "2  566511c2-e2e3-422b-b695-cf8e6e792ca8  \n",
       "3  7c90fc70-0e80-4590-96f3-13c02c18c713  \n",
       "4  c6bd7419-2748-4c56-95b4-8cec9ff8b80d  "
      ]
     },
     "execution_count": 3,
     "metadata": {},
     "output_type": "execute_result"
    }
   ],
   "source": [
    "df.head().to_pandas()"
   ]
  },
  {
   "cell_type": "code",
   "execution_count": 6,
   "id": "eb5c8065",
   "metadata": {},
   "outputs": [],
   "source": [
    "# working with dates docs: \n",
    "# https://pola-rs.github.io/polars-book/user-guide/howcani/timeseries/parsing_dates_times.html\n",
    "\n",
    "df = df.with_columns(\n",
    "    pl.col(\"event_time\").str.strptime(pl.Datetime,\"%Y-%m-%d %H:%M:%S %Z\")\n",
    ")"
   ]
  },
  {
   "cell_type": "code",
   "execution_count": 7,
   "id": "87689ec5",
   "metadata": {},
   "outputs": [
    {
     "data": {
      "text/html": [
       "<div>\n",
       "<style scoped>\n",
       "    .dataframe tbody tr th:only-of-type {\n",
       "        vertical-align: middle;\n",
       "    }\n",
       "\n",
       "    .dataframe tbody tr th {\n",
       "        vertical-align: top;\n",
       "    }\n",
       "\n",
       "    .dataframe thead th {\n",
       "        text-align: right;\n",
       "    }\n",
       "</style>\n",
       "<table border=\"1\" class=\"dataframe\">\n",
       "  <thead>\n",
       "    <tr style=\"text-align: right;\">\n",
       "      <th></th>\n",
       "      <th>event_time</th>\n",
       "      <th>event_type</th>\n",
       "      <th>product_id</th>\n",
       "      <th>category_id</th>\n",
       "      <th>category_code</th>\n",
       "      <th>brand</th>\n",
       "      <th>price</th>\n",
       "      <th>user_id</th>\n",
       "      <th>user_session</th>\n",
       "    </tr>\n",
       "  </thead>\n",
       "  <tbody>\n",
       "    <tr>\n",
       "      <th>12</th>\n",
       "      <td>2019-10-31 23:59:23</td>\n",
       "      <td>view</td>\n",
       "      <td>1003461</td>\n",
       "      <td>2053013555631882655</td>\n",
       "      <td>electronics.smartphone</td>\n",
       "      <td>xiaomi</td>\n",
       "      <td>489.07</td>\n",
       "      <td>520088904</td>\n",
       "      <td>4d3b30da-a5e4-49df-b1a8-ba5943f1dd33</td>\n",
       "    </tr>\n",
       "    <tr>\n",
       "      <th>8</th>\n",
       "      <td>2019-10-31 00:55:44</td>\n",
       "      <td>view</td>\n",
       "      <td>1005193</td>\n",
       "      <td>2053013555631882655</td>\n",
       "      <td>electronics.smartphone</td>\n",
       "      <td>meizu</td>\n",
       "      <td>241.71</td>\n",
       "      <td>520088904</td>\n",
       "      <td>c4a5c1d5-0a18-4a59-9f6d-db852139e56c</td>\n",
       "    </tr>\n",
       "    <tr>\n",
       "      <th>2</th>\n",
       "      <td>2019-10-28 18:34:47</td>\n",
       "      <td>view</td>\n",
       "      <td>40500455</td>\n",
       "      <td>2090228401527849663</td>\n",
       "      <td>None</td>\n",
       "      <td>powerplant</td>\n",
       "      <td>6.69</td>\n",
       "      <td>520088904</td>\n",
       "      <td>5e511016-454f-4af9-b4b0-f8d0d0618cd2</td>\n",
       "    </tr>\n",
       "    <tr>\n",
       "      <th>6</th>\n",
       "      <td>2019-10-31 00:50:07</td>\n",
       "      <td>view</td>\n",
       "      <td>1003416</td>\n",
       "      <td>2053013555631882655</td>\n",
       "      <td>electronics.smartphone</td>\n",
       "      <td>meizu</td>\n",
       "      <td>408.74</td>\n",
       "      <td>520088904</td>\n",
       "      <td>c4a5c1d5-0a18-4a59-9f6d-db852139e56c</td>\n",
       "    </tr>\n",
       "    <tr>\n",
       "      <th>14</th>\n",
       "      <td>2019-10-31 23:59:56</td>\n",
       "      <td>view</td>\n",
       "      <td>1003936</td>\n",
       "      <td>2053013555631882655</td>\n",
       "      <td>electronics.smartphone</td>\n",
       "      <td>xiaomi</td>\n",
       "      <td>437.33</td>\n",
       "      <td>520088904</td>\n",
       "      <td>4d3b30da-a5e4-49df-b1a8-ba5943f1dd33</td>\n",
       "    </tr>\n",
       "  </tbody>\n",
       "</table>\n",
       "</div>"
      ],
      "text/plain": [
       "            event_time event_type  product_id          category_id  \\\n",
       "12 2019-10-31 23:59:23       view     1003461  2053013555631882655   \n",
       "8  2019-10-31 00:55:44       view     1005193  2053013555631882655   \n",
       "2  2019-10-28 18:34:47       view    40500455  2090228401527849663   \n",
       "6  2019-10-31 00:50:07       view     1003416  2053013555631882655   \n",
       "14 2019-10-31 23:59:56       view     1003936  2053013555631882655   \n",
       "\n",
       "             category_code       brand   price    user_id  \\\n",
       "12  electronics.smartphone      xiaomi  489.07  520088904   \n",
       "8   electronics.smartphone       meizu  241.71  520088904   \n",
       "2                     None  powerplant    6.69  520088904   \n",
       "6   electronics.smartphone       meizu  408.74  520088904   \n",
       "14  electronics.smartphone      xiaomi  437.33  520088904   \n",
       "\n",
       "                            user_session  \n",
       "12  4d3b30da-a5e4-49df-b1a8-ba5943f1dd33  \n",
       "8   c4a5c1d5-0a18-4a59-9f6d-db852139e56c  \n",
       "2   5e511016-454f-4af9-b4b0-f8d0d0618cd2  \n",
       "6   c4a5c1d5-0a18-4a59-9f6d-db852139e56c  \n",
       "14  4d3b30da-a5e4-49df-b1a8-ba5943f1dd33  "
      ]
     },
     "execution_count": 7,
     "metadata": {},
     "output_type": "execute_result"
    }
   ],
   "source": [
    "# Useful step to understand the data. Look at one user-id\n",
    "df.filter(pl.col('user_id') == 520088904).to_pandas().sample(5)"
   ]
  },
  {
   "cell_type": "markdown",
   "id": "934f8092",
   "metadata": {},
   "source": [
    "1. Keep rows with purchases only"
   ]
  },
  {
   "cell_type": "code",
   "execution_count": 8,
   "id": "cf2d8555",
   "metadata": {},
   "outputs": [],
   "source": [
    "df_purchases = df.filter(pl.col(\"event_type\") == 'purchase')"
   ]
  },
  {
   "cell_type": "code",
   "execution_count": 9,
   "id": "24d73947",
   "metadata": {},
   "outputs": [
    {
     "data": {
      "text/plain": [
       "(742849, 9)"
      ]
     },
     "execution_count": 9,
     "metadata": {},
     "output_type": "execute_result"
    }
   ],
   "source": [
    "df_purchases.shape"
   ]
  },
  {
   "cell_type": "markdown",
   "id": "f4af32ee",
   "metadata": {},
   "source": [
    "2. Let's compute RFM"
   ]
  },
  {
   "cell_type": "code",
   "execution_count": 10,
   "id": "bffcd914",
   "metadata": {},
   "outputs": [],
   "source": [
    "# select unique values\n",
    "df_purchases = df_purchases.select(['event_time', 'user_id', 'price']).unique()"
   ]
  },
  {
   "cell_type": "code",
   "execution_count": 11,
   "id": "8b5696b6",
   "metadata": {},
   "outputs": [
    {
     "data": {
      "text/plain": [
       "(742773, 3)"
      ]
     },
     "execution_count": 11,
     "metadata": {},
     "output_type": "execute_result"
    }
   ],
   "source": [
    "df_purchases.shape"
   ]
  },
  {
   "cell_type": "code",
   "execution_count": 12,
   "id": "5fca3878",
   "metadata": {},
   "outputs": [
    {
     "data": {
      "text/html": [
       "<div><style>\n",
       ".dataframe > thead > tr > th,\n",
       ".dataframe > tbody > tr > td {\n",
       "  text-align: right;\n",
       "  white-space: pre-wrap;\n",
       "}\n",
       "</style>\n",
       "<small>shape: (5, 3)</small><table border=\"1\" class=\"dataframe\"><thead><tr><th>event_time</th><th>user_id</th><th>price</th></tr><tr><td>datetime[μs]</td><td>i64</td><td>f64</td></tr></thead><tbody><tr><td>2019-10-01 02:19:12</td><td>516178643</td><td>391.26</td></tr><tr><td>2019-10-01 02:20:11</td><td>517129864</td><td>189.91</td></tr><tr><td>2019-10-01 02:20:28</td><td>554101070</td><td>91.12</td></tr><tr><td>2019-10-01 02:21:07</td><td>516815266</td><td>62.52</td></tr><tr><td>2019-10-01 02:21:59</td><td>514127317</td><td>3.37</td></tr></tbody></table></div>"
      ],
      "text/plain": [
       "shape: (5, 3)\n",
       "┌─────────────────────┬───────────┬────────┐\n",
       "│ event_time          ┆ user_id   ┆ price  │\n",
       "│ ---                 ┆ ---       ┆ ---    │\n",
       "│ datetime[μs]        ┆ i64       ┆ f64    │\n",
       "╞═════════════════════╪═══════════╪════════╡\n",
       "│ 2019-10-01 02:19:12 ┆ 516178643 ┆ 391.26 │\n",
       "│ 2019-10-01 02:20:11 ┆ 517129864 ┆ 189.91 │\n",
       "│ 2019-10-01 02:20:28 ┆ 554101070 ┆ 91.12  │\n",
       "│ 2019-10-01 02:21:07 ┆ 516815266 ┆ 62.52  │\n",
       "│ 2019-10-01 02:21:59 ┆ 514127317 ┆ 3.37   │\n",
       "└─────────────────────┴───────────┴────────┘"
      ]
     },
     "execution_count": 12,
     "metadata": {},
     "output_type": "execute_result"
    }
   ],
   "source": [
    "df_purchases.head()"
   ]
  },
  {
   "cell_type": "markdown",
   "id": "0dfe0d57",
   "metadata": {},
   "source": [
    "Compute time difference"
   ]
  },
  {
   "cell_type": "code",
   "execution_count": 13,
   "id": "ec6b2f6a",
   "metadata": {},
   "outputs": [],
   "source": [
    "from datetime import datetime\n",
    "\n",
    "anchor_date = datetime(2019, 11, 30)"
   ]
  },
  {
   "cell_type": "code",
   "execution_count": 14,
   "id": "98c2719a",
   "metadata": {},
   "outputs": [],
   "source": [
    "df_purchases = df_purchases.with_columns(\n",
    "    (anchor_date - pl.col(\"event_time\")).alias(\"date_diff\") / (1e6 * 3600 * 24)\n",
    ")"
   ]
  },
  {
   "cell_type": "code",
   "execution_count": 15,
   "id": "dcc14a2f",
   "metadata": {},
   "outputs": [
    {
     "data": {
      "text/html": [
       "<div><style>\n",
       ".dataframe > thead > tr > th,\n",
       ".dataframe > tbody > tr > td {\n",
       "  text-align: right;\n",
       "  white-space: pre-wrap;\n",
       "}\n",
       "</style>\n",
       "<small>shape: (5, 4)</small><table border=\"1\" class=\"dataframe\"><thead><tr><th>event_time</th><th>user_id</th><th>price</th><th>date_diff</th></tr><tr><td>datetime[μs]</td><td>i64</td><td>f64</td><td>f64</td></tr></thead><tbody><tr><td>2019-10-01 02:19:12</td><td>516178643</td><td>391.26</td><td>59.903333</td></tr><tr><td>2019-10-01 02:20:11</td><td>517129864</td><td>189.91</td><td>59.90265</td></tr><tr><td>2019-10-01 02:20:28</td><td>554101070</td><td>91.12</td><td>59.902454</td></tr><tr><td>2019-10-01 02:21:07</td><td>516815266</td><td>62.52</td><td>59.902002</td></tr><tr><td>2019-10-01 02:21:59</td><td>514127317</td><td>3.37</td><td>59.9014</td></tr></tbody></table></div>"
      ],
      "text/plain": [
       "shape: (5, 4)\n",
       "┌─────────────────────┬───────────┬────────┬───────────┐\n",
       "│ event_time          ┆ user_id   ┆ price  ┆ date_diff │\n",
       "│ ---                 ┆ ---       ┆ ---    ┆ ---       │\n",
       "│ datetime[μs]        ┆ i64       ┆ f64    ┆ f64       │\n",
       "╞═════════════════════╪═══════════╪════════╪═══════════╡\n",
       "│ 2019-10-01 02:19:12 ┆ 516178643 ┆ 391.26 ┆ 59.903333 │\n",
       "│ 2019-10-01 02:20:11 ┆ 517129864 ┆ 189.91 ┆ 59.90265  │\n",
       "│ 2019-10-01 02:20:28 ┆ 554101070 ┆ 91.12  ┆ 59.902454 │\n",
       "│ 2019-10-01 02:21:07 ┆ 516815266 ┆ 62.52  ┆ 59.902002 │\n",
       "│ 2019-10-01 02:21:59 ┆ 514127317 ┆ 3.37   ┆ 59.9014   │\n",
       "└─────────────────────┴───────────┴────────┴───────────┘"
      ]
     },
     "execution_count": 15,
     "metadata": {},
     "output_type": "execute_result"
    }
   ],
   "source": [
    "df_purchases.head()"
   ]
  },
  {
   "cell_type": "code",
   "execution_count": 22,
   "id": "8af9d58a",
   "metadata": {},
   "outputs": [],
   "source": [
    "#%%timeit\n",
    "df_agg = df_purchases.group_by('user_id').agg([\n",
    "    pl.col(\"date_diff\").min().alias(\"recency\"),\n",
    "    pl.count().alias(\"frequency\"),\n",
    "    pl.col(\"price\").sum().alias(\"monetary\")\n",
    "])"
   ]
  },
  {
   "cell_type": "code",
   "execution_count": 23,
   "id": "933e753b",
   "metadata": {},
   "outputs": [
    {
     "data": {
      "text/plain": [
       "(347118, 4)"
      ]
     },
     "execution_count": 23,
     "metadata": {},
     "output_type": "execute_result"
    }
   ],
   "source": [
    "df_agg.shape"
   ]
  },
  {
   "cell_type": "code",
   "execution_count": 24,
   "id": "595b1449",
   "metadata": {},
   "outputs": [
    {
     "data": {
      "text/html": [
       "<div><style>\n",
       ".dataframe > thead > tr > th,\n",
       ".dataframe > tbody > tr > td {\n",
       "  text-align: right;\n",
       "  white-space: pre-wrap;\n",
       "}\n",
       "</style>\n",
       "<small>shape: (5, 4)</small><table border=\"1\" class=\"dataframe\"><thead><tr><th>user_id</th><th>recency</th><th>frequency</th><th>monetary</th></tr><tr><td>i64</td><td>f64</td><td>u32</td><td>f64</td></tr></thead><tbody><tr><td>519038256</td><td>40.822627</td><td>2</td><td>200.5</td></tr><tr><td>556611080</td><td>40.734468</td><td>2</td><td>263.06</td></tr><tr><td>512785912</td><td>38.319931</td><td>2</td><td>198.95</td></tr><tr><td>518612968</td><td>56.929606</td><td>1</td><td>42.47</td></tr><tr><td>515185496</td><td>40.761354</td><td>1</td><td>53.03</td></tr></tbody></table></div>"
      ],
      "text/plain": [
       "shape: (5, 4)\n",
       "┌───────────┬───────────┬───────────┬──────────┐\n",
       "│ user_id   ┆ recency   ┆ frequency ┆ monetary │\n",
       "│ ---       ┆ ---       ┆ ---       ┆ ---      │\n",
       "│ i64       ┆ f64       ┆ u32       ┆ f64      │\n",
       "╞═══════════╪═══════════╪═══════════╪══════════╡\n",
       "│ 519038256 ┆ 40.822627 ┆ 2         ┆ 200.5    │\n",
       "│ 556611080 ┆ 40.734468 ┆ 2         ┆ 263.06   │\n",
       "│ 512785912 ┆ 38.319931 ┆ 2         ┆ 198.95   │\n",
       "│ 518612968 ┆ 56.929606 ┆ 1         ┆ 42.47    │\n",
       "│ 515185496 ┆ 40.761354 ┆ 1         ┆ 53.03    │\n",
       "└───────────┴───────────┴───────────┴──────────┘"
      ]
     },
     "execution_count": 24,
     "metadata": {},
     "output_type": "execute_result"
    }
   ],
   "source": [
    "df_agg.head()"
   ]
  },
  {
   "cell_type": "markdown",
   "id": "84e3a04a",
   "metadata": {},
   "source": [
    "3. Convert to pandas for analysis and plotting"
   ]
  },
  {
   "cell_type": "code",
   "execution_count": 25,
   "id": "e3633705",
   "metadata": {},
   "outputs": [],
   "source": [
    "df_agg = df_agg.to_pandas()"
   ]
  },
  {
   "cell_type": "code",
   "execution_count": 26,
   "id": "23a17b8d",
   "metadata": {},
   "outputs": [
    {
     "data": {
      "text/html": [
       "<div>\n",
       "<style scoped>\n",
       "    .dataframe tbody tr th:only-of-type {\n",
       "        vertical-align: middle;\n",
       "    }\n",
       "\n",
       "    .dataframe tbody tr th {\n",
       "        vertical-align: top;\n",
       "    }\n",
       "\n",
       "    .dataframe thead th {\n",
       "        text-align: right;\n",
       "    }\n",
       "</style>\n",
       "<table border=\"1\" class=\"dataframe\">\n",
       "  <thead>\n",
       "    <tr style=\"text-align: right;\">\n",
       "      <th></th>\n",
       "      <th>recency</th>\n",
       "      <th>frequency</th>\n",
       "      <th>monetary</th>\n",
       "    </tr>\n",
       "  </thead>\n",
       "  <tbody>\n",
       "    <tr>\n",
       "      <th>0.0</th>\n",
       "      <td>29.000509</td>\n",
       "      <td>1.0</td>\n",
       "      <td>0.880</td>\n",
       "    </tr>\n",
       "    <tr>\n",
       "      <th>0.1</th>\n",
       "      <td>31.583488</td>\n",
       "      <td>1.0</td>\n",
       "      <td>42.990</td>\n",
       "    </tr>\n",
       "    <tr>\n",
       "      <th>0.2</th>\n",
       "      <td>34.398789</td>\n",
       "      <td>1.0</td>\n",
       "      <td>82.574</td>\n",
       "    </tr>\n",
       "    <tr>\n",
       "      <th>0.3</th>\n",
       "      <td>37.014054</td>\n",
       "      <td>1.0</td>\n",
       "      <td>131.020</td>\n",
       "    </tr>\n",
       "    <tr>\n",
       "      <th>0.4</th>\n",
       "      <td>39.733875</td>\n",
       "      <td>1.0</td>\n",
       "      <td>174.310</td>\n",
       "    </tr>\n",
       "    <tr>\n",
       "      <th>0.5</th>\n",
       "      <td>42.679005</td>\n",
       "      <td>1.0</td>\n",
       "      <td>246.520</td>\n",
       "    </tr>\n",
       "    <tr>\n",
       "      <th>0.6</th>\n",
       "      <td>45.592382</td>\n",
       "      <td>1.0</td>\n",
       "      <td>331.972</td>\n",
       "    </tr>\n",
       "    <tr>\n",
       "      <th>0.7</th>\n",
       "      <td>48.523569</td>\n",
       "      <td>2.0</td>\n",
       "      <td>483.900</td>\n",
       "    </tr>\n",
       "    <tr>\n",
       "      <th>0.8</th>\n",
       "      <td>51.798266</td>\n",
       "      <td>2.0</td>\n",
       "      <td>766.760</td>\n",
       "    </tr>\n",
       "    <tr>\n",
       "      <th>0.9</th>\n",
       "      <td>55.703633</td>\n",
       "      <td>4.0</td>\n",
       "      <td>1418.050</td>\n",
       "    </tr>\n",
       "    <tr>\n",
       "      <th>1.0</th>\n",
       "      <td>59.995810</td>\n",
       "      <td>321.0</td>\n",
       "      <td>265569.520</td>\n",
       "    </tr>\n",
       "  </tbody>\n",
       "</table>\n",
       "</div>"
      ],
      "text/plain": [
       "       recency  frequency    monetary\n",
       "0.0  29.000509        1.0       0.880\n",
       "0.1  31.583488        1.0      42.990\n",
       "0.2  34.398789        1.0      82.574\n",
       "0.3  37.014054        1.0     131.020\n",
       "0.4  39.733875        1.0     174.310\n",
       "0.5  42.679005        1.0     246.520\n",
       "0.6  45.592382        1.0     331.972\n",
       "0.7  48.523569        2.0     483.900\n",
       "0.8  51.798266        2.0     766.760\n",
       "0.9  55.703633        4.0    1418.050\n",
       "1.0  59.995810      321.0  265569.520"
      ]
     },
     "execution_count": 26,
     "metadata": {},
     "output_type": "execute_result"
    }
   ],
   "source": [
    "breaks = np.arange(0, 1.1, 0.1)\n",
    "num_vars = ['recency', 'frequency', 'monetary']\n",
    "df_agg[num_vars].quantile(breaks)"
   ]
  },
  {
   "cell_type": "code",
   "execution_count": 27,
   "id": "bf7b446c",
   "metadata": {},
   "outputs": [
    {
     "data": {
      "text/html": [
       "<div>\n",
       "<style scoped>\n",
       "    .dataframe tbody tr th:only-of-type {\n",
       "        vertical-align: middle;\n",
       "    }\n",
       "\n",
       "    .dataframe tbody tr th {\n",
       "        vertical-align: top;\n",
       "    }\n",
       "\n",
       "    .dataframe thead th {\n",
       "        text-align: right;\n",
       "    }\n",
       "</style>\n",
       "<table border=\"1\" class=\"dataframe\">\n",
       "  <thead>\n",
       "    <tr style=\"text-align: right;\">\n",
       "      <th></th>\n",
       "      <th>recency</th>\n",
       "      <th>frequency</th>\n",
       "      <th>monetary</th>\n",
       "    </tr>\n",
       "  </thead>\n",
       "  <tbody>\n",
       "    <tr>\n",
       "      <th>0.00</th>\n",
       "      <td>29.000509</td>\n",
       "      <td>1.0</td>\n",
       "      <td>0.88</td>\n",
       "    </tr>\n",
       "    <tr>\n",
       "      <th>0.25</th>\n",
       "      <td>35.637179</td>\n",
       "      <td>1.0</td>\n",
       "      <td>107.59</td>\n",
       "    </tr>\n",
       "    <tr>\n",
       "      <th>0.50</th>\n",
       "      <td>42.679005</td>\n",
       "      <td>1.0</td>\n",
       "      <td>246.52</td>\n",
       "    </tr>\n",
       "    <tr>\n",
       "      <th>0.75</th>\n",
       "      <td>49.889444</td>\n",
       "      <td>2.0</td>\n",
       "      <td>594.84</td>\n",
       "    </tr>\n",
       "    <tr>\n",
       "      <th>1.00</th>\n",
       "      <td>59.995810</td>\n",
       "      <td>321.0</td>\n",
       "      <td>265569.52</td>\n",
       "    </tr>\n",
       "  </tbody>\n",
       "</table>\n",
       "</div>"
      ],
      "text/plain": [
       "        recency  frequency   monetary\n",
       "0.00  29.000509        1.0       0.88\n",
       "0.25  35.637179        1.0     107.59\n",
       "0.50  42.679005        1.0     246.52\n",
       "0.75  49.889444        2.0     594.84\n",
       "1.00  59.995810      321.0  265569.52"
      ]
     },
     "execution_count": 27,
     "metadata": {},
     "output_type": "execute_result"
    }
   ],
   "source": [
    "num_vars = ['recency', 'frequency', 'monetary']\n",
    "df_agg[num_vars].quantile([0, 0.25, 0.5, 0.75, 1])"
   ]
  },
  {
   "cell_type": "code",
   "execution_count": null,
   "id": "4873c3b6",
   "metadata": {},
   "outputs": [],
   "source": []
  }
 ],
 "metadata": {
  "kernelspec": {
   "display_name": "Python 3 (ipykernel)",
   "language": "python",
   "name": "python3"
  },
  "language_info": {
   "codemirror_mode": {
    "name": "ipython",
    "version": 3
   },
   "file_extension": ".py",
   "mimetype": "text/x-python",
   "name": "python",
   "nbconvert_exporter": "python",
   "pygments_lexer": "ipython3",
   "version": "3.11.4"
  }
 },
 "nbformat": 4,
 "nbformat_minor": 5
}
